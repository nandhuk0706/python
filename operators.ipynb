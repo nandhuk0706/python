{
  "nbformat": 4,
  "nbformat_minor": 0,
  "metadata": {
    "colab": {
      "provenance": [],
      "authorship_tag": "ABX9TyMiMjB+OVcutwo8wToumNA8",
      "include_colab_link": true
    },
    "kernelspec": {
      "name": "python3",
      "display_name": "Python 3"
    },
    "language_info": {
      "name": "python"
    }
  },
  "cells": [
    {
      "cell_type": "markdown",
      "metadata": {
        "id": "view-in-github",
        "colab_type": "text"
      },
      "source": [
        "<a href=\"https://colab.research.google.com/github/nandhuk0706/python/blob/main/operators.ipynb\" target=\"_parent\"><img src=\"https://colab.research.google.com/assets/colab-badge.svg\" alt=\"Open In Colab\"/></a>"
      ]
    },
    {
      "cell_type": "code",
      "execution_count": null,
      "metadata": {
        "id": "Lup_oWRhI-fL"
      },
      "outputs": [],
      "source": [
        "a=82\n",
        "b=9"
      ]
    },
    {
      "cell_type": "code",
      "source": [
        "a+b"
      ],
      "metadata": {
        "colab": {
          "base_uri": "https://localhost:8080/"
        },
        "id": "smeqx6STJSEC",
        "outputId": "9a06df88-facf-451f-9105-1915efff2422"
      },
      "execution_count": null,
      "outputs": [
        {
          "output_type": "execute_result",
          "data": {
            "text/plain": [
              "91"
            ]
          },
          "metadata": {},
          "execution_count": 20
        }
      ]
    },
    {
      "cell_type": "code",
      "source": [
        "a-b"
      ],
      "metadata": {
        "colab": {
          "base_uri": "https://localhost:8080/"
        },
        "id": "ARaTV0peJUj-",
        "outputId": "715aa700-df11-4e43-e89a-d844b2bf87e9"
      },
      "execution_count": null,
      "outputs": [
        {
          "output_type": "execute_result",
          "data": {
            "text/plain": [
              "73"
            ]
          },
          "metadata": {},
          "execution_count": 21
        }
      ]
    },
    {
      "cell_type": "code",
      "source": [
        "a*b"
      ],
      "metadata": {
        "colab": {
          "base_uri": "https://localhost:8080/"
        },
        "id": "F84vfOjqJV6d",
        "outputId": "effe6453-7425-44d4-d607-5d641682cabc"
      },
      "execution_count": null,
      "outputs": [
        {
          "output_type": "execute_result",
          "data": {
            "text/plain": [
              "738"
            ]
          },
          "metadata": {},
          "execution_count": 22
        }
      ]
    },
    {
      "cell_type": "code",
      "source": [
        "a/b #division"
      ],
      "metadata": {
        "colab": {
          "base_uri": "https://localhost:8080/"
        },
        "id": "p0mGDxEWJXbL",
        "outputId": "1974222b-e437-4511-ae04-427456a1809b"
      },
      "execution_count": null,
      "outputs": [
        {
          "output_type": "execute_result",
          "data": {
            "text/plain": [
              "9.11111111111111"
            ]
          },
          "metadata": {},
          "execution_count": 23
        }
      ]
    },
    {
      "cell_type": "code",
      "source": [
        "a//b  #floor division"
      ],
      "metadata": {
        "colab": {
          "base_uri": "https://localhost:8080/"
        },
        "id": "99v8xmylJlRo",
        "outputId": "6b275a18-9eed-43a0-e70a-c2f5faeec1cb"
      },
      "execution_count": null,
      "outputs": [
        {
          "output_type": "execute_result",
          "data": {
            "text/plain": [
              "9"
            ]
          },
          "metadata": {},
          "execution_count": 24
        }
      ]
    },
    {
      "cell_type": "code",
      "source": [
        "a%b  #modulas gives remainder"
      ],
      "metadata": {
        "colab": {
          "base_uri": "https://localhost:8080/"
        },
        "id": "FpzFdtvPJnIZ",
        "outputId": "aad3d2b7-13ed-422b-d208-620905eadf0c"
      },
      "execution_count": null,
      "outputs": [
        {
          "output_type": "execute_result",
          "data": {
            "text/plain": [
              "1"
            ]
          },
          "metadata": {},
          "execution_count": 25
        }
      ]
    },
    {
      "cell_type": "code",
      "source": [
        "import xmen\n",
        "#habe tp create xmen.py file we can code there and access here"
      ],
      "metadata": {
        "colab": {
          "base_uri": "https://localhost:8080/",
          "height": 315
        },
        "id": "jld3XovzJ6GI",
        "outputId": "32900273-ed9d-4386-f9f2-e11a27fba049"
      },
      "execution_count": null,
      "outputs": [
        {
          "output_type": "error",
          "ename": "ModuleNotFoundError",
          "evalue": "ignored",
          "traceback": [
            "\u001b[0;31m---------------------------------------------------------------------------\u001b[0m",
            "\u001b[0;31mModuleNotFoundError\u001b[0m                       Traceback (most recent call last)",
            "\u001b[0;32m<ipython-input-26-4a7e25218948>\u001b[0m in \u001b[0;36m<cell line: 1>\u001b[0;34m()\u001b[0m\n\u001b[0;32m----> 1\u001b[0;31m \u001b[0;32mimport\u001b[0m \u001b[0mxmen\u001b[0m\u001b[0;34m\u001b[0m\u001b[0;34m\u001b[0m\u001b[0m\n\u001b[0m",
            "\u001b[0;31mModuleNotFoundError\u001b[0m: No module named 'xmen'",
            "",
            "\u001b[0;31m---------------------------------------------------------------------------\u001b[0;32m\nNOTE: If your import is failing due to a missing package, you can\nmanually install dependencies using either !pip or !apt.\n\nTo view examples of installing some common dependencies, click the\n\"Open Examples\" button below.\n\u001b[0;31m---------------------------------------------------------------------------\u001b[0m\n"
          ],
          "errorDetails": {
            "actions": [
              {
                "action": "open_url",
                "actionText": "Open Examples",
                "url": "/notebooks/snippets/importing_libraries.ipynb"
              }
            ]
          }
        }
      ]
    },
    {
      "cell_type": "code",
      "source": [
        "import math"
      ],
      "metadata": {
        "id": "k3BI7y1tMsvY"
      },
      "execution_count": null,
      "outputs": []
    },
    {
      "cell_type": "code",
      "source": [
        "help(math.floor)"
      ],
      "metadata": {
        "colab": {
          "base_uri": "https://localhost:8080/"
        },
        "id": "w3rCY52wM_IP",
        "outputId": "2a43c9e7-4009-402c-ce16-c32309e5db82"
      },
      "execution_count": null,
      "outputs": [
        {
          "output_type": "stream",
          "name": "stdout",
          "text": [
            "Help on built-in function floor in module math:\n",
            "\n",
            "floor(x, /)\n",
            "    Return the floor of x as an Integral.\n",
            "    \n",
            "    This is the largest integer <= x.\n",
            "\n"
          ]
        }
      ]
    },
    {
      "cell_type": "code",
      "source": [
        "c=a/b\n",
        "math.floor(c)"
      ],
      "metadata": {
        "colab": {
          "base_uri": "https://localhost:8080/"
        },
        "id": "SYqfmRsrMyzm",
        "outputId": "bb71fa72-cb0a-403e-9cc5-e2ed99852ec8"
      },
      "execution_count": null,
      "outputs": [
        {
          "output_type": "execute_result",
          "data": {
            "text/plain": [
              "9"
            ]
          },
          "metadata": {},
          "execution_count": 28
        }
      ]
    },
    {
      "cell_type": "code",
      "source": [
        "a/b"
      ],
      "metadata": {
        "colab": {
          "base_uri": "https://localhost:8080/"
        },
        "id": "AMOeHX09M5fK",
        "outputId": "412c8c3f-042e-4087-e524-5c5ece1f9c9b"
      },
      "execution_count": null,
      "outputs": [
        {
          "output_type": "execute_result",
          "data": {
            "text/plain": [
              "9.11111111111111"
            ]
          },
          "metadata": {},
          "execution_count": 29
        }
      ]
    },
    {
      "cell_type": "code",
      "source": [
        "math.ceil(c)"
      ],
      "metadata": {
        "colab": {
          "base_uri": "https://localhost:8080/"
        },
        "id": "Z1ga_TJ2NHrv",
        "outputId": "5dacde5a-c2cc-49d3-cf92-e43cfe912fe9"
      },
      "execution_count": null,
      "outputs": [
        {
          "output_type": "execute_result",
          "data": {
            "text/plain": [
              "10"
            ]
          },
          "metadata": {},
          "execution_count": 33
        }
      ]
    },
    {
      "cell_type": "code",
      "source": [
        "math.factorial(math.floor(c)) #9*8*7*6*5*4*3*2*1"
      ],
      "metadata": {
        "colab": {
          "base_uri": "https://localhost:8080/"
        },
        "id": "ah3JWdrcNTT8",
        "outputId": "4397611c-b1cd-4894-bda5-9b49f5af694d"
      },
      "execution_count": null,
      "outputs": [
        {
          "output_type": "execute_result",
          "data": {
            "text/plain": [
              "362880"
            ]
          },
          "metadata": {},
          "execution_count": 35
        }
      ]
    },
    {
      "cell_type": "code",
      "source": [
        "round(c)"
      ],
      "metadata": {
        "colab": {
          "base_uri": "https://localhost:8080/"
        },
        "id": "lbDdy4FENgPe",
        "outputId": "2e49b005-a2c7-4ba1-ec9b-88d5d6c62b44"
      },
      "execution_count": null,
      "outputs": [
        {
          "output_type": "execute_result",
          "data": {
            "text/plain": [
              "9"
            ]
          },
          "metadata": {},
          "execution_count": 37
        }
      ]
    },
    {
      "cell_type": "code",
      "source": [
        "round(5.6)"
      ],
      "metadata": {
        "colab": {
          "base_uri": "https://localhost:8080/"
        },
        "id": "bR86SdJQNqtW",
        "outputId": "1d7a095b-c6eb-4b40-8174-7cca0e815877"
      },
      "execution_count": null,
      "outputs": [
        {
          "output_type": "execute_result",
          "data": {
            "text/plain": [
              "6"
            ]
          },
          "metadata": {},
          "execution_count": 38
        }
      ]
    },
    {
      "cell_type": "markdown",
      "source": [
        "**Compartive operators**"
      ],
      "metadata": {
        "id": "P6vuaQGfNyZp"
      }
    },
    {
      "cell_type": "code",
      "source": [
        "a>b"
      ],
      "metadata": {
        "colab": {
          "base_uri": "https://localhost:8080/"
        },
        "id": "wuU3A699NviZ",
        "outputId": "7c3c3f3c-4441-4093-a8b8-94edc037bd77"
      },
      "execution_count": null,
      "outputs": [
        {
          "output_type": "execute_result",
          "data": {
            "text/plain": [
              "True"
            ]
          },
          "metadata": {},
          "execution_count": 39
        }
      ]
    },
    {
      "cell_type": "code",
      "source": [
        "a<b"
      ],
      "metadata": {
        "colab": {
          "base_uri": "https://localhost:8080/"
        },
        "id": "vwoAqDFWN3iB",
        "outputId": "3e32dc5d-afda-45a7-cf97-595e54ad41d3"
      },
      "execution_count": null,
      "outputs": [
        {
          "output_type": "execute_result",
          "data": {
            "text/plain": [
              "False"
            ]
          },
          "metadata": {},
          "execution_count": 40
        }
      ]
    },
    {
      "cell_type": "code",
      "source": [
        "a==b,a>=b,a<=b,a!=b"
      ],
      "metadata": {
        "colab": {
          "base_uri": "https://localhost:8080/"
        },
        "id": "qDiJJPaSN6q4",
        "outputId": "31f559d1-12d4-405a-bf05-e43816c2d0d6"
      },
      "execution_count": null,
      "outputs": [
        {
          "output_type": "execute_result",
          "data": {
            "text/plain": [
              "(False, True, False, True)"
            ]
          },
          "metadata": {},
          "execution_count": 41
        }
      ]
    },
    {
      "cell_type": "markdown",
      "source": [
        "**Logical operators**"
      ],
      "metadata": {
        "id": "G5ikUoMdOpW6"
      }
    },
    {
      "cell_type": "code",
      "source": [
        "#if condition will pass by true statements\n",
        "c=a>b\n",
        "if c:\n",
        "  print(\"a is greater\")\n",
        "else:\n",
        "  print(\"a is lesser\")"
      ],
      "metadata": {
        "colab": {
          "base_uri": "https://localhost:8080/"
        },
        "id": "ZD-EOE2COsRM",
        "outputId": "59bc91b4-eb93-4709-946f-ccbcf5ac9380"
      },
      "execution_count": null,
      "outputs": [
        {
          "output_type": "stream",
          "name": "stdout",
          "text": [
            "a is greater\n"
          ]
        }
      ]
    },
    {
      "cell_type": "markdown",
      "source": [
        "and ==> have to be true in all statements\n",
        "or ==> anyone statement is true\n",
        "not  ==>true means false and vise\n"
      ],
      "metadata": {
        "id": "IaFUljNCPB6A"
      }
    },
    {
      "cell_type": "code",
      "source": [
        "maths=int(input(\"enter maths score:\"))\n",
        "sci=int(input(\"enter science score\"))\n",
        "\n",
        "if maths>=90 and sci>=80 :\n",
        "  print(\"all pass\")\n",
        "if maths>=90 or sci>=80 :\n",
        "  print(\"partially pass\")\n"
      ],
      "metadata": {
        "colab": {
          "base_uri": "https://localhost:8080/"
        },
        "id": "YOe_VwUXPWz2",
        "outputId": "1e992098-ef42-44fe-a061-61d73dcfb092"
      },
      "execution_count": null,
      "outputs": [
        {
          "output_type": "stream",
          "name": "stdout",
          "text": [
            "enter maths score:92\n",
            "enter science score86\n",
            "all pass\n",
            "partially pass\n"
          ]
        }
      ]
    },
    {
      "cell_type": "code",
      "source": [
        "raining= False\n",
        "if not raining:\n",
        "  print(\"go to office\")\n",
        "else:\n",
        "  print(\"drink coffee\")"
      ],
      "metadata": {
        "colab": {
          "base_uri": "https://localhost:8080/"
        },
        "id": "ZfN4F735QXcl",
        "outputId": "2c78e6a4-6a2b-41e2-870c-50e76af4cb66"
      },
      "execution_count": null,
      "outputs": [
        {
          "output_type": "stream",
          "name": "stdout",
          "text": [
            "go to office\n"
          ]
        }
      ]
    },
    {
      "cell_type": "markdown",
      "source": [
        "Identity operators"
      ],
      "metadata": {
        "id": "XYB91j1HSM5m"
      }
    },
    {
      "cell_type": "code",
      "source": [
        "l=10\n",
        "j=10\n",
        "id(l),id(j)"
      ],
      "metadata": {
        "colab": {
          "base_uri": "https://localhost:8080/"
        },
        "id": "_4J9a5SdQvNE",
        "outputId": "d7037ea7-0fbd-4726-f17d-bf36473f51e9"
      },
      "execution_count": null,
      "outputs": [
        {
          "output_type": "execute_result",
          "data": {
            "text/plain": [
              "(136992093110800, 136992093110800)"
            ]
          },
          "metadata": {},
          "execution_count": 52
        }
      ]
    },
    {
      "cell_type": "code",
      "source": [
        "id(l)==id(j)"
      ],
      "metadata": {
        "colab": {
          "base_uri": "https://localhost:8080/"
        },
        "id": "rinObsI1SVxi",
        "outputId": "a7ec4fb4-7fe9-4271-f6b4-40c99f2ce4b0"
      },
      "execution_count": null,
      "outputs": [
        {
          "output_type": "execute_result",
          "data": {
            "text/plain": [
              "True"
            ]
          },
          "metadata": {},
          "execution_count": 53
        }
      ]
    },
    {
      "cell_type": "code",
      "source": [
        "l is j"
      ],
      "metadata": {
        "colab": {
          "base_uri": "https://localhost:8080/"
        },
        "id": "--2K05AkScW8",
        "outputId": "5a648c41-1bfe-4815-8983-d1d7831de221"
      },
      "execution_count": null,
      "outputs": [
        {
          "output_type": "execute_result",
          "data": {
            "text/plain": [
              "True"
            ]
          },
          "metadata": {},
          "execution_count": 54
        }
      ]
    },
    {
      "cell_type": "code",
      "source": [
        "x=10\n",
        "assert x==10\n",
        "if x>5:\n",
        "  print(\"pass\")\n",
        "else:\n",
        "  print(\"fail\")"
      ],
      "metadata": {
        "colab": {
          "base_uri": "https://localhost:8080/"
        },
        "id": "SZdSQhjUSsj1",
        "outputId": "80699c21-0c4b-4f06-d510-797c010fee8a"
      },
      "execution_count": null,
      "outputs": [
        {
          "output_type": "stream",
          "name": "stdout",
          "text": [
            "pass\n"
          ]
        }
      ]
    },
    {
      "cell_type": "code",
      "source": [
        "x=10\n",
        "assert x==4 #we cant change the assert variables in further code\n",
        "print(x)"
      ],
      "metadata": {
        "colab": {
          "base_uri": "https://localhost:8080/",
          "height": 211
        },
        "id": "Z6ctcQV-S7C0",
        "outputId": "05939392-8ca4-46e1-cf86-196155511f73"
      },
      "execution_count": null,
      "outputs": [
        {
          "output_type": "error",
          "ename": "AssertionError",
          "evalue": "ignored",
          "traceback": [
            "\u001b[0;31m---------------------------------------------------------------------------\u001b[0m",
            "\u001b[0;31mAssertionError\u001b[0m                            Traceback (most recent call last)",
            "\u001b[0;32m<ipython-input-57-3940b4db7b22>\u001b[0m in \u001b[0;36m<cell line: 2>\u001b[0;34m()\u001b[0m\n\u001b[1;32m      1\u001b[0m \u001b[0mx\u001b[0m\u001b[0;34m=\u001b[0m\u001b[0;36m10\u001b[0m\u001b[0;34m\u001b[0m\u001b[0;34m\u001b[0m\u001b[0m\n\u001b[0;32m----> 2\u001b[0;31m \u001b[0;32massert\u001b[0m \u001b[0mx\u001b[0m\u001b[0;34m==\u001b[0m\u001b[0;36m4\u001b[0m\u001b[0;34m\u001b[0m\u001b[0;34m\u001b[0m\u001b[0m\n\u001b[0m\u001b[1;32m      3\u001b[0m \u001b[0mprint\u001b[0m\u001b[0;34m(\u001b[0m\u001b[0mx\u001b[0m\u001b[0;34m)\u001b[0m\u001b[0;34m\u001b[0m\u001b[0;34m\u001b[0m\u001b[0m\n",
            "\u001b[0;31mAssertionError\u001b[0m: "
          ]
        }
      ]
    },
    {
      "cell_type": "markdown",
      "source": [
        "\n",
        "```\n",
        "# Bitwise operator\n",
        "\n",
        "     and           or        xor        not\n",
        "1  1  1            1          0         1    0\n",
        "0  1  0            1          1         0    1\n",
        "1  0  1            1          1\n",
        "0  0  1            0          0\n",
        "\n",
        "```\n",
        "\n"
      ],
      "metadata": {
        "id": "cTzeWsZcTQQU"
      }
    },
    {
      "cell_type": "code",
      "source": [
        "a=10   # 1010\n",
        "b=2    #0010\n",
        "a&b,a|b,a^b"
      ],
      "metadata": {
        "colab": {
          "base_uri": "https://localhost:8080/"
        },
        "id": "tvpaUVuaUQMF",
        "outputId": "bdc6ebac-7acb-4f0f-c16f-3584e1010fa4"
      },
      "execution_count": null,
      "outputs": [
        {
          "output_type": "execute_result",
          "data": {
            "text/plain": [
              "(2, 10, 8)"
            ]
          },
          "metadata": {},
          "execution_count": 59
        }
      ]
    },
    {
      "cell_type": "code",
      "source": [
        "~a  #-(a+1)"
      ],
      "metadata": {
        "colab": {
          "base_uri": "https://localhost:8080/"
        },
        "id": "RphCLLC2Uljb",
        "outputId": "356e270e-fe7a-4251-c035-5ecd92a8afc4"
      },
      "execution_count": null,
      "outputs": [
        {
          "output_type": "execute_result",
          "data": {
            "text/plain": [
              "-11"
            ]
          },
          "metadata": {},
          "execution_count": 61
        }
      ]
    },
    {
      "cell_type": "markdown",
      "source": [
        "**Left and Right shift operators**"
      ],
      "metadata": {
        "id": "6HDm4D1gVHtQ"
      }
    },
    {
      "cell_type": "code",
      "source": [
        "a<<b  #a*2 to the power of b   10*2^2"
      ],
      "metadata": {
        "colab": {
          "base_uri": "https://localhost:8080/"
        },
        "id": "e-M8nbJ7Ux4g",
        "outputId": "c45adfec-801b-4c1f-87c3-a6c923ac375d"
      },
      "execution_count": null,
      "outputs": [
        {
          "output_type": "execute_result",
          "data": {
            "text/plain": [
              "40"
            ]
          },
          "metadata": {},
          "execution_count": 63
        }
      ]
    },
    {
      "cell_type": "code",
      "source": [
        "a>>b  #a/2 to power of b 10/2^2    Float value rounded into integer"
      ],
      "metadata": {
        "colab": {
          "base_uri": "https://localhost:8080/"
        },
        "id": "luw-00f1U-Bv",
        "outputId": "a89f3585-2c55-4857-f5dd-b779832fd23c"
      },
      "execution_count": null,
      "outputs": [
        {
          "output_type": "execute_result",
          "data": {
            "text/plain": [
              "2"
            ]
          },
          "metadata": {},
          "execution_count": 64
        }
      ]
    },
    {
      "cell_type": "markdown",
      "source": [
        "Assignment operators"
      ],
      "metadata": {
        "id": "kx3-CXz0Vdpw"
      }
    },
    {
      "cell_type": "code",
      "source": [
        "a=5\n",
        "b=3\n",
        "a +=4\n",
        "a"
      ],
      "metadata": {
        "colab": {
          "base_uri": "https://localhost:8080/"
        },
        "id": "IrL7DF74VSp5",
        "outputId": "80b5e18a-46f0-4bf6-8760-c350864b9b4c"
      },
      "execution_count": null,
      "outputs": [
        {
          "output_type": "execute_result",
          "data": {
            "text/plain": [
              "9"
            ]
          },
          "metadata": {},
          "execution_count": 68
        }
      ]
    },
    {
      "cell_type": "code",
      "source": [
        "a -=2\n",
        "a"
      ],
      "metadata": {
        "colab": {
          "base_uri": "https://localhost:8080/"
        },
        "id": "TsM0GWcCV8pP",
        "outputId": "abd5cb3f-92d7-476d-b134-56dd39ad7479"
      },
      "execution_count": null,
      "outputs": [
        {
          "output_type": "execute_result",
          "data": {
            "text/plain": [
              "7"
            ]
          },
          "metadata": {},
          "execution_count": 69
        }
      ]
    },
    {
      "cell_type": "code",
      "source": [
        "a*=5\n",
        "a"
      ],
      "metadata": {
        "colab": {
          "base_uri": "https://localhost:8080/"
        },
        "id": "8PfBVW1uWDTg",
        "outputId": "bc92e709-2096-4451-f59f-ecce82553d38"
      },
      "execution_count": null,
      "outputs": [
        {
          "output_type": "execute_result",
          "data": {
            "text/plain": [
              "35"
            ]
          },
          "metadata": {},
          "execution_count": 70
        }
      ]
    },
    {
      "cell_type": "code",
      "source": [
        "a/=3\n",
        "a"
      ],
      "metadata": {
        "colab": {
          "base_uri": "https://localhost:8080/"
        },
        "id": "WCbQyWmNWG1h",
        "outputId": "4123702f-81d1-4ba7-cb62-f54881e084e8"
      },
      "execution_count": null,
      "outputs": [
        {
          "output_type": "execute_result",
          "data": {
            "text/plain": [
              "11.666666666666666"
            ]
          },
          "metadata": {},
          "execution_count": 71
        }
      ]
    },
    {
      "cell_type": "code",
      "source": [
        "a**=2\n",
        "a"
      ],
      "metadata": {
        "colab": {
          "base_uri": "https://localhost:8080/"
        },
        "id": "ge4iqMtYWKf7",
        "outputId": "15eb14f4-f982-464e-ad93-297d63e419f0"
      },
      "execution_count": null,
      "outputs": [
        {
          "output_type": "execute_result",
          "data": {
            "text/plain": [
              "136.1111111111111"
            ]
          },
          "metadata": {},
          "execution_count": 73
        }
      ]
    },
    {
      "cell_type": "code",
      "source": [
        "s=12\n",
        "s^=3\n",
        "s"
      ],
      "metadata": {
        "colab": {
          "base_uri": "https://localhost:8080/"
        },
        "id": "X8-GD2JKWUSr",
        "outputId": "6d670258-22b2-4efc-eae8-bb6501894694"
      },
      "execution_count": null,
      "outputs": [
        {
          "output_type": "execute_result",
          "data": {
            "text/plain": [
              "15"
            ]
          },
          "metadata": {},
          "execution_count": 77
        }
      ]
    },
    {
      "cell_type": "markdown",
      "source": [
        "**NEsted if statements**"
      ],
      "metadata": {
        "id": "P8X_TVk_YLBx"
      }
    },
    {
      "cell_type": "code",
      "source": [
        "t=int(input(\"enter test1 score:\"))\n",
        "if t>=80:\n",
        "  print(\"test1 cleared\")\n",
        "  t2=int(input(\"enter test2 score:\"))\n",
        "  if t2>=75:\n",
        "    print(\"test2 cleared and all pass\")\n",
        "  else:\n",
        "    print(\"test2 alone failed\")\n",
        "else:\n",
        "  print(\"test1 failed,try again next time\")\n",
        "\n",
        "avg=(t+t2)/2\n",
        "print(\"the average of your test cases {}\".format(avg))"
      ],
      "metadata": {
        "colab": {
          "base_uri": "https://localhost:8080/"
        },
        "id": "WTMqZGSFYKVE",
        "outputId": "610026d2-cd2d-4cf5-d5b0-4d8ebeb2fdbe"
      },
      "execution_count": null,
      "outputs": [
        {
          "output_type": "stream",
          "name": "stdout",
          "text": [
            "enter test1 score:86\n",
            "test1 cleared\n",
            "enter test2 score:56\n",
            "test2 alone failed\n",
            "the average of your test cases 71.0\n"
          ]
        }
      ]
    },
    {
      "cell_type": "markdown",
      "source": [
        "**in every statement have some condition if not we need give pass statement empty statements are not acceptable**"
      ],
      "metadata": {
        "id": "aef16nvEZzcc"
      }
    },
    {
      "cell_type": "markdown",
      "source": [
        "While loop and FOR Loops"
      ],
      "metadata": {
        "id": "FrNBqO0Gvv4g"
      }
    },
    {
      "cell_type": "code",
      "source": [
        "x=1\n",
        "while x<=6:\n",
        "  print (x)\n",
        "  x +=1\n",
        "\n",
        "print(x,\"final\")"
      ],
      "metadata": {
        "id": "dmdcZCpEZxhz",
        "colab": {
          "base_uri": "https://localhost:8080/"
        },
        "outputId": "3882e250-bf18-4812-8ec6-ca2e820709f9"
      },
      "execution_count": 5,
      "outputs": [
        {
          "output_type": "stream",
          "name": "stdout",
          "text": [
            "1\n",
            "2\n",
            "3\n",
            "4\n",
            "5\n",
            "6\n",
            "7 final\n"
          ]
        }
      ]
    },
    {
      "cell_type": "code",
      "source": [
        "x=1\n",
        "y=0\n",
        "while x< 6:\n",
        "  x +=1\n",
        "  y +=x\n",
        "  print(x)\n",
        "\n",
        "print(\"sum of all numbers:\", y ,sep=(\"-->\"))"
      ],
      "metadata": {
        "colab": {
          "base_uri": "https://localhost:8080/"
        },
        "id": "MISAkdkHwZSO",
        "outputId": "7edec2ce-e931-471c-d1d3-b56665636720"
      },
      "execution_count": 11,
      "outputs": [
        {
          "output_type": "stream",
          "name": "stdout",
          "text": [
            "2\n",
            "3\n",
            "4\n",
            "5\n",
            "6\n",
            "sum of all numbers:-->20\n"
          ]
        }
      ]
    },
    {
      "cell_type": "code",
      "source": [
        "s=int(input(\"Enter a Number:\"))\n",
        "total =0\n",
        "while s !=0:\n",
        "  total +=s\n",
        "  s=int(input(\"Eneter a number\"))\n",
        "\n",
        "print(total)"
      ],
      "metadata": {
        "colab": {
          "base_uri": "https://localhost:8080/"
        },
        "id": "kP8EfynNxWig",
        "outputId": "69b5894f-4fab-4e39-f336-a49f9310a88e"
      },
      "execution_count": 18,
      "outputs": [
        {
          "output_type": "stream",
          "name": "stdout",
          "text": [
            "Enter a Number:8\n",
            "Eneter a number56\n",
            "Eneter a number20\n",
            "Eneter a number33\n",
            "Eneter a number89\n",
            "Eneter a number45\n",
            "Eneter a number36\n",
            "Eneter a number23\n",
            "Eneter a number12\n",
            "Eneter a number00\n",
            "322\n"
          ]
        }
      ]
    },
    {
      "cell_type": "code",
      "source": [
        "v=1\n",
        "while v <6:\n",
        "  v +=1\n",
        "  print(v, end=\"-->\")\n",
        "print(\"Loop Expired\")"
      ],
      "metadata": {
        "colab": {
          "base_uri": "https://localhost:8080/"
        },
        "id": "8Igcv1HPymjR",
        "outputId": "3784d4f0-dda3-4d30-f2a0-e708f8041546"
      },
      "execution_count": 22,
      "outputs": [
        {
          "output_type": "stream",
          "name": "stdout",
          "text": [
            "2-->3-->4-->5-->6-->Loop Expired\n"
          ]
        }
      ]
    },
    {
      "cell_type": "code",
      "source": [
        "d=0\n",
        "while d<6:\n",
        "  d +=1\n",
        "  print(d)\n",
        "  if d==3:\n",
        "    break\n",
        "print(d,\"I'm out of loop\")"
      ],
      "metadata": {
        "colab": {
          "base_uri": "https://localhost:8080/"
        },
        "id": "8q7EwFtDzHx9",
        "outputId": "a4985057-e68c-41c6-f24a-e05eec490248"
      },
      "execution_count": 2,
      "outputs": [
        {
          "output_type": "stream",
          "name": "stdout",
          "text": [
            "1\n",
            "2\n",
            "3\n",
            "3 I'm out of loop\n"
          ]
        }
      ]
    },
    {
      "cell_type": "code",
      "source": [
        "\n",
        "while True:\n",
        "  data=input(\"Enter the data:\")\n",
        "  if data ==\"exit\":\n",
        "    break\n",
        "print(data)"
      ],
      "metadata": {
        "colab": {
          "base_uri": "https://localhost:8080/"
        },
        "id": "Pu7GV_okziZe",
        "outputId": "0ba96243-a1a4-4a05-ec38-7e30e2d2f072"
      },
      "execution_count": 10,
      "outputs": [
        {
          "output_type": "stream",
          "name": "stdout",
          "text": [
            "Enter the data:sfasfg\n",
            "Enter the data:saewd\n",
            "Enter the data:ertefckjkn\n",
            "Enter the data:rfds\n",
            "Enter the data:sd\n",
            "Enter the data:afdsg\n",
            "Enter the data:asd\n",
            "Enter the data:xit\n",
            "Enter the data:exit\n",
            "exit\n"
          ]
        }
      ]
    },
    {
      "cell_type": "code",
      "source": [
        "y=1\n",
        "while y< 6:\n",
        "  print(y)\n",
        "  y +=1\n",
        "  if y==4:\n",
        "    break\n",
        "  else:\n",
        "    print(\"Loop expired\")\n",
        "print(\"I got killed\")\n"
      ],
      "metadata": {
        "colab": {
          "base_uri": "https://localhost:8080/"
        },
        "id": "D3s3LHzU0eoE",
        "outputId": "b89966b1-cf0e-4b07-d54f-09396b81a630"
      },
      "execution_count": 12,
      "outputs": [
        {
          "output_type": "stream",
          "name": "stdout",
          "text": [
            "1\n",
            "Loop expired\n",
            "2\n",
            "Loop expired\n",
            "3\n",
            "I got killed\n"
          ]
        }
      ]
    },
    {
      "cell_type": "code",
      "source": [
        "c=1\n",
        "while c<6:\n",
        "  print(c)\n",
        "  if c == 4:\n",
        "    break\n",
        "  c+=1\n",
        "else:\n",
        "  print(\"Loop expired\")\n",
        "print(\"I got killed\")"
      ],
      "metadata": {
        "colab": {
          "base_uri": "https://localhost:8080/"
        },
        "id": "2idv2FV33dv-",
        "outputId": "588c03c4-dc83-444c-e325-6ca529f21648"
      },
      "execution_count": 16,
      "outputs": [
        {
          "output_type": "stream",
          "name": "stdout",
          "text": [
            "1\n",
            "2\n",
            "3\n",
            "4\n",
            "I got killed\n"
          ]
        }
      ]
    },
    {
      "cell_type": "code",
      "source": [
        "c=1\n",
        "while c<6:\n",
        "  print(c)\n",
        "  if c == 14:\n",
        "    break\n",
        "  c+=1\n",
        "else:\n",
        "  print(\"Loop expired\")\n",
        "print(\"I got killed\")"
      ],
      "metadata": {
        "colab": {
          "base_uri": "https://localhost:8080/"
        },
        "id": "nwDT1TAp4Tnl",
        "outputId": "3f4bec16-c050-419f-f617-c8a1829d5a63"
      },
      "execution_count": 17,
      "outputs": [
        {
          "output_type": "stream",
          "name": "stdout",
          "text": [
            "1\n",
            "2\n",
            "3\n",
            "4\n",
            "5\n",
            "Loop expired\n",
            "I got killed\n"
          ]
        }
      ]
    },
    {
      "cell_type": "code",
      "source": [
        "guess = 10\n",
        "while guess:\n",
        "  n =int(input(\"Enter your Guessing number:\"))\n",
        "  if guess >n :\n",
        "    print(\"Guessed number is lesser than your original number\")\n",
        "  elif guess<n:\n",
        "    print(\"Guessed number is greater than your original number\")\n",
        "  elif guess == n:\n",
        "    print(\"You guessed IT!\")\n",
        "    break\n",
        "print(\"Your guessed number is :\", n)"
      ],
      "metadata": {
        "colab": {
          "base_uri": "https://localhost:8080/"
        },
        "id": "nQW7QGii4dsm",
        "outputId": "0530b99d-b8e6-4410-820b-10e142aa1caf"
      },
      "execution_count": 21,
      "outputs": [
        {
          "output_type": "stream",
          "name": "stdout",
          "text": [
            "Enter your Guessing number:5\n",
            "Guessed number is lesser than your original number\n",
            "Enter your Guessing number:6\n",
            "Guessed number is lesser than your original number\n",
            "Enter your Guessing number:12\n",
            "Guessed number is greater than your original number\n",
            "Enter your Guessing number:10\n",
            "You guessed IT!\n",
            "Your guessed number is : 10\n"
          ]
        }
      ]
    },
    {
      "cell_type": "code",
      "source": [
        "name=\"ahaanausha\"\n",
        "index=0\n",
        "vowels=[]\n",
        "non_vowels=[]\n",
        "while index < len(name):\n",
        "  element=name[index]\n",
        "  if element=='a' or element =='e' or element == 'i' or element =='o' or element =='u':\n",
        "    print(element, \"is vowel\")\n",
        "    vowels.append(element)\n",
        "  else:\n",
        "    print(element, \"is non-vowel\")\n",
        "    non_vowels.append(element)\n",
        "  index +=1\n",
        "print(\"vowels are -->\",vowels)\n",
        "print(\"non_vowels are -->\",non_vowels)\n"
      ],
      "metadata": {
        "colab": {
          "base_uri": "https://localhost:8080/"
        },
        "id": "aexxl-Lr_IBA",
        "outputId": "a471a440-90eb-4dbf-8fae-12879ab7e146"
      },
      "execution_count": 26,
      "outputs": [
        {
          "output_type": "stream",
          "name": "stdout",
          "text": [
            "a is vowel\n",
            "h is non-vowel\n",
            "a is vowel\n",
            "a is vowel\n",
            "n is non-vowel\n",
            "a is vowel\n",
            "u is vowel\n",
            "s is non-vowel\n",
            "h is non-vowel\n",
            "a is vowel\n",
            "vowels are --> ['a', 'a', 'a', 'a', 'u', 'a']\n",
            "non_vowels are --> ['h', 'n', 's', 'h']\n"
          ]
        }
      ]
    },
    {
      "cell_type": "code",
      "source": [
        "i =1\n",
        "while i <10:\n",
        "\n",
        "  i +=1\n",
        "  if i==5:\n",
        "    continue\n",
        "  print(i)\n",
        "else:\n",
        "  print(\"hey There\")"
      ],
      "metadata": {
        "colab": {
          "base_uri": "https://localhost:8080/"
        },
        "id": "iCz4sv4dAzm3",
        "outputId": "075496ba-14f9-4083-bd6e-dab6bf923b03"
      },
      "execution_count": 5,
      "outputs": [
        {
          "output_type": "stream",
          "name": "stdout",
          "text": [
            "2\n",
            "3\n",
            "4\n",
            "6\n",
            "7\n",
            "8\n",
            "9\n",
            "10\n",
            "hey There\n"
          ]
        }
      ]
    },
    {
      "cell_type": "code",
      "source": [
        "#checking the pin validation\n",
        "attempts =0\n",
        "while attempts <=3:\n",
        "  pin=int(input(\"Enter the pin:\"))\n",
        "  attempts +=1\n",
        "  if pin !=1234:\n",
        "    print(\"Re-Enter the pin\")\n",
        "    print(\"Attempts:{}\".format(attempts))\n",
        "  else:\n",
        "    print(\"Login success\")\n",
        "    break\n",
        "\n",
        "  if attempts > 3:\n",
        "    print(\"locked\")\n",
        "    break"
      ],
      "metadata": {
        "colab": {
          "base_uri": "https://localhost:8080/"
        },
        "id": "q2-bNO7mMw2P",
        "outputId": "c7aacdc7-246a-4f5d-9f7f-064baee17f1a"
      },
      "execution_count": 9,
      "outputs": [
        {
          "output_type": "stream",
          "name": "stdout",
          "text": [
            "Enter the pin:1253\n",
            "Re-Enter the pin\n",
            "Attempts:1\n",
            "Enter the pin:5689\n",
            "Re-Enter the pin\n",
            "Attempts:2\n",
            "Enter the pin:45689\n",
            "Re-Enter the pin\n",
            "Attempts:3\n",
            "Enter the pin:6588\n",
            "Re-Enter the pin\n",
            "Attempts:4\n",
            "locked\n"
          ]
        }
      ]
    },
    {
      "cell_type": "code",
      "source": [
        "#factorial of n\n",
        "n= int(input(\"Enter the number of factorial you want:\"))\n",
        "f=1\n",
        "\n",
        "while n >=1:\n",
        "  f = f*n\n",
        "  n -=1\n",
        "  print(f ,n)\n",
        "\n",
        "print(\"Factorial of {}\".format(n),\"is\",f)"
      ],
      "metadata": {
        "colab": {
          "base_uri": "https://localhost:8080/"
        },
        "id": "Lk9wsKcNOWZ4",
        "outputId": "7270dfc3-72a0-4a86-fa3d-46906f984468"
      },
      "execution_count": 11,
      "outputs": [
        {
          "output_type": "stream",
          "name": "stdout",
          "text": [
            "Enter the number of factorial you want:5\n",
            "5 4\n",
            "20 3\n",
            "60 2\n",
            "120 1\n",
            "120 0\n",
            "Factorial of 0 is 120\n"
          ]
        }
      ]
    },
    {
      "cell_type": "code",
      "source": [
        "#fibbo series\n",
        "\n",
        "n_terms=int(input(\"Enter the number of terms you want:\"))\n",
        "count=0\n",
        "a=0\n",
        "n1=0\n",
        "n2=1\n",
        "l=[n1,n2]\n",
        "while n_terms > count:\n",
        "  print(n1,n2,\"before swap\")\n",
        "  nth= n1+ n2\n",
        "  a +=nth\n",
        "\n",
        "  print(nth)\n",
        "\n",
        "  n1 =n2\n",
        "  n2 =nth\n",
        "  l.append(n2)\n",
        "  print(n2,nth,\"after swap\")\n",
        "  count +=1\n",
        "a =a+1\n",
        "print(\"fibbo series of {}\".format(n_terms),\"is\", nth)\n",
        "print(\"list of fibbo{}\".format(l))\n",
        "print(\"addition of all is {}\".format(a))\n"
      ],
      "metadata": {
        "colab": {
          "base_uri": "https://localhost:8080/"
        },
        "id": "tM1CDM9mRq6Y",
        "outputId": "23f90303-36da-4a08-c6b2-bc0b2556dcb6"
      },
      "execution_count": 23,
      "outputs": [
        {
          "output_type": "stream",
          "name": "stdout",
          "text": [
            "Enter the number of terms you want:9\n",
            "0 1 before swap\n",
            "1\n",
            "1 1 after swap\n",
            "1 1 before swap\n",
            "2\n",
            "2 2 after swap\n",
            "1 2 before swap\n",
            "3\n",
            "3 3 after swap\n",
            "2 3 before swap\n",
            "5\n",
            "5 5 after swap\n",
            "3 5 before swap\n",
            "8\n",
            "8 8 after swap\n",
            "5 8 before swap\n",
            "13\n",
            "13 13 after swap\n",
            "8 13 before swap\n",
            "21\n",
            "21 21 after swap\n",
            "13 21 before swap\n",
            "34\n",
            "34 34 after swap\n",
            "21 34 before swap\n",
            "55\n",
            "55 55 after swap\n",
            "fibbo series of 9 is 55\n",
            "list of fibbo[0, 1, 1, 2, 3, 5, 8, 13, 21, 34, 55]\n",
            "addition of all is 143\n"
          ]
        }
      ]
    },
    {
      "cell_type": "markdown",
      "source": [
        "For loop\n",
        "is used to iterate the sequence of items\n",
        "iterate means one complete rotation of loop\n",
        "like in while loop while x<=3: x +=1\n",
        "x incrementation of one loop is one iteration"
      ],
      "metadata": {
        "id": "dVvL4oCjVNl3"
      }
    },
    {
      "cell_type": "code",
      "source": [
        "names= [\"nandhu\",\"usha\",\"ahaana\",\"gokul\",\"prakash\",\"teju\",\"ananya\"]\n",
        "for x in names:\n",
        "  print(x)"
      ],
      "metadata": {
        "colab": {
          "base_uri": "https://localhost:8080/"
        },
        "id": "f4z5vnjLVg0b",
        "outputId": "3f842675-3cb4-4a10-c472-117d6e5f7dd1"
      },
      "execution_count": 26,
      "outputs": [
        {
          "output_type": "stream",
          "name": "stdout",
          "text": [
            "nandhu\n",
            "usha\n",
            "ahaana\n",
            "gokul\n",
            "prakash\n",
            "teju\n",
            "ananya\n"
          ]
        }
      ]
    },
    {
      "cell_type": "code",
      "source": [
        "for x in \"GOKULPRAKASH\":\n",
        "  print(\"*&*&*\",x,\"*&*&*\", end=\" U There\\n\")"
      ],
      "metadata": {
        "colab": {
          "base_uri": "https://localhost:8080/"
        },
        "id": "6RR6XAXiWmw7",
        "outputId": "167d76c3-c749-4336-c97d-804e86c6b196"
      },
      "execution_count": 30,
      "outputs": [
        {
          "output_type": "stream",
          "name": "stdout",
          "text": [
            "*&*&* G *&*&* U There\n",
            "*&*&* O *&*&* U There\n",
            "*&*&* K *&*&* U There\n",
            "*&*&* U *&*&* U There\n",
            "*&*&* L *&*&* U There\n",
            "*&*&* P *&*&* U There\n",
            "*&*&* R *&*&* U There\n",
            "*&*&* A *&*&* U There\n",
            "*&*&* K *&*&* U There\n",
            "*&*&* A *&*&* U There\n",
            "*&*&* S *&*&* U There\n",
            "*&*&* H *&*&* U There\n"
          ]
        }
      ]
    },
    {
      "cell_type": "code",
      "source": [
        "names_list={\n",
        "    \"name\":\"nandhu\",\n",
        "    \"age\":30,\n",
        "    \"place\":[\"bangalore\",\"chennai\",\"hosur\"]\n",
        "}"
      ],
      "metadata": {
        "id": "unrZk2-dXPZ3"
      },
      "execution_count": 32,
      "outputs": []
    },
    {
      "cell_type": "code",
      "source": [
        "names_list.keys()"
      ],
      "metadata": {
        "colab": {
          "base_uri": "https://localhost:8080/"
        },
        "id": "c2Xy2GUlXqeu",
        "outputId": "24aa0331-8bc7-4678-b67c-4d25b375ff83"
      },
      "execution_count": 33,
      "outputs": [
        {
          "output_type": "execute_result",
          "data": {
            "text/plain": [
              "dict_keys(['name', 'age', 'place'])"
            ]
          },
          "metadata": {},
          "execution_count": 33
        }
      ]
    },
    {
      "cell_type": "code",
      "source": [
        "names_list.values()"
      ],
      "metadata": {
        "colab": {
          "base_uri": "https://localhost:8080/"
        },
        "id": "RzigcSouXwvd",
        "outputId": "b4dda2ad-dc01-4f15-bab8-8d7d63a8cff6"
      },
      "execution_count": 34,
      "outputs": [
        {
          "output_type": "execute_result",
          "data": {
            "text/plain": [
              "dict_values(['nandhu', 30, ['bangalore', 'chennai', 'hosur']])"
            ]
          },
          "metadata": {},
          "execution_count": 34
        }
      ]
    },
    {
      "cell_type": "code",
      "source": [
        "for key in names_list: #key is the keyword cant use some other word to get the keys from dictionary\n",
        "  print(key,names_list[key])"
      ],
      "metadata": {
        "colab": {
          "base_uri": "https://localhost:8080/"
        },
        "id": "3FtHRTuqX1UJ",
        "outputId": "b7a9dd19-8145-4ac8-dc2c-a4b9c0d7f21f"
      },
      "execution_count": 39,
      "outputs": [
        {
          "output_type": "stream",
          "name": "stdout",
          "text": [
            "name nandhu\n",
            "age 30\n",
            "place ['bangalore', 'chennai', 'hosur']\n"
          ]
        }
      ]
    },
    {
      "cell_type": "code",
      "source": [
        "for key in names_list.keys():\n",
        "  print(key)"
      ],
      "metadata": {
        "colab": {
          "base_uri": "https://localhost:8080/"
        },
        "id": "uu7HhRPDY8XS",
        "outputId": "83da273f-378c-4160-a6a4-dc7981eb27dc"
      },
      "execution_count": 41,
      "outputs": [
        {
          "output_type": "stream",
          "name": "stdout",
          "text": [
            "name\n",
            "age\n",
            "place\n"
          ]
        }
      ]
    },
    {
      "cell_type": "code",
      "source": [
        "for values in names_list.values():\n",
        "  print(values)"
      ],
      "metadata": {
        "colab": {
          "base_uri": "https://localhost:8080/"
        },
        "id": "8ln-_muKZJUq",
        "outputId": "0c88bdd4-79fb-4b75-92fb-73775e64a70b"
      },
      "execution_count": 42,
      "outputs": [
        {
          "output_type": "stream",
          "name": "stdout",
          "text": [
            "nandhu\n",
            "30\n",
            "['bangalore', 'chennai', 'hosur']\n"
          ]
        }
      ]
    },
    {
      "cell_type": "code",
      "source": [
        "for item in names_list.items():\n",
        "  print(item[0],item[1],type(item))"
      ],
      "metadata": {
        "colab": {
          "base_uri": "https://localhost:8080/"
        },
        "id": "LH0gNeAbZru3",
        "outputId": "289d8e3d-2ade-4276-c6aa-4880d36b547b"
      },
      "execution_count": 45,
      "outputs": [
        {
          "output_type": "stream",
          "name": "stdout",
          "text": [
            "name nandhu <class 'tuple'>\n",
            "age 30 <class 'tuple'>\n",
            "place ['bangalore', 'chennai', 'hosur'] <class 'tuple'>\n"
          ]
        }
      ]
    },
    {
      "cell_type": "code",
      "source": [
        "color={'red','green','orange','blue','pink'}\n",
        "for colors in color:\n",
        "  print (colors)"
      ],
      "metadata": {
        "colab": {
          "base_uri": "https://localhost:8080/"
        },
        "id": "fsr84g-aZjcz",
        "outputId": "8a9b70e0-6f94-4f68-d4c2-d2c83154c96d"
      },
      "execution_count": 2,
      "outputs": [
        {
          "output_type": "stream",
          "name": "stdout",
          "text": [
            "orange\n",
            "red\n",
            "green\n",
            "pink\n",
            "blue\n"
          ]
        }
      ]
    },
    {
      "cell_type": "code",
      "source": [
        "for x in range (6):\n",
        "  print(x)"
      ],
      "metadata": {
        "colab": {
          "base_uri": "https://localhost:8080/"
        },
        "id": "X3y9oCxiZ2TG",
        "outputId": "71c87c85-c836-4c3e-ff13-9ba23ec1c661"
      },
      "execution_count": 3,
      "outputs": [
        {
          "output_type": "stream",
          "name": "stdout",
          "text": [
            "0\n",
            "1\n",
            "2\n",
            "3\n",
            "4\n",
            "5\n"
          ]
        }
      ]
    },
    {
      "cell_type": "code",
      "source": [
        "for x in range(0,7,2):\n",
        "  print(x)"
      ],
      "metadata": {
        "colab": {
          "base_uri": "https://localhost:8080/"
        },
        "id": "aE2ls7BcZ9hD",
        "outputId": "05a38de9-09fd-4a58-918e-0419ce6be7f5"
      },
      "execution_count": 4,
      "outputs": [
        {
          "output_type": "stream",
          "name": "stdout",
          "text": [
            "0\n",
            "2\n",
            "4\n",
            "6\n"
          ]
        }
      ]
    },
    {
      "cell_type": "code",
      "source": [
        "color=['red','orange','blue','green','yellow','pink','purple']\n",
        "for c in range (0,len(color),2):\n",
        "  print(color[c])\n",
        "else:\n",
        "  print(color)"
      ],
      "metadata": {
        "colab": {
          "base_uri": "https://localhost:8080/"
        },
        "id": "fJQNO8KmaKy0",
        "outputId": "6c21487a-1af6-44a3-dc9e-a3b038aa91d6"
      },
      "execution_count": 9,
      "outputs": [
        {
          "output_type": "stream",
          "name": "stdout",
          "text": [
            "red\n",
            "blue\n",
            "yellow\n",
            "purple\n",
            "['red', 'orange', 'blue', 'green', 'yellow', 'pink', 'purple']\n"
          ]
        }
      ]
    },
    {
      "cell_type": "code",
      "source": [
        "marks=[20,25,45.56,85,96,52,63,58,69,47,74,85,96,15,42,63]\n",
        "H_mark=[]\n",
        "L_mark=[]\n",
        "for mark in marks:\n",
        "  if mark > 50:\n",
        "    H_mark.append(mark)\n",
        "  else:\n",
        "    L_mark.append(mark)\n",
        "print(H_mark)\n",
        "print(L_mark)\n"
      ],
      "metadata": {
        "colab": {
          "base_uri": "https://localhost:8080/"
        },
        "id": "dKLm7dkRko12",
        "outputId": "26ab9940-b3a2-4ee6-c9d2-e01ce482219f"
      },
      "execution_count": 10,
      "outputs": [
        {
          "output_type": "stream",
          "name": "stdout",
          "text": [
            "[85, 96, 52, 63, 58, 69, 74, 85, 96, 63]\n",
            "[20, 25, 45.56, 47, 15, 42]\n"
          ]
        }
      ]
    },
    {
      "cell_type": "code",
      "source": [
        "for colors in color:\n",
        "  print(colors)\n",
        "  if colors == 'gren':\n",
        "    break\n",
        "else:\n",
        "    print(\"no more colors\")\n",
        "print(\"all completed\")"
      ],
      "metadata": {
        "colab": {
          "base_uri": "https://localhost:8080/"
        },
        "id": "aqsxzgdCloXb",
        "outputId": "3b54ff79-0ba9-42e3-e930-313ede313324"
      },
      "execution_count": 15,
      "outputs": [
        {
          "output_type": "stream",
          "name": "stdout",
          "text": [
            "red\n",
            "orange\n",
            "blue\n",
            "green\n",
            "yellow\n",
            "pink\n",
            "purple\n",
            "no more colors\n",
            "all completed\n"
          ]
        }
      ]
    }
  ]
}