{
  "cells": [
    {
      "cell_type": "markdown",
      "metadata": {
        "id": "view-in-github",
        "colab_type": "text"
      },
      "source": [
        "<a href=\"https://colab.research.google.com/github/nandhuk0706/python/blob/main/List___dictionary_sorting.ipynb\" target=\"_parent\"><img src=\"https://colab.research.google.com/assets/colab-badge.svg\" alt=\"Open In Colab\"/></a>"
      ]
    },
    {
      "cell_type": "code",
      "execution_count": null,
      "metadata": {
        "id": "9ZI4UEEo7rOq"
      },
      "outputs": [],
      "source": [
        "# list.sort(reverse=True|False , key = myFunc)"
      ]
    },
    {
      "cell_type": "code",
      "source": [
        "help(list.sort)"
      ],
      "metadata": {
        "colab": {
          "base_uri": "https://localhost:8080/"
        },
        "id": "fC0chbcN_TIn",
        "outputId": "be5910e1-5a61-4324-85b4-915464aeff8b"
      },
      "execution_count": null,
      "outputs": [
        {
          "output_type": "stream",
          "name": "stdout",
          "text": [
            "Help on method_descriptor:\n",
            "\n",
            "sort(self, /, *, key=None, reverse=False)\n",
            "    Sort the list in ascending order and return None.\n",
            "    \n",
            "    The sort is in-place (i.e. the list itself is modified) and stable (i.e. the\n",
            "    order of two equal elements is maintained).\n",
            "    \n",
            "    If a key function is given, apply it once to each list item and sort them,\n",
            "    ascending or descending, according to their function values.\n",
            "    \n",
            "    The reverse flag can be set to sort in descending order.\n",
            "\n"
          ]
        }
      ]
    },
    {
      "cell_type": "code",
      "source": [
        "cars = ['Ford','BMW','Volvo']\n",
        "cars"
      ],
      "metadata": {
        "colab": {
          "base_uri": "https://localhost:8080/"
        },
        "id": "5WVuAd51-1pe",
        "outputId": "ca277e1f-c75d-47c8-b4a3-cdd57f3e1c64"
      },
      "execution_count": null,
      "outputs": [
        {
          "output_type": "execute_result",
          "data": {
            "text/plain": [
              "['Ford', 'BMW', 'Volvo']"
            ]
          },
          "metadata": {},
          "execution_count": 1
        }
      ]
    },
    {
      "cell_type": "code",
      "execution_count": null,
      "metadata": {
        "colab": {
          "base_uri": "https://localhost:8080/"
        },
        "id": "5eOnrU137Pfb",
        "outputId": "8b5b084d-708f-4bc3-be5b-52fc4c8157c5"
      },
      "outputs": [
        {
          "output_type": "execute_result",
          "data": {
            "text/plain": [
              "['BMW', 'Ford', 'Volvo']"
            ]
          },
          "metadata": {},
          "execution_count": 2
        }
      ],
      "source": [
        "cars.sort() #  ascending sort\n",
        "cars"
      ]
    },
    {
      "cell_type": "code",
      "execution_count": null,
      "metadata": {
        "colab": {
          "base_uri": "https://localhost:8080/"
        },
        "id": "2bUVRY1r7gS6",
        "outputId": "9ac0bf86-8ac9-4e3e-8332-6ed351894b04"
      },
      "outputs": [
        {
          "output_type": "execute_result",
          "data": {
            "text/plain": [
              "['Volvo', 'Ford', 'BMW']"
            ]
          },
          "metadata": {},
          "execution_count": 3
        }
      ],
      "source": [
        "cars.sort(reverse=True) # descending sort\n",
        "\n",
        "cars"
      ]
    },
    {
      "cell_type": "code",
      "execution_count": null,
      "metadata": {
        "colab": {
          "base_uri": "https://localhost:8080/"
        },
        "id": "yKyUm89T71J7",
        "outputId": "42b0b910-2722-4d1d-ffc1-70bb76380ba8"
      },
      "outputs": [
        {
          "output_type": "execute_result",
          "data": {
            "text/plain": [
              "['BMW', 'Ford', 'Audi', 'Benz', 'Volvo', 'Swift']"
            ]
          },
          "metadata": {},
          "execution_count": 4
        }
      ],
      "source": [
        "def myFunc(e):\n",
        "    return len(e)\n",
        "\n",
        "\n",
        "cars = ['BMW', 'Ford', 'Volvo','Audi','Swift', 'Benz']\n",
        "\n",
        "cars.sort(key=myFunc)\n",
        "\n",
        "cars"
      ]
    },
    {
      "cell_type": "code",
      "execution_count": null,
      "metadata": {
        "colab": {
          "base_uri": "https://localhost:8080/"
        },
        "id": "Lo0EJX_D8Qr9",
        "outputId": "7f76c89a-1380-4e34-943b-f9e410735cce"
      },
      "outputs": [
        {
          "output_type": "execute_result",
          "data": {
            "text/plain": [
              "[{'car': 'volvo', 'year': 2000, 'age': 3},\n",
              " {'car': 'BMW', 'year': 2000, 'age': 13},\n",
              " {'car': 'Ford', 'year': 2005, 'age': 12},\n",
              " {'car': 'Benz', 'year': 2011, 'age': 4}]"
            ]
          },
          "metadata": {},
          "execution_count": 5
        }
      ],
      "source": [
        "def myFunc(e):\n",
        "    return e['year'],e['age']\n",
        "\n",
        "\n",
        "cars = [\n",
        "    {'car':'Ford','year':2005,'age':12},\n",
        "    {'car':'BMW','year':2000,\"age\":13},\n",
        "    {'car':'Benz','year':2011,\"age\":4},\n",
        "    {'car':'volvo','year':2000,\"age\":3}\n",
        "]\n",
        "\n",
        "\n",
        "cars.sort(key=myFunc)\n",
        "\n",
        "cars"
      ]
    },
    {
      "cell_type": "markdown",
      "metadata": {
        "id": "AP79sWmG_ipz"
      },
      "source": [
        "dictionary sorting"
      ]
    },
    {
      "cell_type": "code",
      "execution_count": null,
      "metadata": {
        "id": "sYr15F16_l_z"
      },
      "outputs": [],
      "source": [
        "key_value ={\n",
        "    2:56,\n",
        "    1:2,\n",
        "    5:12,\n",
        "    4:24,\n",
        "    6:18,\n",
        "    3:323\n",
        "}"
      ]
    },
    {
      "cell_type": "code",
      "execution_count": null,
      "metadata": {
        "colab": {
          "base_uri": "https://localhost:8080/"
        },
        "id": "8sW9WPpi_86O",
        "outputId": "97303261-962f-4e38-f503-7289482b96a8"
      },
      "outputs": [
        {
          "output_type": "execute_result",
          "data": {
            "text/plain": [
              "{2: 56, 1: 2, 5: 12, 4: 24, 6: 18, 3: 323}"
            ]
          },
          "metadata": {},
          "execution_count": 7
        }
      ],
      "source": [
        "key_value"
      ]
    },
    {
      "cell_type": "code",
      "execution_count": null,
      "metadata": {
        "colab": {
          "base_uri": "https://localhost:8080/"
        },
        "id": "_-xmQCujBRWw",
        "outputId": "1fc93f60-9e37-44a3-dd8e-b18e0d886357"
      },
      "outputs": [
        {
          "output_type": "execute_result",
          "data": {
            "text/plain": [
              "dict_items([(2, 56), (1, 2), (5, 12), (4, 24), (6, 18), (3, 323)])"
            ]
          },
          "metadata": {},
          "execution_count": 8
        }
      ],
      "source": [
        "key_value.items()"
      ]
    },
    {
      "cell_type": "code",
      "execution_count": null,
      "metadata": {
        "id": "GRGS6r1RAmi5"
      },
      "outputs": [],
      "source": [
        "# sorted(iterable,key = key,reverse = True|False)"
      ]
    },
    {
      "cell_type": "code",
      "source": [
        "help(sorted)"
      ],
      "metadata": {
        "colab": {
          "base_uri": "https://localhost:8080/"
        },
        "id": "fis8cljlAK6u",
        "outputId": "153f5187-573f-4e15-9cd2-4c3346cab2f6"
      },
      "execution_count": null,
      "outputs": [
        {
          "output_type": "stream",
          "name": "stdout",
          "text": [
            "Help on built-in function sorted in module builtins:\n",
            "\n",
            "sorted(iterable, /, *, key=None, reverse=False)\n",
            "    Return a new list containing all items from the iterable in ascending order.\n",
            "    \n",
            "    A custom key function can be supplied to customize the sort order, and the\n",
            "    reverse flag can be set to request the result in descending order.\n",
            "\n"
          ]
        }
      ]
    },
    {
      "cell_type": "markdown",
      "source": [
        "Key Based Sort"
      ],
      "metadata": {
        "id": "kJL89LyZeJUC"
      }
    },
    {
      "cell_type": "code",
      "source": [
        "key_value.keys()"
      ],
      "metadata": {
        "colab": {
          "base_uri": "https://localhost:8080/"
        },
        "id": "H0YxM9c_eOD1",
        "outputId": "023e7e69-0d30-4f08-a5b5-7b82facd4c0a"
      },
      "execution_count": null,
      "outputs": [
        {
          "output_type": "execute_result",
          "data": {
            "text/plain": [
              "dict_keys([2, 1, 5, 4, 6, 3])"
            ]
          },
          "metadata": {},
          "execution_count": 9
        }
      ]
    },
    {
      "cell_type": "code",
      "source": [
        "sorted(key_value.keys())"
      ],
      "metadata": {
        "colab": {
          "base_uri": "https://localhost:8080/"
        },
        "id": "JpkFB8IReUes",
        "outputId": "8ad95348-cb3d-4255-99a7-ae46f0506552"
      },
      "execution_count": null,
      "outputs": [
        {
          "output_type": "execute_result",
          "data": {
            "text/plain": [
              "[1, 2, 3, 4, 5, 6]"
            ]
          },
          "metadata": {},
          "execution_count": 10
        }
      ]
    },
    {
      "cell_type": "markdown",
      "source": [
        "**Key based sort**"
      ],
      "metadata": {
        "id": "KxRt_vMmAwv5"
      }
    },
    {
      "cell_type": "code",
      "source": [
        "#dic_list = list(key_value.keys())\n",
        "#dic_list.sort()\n",
        "for i in sorted(key_value.keys()):\n",
        "  print(i , key_value[i])"
      ],
      "metadata": {
        "colab": {
          "base_uri": "https://localhost:8080/"
        },
        "id": "GPjJjy_Up_tG",
        "outputId": "cc765821-9cac-40af-b4dd-cdb5d675149d"
      },
      "execution_count": null,
      "outputs": [
        {
          "output_type": "stream",
          "name": "stdout",
          "text": [
            "1 2\n",
            "2 56\n",
            "3 323\n",
            "4 24\n",
            "5 12\n",
            "6 18\n"
          ]
        }
      ]
    },
    {
      "cell_type": "code",
      "execution_count": null,
      "metadata": {
        "colab": {
          "base_uri": "https://localhost:8080/"
        },
        "id": "_lPUS9OyAAEq",
        "outputId": "f47c33fb-4f6b-480b-ae6e-065bfe447ec7"
      },
      "outputs": [
        {
          "output_type": "stream",
          "name": "stdout",
          "text": [
            "1 \t  2\n",
            "2 \t  56\n",
            "3 \t  323\n",
            "4 \t  24\n",
            "5 \t  12\n",
            "6 \t  18\n",
            "{1: 2, 2: 56, 3: 323, 4: 24, 5: 12, 6: 18}\n"
          ]
        }
      ],
      "source": [
        "di = dict()\n",
        "for i in sorted(key_value.keys()):\n",
        "  print(i, \"\\t \" , key_value[i] )\n",
        "  di[i] = key_value[i]\n",
        "print(di)\n",
        "\n"
      ]
    },
    {
      "cell_type": "code",
      "source": [
        "key_value.items()"
      ],
      "metadata": {
        "colab": {
          "base_uri": "https://localhost:8080/"
        },
        "id": "ZlXnZB9ADIxM",
        "outputId": "5b2e0b01-afbd-4382-e869-62ef2d5f5c86"
      },
      "execution_count": null,
      "outputs": [
        {
          "output_type": "execute_result",
          "data": {
            "text/plain": [
              "dict_items([(2, 56), (1, 2), (5, 12), (4, 24), (6, 18), (3, 323)])"
            ]
          },
          "metadata": {},
          "execution_count": 13
        }
      ]
    },
    {
      "cell_type": "code",
      "source": [
        "for item in key_value.items():\n",
        "  print(item[1])"
      ],
      "metadata": {
        "colab": {
          "base_uri": "https://localhost:8080/"
        },
        "id": "JXBI2VH6qxP8",
        "outputId": "9a4498f9-0cfe-44b4-c5b4-c7531082248d"
      },
      "execution_count": null,
      "outputs": [
        {
          "output_type": "stream",
          "name": "stdout",
          "text": [
            "56\n",
            "2\n",
            "12\n",
            "24\n",
            "18\n",
            "323\n"
          ]
        }
      ]
    },
    {
      "cell_type": "code",
      "source": [
        "key_value ={\n",
        "    2:56,\n",
        "    1:323,\n",
        "    5:12,\n",
        "    4:323,\n",
        "    6:18,\n",
        "    3:323\n",
        "}"
      ],
      "metadata": {
        "id": "BKUnIvzZsVnh"
      },
      "execution_count": null,
      "outputs": []
    },
    {
      "cell_type": "code",
      "execution_count": null,
      "metadata": {
        "colab": {
          "base_uri": "https://localhost:8080/"
        },
        "id": "rZAu9sD_AwIQ",
        "outputId": "6481364e-ce71-4e11-86cf-6c20ba27e107"
      },
      "outputs": [
        {
          "output_type": "execute_result",
          "data": {
            "text/plain": [
              "[(5, 12), (6, 18), (2, 56), (1, 323), (3, 323), (4, 323)]"
            ]
          },
          "metadata": {},
          "execution_count": 16
        }
      ],
      "source": [
        "# value based sort\n",
        "sorted(\n",
        "    key_value.items(),\n",
        "    key = lambda kv:\n",
        "          (kv[1],kv[0])\n",
        ")"
      ]
    },
    {
      "cell_type": "code",
      "source": [
        "sorted(key_value.values())"
      ],
      "metadata": {
        "colab": {
          "base_uri": "https://localhost:8080/"
        },
        "id": "Njdi8g6LhT5o",
        "outputId": "94137cad-9328-49cb-8c97-357a5cd7b35d"
      },
      "execution_count": null,
      "outputs": [
        {
          "output_type": "execute_result",
          "data": {
            "text/plain": [
              "[12, 18, 56, 323, 323, 323]"
            ]
          },
          "metadata": {},
          "execution_count": 17
        }
      ]
    },
    {
      "cell_type": "code",
      "source": [
        "key_value ={\n",
        "    2:56,\n",
        "    1:2,\n",
        "    5:12,\n",
        "    4:24,\n",
        "    6:18,\n",
        "    3:323\n",
        "}"
      ],
      "metadata": {
        "id": "tMvFApJ6r6R2"
      },
      "execution_count": null,
      "outputs": []
    },
    {
      "cell_type": "code",
      "execution_count": null,
      "metadata": {
        "colab": {
          "base_uri": "https://localhost:8080/"
        },
        "id": "Zmhwms3WBIUp",
        "outputId": "de5f1a6f-b0fa-48e1-fe96-565992e8df4d"
      },
      "outputs": [
        {
          "output_type": "execute_result",
          "data": {
            "text/plain": [
              "[(1, 323), (2, 56), (3, 323), (4, 323), (5, 12), (6, 18)]"
            ]
          },
          "metadata": {},
          "execution_count": 18
        }
      ],
      "source": [
        "# key based sort\n",
        "\n",
        "sorted(\n",
        "    key_value.items(),  # iterable\n",
        "    key=lambda kv:      # key\n",
        "             (kv[0],kv[1])\n",
        ")"
      ]
    },
    {
      "cell_type": "code",
      "execution_count": null,
      "metadata": {
        "id": "va2Qz_g-ckH6"
      },
      "outputs": [],
      "source": []
    }
  ],
  "metadata": {
    "colab": {
      "provenance": [],
      "include_colab_link": true
    },
    "kernelspec": {
      "display_name": "Python 3",
      "language": "python",
      "name": "python3"
    },
    "language_info": {
      "codemirror_mode": {
        "name": "ipython",
        "version": 3
      },
      "file_extension": ".py",
      "mimetype": "text/x-python",
      "name": "python",
      "nbconvert_exporter": "python",
      "pygments_lexer": "ipython3",
      "version": "3.9.2"
    }
  },
  "nbformat": 4,
  "nbformat_minor": 0
}