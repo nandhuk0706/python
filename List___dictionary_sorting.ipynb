{
  "cells": [
    {
      "cell_type": "markdown",
      "metadata": {
        "id": "view-in-github",
        "colab_type": "text"
      },
      "source": [
        "<a href=\"https://colab.research.google.com/github/nandhuk0706/python/blob/main/List___dictionary_sorting.ipynb\" target=\"_parent\"><img src=\"https://colab.research.google.com/assets/colab-badge.svg\" alt=\"Open In Colab\"/></a>"
      ]
    },
    {
      "cell_type": "code",
      "execution_count": null,
      "metadata": {
        "id": "9ZI4UEEo7rOq"
      },
      "outputs": [],
      "source": [
        "# list.sort(reverse=True|False , key = myFunc)"
      ]
    },
    {
      "cell_type": "code",
      "source": [
        "help(list.sort)"
      ],
      "metadata": {
        "colab": {
          "base_uri": "https://localhost:8080/"
        },
        "id": "fC0chbcN_TIn",
        "outputId": "be5910e1-5a61-4324-85b4-915464aeff8b"
      },
      "execution_count": null,
      "outputs": [
        {
          "output_type": "stream",
          "name": "stdout",
          "text": [
            "Help on method_descriptor:\n",
            "\n",
            "sort(self, /, *, key=None, reverse=False)\n",
            "    Sort the list in ascending order and return None.\n",
            "    \n",
            "    The sort is in-place (i.e. the list itself is modified) and stable (i.e. the\n",
            "    order of two equal elements is maintained).\n",
            "    \n",
            "    If a key function is given, apply it once to each list item and sort them,\n",
            "    ascending or descending, according to their function values.\n",
            "    \n",
            "    The reverse flag can be set to sort in descending order.\n",
            "\n"
          ]
        }
      ]
    },
    {
      "cell_type": "code",
      "source": [
        "cars = ['Ford','BMW','Volvo']\n",
        "cars"
      ],
      "metadata": {
        "colab": {
          "base_uri": "https://localhost:8080/"
        },
        "id": "5WVuAd51-1pe",
        "outputId": "74893eea-c179-41b0-9d05-0c64702c5c70"
      },
      "execution_count": 2,
      "outputs": [
        {
          "output_type": "execute_result",
          "data": {
            "text/plain": [
              "['Ford', 'BMW', 'Volvo']"
            ]
          },
          "metadata": {},
          "execution_count": 2
        }
      ]
    },
    {
      "cell_type": "code",
      "execution_count": 3,
      "metadata": {
        "colab": {
          "base_uri": "https://localhost:8080/"
        },
        "id": "5eOnrU137Pfb",
        "outputId": "05ed0c73-0ed4-4fea-c77b-6a47c4344c4a"
      },
      "outputs": [
        {
          "output_type": "execute_result",
          "data": {
            "text/plain": [
              "['BMW', 'Ford', 'Volvo']"
            ]
          },
          "metadata": {},
          "execution_count": 3
        }
      ],
      "source": [
        "cars.sort() #  ascending sort\n",
        "cars"
      ]
    },
    {
      "cell_type": "code",
      "execution_count": 4,
      "metadata": {
        "colab": {
          "base_uri": "https://localhost:8080/"
        },
        "id": "2bUVRY1r7gS6",
        "outputId": "43d46682-1fbf-41fb-b97a-3227cab1fd85"
      },
      "outputs": [
        {
          "output_type": "execute_result",
          "data": {
            "text/plain": [
              "['Volvo', 'Ford', 'BMW']"
            ]
          },
          "metadata": {},
          "execution_count": 4
        }
      ],
      "source": [
        "cars.sort(reverse=True) # descending sort\n",
        "\n",
        "cars"
      ]
    },
    {
      "cell_type": "code",
      "execution_count": 7,
      "metadata": {
        "colab": {
          "base_uri": "https://localhost:8080/"
        },
        "id": "yKyUm89T71J7",
        "outputId": "4ee6171c-60ea-48e7-db1d-844769bcac6b"
      },
      "outputs": [
        {
          "output_type": "execute_result",
          "data": {
            "text/plain": [
              "['BMW', 'Ford', 'Audi', 'Benz', 'Volvo', 'Swift']"
            ]
          },
          "metadata": {},
          "execution_count": 7
        }
      ],
      "source": [
        "def myFunc(a):\n",
        "    return len(a)\n",
        "\n",
        "\n",
        "cars = ['BMW', 'Ford', 'Volvo','Audi','Swift', 'Benz']\n",
        "\n",
        "cars.sort(key=myFunc)\n",
        "\n",
        "cars"
      ]
    },
    {
      "cell_type": "code",
      "execution_count": 11,
      "metadata": {
        "colab": {
          "base_uri": "https://localhost:8080/"
        },
        "id": "Lo0EJX_D8Qr9",
        "outputId": "7d9cd691-c127-48b3-934c-4aa897ef9a87"
      },
      "outputs": [
        {
          "output_type": "execute_result",
          "data": {
            "text/plain": [
              "[{'name': 'Nandhu', 'year': 1993, 'age': 20},\n",
              " {'name': 'gokul', 'year': 1833, 'age': 30},\n",
              " {'name': 'usha', 'year': 1933, 'age': 30}]"
            ]
          },
          "metadata": {},
          "execution_count": 11
        }
      ],
      "source": [
        "def myfun(e):\n",
        "  return  e['age'],e['year']\n",
        "\n",
        "name_list=[{'name':'usha','year':1933,'age':30},\n",
        "           {'name':'Nandhu','year':1993,'age':20},\n",
        "           {'name':'gokul','year':1833,'age':30}]\n",
        "\n",
        "name_list.sort(key=myfun)\n",
        "name_list"
      ]
    },
    {
      "cell_type": "code",
      "source": [
        "def myFunc(e):\n",
        "    return e['year'],e['age']\n",
        "\n",
        "\n",
        "cars = [\n",
        "    {'car':'Ford','year':2005,'age':12},\n",
        "    {'car':'BMW','year':2000,\"age\":13},\n",
        "    {'car':'Benz','year':2011,\"age\":4},\n",
        "    {'car':'volvo','year':2000,\"age\":3}\n",
        "]\n",
        "\n",
        "\n",
        "cars.sort(key=myFunc)\n",
        "\n",
        "cars"
      ],
      "metadata": {
        "id": "OunDMOUE9kXt",
        "outputId": "84927d2f-beef-4028-89a2-f2f1e07b4b82",
        "colab": {
          "base_uri": "https://localhost:8080/"
        }
      },
      "execution_count": 12,
      "outputs": [
        {
          "output_type": "execute_result",
          "data": {
            "text/plain": [
              "[{'car': 'volvo', 'year': 2000, 'age': 3},\n",
              " {'car': 'BMW', 'year': 2000, 'age': 13},\n",
              " {'car': 'Ford', 'year': 2005, 'age': 12},\n",
              " {'car': 'Benz', 'year': 2011, 'age': 4}]"
            ]
          },
          "metadata": {},
          "execution_count": 12
        }
      ]
    },
    {
      "cell_type": "markdown",
      "metadata": {
        "id": "AP79sWmG_ipz"
      },
      "source": [
        "dictionary sorting"
      ]
    },
    {
      "cell_type": "code",
      "execution_count": 14,
      "metadata": {
        "id": "sYr15F16_l_z"
      },
      "outputs": [],
      "source": [
        "key_value ={\n",
        "    2:56,\n",
        "    1:2,\n",
        "    5:12,\n",
        "    4:24,\n",
        "    6:18,\n",
        "    3:323\n",
        "}\n",
        "\n",
        "\n"
      ]
    },
    {
      "cell_type": "code",
      "execution_count": null,
      "metadata": {
        "colab": {
          "base_uri": "https://localhost:8080/"
        },
        "id": "8sW9WPpi_86O",
        "outputId": "97303261-962f-4e38-f503-7289482b96a8"
      },
      "outputs": [
        {
          "output_type": "execute_result",
          "data": {
            "text/plain": [
              "{2: 56, 1: 2, 5: 12, 4: 24, 6: 18, 3: 323}"
            ]
          },
          "metadata": {},
          "execution_count": 7
        }
      ],
      "source": [
        "key_value"
      ]
    },
    {
      "cell_type": "code",
      "execution_count": null,
      "metadata": {
        "colab": {
          "base_uri": "https://localhost:8080/"
        },
        "id": "_-xmQCujBRWw",
        "outputId": "1fc93f60-9e37-44a3-dd8e-b18e0d886357"
      },
      "outputs": [
        {
          "output_type": "execute_result",
          "data": {
            "text/plain": [
              "dict_items([(2, 56), (1, 2), (5, 12), (4, 24), (6, 18), (3, 323)])"
            ]
          },
          "metadata": {},
          "execution_count": 8
        }
      ],
      "source": [
        "key_value.items()"
      ]
    },
    {
      "cell_type": "code",
      "execution_count": null,
      "metadata": {
        "id": "GRGS6r1RAmi5"
      },
      "outputs": [],
      "source": [
        "# sorted(iterable,key = key,reverse = True|False)"
      ]
    },
    {
      "cell_type": "code",
      "source": [
        "help(sorted)"
      ],
      "metadata": {
        "colab": {
          "base_uri": "https://localhost:8080/"
        },
        "id": "fis8cljlAK6u",
        "outputId": "153f5187-573f-4e15-9cd2-4c3346cab2f6"
      },
      "execution_count": null,
      "outputs": [
        {
          "output_type": "stream",
          "name": "stdout",
          "text": [
            "Help on built-in function sorted in module builtins:\n",
            "\n",
            "sorted(iterable, /, *, key=None, reverse=False)\n",
            "    Return a new list containing all items from the iterable in ascending order.\n",
            "    \n",
            "    A custom key function can be supplied to customize the sort order, and the\n",
            "    reverse flag can be set to request the result in descending order.\n",
            "\n"
          ]
        }
      ]
    },
    {
      "cell_type": "markdown",
      "source": [
        "Key Based Sort"
      ],
      "metadata": {
        "id": "kJL89LyZeJUC"
      }
    },
    {
      "cell_type": "code",
      "source": [
        "key_value.keys()"
      ],
      "metadata": {
        "colab": {
          "base_uri": "https://localhost:8080/"
        },
        "id": "H0YxM9c_eOD1",
        "outputId": "023e7e69-0d30-4f08-a5b5-7b82facd4c0a"
      },
      "execution_count": null,
      "outputs": [
        {
          "output_type": "execute_result",
          "data": {
            "text/plain": [
              "dict_keys([2, 1, 5, 4, 6, 3])"
            ]
          },
          "metadata": {},
          "execution_count": 9
        }
      ]
    },
    {
      "cell_type": "code",
      "source": [
        "sorted(key_value.keys())"
      ],
      "metadata": {
        "colab": {
          "base_uri": "https://localhost:8080/"
        },
        "id": "JpkFB8IReUes",
        "outputId": "8ad95348-cb3d-4255-99a7-ae46f0506552"
      },
      "execution_count": null,
      "outputs": [
        {
          "output_type": "execute_result",
          "data": {
            "text/plain": [
              "[1, 2, 3, 4, 5, 6]"
            ]
          },
          "metadata": {},
          "execution_count": 10
        }
      ]
    },
    {
      "cell_type": "markdown",
      "source": [
        "**Key based sort**"
      ],
      "metadata": {
        "id": "KxRt_vMmAwv5"
      }
    },
    {
      "cell_type": "code",
      "source": [
        "#dic_list = list(key_value.keys())\n",
        "#dic_list.sort()\n",
        "for i in sorted(key_value.keys()):\n",
        "  print(i , key_value[i])"
      ],
      "metadata": {
        "colab": {
          "base_uri": "https://localhost:8080/"
        },
        "id": "GPjJjy_Up_tG",
        "outputId": "cc765821-9cac-40af-b4dd-cdb5d675149d"
      },
      "execution_count": null,
      "outputs": [
        {
          "output_type": "stream",
          "name": "stdout",
          "text": [
            "1 2\n",
            "2 56\n",
            "3 323\n",
            "4 24\n",
            "5 12\n",
            "6 18\n"
          ]
        }
      ]
    },
    {
      "cell_type": "code",
      "execution_count": null,
      "metadata": {
        "colab": {
          "base_uri": "https://localhost:8080/"
        },
        "id": "_lPUS9OyAAEq",
        "outputId": "f47c33fb-4f6b-480b-ae6e-065bfe447ec7"
      },
      "outputs": [
        {
          "output_type": "stream",
          "name": "stdout",
          "text": [
            "1 \t  2\n",
            "2 \t  56\n",
            "3 \t  323\n",
            "4 \t  24\n",
            "5 \t  12\n",
            "6 \t  18\n",
            "{1: 2, 2: 56, 3: 323, 4: 24, 5: 12, 6: 18}\n"
          ]
        }
      ],
      "source": [
        "di = dict()\n",
        "for i in sorted(key_value.keys()):\n",
        "  print(i, \"\\t \" , key_value[i] )\n",
        "  di[i] = key_value[i]\n",
        "print(di)\n",
        "\n"
      ]
    },
    {
      "cell_type": "code",
      "source": [
        "key_value.items()"
      ],
      "metadata": {
        "colab": {
          "base_uri": "https://localhost:8080/"
        },
        "id": "ZlXnZB9ADIxM",
        "outputId": "5b2e0b01-afbd-4382-e869-62ef2d5f5c86"
      },
      "execution_count": null,
      "outputs": [
        {
          "output_type": "execute_result",
          "data": {
            "text/plain": [
              "dict_items([(2, 56), (1, 2), (5, 12), (4, 24), (6, 18), (3, 323)])"
            ]
          },
          "metadata": {},
          "execution_count": 13
        }
      ]
    },
    {
      "cell_type": "code",
      "source": [
        "for item in key_value.items():\n",
        "  print(item[1])"
      ],
      "metadata": {
        "colab": {
          "base_uri": "https://localhost:8080/"
        },
        "id": "JXBI2VH6qxP8",
        "outputId": "c4db034b-c003-4cc2-f655-6fa3a4625ef6"
      },
      "execution_count": 17,
      "outputs": [
        {
          "output_type": "stream",
          "name": "stdout",
          "text": [
            "56\n",
            "2\n",
            "12\n",
            "24\n",
            "18\n",
            "323\n"
          ]
        }
      ]
    },
    {
      "cell_type": "code",
      "source": [
        "key_value ={\n",
        "    2:56,\n",
        "    1:323,\n",
        "    5:12,\n",
        "    4:323,\n",
        "    6:18,\n",
        "    3:323\n",
        "}"
      ],
      "metadata": {
        "id": "BKUnIvzZsVnh"
      },
      "execution_count": null,
      "outputs": []
    },
    {
      "cell_type": "code",
      "execution_count": 20,
      "metadata": {
        "colab": {
          "base_uri": "https://localhost:8080/"
        },
        "id": "rZAu9sD_AwIQ",
        "outputId": "25857e7b-f008-46cd-9a22-78dd9812461f"
      },
      "outputs": [
        {
          "output_type": "execute_result",
          "data": {
            "text/plain": [
              "[(1, 2), (5, 12), (6, 18), (4, 24), (2, 56), (3, 323)]"
            ]
          },
          "metadata": {},
          "execution_count": 20
        }
      ],
      "source": [
        "# value based sort\n",
        "sorted(\n",
        "    key_value.items(),\n",
        "    key = lambda kv:\n",
        "          (kv[1],kv[0])\n",
        ")"
      ]
    },
    {
      "cell_type": "code",
      "source": [
        "sorted(key_value.values())"
      ],
      "metadata": {
        "colab": {
          "base_uri": "https://localhost:8080/"
        },
        "id": "Njdi8g6LhT5o",
        "outputId": "dec3f62c-d677-4e83-92e3-6ce9b83668b5"
      },
      "execution_count": 19,
      "outputs": [
        {
          "output_type": "execute_result",
          "data": {
            "text/plain": [
              "[2, 12, 18, 24, 56, 323]"
            ]
          },
          "metadata": {},
          "execution_count": 19
        }
      ]
    },
    {
      "cell_type": "code",
      "source": [
        "key_value ={\n",
        "    2:56,\n",
        "    1:2,\n",
        "    5:12,\n",
        "    4:24,\n",
        "    6:18,\n",
        "    3:323\n",
        "}"
      ],
      "metadata": {
        "id": "tMvFApJ6r6R2"
      },
      "execution_count": null,
      "outputs": []
    },
    {
      "cell_type": "code",
      "execution_count": 21,
      "metadata": {
        "colab": {
          "base_uri": "https://localhost:8080/"
        },
        "id": "Zmhwms3WBIUp",
        "outputId": "9549ef9b-276c-4a7a-cad9-74231092ad2b"
      },
      "outputs": [
        {
          "output_type": "execute_result",
          "data": {
            "text/plain": [
              "[(1, 2), (2, 56), (3, 323), (4, 24), (5, 12), (6, 18)]"
            ]
          },
          "metadata": {},
          "execution_count": 21
        }
      ],
      "source": [
        "# key based sort\n",
        "\n",
        "sorted(\n",
        "    key_value.items(),  # iterable\n",
        "    key=lambda kv:      # key\n",
        "             (kv[0],kv[1])\n",
        ")"
      ]
    },
    {
      "cell_type": "code",
      "execution_count": 23,
      "metadata": {
        "id": "va2Qz_g-ckH6",
        "outputId": "133b6555-cfb6-489b-b9ed-357d37617777",
        "colab": {
          "base_uri": "https://localhost:8080/"
        }
      },
      "outputs": [
        {
          "output_type": "execute_result",
          "data": {
            "text/plain": [
              "{31: 'usha', 72: 'nandhu', 93: 'ahaana', 94: 'gokul', 75: 'priya'}"
            ]
          },
          "metadata": {},
          "execution_count": 23
        }
      ],
      "source": [
        "ad={31:'usha',\n",
        "    72:'nandhu',\n",
        "    93:'ahaana',\n",
        "    94:'gokul',\n",
        "    75:'priya'}\n",
        "ad"
      ]
    },
    {
      "cell_type": "code",
      "source": [
        "sorted(ad.keys()), sorted(ad.values()), ad.items()"
      ],
      "metadata": {
        "id": "1ZMyLsPaF2s9",
        "outputId": "d0f3b19b-fe9d-438c-c05c-28fdec0f4e5f",
        "colab": {
          "base_uri": "https://localhost:8080/"
        }
      },
      "execution_count": 27,
      "outputs": [
        {
          "output_type": "execute_result",
          "data": {
            "text/plain": [
              "([31, 72, 75, 93, 94],\n",
              " ['ahaana', 'gokul', 'nandhu', 'priya', 'usha'],\n",
              " dict_items([(31, 'usha'), (72, 'nandhu'), (93, 'ahaana'), (94, 'gokul'), (75, 'priya')]))"
            ]
          },
          "metadata": {},
          "execution_count": 27
        }
      ]
    },
    {
      "cell_type": "code",
      "source": [
        "sorted(\n",
        "    ad.items(),key=lambda kv : (kv[0],kv[1]) #this is for key based sorting\n",
        "    )"
      ],
      "metadata": {
        "id": "57ACmYg2GJ0l",
        "outputId": "5e53984a-7757-4d32-a413-3d2788fbaccd",
        "colab": {
          "base_uri": "https://localhost:8080/"
        }
      },
      "execution_count": 30,
      "outputs": [
        {
          "output_type": "execute_result",
          "data": {
            "text/plain": [
              "[(31, 'usha'), (72, 'nandhu'), (75, 'priya'), (93, 'ahaana'), (94, 'gokul')]"
            ]
          },
          "metadata": {},
          "execution_count": 30
        }
      ]
    },
    {
      "cell_type": "code",
      "source": [
        "sorted(\n",
        "    ad.items(),key = lambda kv : (kv[1],kv[0]) #value  based sorting\n",
        ")"
      ],
      "metadata": {
        "id": "uXDVAHy2Gt0C",
        "outputId": "6d39f6f1-09a7-4b3c-bfe2-76beec9a98f0",
        "colab": {
          "base_uri": "https://localhost:8080/"
        }
      },
      "execution_count": 31,
      "outputs": [
        {
          "output_type": "execute_result",
          "data": {
            "text/plain": [
              "[(93, 'ahaana'), (94, 'gokul'), (72, 'nandhu'), (75, 'priya'), (31, 'usha')]"
            ]
          },
          "metadata": {},
          "execution_count": 31
        }
      ]
    }
  ],
  "metadata": {
    "colab": {
      "provenance": [],
      "include_colab_link": true
    },
    "kernelspec": {
      "display_name": "Python 3",
      "language": "python",
      "name": "python3"
    },
    "language_info": {
      "codemirror_mode": {
        "name": "ipython",
        "version": 3
      },
      "file_extension": ".py",
      "mimetype": "text/x-python",
      "name": "python",
      "nbconvert_exporter": "python",
      "pygments_lexer": "ipython3",
      "version": "3.9.2"
    }
  },
  "nbformat": 4,
  "nbformat_minor": 0
}