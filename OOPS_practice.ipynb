{
  "nbformat": 4,
  "nbformat_minor": 0,
  "metadata": {
    "colab": {
      "provenance": [],
      "authorship_tag": "ABX9TyOjY4U/c7Q7OMwiYR+RUm3K",
      "include_colab_link": true
    },
    "kernelspec": {
      "name": "python3",
      "display_name": "Python 3"
    },
    "language_info": {
      "name": "python"
    }
  },
  "cells": [
    {
      "cell_type": "markdown",
      "metadata": {
        "id": "view-in-github",
        "colab_type": "text"
      },
      "source": [
        "<a href=\"https://colab.research.google.com/github/nandhuk0706/python/blob/main/OOPS_practice.ipynb\" target=\"_parent\"><img src=\"https://colab.research.google.com/assets/colab-badge.svg\" alt=\"Open In Colab\"/></a>"
      ]
    },
    {
      "cell_type": "code",
      "execution_count": null,
      "metadata": {
        "id": "CNJ-EpUxKQ6U"
      },
      "outputs": [],
      "source": []
    },
    {
      "cell_type": "code",
      "source": [
        "class person:\n",
        "  def __init__(self):\n",
        "    self.name=input(\"enter a name:\")\n",
        "    #print(self.name,self)\n",
        "    print(self.name)\n",
        "member=person()\n",
        "#name"
      ],
      "metadata": {
        "id": "mVl0sW3mz7KO",
        "outputId": "1012c088-a876-441d-dcb1-4dc6d9ce4373",
        "colab": {
          "base_uri": "https://localhost:8080/"
        }
      },
      "execution_count": null,
      "outputs": [
        {
          "output_type": "stream",
          "name": "stdout",
          "text": [
            "enter a name:ahaana\n",
            "ahaana\n"
          ]
        }
      ]
    },
    {
      "cell_type": "code",
      "source": [
        "member.name"
      ],
      "metadata": {
        "id": "CxcA6c901l9d",
        "outputId": "c263669f-9d95-4d59-8733-5537b2423b35",
        "colab": {
          "base_uri": "https://localhost:8080/",
          "height": 36
        }
      },
      "execution_count": null,
      "outputs": [
        {
          "output_type": "execute_result",
          "data": {
            "text/plain": [
              "'ahaana'"
            ],
            "application/vnd.google.colaboratory.intrinsic+json": {
              "type": "string"
            }
          },
          "metadata": {},
          "execution_count": 30
        }
      ]
    },
    {
      "cell_type": "code",
      "source": [
        "class studentList:\n",
        "  def __init__(self,name,address,age):\n",
        "    self.name=name\n",
        "    self.address=address\n",
        "    self.age=age\n",
        "    print(\"student Joined\")\n",
        "\n",
        "  def studentdetails(self):\n",
        "    print(\"\\nName: \\t{}\\nAddress:{} \\nAge:\\t{}\\nProjects: \\t{}\\nHome Place:\\t{}\".format(self.name,self.address,self.age,self.work,self.home))\n",
        "    print(\"*************************\")\n",
        "\n",
        "  def work(self,work):\n",
        "    self.work=work\n",
        "    print(\"\\nI'm working in {} projects\".format(self.work))\n",
        "\n",
        "  def Home(self):\n",
        "    self.home=input(\"Enter yout home place:\")\n",
        "    print(\"And my native is {}\".format(self.home))\n",
        "\n",
        "  #def getname(self):\n",
        "    #self.name=name\n",
        "   # print(self.name)\n",
        "    #print(self)\n",
        "\n",
        "\n",
        "\n",
        "\n"
      ],
      "metadata": {
        "id": "8KUNNmbk2JWm"
      },
      "execution_count": null,
      "outputs": []
    },
    {
      "cell_type": "code",
      "source": [
        "student1=studentList('nandhu','bengaluru',30)\n",
        "student2=studentList('usha','salem',31)\n",
        "student3=studentList('ahaana','belur',2)\n",
        "student4=studentList('gokul','r.puram',29)\n",
        "student5=studentList('prakash','belur',30)"
      ],
      "metadata": {
        "id": "t5dVUWfi-b4S",
        "outputId": "b1a0d3af-8183-4011-a1fa-82441b7ad4a8",
        "colab": {
          "base_uri": "https://localhost:8080/"
        }
      },
      "execution_count": null,
      "outputs": [
        {
          "output_type": "stream",
          "name": "stdout",
          "text": [
            "student Joined\n",
            "student Joined\n",
            "student Joined\n",
            "student Joined\n",
            "student Joined\n"
          ]
        }
      ]
    },
    {
      "cell_type": "code",
      "source": [
        "student1.work('ML')\n",
        "student2.work('Django')\n",
        "student3.work('Python')\n",
        "student4.work('SQL')\n",
        "student5.work('Data analyst')"
      ],
      "metadata": {
        "id": "ii1ycl6X55cB",
        "outputId": "6d0c6ec2-3b84-451f-827b-112505c384a1",
        "colab": {
          "base_uri": "https://localhost:8080/"
        }
      },
      "execution_count": null,
      "outputs": [
        {
          "output_type": "stream",
          "name": "stdout",
          "text": [
            "\n",
            "I'm working in ML projects\n",
            "\n",
            "I'm working in Django projects\n",
            "\n",
            "I'm working in Python projects\n",
            "\n",
            "I'm working in SQL projects\n",
            "\n",
            "I'm working in Data analyst projects\n"
          ]
        }
      ]
    },
    {
      "cell_type": "code",
      "source": [
        "student1.Home()\n",
        "student2.Home()\n",
        "student3.Home()\n",
        "student4.Home()\n",
        "student5.Home()"
      ],
      "metadata": {
        "id": "K2cDxrAE8_yb",
        "outputId": "56d4659d-176d-47b5-8c0c-3e49967600e3",
        "colab": {
          "base_uri": "https://localhost:8080/"
        }
      },
      "execution_count": null,
      "outputs": [
        {
          "output_type": "stream",
          "name": "stdout",
          "text": [
            "Enter yout home place:ss\n",
            "And my native is ss\n",
            "Enter yout home place:gger\n",
            "And my native is gger\n",
            "Enter yout home place:gergr\n",
            "And my native is gergr\n",
            "Enter yout home place:dfrfr\n",
            "And my native is dfrfr\n",
            "Enter yout home place:rgre\n",
            "And my native is rgre\n"
          ]
        }
      ]
    },
    {
      "cell_type": "code",
      "source": [
        "student1.studentdetails()"
      ],
      "metadata": {
        "id": "4ZYh1Fbi7lk0",
        "outputId": "85e6c886-506a-48dd-e386-90b94a45b267",
        "colab": {
          "base_uri": "https://localhost:8080/"
        }
      },
      "execution_count": null,
      "outputs": [
        {
          "output_type": "stream",
          "name": "stdout",
          "text": [
            "\n",
            "Name: \tnandhu\n",
            "Address:bengaluru \n",
            "Age:\t30\n",
            "Projects: \tML\n",
            "Home Place:\tss\n",
            "*************************\n"
          ]
        }
      ]
    },
    {
      "cell_type": "code",
      "source": [
        "student1.getname()"
      ],
      "metadata": {
        "id": "wU_0eANk_m7Y",
        "outputId": "5c7a5280-66ba-4a7e-8538-abe54823e8bf",
        "colab": {
          "base_uri": "https://localhost:8080/"
        }
      },
      "execution_count": null,
      "outputs": [
        {
          "output_type": "stream",
          "name": "stdout",
          "text": [
            "nandhu\n",
            "<__main__.studentList object at 0x79b9c3829660>\n"
          ]
        }
      ]
    },
    {
      "cell_type": "code",
      "source": [
        "stud_lis=[student1,student2,student3,student4,student5]\n",
        "\n",
        "for students in stud_lis:\n",
        "  students.studentdetails()\n"
      ],
      "metadata": {
        "id": "uEBN1cLi72AO",
        "outputId": "67a5c258-0124-4436-d17f-9f41a2750144",
        "colab": {
          "base_uri": "https://localhost:8080/"
        }
      },
      "execution_count": null,
      "outputs": [
        {
          "output_type": "stream",
          "name": "stdout",
          "text": [
            "\n",
            "Name: \tnandhu\n",
            "Address:bengaluru \n",
            "Age:\t30\n",
            "Projects: \tML\n",
            "Home Place:\tss\n",
            "*************************\n",
            "\n",
            "Name: \tusha\n",
            "Address:salem \n",
            "Age:\t31\n",
            "Projects: \tDjango\n",
            "Home Place:\tgger\n",
            "*************************\n",
            "\n",
            "Name: \tahaana\n",
            "Address:belur \n",
            "Age:\t2\n",
            "Projects: \tPython\n",
            "Home Place:\tgergr\n",
            "*************************\n",
            "\n",
            "Name: \tgokul\n",
            "Address:r.puram \n",
            "Age:\t29\n",
            "Projects: \tSQL\n",
            "Home Place:\tdfrfr\n",
            "*************************\n",
            "\n",
            "Name: \tprakash\n",
            "Address:belur \n",
            "Age:\t30\n",
            "Projects: \tData analyst\n",
            "Home Place:\trgre\n",
            "*************************\n"
          ]
        }
      ]
    },
    {
      "cell_type": "code",
      "source": [
        "student1.work\n"
      ],
      "metadata": {
        "id": "hwZvcWwY3vFB",
        "outputId": "1ca1329d-6d9e-4efd-b3f1-5c27ccfe9df0",
        "colab": {
          "base_uri": "https://localhost:8080/",
          "height": 36
        }
      },
      "execution_count": null,
      "outputs": [
        {
          "output_type": "execute_result",
          "data": {
            "text/plain": [
              "'ML'"
            ],
            "application/vnd.google.colaboratory.intrinsic+json": {
              "type": "string"
            }
          },
          "metadata": {},
          "execution_count": 90
        }
      ]
    },
    {
      "cell_type": "code",
      "source": [
        "student2.name"
      ],
      "metadata": {
        "id": "XfgvOAF23xPG",
        "outputId": "aab0eca6-1bfe-413d-a79e-950177af3b8a",
        "colab": {
          "base_uri": "https://localhost:8080/",
          "height": 36
        }
      },
      "execution_count": null,
      "outputs": [
        {
          "output_type": "execute_result",
          "data": {
            "text/plain": [
              "'usha'"
            ],
            "application/vnd.google.colaboratory.intrinsic+json": {
              "type": "string"
            }
          },
          "metadata": {},
          "execution_count": 91
        }
      ]
    },
    {
      "cell_type": "code",
      "source": [
        "student3.Home() #it will update the value"
      ],
      "metadata": {
        "id": "k_loGalb4I99",
        "outputId": "8efc7f25-1d28-40c2-991f-54732665b84c",
        "colab": {
          "base_uri": "https://localhost:8080/"
        }
      },
      "execution_count": null,
      "outputs": [
        {
          "output_type": "stream",
          "name": "stdout",
          "text": [
            "Enter yout home place:thatha\n",
            "And my native is thatha\n"
          ]
        }
      ]
    },
    {
      "cell_type": "code",
      "source": [
        "student3.studentdetails()"
      ],
      "metadata": {
        "id": "_v48E8TIAWh1",
        "outputId": "e2140388-d684-4b45-c881-d362060b4d87",
        "colab": {
          "base_uri": "https://localhost:8080/"
        }
      },
      "execution_count": null,
      "outputs": [
        {
          "output_type": "stream",
          "name": "stdout",
          "text": [
            "\n",
            "Name: \tahaana\n",
            "Address:belur \n",
            "Age:\t2\n",
            "Projects: \tPython\n",
            "Home Place:\tthatha\n",
            "*************************\n"
          ]
        }
      ]
    },
    {
      "cell_type": "code",
      "source": [
        "student5.home #home()function will update the value of home and student5.home is used to know the value of home in student5"
      ],
      "metadata": {
        "id": "BDp6gce-4EVZ",
        "outputId": "a6a9dd87-2e9c-4922-d2cf-47b2593b0454",
        "colab": {
          "base_uri": "https://localhost:8080/",
          "height": 36
        }
      },
      "execution_count": null,
      "outputs": [
        {
          "output_type": "execute_result",
          "data": {
            "text/plain": [
              "'rgre'"
            ],
            "application/vnd.google.colaboratory.intrinsic+json": {
              "type": "string"
            }
          },
          "metadata": {},
          "execution_count": 121
        }
      ]
    },
    {
      "cell_type": "code",
      "source": [
        "class Animal:\n",
        "  place=\"Forest\"\n",
        "  def __init__(self,name):\n",
        "    self.name=name\n",
        "    print(self.name)\n",
        "\n",
        "  def getdata(self):\n",
        "    my_data=self.name\n",
        "    return my_data\n",
        "\n",
        "a1=Animal(\"dog\")\n"
      ],
      "metadata": {
        "id": "M87EwjS-FHu6",
        "outputId": "302f8f88-bc12-4f2a-9642-b79366b90762",
        "colab": {
          "base_uri": "https://localhost:8080/"
        }
      },
      "execution_count": 2,
      "outputs": [
        {
          "output_type": "stream",
          "name": "stdout",
          "text": [
            "dog\n"
          ]
        }
      ]
    },
    {
      "cell_type": "code",
      "source": [
        "d=Animal('cat')\n",
        "r=d.getdata()"
      ],
      "metadata": {
        "colab": {
          "base_uri": "https://localhost:8080/"
        },
        "id": "eF6rgGp8vg_P",
        "outputId": "51224a6d-1fee-41d4-fc0f-83c27ccfa3f3"
      },
      "execution_count": 3,
      "outputs": [
        {
          "output_type": "stream",
          "name": "stdout",
          "text": [
            "cat\n"
          ]
        }
      ]
    },
    {
      "cell_type": "code",
      "source": [
        "r"
      ],
      "metadata": {
        "colab": {
          "base_uri": "https://localhost:8080/",
          "height": 36
        },
        "id": "cTk72TOAvtaw",
        "outputId": "8177f27f-7702-4d91-ecf8-e3a4cc075746"
      },
      "execution_count": 6,
      "outputs": [
        {
          "output_type": "execute_result",
          "data": {
            "text/plain": [
              "'cat'"
            ],
            "application/vnd.google.colaboratory.intrinsic+json": {
              "type": "string"
            }
          },
          "metadata": {},
          "execution_count": 6
        }
      ]
    },
    {
      "cell_type": "code",
      "source": [
        "a1.name"
      ],
      "metadata": {
        "id": "E5-0Rf2xFjqv",
        "outputId": "35e044e0-2fd6-45a2-d0c0-a9597b8594fe",
        "colab": {
          "base_uri": "https://localhost:8080/",
          "height": 36
        }
      },
      "execution_count": null,
      "outputs": [
        {
          "output_type": "execute_result",
          "data": {
            "text/plain": [
              "'dog'"
            ],
            "application/vnd.google.colaboratory.intrinsic+json": {
              "type": "string"
            }
          },
          "metadata": {},
          "execution_count": 194
        }
      ]
    },
    {
      "cell_type": "code",
      "source": [
        "a1.place"
      ],
      "metadata": {
        "id": "MIPJqydLFnSp",
        "outputId": "803f919c-7145-4b7d-e68b-01850506304f",
        "colab": {
          "base_uri": "https://localhost:8080/",
          "height": 36
        }
      },
      "execution_count": null,
      "outputs": [
        {
          "output_type": "execute_result",
          "data": {
            "text/plain": [
              "'Forest'"
            ],
            "application/vnd.google.colaboratory.intrinsic+json": {
              "type": "string"
            }
          },
          "metadata": {},
          "execution_count": 195
        }
      ]
    },
    {
      "cell_type": "code",
      "source": [
        "a2=Animal('Cat')"
      ],
      "metadata": {
        "id": "wG2ZTM-zFq0e",
        "outputId": "2d2732a2-c983-4679-8fce-ffc7c3e3481a",
        "colab": {
          "base_uri": "https://localhost:8080/"
        }
      },
      "execution_count": null,
      "outputs": [
        {
          "output_type": "stream",
          "name": "stdout",
          "text": [
            "Cat\n"
          ]
        }
      ]
    },
    {
      "cell_type": "code",
      "source": [
        "a2.place"
      ],
      "metadata": {
        "id": "oH9XN1E2Fu7h",
        "outputId": "5fc12e61-92ab-4f0d-d739-538f9e1d2043",
        "colab": {
          "base_uri": "https://localhost:8080/",
          "height": 36
        }
      },
      "execution_count": null,
      "outputs": [
        {
          "output_type": "execute_result",
          "data": {
            "text/plain": [
              "'Forest'"
            ],
            "application/vnd.google.colaboratory.intrinsic+json": {
              "type": "string"
            }
          },
          "metadata": {},
          "execution_count": 197
        }
      ]
    },
    {
      "cell_type": "code",
      "source": [
        "a2.place='pet home'"
      ],
      "metadata": {
        "id": "roXxlxvPFyGB"
      },
      "execution_count": null,
      "outputs": []
    },
    {
      "cell_type": "code",
      "source": [
        "a2.place #temporarly it will change means loacl value but it will not affect with a1 object and once again if we run the code it will automatically changed into forest y because that is the normal value of place instance"
      ],
      "metadata": {
        "id": "bT0pAD8kF3lc",
        "outputId": "2cc578d4-ec48-4f62-b7f3-00bc2f3cae91",
        "colab": {
          "base_uri": "https://localhost:8080/",
          "height": 36
        }
      },
      "execution_count": null,
      "outputs": [
        {
          "output_type": "execute_result",
          "data": {
            "text/plain": [
              "'pet home'"
            ],
            "application/vnd.google.colaboratory.intrinsic+json": {
              "type": "string"
            }
          },
          "metadata": {},
          "execution_count": 199
        }
      ]
    },
    {
      "cell_type": "code",
      "source": [
        "a1.__class__.place"
      ],
      "metadata": {
        "id": "ak8jv--JHvdQ",
        "outputId": "1d1436e0-c868-4686-c0dd-206082bcd22e",
        "colab": {
          "base_uri": "https://localhost:8080/",
          "height": 36
        }
      },
      "execution_count": null,
      "outputs": [
        {
          "output_type": "execute_result",
          "data": {
            "text/plain": [
              "'Forest'"
            ],
            "application/vnd.google.colaboratory.intrinsic+json": {
              "type": "string"
            }
          },
          "metadata": {},
          "execution_count": 201
        }
      ]
    },
    {
      "cell_type": "code",
      "source": [
        "a1.__class__.place='pet animal'"
      ],
      "metadata": {
        "id": "h2DuXs9lGR14"
      },
      "execution_count": null,
      "outputs": []
    },
    {
      "cell_type": "code",
      "source": [
        "a2.__class__.place"
      ],
      "metadata": {
        "id": "xeOhbSPSH6Ij",
        "outputId": "6a271068-83f5-403b-da16-ef3f068b831d",
        "colab": {
          "base_uri": "https://localhost:8080/",
          "height": 36
        }
      },
      "execution_count": null,
      "outputs": [
        {
          "output_type": "execute_result",
          "data": {
            "text/plain": [
              "'pet animal'"
            ],
            "application/vnd.google.colaboratory.intrinsic+json": {
              "type": "string"
            }
          },
          "metadata": {},
          "execution_count": 204
        }
      ]
    },
    {
      "cell_type": "code",
      "source": [
        "a2.place #we changed as local value in a1 but a2 also changed this is the way to change the class attribute value permanently"
      ],
      "metadata": {
        "id": "NOFL-uqXGZeb",
        "outputId": "5e5b53ac-3160-4c9e-afb6-a5c1630f4fe5",
        "colab": {
          "base_uri": "https://localhost:8080/",
          "height": 36
        }
      },
      "execution_count": null,
      "outputs": [
        {
          "output_type": "execute_result",
          "data": {
            "text/plain": [
              "'pet home'"
            ],
            "application/vnd.google.colaboratory.intrinsic+json": {
              "type": "string"
            }
          },
          "metadata": {},
          "execution_count": 205
        }
      ]
    },
    {
      "cell_type": "code",
      "source": [
        "del a1.name"
      ],
      "metadata": {
        "id": "OAqjSYF9HGg9"
      },
      "execution_count": null,
      "outputs": []
    },
    {
      "cell_type": "code",
      "source": [
        "a2.name"
      ],
      "metadata": {
        "id": "GJumhek1HI5g",
        "outputId": "e12408e9-a9b5-4cae-b360-0fff3fe9fbfd",
        "colab": {
          "base_uri": "https://localhost:8080/",
          "height": 36
        }
      },
      "execution_count": null,
      "outputs": [
        {
          "output_type": "execute_result",
          "data": {
            "text/plain": [
              "'Cat'"
            ],
            "application/vnd.google.colaboratory.intrinsic+json": {
              "type": "string"
            }
          },
          "metadata": {},
          "execution_count": 207
        }
      ]
    },
    {
      "cell_type": "code",
      "source": [
        "a2.name=\"monkey\" #instance attribute can easily change like this"
      ],
      "metadata": {
        "id": "Vqttr0aXHLB2"
      },
      "execution_count": null,
      "outputs": []
    },
    {
      "cell_type": "code",
      "source": [
        "a2.name"
      ],
      "metadata": {
        "id": "vtIgC0ESHdgt",
        "outputId": "841879e8-ae66-418e-a686-f573cb8271f9",
        "colab": {
          "base_uri": "https://localhost:8080/",
          "height": 36
        }
      },
      "execution_count": null,
      "outputs": [
        {
          "output_type": "execute_result",
          "data": {
            "text/plain": [
              "'monkey'"
            ],
            "application/vnd.google.colaboratory.intrinsic+json": {
              "type": "string"
            }
          },
          "metadata": {},
          "execution_count": 209
        }
      ]
    },
    {
      "cell_type": "code",
      "source": [
        "a1.name #we deleted the a1.name value"
      ],
      "metadata": {
        "id": "EB8qg7IlHN6D",
        "outputId": "c3c3674d-dc66-4b40-9e54-73e357e98ed7",
        "colab": {
          "base_uri": "https://localhost:8080/",
          "height": 175
        }
      },
      "execution_count": null,
      "outputs": [
        {
          "output_type": "error",
          "ename": "AttributeError",
          "evalue": "ignored",
          "traceback": [
            "\u001b[0;31m---------------------------------------------------------------------------\u001b[0m",
            "\u001b[0;31mAttributeError\u001b[0m                            Traceback (most recent call last)",
            "\u001b[0;32m<ipython-input-210-5e2dc35e37da>\u001b[0m in \u001b[0;36m<cell line: 1>\u001b[0;34m()\u001b[0m\n\u001b[0;32m----> 1\u001b[0;31m \u001b[0ma1\u001b[0m\u001b[0;34m.\u001b[0m\u001b[0mname\u001b[0m \u001b[0;31m#we deleted the a1.name value\u001b[0m\u001b[0;34m\u001b[0m\u001b[0;34m\u001b[0m\u001b[0m\n\u001b[0m",
            "\u001b[0;31mAttributeError\u001b[0m: 'Animal' object has no attribute 'name'"
          ]
        }
      ]
    },
    {
      "cell_type": "code",
      "source": [
        "class person:\n",
        "  def __init__(self,name):\n",
        "    self.name=name\n",
        "    print(self.name)\n",
        "\n",
        "  def showname(self):\n",
        "    print(\"my name is {}\".format(self.name))\n",
        "\n",
        "  def __del__(self): #destructor delete the entire object\n",
        "    print(\"My name is deleted\")\n"
      ],
      "metadata": {
        "id": "mi79jEheNgK7"
      },
      "execution_count": 1,
      "outputs": []
    },
    {
      "cell_type": "code",
      "source": [
        "c=person('nandhu')"
      ],
      "metadata": {
        "colab": {
          "base_uri": "https://localhost:8080/"
        },
        "id": "EJANvK9kKP8A",
        "outputId": "7a82ce7a-3170-4d69-afc8-a332ecec295d"
      },
      "execution_count": 8,
      "outputs": [
        {
          "output_type": "stream",
          "name": "stdout",
          "text": [
            "nandhu\n"
          ]
        }
      ]
    },
    {
      "cell_type": "code",
      "source": [
        "c.showname()"
      ],
      "metadata": {
        "colab": {
          "base_uri": "https://localhost:8080/"
        },
        "id": "USnR8wXQKYTn",
        "outputId": "32429c14-f226-4652-f146-c60f59d467fa"
      },
      "execution_count": 9,
      "outputs": [
        {
          "output_type": "stream",
          "name": "stdout",
          "text": [
            "my name is nandhu\n"
          ]
        }
      ]
    },
    {
      "cell_type": "code",
      "source": [
        "del c"
      ],
      "metadata": {
        "colab": {
          "base_uri": "https://localhost:8080/"
        },
        "id": "sIiWQFO7Ka7J",
        "outputId": "c3762817-e50c-4163-ff99-f80062ed901b"
      },
      "execution_count": 10,
      "outputs": [
        {
          "output_type": "stream",
          "name": "stdout",
          "text": [
            "My name is deleted\n"
          ]
        }
      ]
    },
    {
      "cell_type": "code",
      "source": [
        "c.showname()"
      ],
      "metadata": {
        "colab": {
          "base_uri": "https://localhost:8080/",
          "height": 175
        },
        "id": "4QS0F6PEKntv",
        "outputId": "965248e5-9ec9-4051-d9a4-ebed5f12271a"
      },
      "execution_count": 11,
      "outputs": [
        {
          "output_type": "error",
          "ename": "NameError",
          "evalue": "ignored",
          "traceback": [
            "\u001b[0;31m---------------------------------------------------------------------------\u001b[0m",
            "\u001b[0;31mNameError\u001b[0m                                 Traceback (most recent call last)",
            "\u001b[0;32m<ipython-input-11-8eddc7240d66>\u001b[0m in \u001b[0;36m<cell line: 1>\u001b[0;34m()\u001b[0m\n\u001b[0;32m----> 1\u001b[0;31m \u001b[0mc\u001b[0m\u001b[0;34m.\u001b[0m\u001b[0mshowname\u001b[0m\u001b[0;34m(\u001b[0m\u001b[0;34m)\u001b[0m\u001b[0;34m\u001b[0m\u001b[0;34m\u001b[0m\u001b[0m\n\u001b[0m",
            "\u001b[0;31mNameError\u001b[0m: name 'c' is not defined"
          ]
        }
      ]
    },
    {
      "cell_type": "code",
      "source": [
        "n=person('usha')\n",
        "n.showname()\n"
      ],
      "metadata": {
        "colab": {
          "base_uri": "https://localhost:8080/"
        },
        "id": "I3jFSkLPLDhm",
        "outputId": "beb1695f-3786-41c6-e4f2-77615ae17836"
      },
      "execution_count": 15,
      "outputs": [
        {
          "output_type": "stream",
          "name": "stdout",
          "text": [
            "usha\n",
            "my name is usha\n"
          ]
        }
      ]
    },
    {
      "cell_type": "code",
      "source": [
        "del n.name"
      ],
      "metadata": {
        "id": "kp5qD0KNLcc3"
      },
      "execution_count": 16,
      "outputs": []
    },
    {
      "cell_type": "code",
      "source": [
        "n # the object is there we deleted the name, if we try to print name it will raise an error like, object has no atribute."
      ],
      "metadata": {
        "colab": {
          "base_uri": "https://localhost:8080/"
        },
        "id": "UbC5P_BMLidX",
        "outputId": "1eca75ef-f192-4c1f-94f7-551e442b95d5"
      },
      "execution_count": 18,
      "outputs": [
        {
          "output_type": "execute_result",
          "data": {
            "text/plain": [
              "<__main__.person at 0x79ba95e08af0>"
            ]
          },
          "metadata": {},
          "execution_count": 18
        }
      ]
    },
    {
      "cell_type": "code",
      "source": [
        "#encapsulation\n",
        "\n",
        "class student:\n",
        "  def __init__(abc,name,dept,yop):\n",
        "    abc.name=name #its public instance anyone can access\n",
        "    abc.__dept=dept #private instance no one can access inside the class we can access\n",
        "    abc._yop=yop #inheritance which means class and subclass can access\n",
        "\n",
        "  def showstu(self):\n",
        "    print(\"\\nName:\\t{}\\nDepartment:{}\".format(self.name,self.__dept))\n",
        "\n",
        "  def yop(self):\n",
        "    print(\"\\nYear of passing:{}\".format(self._yop))"
      ],
      "metadata": {
        "id": "LR3C7hHYNitC"
      },
      "execution_count": 24,
      "outputs": []
    },
    {
      "cell_type": "code",
      "source": [
        "class Juniorstud(student): #subclass student class single and direct inheritance\n",
        "  pass\n"
      ],
      "metadata": {
        "id": "fSH9_LjoO-VB"
      },
      "execution_count": 25,
      "outputs": []
    },
    {
      "cell_type": "code",
      "source": [
        "c=student('usha','ece',2014)"
      ],
      "metadata": {
        "id": "JCayWLaiPO4q"
      },
      "execution_count": 26,
      "outputs": []
    },
    {
      "cell_type": "code",
      "source": [
        "c.showstu()"
      ],
      "metadata": {
        "colab": {
          "base_uri": "https://localhost:8080/"
        },
        "id": "0zVZ3Ax7PU40",
        "outputId": "1dab1ff9-7819-4148-f525-dcbed274faa9"
      },
      "execution_count": 27,
      "outputs": [
        {
          "output_type": "stream",
          "name": "stdout",
          "text": [
            "\n",
            "Name:\tusha\n",
            "Department:ece\n"
          ]
        }
      ]
    },
    {
      "cell_type": "code",
      "source": [
        "c.yop()"
      ],
      "metadata": {
        "colab": {
          "base_uri": "https://localhost:8080/"
        },
        "id": "Z1Nkipl8Ph7m",
        "outputId": "3dd23367-ec61-4f46-a513-f5b6b495f5d3"
      },
      "execution_count": 28,
      "outputs": [
        {
          "output_type": "stream",
          "name": "stdout",
          "text": [
            "\n",
            "Year of passing:2014\n"
          ]
        }
      ]
    },
    {
      "cell_type": "code",
      "source": [
        "c.name"
      ],
      "metadata": {
        "colab": {
          "base_uri": "https://localhost:8080/",
          "height": 36
        },
        "id": "Cof_qdo5Pk_G",
        "outputId": "dfca9f61-4398-4c47-c96d-e91526286c3a"
      },
      "execution_count": 29,
      "outputs": [
        {
          "output_type": "execute_result",
          "data": {
            "text/plain": [
              "'usha'"
            ],
            "application/vnd.google.colaboratory.intrinsic+json": {
              "type": "string"
            }
          },
          "metadata": {},
          "execution_count": 29
        }
      ]
    },
    {
      "cell_type": "code",
      "source": [
        "c._yop"
      ],
      "metadata": {
        "colab": {
          "base_uri": "https://localhost:8080/"
        },
        "id": "2CYI8cqfPoWU",
        "outputId": "697f5c83-9669-4f54-ff07-2a420c0427bd"
      },
      "execution_count": 31,
      "outputs": [
        {
          "output_type": "execute_result",
          "data": {
            "text/plain": [
              "2014"
            ]
          },
          "metadata": {},
          "execution_count": 31
        }
      ]
    },
    {
      "cell_type": "code",
      "source": [
        "c.__dept #we cant access outside of class"
      ],
      "metadata": {
        "colab": {
          "base_uri": "https://localhost:8080/",
          "height": 175
        },
        "id": "d8SK2zVePvBn",
        "outputId": "209985f2-13a3-4fe6-f8e7-87f9fc3c3e09"
      },
      "execution_count": 32,
      "outputs": [
        {
          "output_type": "error",
          "ename": "AttributeError",
          "evalue": "ignored",
          "traceback": [
            "\u001b[0;31m---------------------------------------------------------------------------\u001b[0m",
            "\u001b[0;31mAttributeError\u001b[0m                            Traceback (most recent call last)",
            "\u001b[0;32m<ipython-input-32-e244f834974e>\u001b[0m in \u001b[0;36m<cell line: 1>\u001b[0;34m()\u001b[0m\n\u001b[0;32m----> 1\u001b[0;31m \u001b[0mc\u001b[0m\u001b[0;34m.\u001b[0m\u001b[0m__dept\u001b[0m\u001b[0;34m\u001b[0m\u001b[0;34m\u001b[0m\u001b[0m\n\u001b[0m",
            "\u001b[0;31mAttributeError\u001b[0m: 'student' object has no attribute '__dept'"
          ]
        }
      ]
    },
    {
      "cell_type": "code",
      "source": [
        "c2=Juniorstud('nandhu','EEE',2014)\n",
        "c2.showstu()\n",
        "c2.yop()"
      ],
      "metadata": {
        "colab": {
          "base_uri": "https://localhost:8080/"
        },
        "id": "D9jFrAT2P3Wn",
        "outputId": "5ca71b76-5adc-46f9-b6c5-e524aab3f6ce"
      },
      "execution_count": 35,
      "outputs": [
        {
          "output_type": "stream",
          "name": "stdout",
          "text": [
            "\n",
            "Name:\tnandhu\n",
            "Department:EEE\n",
            "\n",
            "Year of passing:2014\n"
          ]
        }
      ]
    },
    {
      "cell_type": "code",
      "source": [
        "c2._yop #its an subclass of student private instance acn access"
      ],
      "metadata": {
        "colab": {
          "base_uri": "https://localhost:8080/"
        },
        "id": "QYRJN8gqQJVV",
        "outputId": "716f411d-fcdb-4828-f458-809aa0abaab7"
      },
      "execution_count": 36,
      "outputs": [
        {
          "output_type": "execute_result",
          "data": {
            "text/plain": [
              "2014"
            ]
          },
          "metadata": {},
          "execution_count": 36
        }
      ]
    },
    {
      "cell_type": "code",
      "source": [
        "c2.__dept"
      ],
      "metadata": {
        "colab": {
          "base_uri": "https://localhost:8080/",
          "height": 175
        },
        "id": "OZ-5NAWWQRxC",
        "outputId": "4580bd2a-216c-400d-c717-e6e4fc6e8932"
      },
      "execution_count": 37,
      "outputs": [
        {
          "output_type": "error",
          "ename": "AttributeError",
          "evalue": "ignored",
          "traceback": [
            "\u001b[0;31m---------------------------------------------------------------------------\u001b[0m",
            "\u001b[0;31mAttributeError\u001b[0m                            Traceback (most recent call last)",
            "\u001b[0;32m<ipython-input-37-8f657bba7439>\u001b[0m in \u001b[0;36m<cell line: 1>\u001b[0;34m()\u001b[0m\n\u001b[0;32m----> 1\u001b[0;31m \u001b[0mc2\u001b[0m\u001b[0;34m.\u001b[0m\u001b[0m__dept\u001b[0m\u001b[0;34m\u001b[0m\u001b[0;34m\u001b[0m\u001b[0m\n\u001b[0m",
            "\u001b[0;31mAttributeError\u001b[0m: 'Juniorstud' object has no attribute '__dept'"
          ]
        }
      ]
    },
    {
      "cell_type": "code",
      "source": [
        "c2._student__dept #we can access the private instance by this syntax"
      ],
      "metadata": {
        "colab": {
          "base_uri": "https://localhost:8080/",
          "height": 36
        },
        "id": "q8ZZ1jGTR2lW",
        "outputId": "ee6eaac3-0de9-4fed-9dc3-dbf5f252f3e7"
      },
      "execution_count": 40,
      "outputs": [
        {
          "output_type": "execute_result",
          "data": {
            "text/plain": [
              "'EEE'"
            ],
            "application/vnd.google.colaboratory.intrinsic+json": {
              "type": "string"
            }
          },
          "metadata": {},
          "execution_count": 40
        }
      ]
    },
    {
      "cell_type": "code",
      "source": [
        "#pin generator\n",
        "\n",
        "class pingenerator():\n",
        "  def __init__(self):\n",
        "    self.__pin=1234\n",
        "#setter\n",
        "  def setpin(self):\n",
        "    otp=int(input(\"enter your otp:\"))\n",
        "    if otp==123456:\n",
        "      self.__pin =int(input(\"Enter your new pin:\"))\n",
        "      print(\"Pin resetted successfully\")\n",
        "    else:\n",
        "      print(\"Enter correct credentials\")\n",
        "\n",
        "#getters\n",
        "  def getpin(self):\n",
        "    print(\"Your updated pin:\",self.__pin)\n"
      ],
      "metadata": {
        "id": "-ME1wc4OS-I6"
      },
      "execution_count": 54,
      "outputs": []
    },
    {
      "cell_type": "code",
      "source": [
        "pg=pingenerator()"
      ],
      "metadata": {
        "id": "Sv5dkdTpUFhF"
      },
      "execution_count": 55,
      "outputs": []
    },
    {
      "cell_type": "code",
      "source": [
        "pg.getpin()"
      ],
      "metadata": {
        "colab": {
          "base_uri": "https://localhost:8080/"
        },
        "id": "VG7SxfBZUqvk",
        "outputId": "64261f15-6652-472d-844b-cb1694cea072"
      },
      "execution_count": 56,
      "outputs": [
        {
          "output_type": "stream",
          "name": "stdout",
          "text": [
            "Your updated pin: 1234\n"
          ]
        }
      ]
    },
    {
      "cell_type": "code",
      "source": [
        "pg.setpin()"
      ],
      "metadata": {
        "colab": {
          "base_uri": "https://localhost:8080/"
        },
        "id": "PSyDhbT-UTkF",
        "outputId": "99ecda7c-830f-47a2-e8ce-6449ff8b2f52"
      },
      "execution_count": 57,
      "outputs": [
        {
          "output_type": "stream",
          "name": "stdout",
          "text": [
            "enter your otp:123456\n",
            "Enter your new pin:2589\n",
            "Pin resetted successfully\n"
          ]
        }
      ]
    },
    {
      "cell_type": "code",
      "source": [
        "pg.getpin()"
      ],
      "metadata": {
        "colab": {
          "base_uri": "https://localhost:8080/"
        },
        "id": "5L9cVhm0UlVg",
        "outputId": "58599cd5-b817-454a-e5cb-43eec6cf6c14"
      },
      "execution_count": 58,
      "outputs": [
        {
          "output_type": "stream",
          "name": "stdout",
          "text": [
            "Your updated pin: 2589\n"
          ]
        }
      ]
    },
    {
      "cell_type": "code",
      "source": [
        "pg._pingenerator__pin"
      ],
      "metadata": {
        "colab": {
          "base_uri": "https://localhost:8080/"
        },
        "id": "pT1O2l-rU22O",
        "outputId": "44cb9539-cabf-4294-9856-8f8024e4536e"
      },
      "execution_count": 59,
      "outputs": [
        {
          "output_type": "execute_result",
          "data": {
            "text/plain": [
              "2589"
            ]
          },
          "metadata": {},
          "execution_count": 59
        }
      ]
    },
    {
      "cell_type": "code",
      "source": [
        "#inheritance and super keyword\n",
        "class Forest():\n",
        "  def __init__(self):\n",
        "    print(\"Forest created\")\n",
        "class Animal(Forest):\n",
        "  def __init__(self):\n",
        "    #super().__init__() #super keyword is used to call immediate base class if i call here it will print forest created\n",
        "    Forest.__init__(self)\n",
        "    print(\"Animal created\")\n",
        "  def whoami(self):\n",
        "    print(\"Animal\")\n",
        "  def eat(self):\n",
        "    print(\"Eating\")\n",
        "\n",
        "\n",
        "class Dog(Animal):\n",
        "  def __init__(self):\n",
        "    Animal.__init__(self)\n",
        "    super().__init__() #if i call here it will animal created two times because of animal class initated here\n",
        "    print(\"Dog created\")\n",
        "  def whoami(self):\n",
        "    print(\"Dog\")\n",
        "\n",
        "  def bark(self):\n",
        "    print(\"woof woof\")\n",
        "    super().whoami() #it will call immediate class's whoami function\n"
      ],
      "metadata": {
        "id": "Wb9rSvSKZCW6"
      },
      "execution_count": 91,
      "outputs": []
    },
    {
      "cell_type": "code",
      "source": [
        "d=Dog()\n"
      ],
      "metadata": {
        "colab": {
          "base_uri": "https://localhost:8080/"
        },
        "id": "EAATv2TIZ2EC",
        "outputId": "d5043478-d397-498b-9838-830c50c71cf9"
      },
      "execution_count": 87,
      "outputs": [
        {
          "output_type": "stream",
          "name": "stdout",
          "text": [
            "Forest created\n",
            "Animal created\n",
            "Forest created\n",
            "Animal created\n",
            "Dog created\n"
          ]
        }
      ]
    },
    {
      "cell_type": "code",
      "source": [
        "d.whoami() #method overriding both class has whoami function it will print the recent element of dof class"
      ],
      "metadata": {
        "colab": {
          "base_uri": "https://localhost:8080/"
        },
        "id": "wXbJoymwjPu-",
        "outputId": "925fb3f7-30bd-4f86-94ec-33aee115187a"
      },
      "execution_count": 93,
      "outputs": [
        {
          "output_type": "stream",
          "name": "stdout",
          "text": [
            "Dog\n"
          ]
        }
      ]
    },
    {
      "cell_type": "code",
      "source": [
        "d.eat() #its not dog class so its print from animal class\n"
      ],
      "metadata": {
        "colab": {
          "base_uri": "https://localhost:8080/"
        },
        "id": "EiGjmNh-jgxB",
        "outputId": "35742643-5532-4882-c19a-5bae3d85fe9d"
      },
      "execution_count": 92,
      "outputs": [
        {
          "output_type": "stream",
          "name": "stdout",
          "text": [
            "Eating\n"
          ]
        }
      ]
    },
    {
      "cell_type": "code",
      "source": [
        "d.bark() #animal is printing because its in immediate whoami function value"
      ],
      "metadata": {
        "colab": {
          "base_uri": "https://localhost:8080/"
        },
        "id": "BQZckk8EkjKW",
        "outputId": "29b23b8e-f54c-4742-83e5-565af6fabd8c"
      },
      "execution_count": 94,
      "outputs": [
        {
          "output_type": "stream",
          "name": "stdout",
          "text": [
            "woof woof\n",
            "Animal\n"
          ]
        }
      ]
    },
    {
      "cell_type": "code",
      "source": [
        "#two base one sub class called multiple inheritance\n",
        "class Personal:\n",
        "  def Personal_info(self,name,age):\n",
        "    self.name=name\n",
        "    self.age=age\n",
        "    print(\"\\nPersonal Info\\nName:\\t{}\\nAge:\\t{}\".format(self.name,self.age))\n",
        "\n",
        "class Official:\n",
        "  def Employee_info(self,designation,skill):\n",
        "    self.designation=designation\n",
        "    self.skill=skill\n",
        "    print(\"\\nEmployee Info\\nDesignation:\\t{}\\nSkill:\\t{}\".format(self.designation,self.skill))\n",
        "\n",
        "class Package(Personal,Official): #two base one sub class called multiple inheritance\n",
        "  def Package(self,package):\n",
        "    self.package=package\n",
        "    self.eop=package*12\n",
        "    print(\"\\nSalary Info\\nPackage:\\t{}\\nEOP:\\t{}\".format(self.package,self.eop))\n",
        "\n"
      ],
      "metadata": {
        "id": "SIA7HG8RBYMR"
      },
      "execution_count": 1,
      "outputs": []
    },
    {
      "cell_type": "code",
      "source": [
        "emp=Package()"
      ],
      "metadata": {
        "id": "W5fDZ5B5DVwC"
      },
      "execution_count": 2,
      "outputs": []
    },
    {
      "cell_type": "code",
      "source": [
        "emp.Personal_info('usha',30)\n",
        "emp.Employee_info(\"developer\",'python')\n",
        "emp.Package(55000)"
      ],
      "metadata": {
        "colab": {
          "base_uri": "https://localhost:8080/"
        },
        "id": "2wWXa6sZDaV5",
        "outputId": "9593ed10-ab2a-4630-d735-c3329c0a3bb2"
      },
      "execution_count": 4,
      "outputs": [
        {
          "output_type": "stream",
          "name": "stdout",
          "text": [
            "\n",
            "Personal Info\n",
            "Name:\tusha\n",
            "Age:\t30\n",
            "\n",
            "Employee Info\n",
            "Designation:\tdeveloper\n",
            "Skill:\tpython\n",
            "\n",
            "Salary Info\n",
            "Package:\t55000\n",
            "EOP:\t660000\n"
          ]
        }
      ]
    },
    {
      "cell_type": "code",
      "source": [
        "#multilevel inhertance which is one one grandparent parent and son type of inheritance\n",
        "\n",
        "class grandparent():\n",
        "  def thatha(self,t_name,p_name):\n",
        "    self.t_name=t_name\n",
        "    self.p_name= p_name\n",
        "\n",
        "class parent(grandparent):\n",
        "  def appa(self,ap_name,am_name):\n",
        "    self.ap_name=ap_name\n",
        "    self.am_name=am_name\n",
        "\n",
        "class me(parent):\n",
        "  def me(self,my_name,hus_name):\n",
        "    self.my_name=my_name\n",
        "    self.hus_name=hus_name\n",
        "    print(\"My Family Details\\nThatha:\\t{}\\nAyya:\\t{}\\nAppa:\\t{}\\nAmma:\\t{}\\nMe:\\t{}\\nMy Husband:{}\\t\".format(self.t_name,self.p_name,self.ap_name,self.am_name,self.my_name,self.hus_name))\n",
        "\n"
      ],
      "metadata": {
        "id": "StHl85jOEW1b"
      },
      "execution_count": 5,
      "outputs": []
    },
    {
      "cell_type": "code",
      "source": [
        "fam=me()"
      ],
      "metadata": {
        "id": "lIdU8oIBGOzx"
      },
      "execution_count": 6,
      "outputs": []
    },
    {
      "cell_type": "code",
      "source": [
        "fam.thatha(\"Muniyan\",'Thaily')\n",
        "fam.appa('Krishna','Chithra')\n",
        "fam.me('Nandhu','Gokul')"
      ],
      "metadata": {
        "colab": {
          "base_uri": "https://localhost:8080/"
        },
        "id": "wfrJn9saGTfT",
        "outputId": "269ae788-0413-4cf1-929d-88d8b7bba519"
      },
      "execution_count": 7,
      "outputs": [
        {
          "output_type": "stream",
          "name": "stdout",
          "text": [
            "My Family Details\n",
            "Thatha:\tMuniyan\n",
            "Ayya:\tThaily\n",
            "Appa:\tKrishna\n",
            "Amma:\tChithra\n",
            "Me:\tNandhu\n",
            "My Husband:Gokul\t\n"
          ]
        }
      ]
    },
    {
      "cell_type": "code",
      "source": [
        "me.mro()#methode resolution order"
      ],
      "metadata": {
        "colab": {
          "base_uri": "https://localhost:8080/"
        },
        "id": "JDjDGpY6HKD1",
        "outputId": "328f1a29-d14e-4e88-d071-cc4f8826ac62"
      },
      "execution_count": 9,
      "outputs": [
        {
          "output_type": "execute_result",
          "data": {
            "text/plain": [
              "[__main__.me, __main__.parent, __main__.grandparent, object]"
            ]
          },
          "metadata": {},
          "execution_count": 9
        }
      ]
    },
    {
      "cell_type": "code",
      "source": [
        "#hierarchical inheritance means one parent lot of child\n",
        "class Parent:\n",
        "  def pt(self):\n",
        "    print(\"Parent Present\")\n",
        "\n",
        "class Child1(Parent):\n",
        "  def c1(self):\n",
        "    print(\"Child1 Present\")\n",
        "\n",
        "class Child2(Parent):\n",
        "  def c2(self):\n",
        "    print(\"Child2 Present\")\n",
        "\n",
        "Child2.mro()\n",
        "p=Child2()\n"
      ],
      "metadata": {
        "id": "x-7dD84EH3iV"
      },
      "execution_count": 14,
      "outputs": []
    },
    {
      "cell_type": "code",
      "source": [
        "p.pt()\n",
        "p.c2()\n",
        "p.c1()"
      ],
      "metadata": {
        "colab": {
          "base_uri": "https://localhost:8080/",
          "height": 245
        },
        "id": "VP4Dq_NyIpVJ",
        "outputId": "cd6960c0-83a3-4727-e13d-e0ec00955bb5"
      },
      "execution_count": 15,
      "outputs": [
        {
          "output_type": "stream",
          "name": "stdout",
          "text": [
            "Parent Present\n",
            "Child2 Present\n"
          ]
        },
        {
          "output_type": "error",
          "ename": "AttributeError",
          "evalue": "ignored",
          "traceback": [
            "\u001b[0;31m---------------------------------------------------------------------------\u001b[0m",
            "\u001b[0;31mAttributeError\u001b[0m                            Traceback (most recent call last)",
            "\u001b[0;32m<ipython-input-15-d219eef8cf9d>\u001b[0m in \u001b[0;36m<cell line: 3>\u001b[0;34m()\u001b[0m\n\u001b[1;32m      1\u001b[0m \u001b[0mp\u001b[0m\u001b[0;34m.\u001b[0m\u001b[0mpt\u001b[0m\u001b[0;34m(\u001b[0m\u001b[0;34m)\u001b[0m\u001b[0;34m\u001b[0m\u001b[0;34m\u001b[0m\u001b[0m\n\u001b[1;32m      2\u001b[0m \u001b[0mp\u001b[0m\u001b[0;34m.\u001b[0m\u001b[0mc2\u001b[0m\u001b[0;34m(\u001b[0m\u001b[0;34m)\u001b[0m\u001b[0;34m\u001b[0m\u001b[0;34m\u001b[0m\u001b[0m\n\u001b[0;32m----> 3\u001b[0;31m \u001b[0mp\u001b[0m\u001b[0;34m.\u001b[0m\u001b[0mc1\u001b[0m\u001b[0;34m(\u001b[0m\u001b[0;34m)\u001b[0m\u001b[0;34m\u001b[0m\u001b[0;34m\u001b[0m\u001b[0m\n\u001b[0m",
            "\u001b[0;31mAttributeError\u001b[0m: 'Child2' object has no attribute 'c1'"
          ]
        }
      ]
    },
    {
      "cell_type": "code",
      "source": [
        "class number1:\n",
        "  def n1(self):\n",
        "    print (\"Number1 exits\")\n",
        "\n",
        "class number2(number1): #it can retrive number1 and 2 values\n",
        "  def n2(self):\n",
        "    print(\"Number2 exits\")\n",
        "\n",
        "class number3(number1): # it can retrive number3 and 1 values\n",
        "  def n3(self):\n",
        "    print(\"Number3 exits\")\n",
        "\n",
        "class nu12(number2,number1): #here number2 must be in first element (it can retrive number 1, 2and nu12 values)\n",
        "#((((Multilple inheritance once subclass is base class and base class is also base class here))))\n",
        "  def n1_2(self):\n",
        "    print(\"Number1 and 2 included\")\n",
        "\n",
        "class number4(number3):# it can retrive number 4 and number 3 values\n",
        "  def n4(Self):\n",
        "    print(\"Number4 exits\")\n"
      ],
      "metadata": {
        "id": "xptEXGDGJ5J9"
      },
      "execution_count": 10,
      "outputs": []
    },
    {
      "cell_type": "code",
      "source": [
        "num=nu12()\n",
        "num.n1()\n",
        "num.n2()\n",
        "num.n1_2()\n",
        "#num.n3()"
      ],
      "metadata": {
        "id": "-76dg0sNfU2B",
        "outputId": "7b2429c9-8195-457a-f2ea-0a1e09c51e53",
        "colab": {
          "base_uri": "https://localhost:8080/"
        }
      },
      "execution_count": 34,
      "outputs": [
        {
          "output_type": "stream",
          "name": "stdout",
          "text": [
            "Number1 exits\n",
            "Number2 exits\n",
            "Number1 and 2 included\n"
          ]
        }
      ]
    },
    {
      "cell_type": "code",
      "source": [
        "num0=number1()\n",
        "num0.n1()\n",
        "#num0.n2()\n",
        "#num0.n3()"
      ],
      "metadata": {
        "id": "UqAXLYUhirIP",
        "outputId": "936387d2-9f10-422e-d756-73b8c49a8303",
        "colab": {
          "base_uri": "https://localhost:8080/"
        }
      },
      "execution_count": 42,
      "outputs": [
        {
          "output_type": "stream",
          "name": "stdout",
          "text": [
            "Number1 exits\n"
          ]
        }
      ]
    },
    {
      "cell_type": "code",
      "source": [
        "num1=number3()\n",
        "num1.n3()\n",
        "num1.n1()"
      ],
      "metadata": {
        "id": "TRlJKHHHf8r-",
        "outputId": "399757e6-635c-43b9-ccf3-2b422ba4c7f7",
        "colab": {
          "base_uri": "https://localhost:8080/"
        }
      },
      "execution_count": 35,
      "outputs": [
        {
          "output_type": "stream",
          "name": "stdout",
          "text": [
            "Number3 exits\n",
            "Number1 exits\n"
          ]
        }
      ]
    },
    {
      "cell_type": "code",
      "source": [
        "num2=number4()\n",
        "num2.n4()\n",
        "num2.n3()\n",
        "num2.n1()"
      ],
      "metadata": {
        "id": "yeP1a-U2gJk5",
        "outputId": "2b927581-1597-40e3-b05b-07efe9f2076f",
        "colab": {
          "base_uri": "https://localhost:8080/",
          "height": 262
        }
      },
      "execution_count": 39,
      "outputs": [
        {
          "output_type": "stream",
          "name": "stdout",
          "text": [
            "Number4 exits\n",
            "Number3 exits\n",
            "Number1 exits\n"
          ]
        },
        {
          "output_type": "error",
          "ename": "AttributeError",
          "evalue": "ignored",
          "traceback": [
            "\u001b[0;31m---------------------------------------------------------------------------\u001b[0m",
            "\u001b[0;31mAttributeError\u001b[0m                            Traceback (most recent call last)",
            "\u001b[0;32m<ipython-input-39-c0189e105b5d>\u001b[0m in \u001b[0;36m<cell line: 5>\u001b[0;34m()\u001b[0m\n\u001b[1;32m      3\u001b[0m \u001b[0mnum2\u001b[0m\u001b[0;34m.\u001b[0m\u001b[0mn3\u001b[0m\u001b[0;34m(\u001b[0m\u001b[0;34m)\u001b[0m\u001b[0;34m\u001b[0m\u001b[0;34m\u001b[0m\u001b[0m\n\u001b[1;32m      4\u001b[0m \u001b[0mnum2\u001b[0m\u001b[0;34m.\u001b[0m\u001b[0mn1\u001b[0m\u001b[0;34m(\u001b[0m\u001b[0;34m)\u001b[0m\u001b[0;34m\u001b[0m\u001b[0;34m\u001b[0m\u001b[0m\n\u001b[0;32m----> 5\u001b[0;31m \u001b[0mnum2\u001b[0m\u001b[0;34m.\u001b[0m\u001b[0mn2\u001b[0m\u001b[0;34m(\u001b[0m\u001b[0;34m)\u001b[0m\u001b[0;34m\u001b[0m\u001b[0;34m\u001b[0m\u001b[0m\n\u001b[0m",
            "\u001b[0;31mAttributeError\u001b[0m: 'number4' object has no attribute 'n2'"
          ]
        }
      ]
    },
    {
      "cell_type": "code",
      "source": [],
      "metadata": {
        "id": "51uPW-28gN3P"
      },
      "execution_count": 37,
      "outputs": []
    },
    {
      "cell_type": "code",
      "source": [
        "class Vehicle:  # hierachical\n",
        "  def vehicle_info(self):\n",
        "    print(\"Vehicle Class\")\n",
        "\n",
        "class Car(Vehicle):\n",
        "  def car_info(self):\n",
        "    print(\"car Class\")\n",
        "\n",
        "class Truck(Vehicle):\n",
        "  def truck_info(self):\n",
        "    print(\"truck Class\")\n",
        "\n",
        "class SportsCar(Car,Vehicle): # multiple inh\n",
        "  def sports_car_info(self):\n",
        "    print(\"Sports car Class\")\n",
        "\n",
        "class SportsBike(Vehicle):\n",
        "  def sports_bike_info(self):\n",
        "    print(\"Sports Bike Class\")"
      ],
      "metadata": {
        "id": "p0yfHX09fBmw"
      },
      "execution_count": 9,
      "outputs": []
    }
  ]
}