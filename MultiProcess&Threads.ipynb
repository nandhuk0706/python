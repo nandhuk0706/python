{
  "nbformat": 4,
  "nbformat_minor": 0,
  "metadata": {
    "colab": {
      "provenance": [],
      "authorship_tag": "ABX9TyPZn0nxKoKMbZoWCex5jPr5",
      "include_colab_link": true
    },
    "kernelspec": {
      "name": "python3",
      "display_name": "Python 3"
    },
    "language_info": {
      "name": "python"
    }
  },
  "cells": [
    {
      "cell_type": "markdown",
      "metadata": {
        "id": "view-in-github",
        "colab_type": "text"
      },
      "source": [
        "<a href=\"https://colab.research.google.com/github/nandhuk0706/python/blob/main/MultiProcess%26Threads.ipynb\" target=\"_parent\"><img src=\"https://colab.research.google.com/assets/colab-badge.svg\" alt=\"Open In Colab\"/></a>"
      ]
    },
    {
      "cell_type": "code",
      "execution_count": 14,
      "metadata": {
        "colab": {
          "base_uri": "https://localhost:8080/"
        },
        "id": "wdlHDXD2Gm9y",
        "outputId": "dedc017c-12f8-4caa-d652-246616f39d2b"
      },
      "outputs": [
        {
          "output_type": "stream",
          "name": "stdout",
          "text": [
            "Squre:done\n",
            "cube: 100 1000\n",
            "\n"
          ]
        }
      ],
      "source": [
        "import multiprocessing\n",
        "\n",
        "def squre(num):\n",
        "  #result=num*num\n",
        "  print(\"Squre:\", num*num)\n",
        "\n",
        "def cube(num):\n",
        "  #result=num*num*num\n",
        "  print(\"cube:\",num*num*num)\n",
        "\n",
        "#creating process\n",
        "if __name__==\"__main__\":\n",
        "\n",
        "  p1=multiprocessing.Process(target=squre, args=(10,))\n",
        "  p2=multiprocessing.Process(target=cube, args=(10,))\n",
        "\n",
        "  #starting process\n",
        "  p1.start()\n",
        "\n",
        "\n",
        "  p1.join #it is used to finish the first command\n",
        "\n",
        "  p2.start()\n",
        "  p2.join #second command will finish here\n",
        "\n",
        "\n",
        "print(\"done\")"
      ]
    },
    {
      "cell_type": "code",
      "source": [
        "print(__name__)"
      ],
      "metadata": {
        "colab": {
          "base_uri": "https://localhost:8080/"
        },
        "id": "sjPq9AsemWSp",
        "outputId": "3e13496f-6160-48c1-e51c-291fe8338ccc"
      },
      "execution_count": 2,
      "outputs": [
        {
          "output_type": "stream",
          "name": "stdout",
          "text": [
            "__main__\n"
          ]
        }
      ]
    },
    {
      "cell_type": "code",
      "source": [
        "import multiprocessing\n",
        "import os\n",
        "import time\n",
        "\n",
        "def cube(num):\n",
        "  time.sleep(0.2)\n",
        "  print(\"Cube:{}\".format(num*num*num))\n",
        "  print(\"\\nMy cube id is: {}\".format(os.getpid()))\n",
        "\n",
        "def square(num):\n",
        "  time.sleep(0.2)\n",
        "  print(\"\\nSquare: {}\".format(num*num))\n",
        "  print(\"\\nMy Square id is: {} \".format(os.getpid()))\n",
        "\n",
        "if __name__==\"__main__\":\n",
        "  t=time.time()\n",
        "  print(\"__main__ function os id is: {}\".format(os.getpid()))\n",
        "  p1=multiprocessing.Process(target=cube , args=(10,))\n",
        "  p2=multiprocessing.Process(target=square,args=(10,))\n",
        "\n",
        "\n",
        "  p1.start()\n",
        "  p2.start()\n",
        "  print(\"My p1 process is alive {}\".format(p1.is_alive()))\n",
        "  print(\"My p2 process is alive {}\".format(p2.is_alive()))\n",
        "  p1.join()\n",
        "  p2.join()\n",
        "  print(\"My p1 process id is:\",p1.pid)\n",
        "  print(\"My p2 process is is:\", p2.pid)\n",
        "  print(time.time()-t)\n",
        "  print(\"Aftr p1 process {}\".format(p1.is_alive()))\n",
        "  print(\"After p2 process {}\".format(p2.is_alive()))\n",
        "print(\"Done\")"
      ],
      "metadata": {
        "colab": {
          "base_uri": "https://localhost:8080/"
        },
        "id": "nS7hW3oyqFUP",
        "outputId": "dc684602-879c-4f97-9f5d-a7356fa66145"
      },
      "execution_count": 39,
      "outputs": [
        {
          "output_type": "stream",
          "name": "stdout",
          "text": [
            "__main__ function os id is: 210\n",
            "My p1 process is alive True\n",
            "My p2 process is alive True\n",
            "Cube:1000\n",
            "\n",
            "My cube id is: 19289\n",
            "Square: 100\n",
            "\n",
            "\n",
            "My Square id is: 19290 \n",
            "My p1 process id is: 19289\n",
            "My p2 process is is: 19290\n",
            "0.25708556175231934\n",
            "Aftr p1 process False\n",
            "After p2 process False\n",
            "Done\n"
          ]
        }
      ]
    },
    {
      "cell_type": "code",
      "source": [
        "import threading\n",
        "import os\n",
        "\n",
        "def square(num):\n",
        "  print(\"My thread name is : {}\".format(threading.current_thread().name))\n",
        "  print(\"Square: {}\".format(num*num))\n",
        "\n",
        "square(10)"
      ],
      "metadata": {
        "colab": {
          "base_uri": "https://localhost:8080/"
        },
        "id": "8fNsxwR0wzth",
        "outputId": "0a3fa7d8-6992-4048-a5ef-98747c6b0612"
      },
      "execution_count": 32,
      "outputs": [
        {
          "output_type": "stream",
          "name": "stdout",
          "text": [
            "My thread name is : MainThread\n",
            "Square: 100\n"
          ]
        }
      ]
    },
    {
      "cell_type": "code",
      "source": [
        "import time\n",
        "time.time()"
      ],
      "metadata": {
        "colab": {
          "base_uri": "https://localhost:8080/"
        },
        "id": "2ZTlARvy02BM",
        "outputId": "afaa9c6f-3193-4967-b477-9de9d7af5ffb"
      },
      "execution_count": 33,
      "outputs": [
        {
          "output_type": "execute_result",
          "data": {
            "text/plain": [
              "1705585641.8480477"
            ]
          },
          "metadata": {},
          "execution_count": 33
        }
      ]
    },
    {
      "cell_type": "code",
      "source": [
        "input=[1,2,3,4,5,6,7]\n",
        "\n",
        "import threading\n",
        "import os\n",
        "import time\n",
        "\n",
        "def Square(num):\n",
        "  print(\"My thread 1 is: {}\".format(threading.current_thread().name) )\n",
        "  print(\"My process 1 id is: {}\".format(os.getpid()))\n",
        "  time.sleep(0.2)\n",
        "  print(\"Square: {}\".format(num*num))\n",
        "\n",
        "def Cube(num):\n",
        "  print(\"My thread 2 is :{}\".format(threading.current_thread().name))\n",
        "  print(\"My process 2 id is : {}\".format(os.getpid()))\n",
        "  time.sleep(0.2)\n",
        "  print(\"Cube: {}\".format(num*num*num))\n",
        "\n",
        "if __name__==\"__main__\":\n",
        "  t=time.time()\n",
        "  print(\"My main thread is :{}\".format(threading.current_thread().name))\n",
        "\n",
        "  t1=threading.Thread(target=Square,args=(10,))\n",
        "  t2=threading.Thread(target=Cube,args=(10,))\n",
        "\n",
        "  t1.start()\n",
        "  t2.start()\n",
        "\n",
        "  t1.join()\n",
        "  t2.join()\n",
        "  #print(t1.tid())\n",
        "  #print(t2.pid)\n",
        "print(time.time()-t)\n",
        "print(\"Everything is Done\")"
      ],
      "metadata": {
        "colab": {
          "base_uri": "https://localhost:8080/"
        },
        "id": "y9uJkn-L15Rd",
        "outputId": "152039d8-bff3-4d8b-ee76-f395b03729f9"
      },
      "execution_count": 42,
      "outputs": [
        {
          "output_type": "stream",
          "name": "stdout",
          "text": [
            "My main thread is :MainThread\n",
            "My thread 1 is: Thread-24 (Square)\n",
            "My process 1 id is: 210\n",
            "My thread 2 is :Thread-25 (Cube)\n",
            "My process 2 id is : 210\n",
            "Square: 100\n",
            "Cube: 1000\n",
            "0.20502400398254395\n",
            "Everything is Done\n"
          ]
        }
      ]
    }
  ]
}