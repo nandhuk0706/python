{
  "cells": [
    {
      "cell_type": "markdown",
      "metadata": {
        "id": "view-in-github",
        "colab_type": "text"
      },
      "source": [
        "<a href=\"https://colab.research.google.com/github/nandhuk0706/python/blob/main/comprehension.ipynb\" target=\"_parent\"><img src=\"https://colab.research.google.com/assets/colab-badge.svg\" alt=\"Open In Colab\"/></a>"
      ]
    },
    {
      "cell_type": "code",
      "source": [
        "s={}\n",
        "s.update({'name':'sundar'})\n",
        "s['course'] = 'Python'\n",
        "s"
      ],
      "metadata": {
        "colab": {
          "base_uri": "https://localhost:8080/"
        },
        "id": "o4U1-sG5gvbC",
        "outputId": "3f1c9c04-c1c9-4559-d71e-84b0418ad9f3"
      },
      "execution_count": null,
      "outputs": [
        {
          "output_type": "execute_result",
          "data": {
            "text/plain": [
              "{'name': 'sundar', 'course': 'Python'}"
            ]
          },
          "metadata": {},
          "execution_count": 1
        }
      ]
    },
    {
      "cell_type": "code",
      "execution_count": null,
      "metadata": {
        "colab": {
          "base_uri": "https://localhost:8080/"
        },
        "id": "ViRAqXSI2K7X",
        "outputId": "a281e658-066d-42f7-f6b3-c60407c8ab54"
      },
      "outputs": [
        {
          "output_type": "stream",
          "name": "stdout",
          "text": [
            "{1: 1, 2: 4, 3: 9, 4: 16, 5: 25}\n"
          ]
        }
      ],
      "source": [
        "sq_dict = dict()\n",
        "\n",
        "for num in range(1,6):\n",
        "  sq_dict[num] = num*num\n",
        "print(sq_dict)"
      ]
    },
    {
      "cell_type": "code",
      "source": [
        "odd_sq_dict = dict()\n",
        "\n",
        "for num in range(1,6):\n",
        "  if num%2!=0:\n",
        "    odd_sq_dict[num] = num*num\n",
        "print(odd_sq_dict)"
      ],
      "metadata": {
        "colab": {
          "base_uri": "https://localhost:8080/"
        },
        "id": "ivwfqzmjhadO",
        "outputId": "b812a61a-2406-4f33-b1e5-b7661950cb9e"
      },
      "execution_count": null,
      "outputs": [
        {
          "output_type": "stream",
          "name": "stdout",
          "text": [
            "{1: 1, 3: 9, 5: 25}\n"
          ]
        }
      ]
    },
    {
      "cell_type": "code",
      "execution_count": null,
      "metadata": {
        "colab": {
          "base_uri": "https://localhost:8080/"
        },
        "id": "Dm6ohXLB21ex",
        "outputId": "4425ade6-fa11-4255-e5c1-3f3e31ee02a3"
      },
      "outputs": [
        {
          "output_type": "execute_result",
          "data": {
            "text/plain": [
              "{6: 216, 12: 1728, 18: 5832}"
            ]
          },
          "metadata": {},
          "execution_count": 5
        }
      ],
      "source": [
        "# dictionary = {key:value for var in iterable if condition}\n",
        "cube_dict = {num: num*num*num for num in range(1,20) if num%2==0 and num%3==0}\n",
        "cube_dict"
      ]
    },
    {
      "cell_type": "code",
      "source": [
        "cube_dict.items()"
      ],
      "metadata": {
        "colab": {
          "base_uri": "https://localhost:8080/"
        },
        "id": "jSig4272iGH5",
        "outputId": "689e80aa-696d-493b-e5bd-3135fb290430"
      },
      "execution_count": null,
      "outputs": [
        {
          "output_type": "execute_result",
          "data": {
            "text/plain": [
              "dict_items([(6, 216), (12, 1728), (18, 5832)])"
            ]
          },
          "metadata": {},
          "execution_count": 6
        }
      ]
    },
    {
      "cell_type": "markdown",
      "source": [
        "**How to use dictionary Comprehension**"
      ],
      "metadata": {
        "id": "HI7OoLkfGOwh"
      }
    },
    {
      "cell_type": "code",
      "source": [
        "# item price in dollars\n",
        "\n",
        "old_price = {\n",
        "    'milk':1.02,\n",
        "    'coffee':2.5,\n",
        "    'bread':2.5\n",
        "}\n",
        "\n",
        "dollar_to_pound = 0.83\n",
        "new_price = {\n",
        "    key:value*dollar_to_pound for (key,value) in old_price.items()\n",
        "}\n",
        "new_price"
      ],
      "metadata": {
        "colab": {
          "base_uri": "https://localhost:8080/"
        },
        "id": "JLYFvHhNGTHT",
        "outputId": "c72712f7-fa0d-4662-9832-ad245bfc6a55"
      },
      "execution_count": null,
      "outputs": [
        {
          "output_type": "execute_result",
          "data": {
            "text/plain": [
              "{'milk': 0.8466, 'coffee': 2.0749999999999997, 'bread': 2.0749999999999997}"
            ]
          },
          "metadata": {},
          "execution_count": 7
        }
      ]
    },
    {
      "cell_type": "markdown",
      "source": [
        "**conditions in dictionary comprehension**"
      ],
      "metadata": {
        "id": "OAVIdGNyHTzU"
      }
    },
    {
      "cell_type": "code",
      "source": [
        "data = {\n",
        "    'jack':38,\n",
        "    'michael':48,\n",
        "    'gudio':57,\n",
        "    'John':33\n",
        "}\n",
        "\n",
        "even_dict = {\n",
        "    key:value for (key,value) in data.items() if value%2==0\n",
        "}\n",
        "\n",
        "even_dict"
      ],
      "metadata": {
        "colab": {
          "base_uri": "https://localhost:8080/"
        },
        "id": "WnWr1HwoHYsf",
        "outputId": "37cb15a0-5f5a-4119-d953-aa72694573a3"
      },
      "execution_count": null,
      "outputs": [
        {
          "output_type": "execute_result",
          "data": {
            "text/plain": [
              "{'jack': 38, 'michael': 48}"
            ]
          },
          "metadata": {},
          "execution_count": 8
        }
      ]
    },
    {
      "cell_type": "markdown",
      "source": [
        "**Multiple if conditional Dictionary Comprehension**"
      ],
      "metadata": {
        "id": "gCcTjygSH_FK"
      }
    },
    {
      "cell_type": "code",
      "source": [
        "data = {\n",
        "    'jack':38,\n",
        "    'michael':48,\n",
        "    'gudio':57,\n",
        "    'John':33\n",
        "}\n",
        "\n",
        "my_dict = {key:value for (key,value) in data.items() if value%2!=0 and value<40}\n",
        "my_dict"
      ],
      "metadata": {
        "colab": {
          "base_uri": "https://localhost:8080/"
        },
        "id": "-2rvMQvYIFa8",
        "outputId": "758b5ce6-c5dc-4e3a-9b80-070e701ca081"
      },
      "execution_count": null,
      "outputs": [
        {
          "output_type": "execute_result",
          "data": {
            "text/plain": [
              "{'John': 33}"
            ]
          },
          "metadata": {},
          "execution_count": 9
        }
      ]
    },
    {
      "cell_type": "markdown",
      "source": [
        "**if else conditional dictionary Comprehension**"
      ],
      "metadata": {
        "id": "8pSldS2mIt8v"
      }
    },
    {
      "cell_type": "code",
      "source": [
        "data = {\n",
        "    'jack':38,\n",
        "    'michael':48,\n",
        "    'gudio':57,\n",
        "    'John':33\n",
        "}\n",
        "\n",
        "new_data = {\n",
        "    key : ( 'old' if value>40 else 'young')\n",
        "    for (key,value) in data.items()\n",
        "}\n",
        "new_data"
      ],
      "metadata": {
        "colab": {
          "base_uri": "https://localhost:8080/"
        },
        "id": "7OJ1Z-nAIzX4",
        "outputId": "54e78977-1a50-4ba7-f8aa-ba3ddd42defe"
      },
      "execution_count": null,
      "outputs": [
        {
          "output_type": "execute_result",
          "data": {
            "text/plain": [
              "{'jack': 'young', 'michael': 'old', 'gudio': 'old', 'John': 'young'}"
            ]
          },
          "metadata": {},
          "execution_count": 10
        }
      ]
    },
    {
      "cell_type": "markdown",
      "source": [
        "**Nested Dictionary Comprehension**"
      ],
      "metadata": {
        "id": "DuO5M1QyJVS0"
      }
    },
    {
      "cell_type": "code",
      "source": [
        "dictionary = {\n",
        "    k1:{k1*k2 for k2 in range(1,6)} for k1 in range(1,6)\n",
        "}\n",
        "dictionary"
      ],
      "metadata": {
        "colab": {
          "base_uri": "https://localhost:8080/"
        },
        "id": "SNr3T7LqH-jK",
        "outputId": "4a269e22-5e47-482a-dca2-1c975553621b"
      },
      "execution_count": null,
      "outputs": [
        {
          "output_type": "execute_result",
          "data": {
            "text/plain": [
              "{1: {1, 2, 3, 4, 5},\n",
              " 2: {2, 4, 6, 8, 10},\n",
              " 3: {3, 6, 9, 12, 15},\n",
              " 4: {4, 8, 12, 16, 20},\n",
              " 5: {5, 10, 15, 20, 25}}"
            ]
          },
          "metadata": {},
          "execution_count": 11
        }
      ]
    },
    {
      "cell_type": "markdown",
      "source": [
        "**List Comprehension**"
      ],
      "metadata": {
        "id": "5HQRIpPrCrlf"
      }
    },
    {
      "cell_type": "code",
      "source": [
        "'sun'in 'sundar'"
      ],
      "metadata": {
        "colab": {
          "base_uri": "https://localhost:8080/"
        },
        "id": "5dS5ts6Wjpt1",
        "outputId": "3ad29148-2c2d-476f-a173-9bb9e792ba19"
      },
      "execution_count": null,
      "outputs": [
        {
          "output_type": "execute_result",
          "data": {
            "text/plain": [
              "True"
            ]
          },
          "metadata": {},
          "execution_count": 12
        }
      ]
    },
    {
      "cell_type": "code",
      "source": [
        "fruits = ['apple','banana','red mango','cherry','green mango','pulpy mango']\n",
        "newlist = []\n",
        "\n",
        "for fruit in fruits:\n",
        "  if 'mango' in fruit:\n",
        "    newlist.append(fruit)\n",
        "\n",
        "newlist"
      ],
      "metadata": {
        "colab": {
          "base_uri": "https://localhost:8080/"
        },
        "id": "hfYMsl7rCv41",
        "outputId": "e308c02a-9d42-41e3-f785-5ea84fee641e"
      },
      "execution_count": null,
      "outputs": [
        {
          "output_type": "execute_result",
          "data": {
            "text/plain": [
              "['red mango', 'green mango', 'pulpy mango']"
            ]
          },
          "metadata": {},
          "execution_count": 13
        }
      ]
    },
    {
      "cell_type": "code",
      "source": [
        "fruits = ['apple','banana','red mango','cherry','green mango','pulpy mango']\n",
        "# list_name = [element for element in sequence if condition]\n",
        "mango_list =  [fruit for fruit in fruits if 'mango' in fruit]\n",
        "mango_list"
      ],
      "metadata": {
        "colab": {
          "base_uri": "https://localhost:8080/"
        },
        "id": "tMszpMyVDk6y",
        "outputId": "bc25bbf0-35e0-4f72-ef00-d49ea768d557"
      },
      "execution_count": null,
      "outputs": [
        {
          "output_type": "execute_result",
          "data": {
            "text/plain": [
              "['red mango', 'green mango', 'pulpy mango']"
            ]
          },
          "metadata": {},
          "execution_count": 14
        }
      ]
    },
    {
      "cell_type": "code",
      "execution_count": null,
      "metadata": {
        "colab": {
          "base_uri": "https://localhost:8080/"
        },
        "id": "KiXURDzj3K2B",
        "outputId": "cfec3d70-2537-44e0-fb11-8ee06ea08ead"
      },
      "outputs": [
        {
          "output_type": "execute_result",
          "data": {
            "text/plain": [
              "[11, 22, 33, 44, 55, 66, 77, 88, 99, 110]"
            ]
          },
          "metadata": {},
          "execution_count": 15
        }
      ],
      "source": [
        "div_11 = [i for i in range(1,120) if i%11==0]\n",
        "div_11"
      ]
    },
    {
      "cell_type": "code",
      "execution_count": null,
      "metadata": {
        "colab": {
          "base_uri": "https://localhost:8080/"
        },
        "id": "8fVR7LgzALLk",
        "outputId": "623cb467-d337-4e9c-e9bd-b65d0a8dd8ba"
      },
      "outputs": [
        {
          "output_type": "execute_result",
          "data": {
            "text/plain": [
              "['APPLE', 'BANANA', 'RED MANGO', 'CHERRY', 'GREEN MANGO', 'PULPY MANGO']"
            ]
          },
          "metadata": {},
          "execution_count": 16
        }
      ],
      "source": [
        "fruits = [fruit.upper() for fruit in fruits]\n",
        "fruits"
      ]
    },
    {
      "cell_type": "code",
      "source": [
        "fruits = [fruit if fruit!=\"banana\".upper() else \"orange\".upper() for fruit in fruits]\n",
        "fruits"
      ],
      "metadata": {
        "colab": {
          "base_uri": "https://localhost:8080/"
        },
        "id": "Uk6Yw2ZzEv8L",
        "outputId": "8e92d72e-42c8-411a-bce7-4c32ce7b7b38"
      },
      "execution_count": null,
      "outputs": [
        {
          "output_type": "execute_result",
          "data": {
            "text/plain": [
              "['APPLE', 'ORANGE', 'RED MANGO', 'CHERRY', 'GREEN MANGO', 'PULPY MANGO']"
            ]
          },
          "metadata": {},
          "execution_count": 17
        }
      ]
    }
  ],
  "metadata": {
    "colab": {
      "provenance": [],
      "include_colab_link": true
    },
    "kernelspec": {
      "display_name": "Python 3",
      "language": "python",
      "name": "python3"
    },
    "language_info": {
      "codemirror_mode": {
        "name": "ipython",
        "version": 3
      },
      "file_extension": ".py",
      "mimetype": "text/x-python",
      "name": "python",
      "nbconvert_exporter": "python",
      "pygments_lexer": "ipython3",
      "version": "3.9.2"
    }
  },
  "nbformat": 4,
  "nbformat_minor": 0
}