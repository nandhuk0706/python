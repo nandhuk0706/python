{
  "nbformat": 4,
  "nbformat_minor": 0,
  "metadata": {
    "colab": {
      "provenance": [],
      "authorship_tag": "ABX9TyMdx1/OUwUaSnlEYEtqd0ul",
      "include_colab_link": true
    },
    "kernelspec": {
      "name": "python3",
      "display_name": "Python 3"
    },
    "language_info": {
      "name": "python"
    }
  },
  "cells": [
    {
      "cell_type": "markdown",
      "metadata": {
        "id": "view-in-github",
        "colab_type": "text"
      },
      "source": [
        "<a href=\"https://colab.research.google.com/github/nandhuk0706/python/blob/main/Functions.ipynb\" target=\"_parent\"><img src=\"https://colab.research.google.com/assets/colab-badge.svg\" alt=\"Open In Colab\"/></a>"
      ]
    },
    {
      "cell_type": "code",
      "execution_count": null,
      "metadata": {
        "colab": {
          "base_uri": "https://localhost:8080/"
        },
        "id": "FMnZwgd3tqAe",
        "outputId": "bf7514ff-2172-4dbc-c7d5-16b44bfd070e"
      },
      "outputs": [
        {
          "output_type": "stream",
          "name": "stdout",
          "text": [
            "Enter a number:8\n",
            "Enter a number:6\n",
            "sum --> 14\n",
            "return value: 14\n"
          ]
        }
      ],
      "source": [
        "x=int(input(\"Enter a number:\"))\n",
        "y=int(input(\"Enter a number:\"))\n",
        "def add(x,y):\n",
        "  z=x+y\n",
        "  print(\"sum -->\",z)\n",
        "  return z # z value is stored and in return that can retireve from using an variable\n",
        "\n",
        "my_return=add(x,y)\n",
        "print(\"return value:\",my_return)\n",
        "\n"
      ]
    },
    {
      "cell_type": "code",
      "source": [
        "add(8,9)\n"
      ],
      "metadata": {
        "colab": {
          "base_uri": "https://localhost:8080/"
        },
        "id": "r7tqFGP2uqoI",
        "outputId": "fca10193-4bfc-444f-e0a8-e138a09a68c0"
      },
      "execution_count": null,
      "outputs": [
        {
          "output_type": "stream",
          "name": "stdout",
          "text": [
            "sum --> 17\n"
          ]
        },
        {
          "output_type": "execute_result",
          "data": {
            "text/plain": [
              "17"
            ]
          },
          "metadata": {},
          "execution_count": 18
        }
      ]
    },
    {
      "cell_type": "code",
      "source": [
        "def DoAdd(x,y):\n",
        "  \"\"\"hey! There i'm Ushanandhini\n",
        "  Hope everything going good\n",
        "  Bless of luck for your future\n",
        "  Meet you soon\"\"\"\n",
        "  print(\"Sum of x, y\",x+y)\n",
        "  #return (x+y) #return statement is not used that variable value would be none\n",
        "\n",
        "DoAdd(4,8)\n",
        "my_return=DoAdd(6,7)\n",
        "print(\"return value:\",my_return)"
      ],
      "metadata": {
        "colab": {
          "base_uri": "https://localhost:8080/"
        },
        "id": "SK-RMha7wANY",
        "outputId": "852405c8-8a67-4994-ee8d-77777b585442"
      },
      "execution_count": null,
      "outputs": [
        {
          "output_type": "stream",
          "name": "stdout",
          "text": [
            "Sum of x, y 12\n",
            "Sum of x, y 13\n",
            "return value: None\n"
          ]
        }
      ]
    },
    {
      "cell_type": "code",
      "source": [
        "print(DoAdd.__doc__)"
      ],
      "metadata": {
        "colab": {
          "base_uri": "https://localhost:8080/"
        },
        "id": "biS85GJHwa5H",
        "outputId": "7f18d36a-582e-4718-8f1f-ffee7aaf486a"
      },
      "execution_count": null,
      "outputs": [
        {
          "output_type": "stream",
          "name": "stdout",
          "text": [
            "hey! There i'm Ushanandhini \n",
            "  Hope everything going good\n",
            "  Bless of luck for your future\n",
            "  Meet you soon\n"
          ]
        }
      ]
    },
    {
      "cell_type": "code",
      "source": [
        "def squre(x):\n",
        "  print(\"squre of x is:\",x**2)\n",
        "  return #nothing assigned to return it just an end of function\n",
        "  return(x**2) #it never print the return statement one return only execute and end the function\n",
        "  print(\"squre of x value is printed above\") #return statement is the end of function after that it never printed anything\n",
        "squre(5)\n",
        "my_return=squre(7)\n",
        "print(\"return value:\",my_return)"
      ],
      "metadata": {
        "colab": {
          "base_uri": "https://localhost:8080/"
        },
        "id": "MtcbENfkxyp4",
        "outputId": "777f36d6-9046-4166-efa3-ad407bd90dd0"
      },
      "execution_count": null,
      "outputs": [
        {
          "output_type": "stream",
          "name": "stdout",
          "text": [
            "squre of x is: 25\n",
            "squre of x is: 49\n",
            "return value: None\n"
          ]
        }
      ]
    },
    {
      "cell_type": "code",
      "source": [
        "def printnames():\n",
        "  print(\"Anu\",\"thames\")\n",
        "  return (\"Anu\",\"thames\",\"Ahaana\")\n",
        "printnames()\n",
        "my_return=printnames()\n",
        "print(\"returned value:\",my_return)\n",
        "type(my_return)"
      ],
      "metadata": {
        "colab": {
          "base_uri": "https://localhost:8080/"
        },
        "id": "ysQ3_AoMzMg_",
        "outputId": "cb2e003a-9baa-463a-efc7-ece24f4b14de"
      },
      "execution_count": null,
      "outputs": [
        {
          "output_type": "stream",
          "name": "stdout",
          "text": [
            "Anu thames\n",
            "Anu thames\n",
            "returned value: ('Anu', 'thames', 'Ahaana')\n"
          ]
        },
        {
          "output_type": "execute_result",
          "data": {
            "text/plain": [
              "tuple"
            ]
          },
          "metadata": {},
          "execution_count": 35
        }
      ]
    },
    {
      "cell_type": "code",
      "source": [
        "def add():\n",
        "  x=10\n",
        "  y=34\n",
        "  print(\"add of x,y:\",x+y)\n",
        "  return(x+y)\n",
        "def squr(value):\n",
        "  print(\"squre of value:\",value**2)\n",
        "  return (value**2)\n",
        "\n",
        "squr(add()) #we can pass the value from one function to another function like this"
      ],
      "metadata": {
        "colab": {
          "base_uri": "https://localhost:8080/"
        },
        "id": "C6NSa9oUz3wG",
        "outputId": "bd17df2c-364a-4752-eff2-82ac13862bf0"
      },
      "execution_count": null,
      "outputs": [
        {
          "output_type": "stream",
          "name": "stdout",
          "text": [
            "add of x,y: 44\n",
            "squre of value: 1936\n"
          ]
        },
        {
          "output_type": "execute_result",
          "data": {
            "text/plain": [
              "1936"
            ]
          },
          "metadata": {},
          "execution_count": 39
        }
      ]
    },
    {
      "cell_type": "code",
      "source": [
        "def hey():\n",
        "  print(\"hey hello\")\n",
        "def hello():\n",
        "  print(\"hello\")\n",
        "\n",
        "hello()\n",
        "hey()\n",
        "\n",
        "hey(hello())"
      ],
      "metadata": {
        "colab": {
          "base_uri": "https://localhost:8080/",
          "height": 263
        },
        "id": "M8xFNhLw1zit",
        "outputId": "41ef089a-b9b8-4cd0-ee5a-d905264b36df"
      },
      "execution_count": null,
      "outputs": [
        {
          "output_type": "stream",
          "name": "stdout",
          "text": [
            "hello\n",
            "hey hello\n",
            "hello\n"
          ]
        },
        {
          "output_type": "error",
          "ename": "TypeError",
          "evalue": "ignored",
          "traceback": [
            "\u001b[0;31m---------------------------------------------------------------------------\u001b[0m",
            "\u001b[0;31mTypeError\u001b[0m                                 Traceback (most recent call last)",
            "\u001b[0;32m<ipython-input-47-b6b9d8b63f2b>\u001b[0m in \u001b[0;36m<cell line: 9>\u001b[0;34m()\u001b[0m\n\u001b[1;32m      7\u001b[0m \u001b[0mhey\u001b[0m\u001b[0;34m(\u001b[0m\u001b[0;34m)\u001b[0m\u001b[0;34m\u001b[0m\u001b[0;34m\u001b[0m\u001b[0m\n\u001b[1;32m      8\u001b[0m \u001b[0;34m\u001b[0m\u001b[0m\n\u001b[0;32m----> 9\u001b[0;31m \u001b[0mhey\u001b[0m\u001b[0;34m(\u001b[0m\u001b[0mhello\u001b[0m\u001b[0;34m(\u001b[0m\u001b[0;34m)\u001b[0m\u001b[0;34m)\u001b[0m\u001b[0;34m\u001b[0m\u001b[0;34m\u001b[0m\u001b[0m\n\u001b[0m",
            "\u001b[0;31mTypeError\u001b[0m: hey() takes 0 positional arguments but 1 was given"
          ]
        }
      ]
    },
    {
      "cell_type": "code",
      "source": [
        "def hey(y=None):\n",
        "  print(\"hey hello\")\n",
        "def hello():\n",
        "  print(\"hello\")\n",
        "\n",
        "hello()\n",
        "hey()\n",
        "\n",
        "hey(hello())"
      ],
      "metadata": {
        "colab": {
          "base_uri": "https://localhost:8080/"
        },
        "id": "lU-40UrS2hPS",
        "outputId": "d7f8533a-fcdd-40bf-aaa4-93362b2da48c"
      },
      "execution_count": null,
      "outputs": [
        {
          "output_type": "stream",
          "name": "stdout",
          "text": [
            "hello\n",
            "hey hello\n",
            "hello\n",
            "hey hello\n"
          ]
        }
      ]
    },
    {
      "cell_type": "code",
      "source": [
        "def add(x,y):\n",
        "  z=x+y\n",
        "  print(\"sum of x, y:\",z)\n",
        "  return z\n",
        "def squre(x):\n",
        "  print(\"squre of x is :\",x**2)\n",
        "  return (x**2)\n",
        "\n",
        "add(7,5)\n",
        "squre(45)\n",
        "add(add(4,5),squre(4))\n"
      ],
      "metadata": {
        "colab": {
          "base_uri": "https://localhost:8080/"
        },
        "id": "eo-ruNIz253t",
        "outputId": "bcdf80c5-6724-4d9d-d407-9fefbea30ee4"
      },
      "execution_count": null,
      "outputs": [
        {
          "output_type": "stream",
          "name": "stdout",
          "text": [
            "sum of x, y: 12\n",
            "squre of x is : 2025\n",
            "sum of x, y: 9\n",
            "squre of x is : 16\n",
            "sum of x, y: 25\n"
          ]
        },
        {
          "output_type": "execute_result",
          "data": {
            "text/plain": [
              "25"
            ]
          },
          "metadata": {},
          "execution_count": 53
        }
      ]
    },
    {
      "cell_type": "code",
      "source": [
        "#30%(20%number)\n",
        "def percentage(percent,number):\n",
        "  op=((percent/100) * number)\n",
        "  print(\"op\",op)\n",
        "  return op\n",
        "\n",
        "percentage(20,25000)\n",
        "\n",
        "percentage(30,(percentage(20,45000)))\n",
        "\n"
      ],
      "metadata": {
        "colab": {
          "base_uri": "https://localhost:8080/"
        },
        "id": "jQIw9oY54Wjf",
        "outputId": "d09b1ecb-3da2-496d-9937-b5bee1e6d722"
      },
      "execution_count": null,
      "outputs": [
        {
          "output_type": "stream",
          "name": "stdout",
          "text": [
            "op 5000.0\n",
            "op 9000.0\n",
            "op 2700.0\n"
          ]
        },
        {
          "output_type": "execute_result",
          "data": {
            "text/plain": [
              "2700.0"
            ]
          },
          "metadata": {},
          "execution_count": 2
        }
      ]
    },
    {
      "cell_type": "code",
      "source": [
        "#built-in function and user defined function\n",
        "import sys  #built-in\n",
        "sys.version"
      ],
      "metadata": {
        "colab": {
          "base_uri": "https://localhost:8080/",
          "height": 35
        },
        "id": "07QGRwh-lln4",
        "outputId": "75e70c4d-2390-42b7-a46a-9f0dcf92aa2d"
      },
      "execution_count": null,
      "outputs": [
        {
          "output_type": "execute_result",
          "data": {
            "text/plain": [
              "'3.10.12 (main, Nov 20 2023, 15:14:05) [GCC 11.4.0]'"
            ],
            "application/vnd.google.colaboratory.intrinsic+json": {
              "type": "string"
            }
          },
          "metadata": {},
          "execution_count": 3
        }
      ]
    },
    {
      "cell_type": "code",
      "source": [
        "import task\n",
        "#have to create task.py import will read content of task py and print the output here is called user defined function"
      ],
      "metadata": {
        "id": "LlQpKFXylxE6"
      },
      "execution_count": null,
      "outputs": []
    },
    {
      "cell_type": "code",
      "source": [
        "import math\n",
        "math.factorial(10)"
      ],
      "metadata": {
        "colab": {
          "base_uri": "https://localhost:8080/"
        },
        "id": "Oe1kDkM-l-SU",
        "outputId": "fa57928e-1b2d-4848-ef49-dd63696ef995"
      },
      "execution_count": null,
      "outputs": [
        {
          "output_type": "execute_result",
          "data": {
            "text/plain": [
              "3628800"
            ]
          },
          "metadata": {},
          "execution_count": 6
        }
      ]
    },
    {
      "cell_type": "code",
      "source": [
        "l=[4,7,8,2,4,6,8,9,34,5,7,76,43,45,674,3443,56,89]\n",
        "l.sort()\n",
        "l"
      ],
      "metadata": {
        "colab": {
          "base_uri": "https://localhost:8080/"
        },
        "id": "CV7ndWfymMW7",
        "outputId": "7406aa72-5020-4fea-d507-cd741890df32"
      },
      "execution_count": null,
      "outputs": [
        {
          "output_type": "execute_result",
          "data": {
            "text/plain": [
              "[2, 4, 4, 5, 6, 7, 7, 8, 8, 9, 34, 43, 45, 56, 76, 89, 674, 3443]"
            ]
          },
          "metadata": {},
          "execution_count": 9
        }
      ]
    },
    {
      "cell_type": "code",
      "source": [
        "l.sort(reverse=True)\n",
        "l"
      ],
      "metadata": {
        "colab": {
          "base_uri": "https://localhost:8080/"
        },
        "id": "mUbd8aB7mgLJ",
        "outputId": "fb35ad4e-1ee4-457d-f9c5-dd35a05ec7b9"
      },
      "execution_count": null,
      "outputs": [
        {
          "output_type": "execute_result",
          "data": {
            "text/plain": [
              "[3443, 674, 89, 76, 56, 45, 43, 34, 9, 8, 8, 7, 7, 6, 5, 4, 4, 2]"
            ]
          },
          "metadata": {},
          "execution_count": 10
        }
      ]
    },
    {
      "cell_type": "code",
      "source": [
        "sum(l)"
      ],
      "metadata": {
        "colab": {
          "base_uri": "https://localhost:8080/"
        },
        "id": "AkcWgt1xmm5F",
        "outputId": "f3cd4e9b-891c-4525-9648-b39bc37f12ce"
      },
      "execution_count": null,
      "outputs": [
        {
          "output_type": "execute_result",
          "data": {
            "text/plain": [
              "4520"
            ]
          },
          "metadata": {},
          "execution_count": 11
        }
      ]
    },
    {
      "cell_type": "code",
      "source": [
        "max(l)"
      ],
      "metadata": {
        "colab": {
          "base_uri": "https://localhost:8080/"
        },
        "id": "ktIT9GmTmqa5",
        "outputId": "51492e22-3561-47d1-ea46-64f3cfa13224"
      },
      "execution_count": null,
      "outputs": [
        {
          "output_type": "execute_result",
          "data": {
            "text/plain": [
              "3443"
            ]
          },
          "metadata": {},
          "execution_count": 12
        }
      ]
    },
    {
      "cell_type": "code",
      "source": [
        "min(l)"
      ],
      "metadata": {
        "colab": {
          "base_uri": "https://localhost:8080/"
        },
        "id": "qsFsVWl7msNc",
        "outputId": "23de37f0-b52c-4c89-8796-a6b8555569f4"
      },
      "execution_count": null,
      "outputs": [
        {
          "output_type": "execute_result",
          "data": {
            "text/plain": [
              "2"
            ]
          },
          "metadata": {},
          "execution_count": 13
        }
      ]
    },
    {
      "cell_type": "code",
      "source": [
        "def cube(base, power):\n",
        "  cube=base**power\n",
        "  return cube\n",
        "\n",
        "cube(5,3)"
      ],
      "metadata": {
        "colab": {
          "base_uri": "https://localhost:8080/"
        },
        "id": "bfwb4zhTm2gc",
        "outputId": "10168c5e-adf6-4ec3-f600-3495aea01d22"
      },
      "execution_count": null,
      "outputs": [
        {
          "output_type": "execute_result",
          "data": {
            "text/plain": [
              "125"
            ]
          },
          "metadata": {},
          "execution_count": 14
        }
      ]
    },
    {
      "cell_type": "markdown",
      "source": [
        "## Argument types\n",
        "# 1-->postional argument -\n",
        "it has two parameters those parameter aligned when it call  ,it will align as per the funtion call\n",
        "and it has two parameter we need to give two argument in function call else it will raise an error, without argument also we cant call this function\n"
      ],
      "metadata": {
        "id": "wzHiBDr9nK_q"
      }
    },
    {
      "cell_type": "code",
      "source": [
        "def hey(name, msg):\n",
        "  print(\"hey\",name+\",\"+msg)\n",
        "\n",
        "hey(\"Nandhu\",\"What doing Now\")"
      ],
      "metadata": {
        "colab": {
          "base_uri": "https://localhost:8080/"
        },
        "id": "jN0SlqMwnKZ3",
        "outputId": "0504cae1-7adf-45e1-f2e5-1b5cd561ce44"
      },
      "execution_count": null,
      "outputs": [
        {
          "output_type": "stream",
          "name": "stdout",
          "text": [
            "hey Nandhu,What doing Now\n"
          ]
        }
      ]
    },
    {
      "cell_type": "code",
      "source": [
        "hey(\"What doing Now\",\"Nandhu\")"
      ],
      "metadata": {
        "colab": {
          "base_uri": "https://localhost:8080/"
        },
        "id": "EGi3VZk5ns6j",
        "outputId": "9d7cf055-6aef-425d-ab64-e589aed11e2f"
      },
      "execution_count": null,
      "outputs": [
        {
          "output_type": "stream",
          "name": "stdout",
          "text": [
            "hey What doing Now,Nandhu\n"
          ]
        }
      ]
    },
    {
      "cell_type": "markdown",
      "source": [
        "# 2--> Default argument\n",
        "it has default value when define the funtion, we can call funtion without this default argument.and if we give any value in function call it will over right it."
      ],
      "metadata": {
        "id": "XsJdAMGLoB5-"
      }
    },
    {
      "cell_type": "code",
      "source": [
        "def hey(name,msg=\"Hey!Hello\"):\n",
        "  print(\"Hey\",name+\",\"+msg)\n",
        "\n",
        "hey(\"Nandhu\")\n",
        "hey(\"Nandhu\",\"Good morning\")\n"
      ],
      "metadata": {
        "colab": {
          "base_uri": "https://localhost:8080/"
        },
        "id": "3mCOtOJboyHt",
        "outputId": "53ac9979-1089-451c-9be2-0326611a9fb4"
      },
      "execution_count": null,
      "outputs": [
        {
          "output_type": "stream",
          "name": "stdout",
          "text": [
            "Hey Nandhu,Hey!Hello\n",
            "Hey Nandhu,Good morning\n"
          ]
        }
      ]
    },
    {
      "cell_type": "code",
      "source": [
        "def hey(name=\"Nandhu\",msg): #always second or last argument is the default argument. we cant keep the first argument as default one\n",
        "  print(\"Hey\",name+\",\"+msg)\n",
        "\n",
        "hey(\"Good morning\")"
      ],
      "metadata": {
        "colab": {
          "base_uri": "https://localhost:8080/",
          "height": 141
        },
        "id": "yAFURUWIpPLs",
        "outputId": "6f13cb5c-023d-4664-88ec-f006828a8b86"
      },
      "execution_count": null,
      "outputs": [
        {
          "output_type": "error",
          "ename": "SyntaxError",
          "evalue": "ignored",
          "traceback": [
            "\u001b[0;36m  File \u001b[0;32m\"<ipython-input-19-df842ba3963a>\"\u001b[0;36m, line \u001b[0;32m1\u001b[0m\n\u001b[0;31m    def hey(name=\"Nandhu\",msg):\u001b[0m\n\u001b[0m                          ^\u001b[0m\n\u001b[0;31mSyntaxError\u001b[0m\u001b[0;31m:\u001b[0m non-default argument follows default argument\n"
          ]
        }
      ]
    },
    {
      "cell_type": "markdown",
      "source": [
        "# 3--> Keyword argument\n",
        "if multiple keyword present either everyone has keyword and a value or the last one alone\n",
        "if first one has keyword and second or last has not will be error\n"
      ],
      "metadata": {
        "id": "RZjwkV3_p3Rg"
      }
    },
    {
      "cell_type": "code",
      "source": [
        "def hey(name, msg):\n",
        "  print(\"Hey\",name+\",\"+msg)\n",
        "\n",
        "hey(\"nandhu\",\"Good morning\")"
      ],
      "metadata": {
        "colab": {
          "base_uri": "https://localhost:8080/"
        },
        "id": "wsgwCj3fpyqw",
        "outputId": "5c088200-f913-490c-b434-793548184bb7"
      },
      "execution_count": null,
      "outputs": [
        {
          "output_type": "stream",
          "name": "stdout",
          "text": [
            "Hey nandhu,Good morning\n"
          ]
        }
      ]
    },
    {
      "cell_type": "code",
      "source": [
        "hey(name=\"Gokul\", msg=\"Good morning\")"
      ],
      "metadata": {
        "colab": {
          "base_uri": "https://localhost:8080/"
        },
        "id": "hp2YqSbcsGTD",
        "outputId": "5bccd18a-a1c0-4c01-c0c9-eeca5d275e36"
      },
      "execution_count": null,
      "outputs": [
        {
          "output_type": "stream",
          "name": "stdout",
          "text": [
            "Hey Gokul,Good morning\n"
          ]
        }
      ]
    },
    {
      "cell_type": "code",
      "source": [
        "hey(\"Ahaana\", name=\"Itho\") #first argument for first parameter and second we defautly to first parameter, so multiple value for first parameter"
      ],
      "metadata": {
        "colab": {
          "base_uri": "https://localhost:8080/",
          "height": 176
        },
        "id": "EuJVXfSFsNSb",
        "outputId": "f3aa5059-1259-4a75-c624-95b4456b0e2b"
      },
      "execution_count": null,
      "outputs": [
        {
          "output_type": "error",
          "ename": "TypeError",
          "evalue": "ignored",
          "traceback": [
            "\u001b[0;31m---------------------------------------------------------------------------\u001b[0m",
            "\u001b[0;31mTypeError\u001b[0m                                 Traceback (most recent call last)",
            "\u001b[0;32m<ipython-input-25-ba98c7555539>\u001b[0m in \u001b[0;36m<cell line: 1>\u001b[0;34m()\u001b[0m\n\u001b[0;32m----> 1\u001b[0;31m \u001b[0mhey\u001b[0m\u001b[0;34m(\u001b[0m\u001b[0;34m\"Ahaana\"\u001b[0m\u001b[0;34m,\u001b[0m \u001b[0mname\u001b[0m\u001b[0;34m=\u001b[0m\u001b[0;34m\"Itho\"\u001b[0m\u001b[0;34m)\u001b[0m\u001b[0;34m\u001b[0m\u001b[0;34m\u001b[0m\u001b[0m\n\u001b[0m",
            "\u001b[0;31mTypeError\u001b[0m: hey() got multiple values for argument 'name'"
          ]
        }
      ]
    },
    {
      "cell_type": "code",
      "source": [
        "hey(name=\"ahaana\",\"Good morning\") #either both needs keyword or second parameter can assign default not the first one"
      ],
      "metadata": {
        "colab": {
          "base_uri": "https://localhost:8080/",
          "height": 141
        },
        "id": "zZFjVZWnszcd",
        "outputId": "22bdff6b-167a-4a83-ce87-090a06447e22"
      },
      "execution_count": null,
      "outputs": [
        {
          "output_type": "error",
          "ename": "SyntaxError",
          "evalue": "ignored",
          "traceback": [
            "\u001b[0;36m  File \u001b[0;32m\"<ipython-input-27-2960ca7d222e>\"\u001b[0;36m, line \u001b[0;32m1\u001b[0m\n\u001b[0;31m    hey(name=\"ahaana\",\"Good morning\")\u001b[0m\n\u001b[0m                                    ^\u001b[0m\n\u001b[0;31mSyntaxError\u001b[0m\u001b[0;31m:\u001b[0m positional argument follows keyword argument\n"
          ]
        }
      ]
    },
    {
      "cell_type": "code",
      "source": [
        "hey(\"ahaana\",msg=\"Good morning\") #here second argument has a defaukt value"
      ],
      "metadata": {
        "colab": {
          "base_uri": "https://localhost:8080/"
        },
        "id": "2dzeaKMJtJhe",
        "outputId": "3e1c32a6-3531-488d-a952-fac5b3a7f7ce"
      },
      "execution_count": null,
      "outputs": [
        {
          "output_type": "stream",
          "name": "stdout",
          "text": [
            "Hey ahaana,Good morning\n"
          ]
        }
      ]
    },
    {
      "cell_type": "markdown",
      "source": [
        "# 4--> Arbitaray argument *args\n",
        "we can use multiple argument for a single parameter, it will store in tuple\n",
        "as usual the last argument are may be default or usual"
      ],
      "metadata": {
        "id": "GT_4rhMzubRD"
      }
    },
    {
      "cell_type": "code",
      "source": [
        "def del_item(*data,index=-1):#-1 will delete the last item\n",
        "  lis=list(data)\n",
        "  lis.pop(index)\n",
        "  return lis\n",
        "\n",
        "del_item(1,3,5,6,7,8,34,54,634,232,434,355454,46,23,2323)"
      ],
      "metadata": {
        "colab": {
          "base_uri": "https://localhost:8080/"
        },
        "id": "NWz5XDO3vfUo",
        "outputId": "a1d65987-770d-4e96-e9a1-e6283ec9753c"
      },
      "execution_count": null,
      "outputs": [
        {
          "output_type": "execute_result",
          "data": {
            "text/plain": [
              "[1, 3, 5, 6, 7, 8, 34, 54, 634, 232, 434, 355454, 46, 23]"
            ]
          },
          "metadata": {},
          "execution_count": 29
        }
      ]
    },
    {
      "cell_type": "code",
      "source": [
        "del_item(1,3,5,6,7,8,34,54,634,232,434,355454,46,23,2323, index=4) #it will delete the forth item in the list"
      ],
      "metadata": {
        "colab": {
          "base_uri": "https://localhost:8080/"
        },
        "id": "ny2lfvSBv_bQ",
        "outputId": "e1fb4850-7906-4801-acee-509d3c8bcf91"
      },
      "execution_count": null,
      "outputs": [
        {
          "output_type": "execute_result",
          "data": {
            "text/plain": [
              "[1, 3, 5, 6, 8, 34, 54, 634, 232, 434, 355454, 46, 23, 2323]"
            ]
          },
          "metadata": {},
          "execution_count": 31
        }
      ]
    },
    {
      "cell_type": "code",
      "source": [
        "def greet(*names):\n",
        "  for name in names:\n",
        "    print(\"hello\", name)\n",
        "\n",
        "greet(\"nandhu\",\"gokul\",\"Ahaana\",\"aaya\",\"teju\",\"Ananya\",\"harsha\",\"nannnsn\")"
      ],
      "metadata": {
        "colab": {
          "base_uri": "https://localhost:8080/"
        },
        "id": "ndDZ0KwxwLlI",
        "outputId": "cd2344b8-7cc0-4130-bbb3-3b7de710e79e"
      },
      "execution_count": null,
      "outputs": [
        {
          "output_type": "stream",
          "name": "stdout",
          "text": [
            "hello nandhu\n",
            "hello gokul\n",
            "hello Ahaana\n",
            "hello aaya\n",
            "hello teju\n",
            "hello Ananya\n",
            "hello harsha\n",
            "hello nannnsn\n"
          ]
        }
      ]
    },
    {
      "cell_type": "markdown",
      "source": [
        "# **5--> Keyword arbitaray**  **kargs\n",
        "\n",
        "it has two ** it will store the values in dictionary\n",
        "we can give multiple values in function call"
      ],
      "metadata": {
        "id": "oeK2t1oNww0A"
      }
    },
    {
      "cell_type": "code",
      "source": [
        "def carDetails(**car):\n",
        "  print(\"Brand-->\",car['brand'])\n",
        "  print(\"color-->\",car['color'])\n",
        "  print(\"model-->\",car['model'])\n",
        "  print(\"year-->\",car['year'])\n",
        "  print(type(car))\n"
      ],
      "metadata": {
        "id": "rBpW64NJwlIX"
      },
      "execution_count": null,
      "outputs": []
    },
    {
      "cell_type": "code",
      "source": [
        "carDetails(brand='Honda',year=2023,model=\"fjheiufh\",color='red')"
      ],
      "metadata": {
        "colab": {
          "base_uri": "https://localhost:8080/"
        },
        "id": "TuNly3TcxdCI",
        "outputId": "9dc0fadd-af8f-4379-ab47-bc67cbc82f65"
      },
      "execution_count": null,
      "outputs": [
        {
          "output_type": "stream",
          "name": "stdout",
          "text": [
            "Brand--> Honda\n",
            "color--> red\n",
            "model--> fjheiufh\n",
            "year--> 2023\n",
            "<class 'dict'>\n"
          ]
        }
      ]
    },
    {
      "cell_type": "markdown",
      "source": [
        "# Anonymous Functions\n",
        "Which means a function without names are called anonymous"
      ],
      "metadata": {
        "id": "ukRmBXgLgaOY"
      }
    },
    {
      "cell_type": "code",
      "source": [
        "def FunctionName():\n",
        "  x=8\n",
        "  y=9\n",
        "  return x+y\n"
      ],
      "metadata": {
        "id": "dIyhkDeUgmyz"
      },
      "execution_count": null,
      "outputs": []
    },
    {
      "cell_type": "code",
      "source": [
        "fun_ref=FunctionName #fun_ref is not a function but FunctionName funtions return value is stored here and we can call that fun_ref as function with paranthesis\n",
        "fun_ref()"
      ],
      "metadata": {
        "colab": {
          "base_uri": "https://localhost:8080/"
        },
        "id": "BNo0FIZigvWo",
        "outputId": "94368baa-5b06-4306-afbf-8aacb9f42116"
      },
      "execution_count": null,
      "outputs": [
        {
          "output_type": "execute_result",
          "data": {
            "text/plain": [
              "17"
            ]
          },
          "metadata": {},
          "execution_count": 3
        }
      ]
    },
    {
      "cell_type": "code",
      "source": [
        "FunctionName"
      ],
      "metadata": {
        "colab": {
          "base_uri": "https://localhost:8080/"
        },
        "id": "bfEjqGs4g4Wq",
        "outputId": "d1185c5a-013a-4d55-ead9-7a5354251673"
      },
      "execution_count": null,
      "outputs": [
        {
          "output_type": "execute_result",
          "data": {
            "text/plain": [
              "<function __main__.FunctionName()>"
            ]
          },
          "metadata": {},
          "execution_count": 4
        }
      ]
    },
    {
      "cell_type": "code",
      "source": [
        "id(FunctionName), id(fun_ref) #both are same"
      ],
      "metadata": {
        "colab": {
          "base_uri": "https://localhost:8080/"
        },
        "id": "i88C9b51hWMd",
        "outputId": "a8746f07-9ac1-4dcb-fcd7-d0b7ecb5db4a"
      },
      "execution_count": null,
      "outputs": [
        {
          "output_type": "execute_result",
          "data": {
            "text/plain": [
              "(132993971379584, 132993971379584)"
            ]
          },
          "metadata": {},
          "execution_count": 5
        }
      ]
    },
    {
      "cell_type": "code",
      "source": [
        "type(FunctionName), type(fun_ref)"
      ],
      "metadata": {
        "colab": {
          "base_uri": "https://localhost:8080/"
        },
        "id": "c-60sWT_h8ut",
        "outputId": "273d6d73-adc4-4891-e7e1-ee718f4fb0a0"
      },
      "execution_count": null,
      "outputs": [
        {
          "output_type": "execute_result",
          "data": {
            "text/plain": [
              "(function, function)"
            ]
          },
          "metadata": {},
          "execution_count": 6
        }
      ]
    },
    {
      "cell_type": "code",
      "source": [
        "#we can LAMDA instead using a def function for short period of time we want a function means\n",
        "\n",
        "no_name = lambda : print(\"Hey!I'm Printing\")  #syntax lambda , argument(x), :(colon), single line of content\n",
        "\n",
        "\n",
        "no_name() #we need to call it like a function call with paranthesis"
      ],
      "metadata": {
        "colab": {
          "base_uri": "https://localhost:8080/"
        },
        "id": "i62yAcZ4iDAT",
        "outputId": "ab9b23cf-b737-4415-ea22-6ae54ccb0ea3"
      },
      "execution_count": null,
      "outputs": [
        {
          "output_type": "stream",
          "name": "stdout",
          "text": [
            "Hey!I'm Printing\n"
          ]
        }
      ]
    },
    {
      "cell_type": "code",
      "source": [
        "add=lambda x,y,z : x+y+z\n",
        "\n",
        "total=add(4,5,6)\n",
        "total"
      ],
      "metadata": {
        "colab": {
          "base_uri": "https://localhost:8080/"
        },
        "id": "C65yaZRnjLGd",
        "outputId": "1a4a8649-16ae-4cbb-bbc5-3b29b5e13969"
      },
      "execution_count": null,
      "outputs": [
        {
          "output_type": "execute_result",
          "data": {
            "text/plain": [
              "15"
            ]
          },
          "metadata": {},
          "execution_count": 16
        }
      ]
    },
    {
      "cell_type": "code",
      "source": [
        "mul = lambda x :x/3\n",
        "mul(total)"
      ],
      "metadata": {
        "colab": {
          "base_uri": "https://localhost:8080/"
        },
        "id": "4H7HUYKUj7a0",
        "outputId": "9c96ee64-20a0-4548-aca3-3edde7b6791d"
      },
      "execution_count": null,
      "outputs": [
        {
          "output_type": "execute_result",
          "data": {
            "text/plain": [
              "5.0"
            ]
          },
          "metadata": {},
          "execution_count": 17
        }
      ]
    },
    {
      "cell_type": "code",
      "source": [
        "c= mul # here im just assigning mul varaible into an variable that total function is happening with this variable name\n",
        "c(6)"
      ],
      "metadata": {
        "colab": {
          "base_uri": "https://localhost:8080/"
        },
        "id": "8Cd1OV6EkQn2",
        "outputId": "3d6c9c4a-a235-4af6-f0bb-7d8d7374e9de"
      },
      "execution_count": null,
      "outputs": [
        {
          "output_type": "execute_result",
          "data": {
            "text/plain": [
              "2.0"
            ]
          },
          "metadata": {},
          "execution_count": 19
        }
      ]
    },
    {
      "cell_type": "code",
      "source": [
        "round(c(91))  # c(91)-->mul function 91/3 and its rounded to nearest full number"
      ],
      "metadata": {
        "colab": {
          "base_uri": "https://localhost:8080/"
        },
        "id": "J03CzRLekmUU",
        "outputId": "378be947-9267-4663-c10d-e3492fe49848"
      },
      "execution_count": null,
      "outputs": [
        {
          "output_type": "execute_result",
          "data": {
            "text/plain": [
              "30"
            ]
          },
          "metadata": {},
          "execution_count": 21
        }
      ]
    },
    {
      "cell_type": "markdown",
      "source": [
        "# lambda function has filter map and reduce in-built funtion\n",
        "filter is used to filter the true results and print the true alone\n",
        "map it will check all elements and print its result either it is true or false\n",
        "reducd it will reduce the line of code within a line the output will come\n",
        "examples below\n"
      ],
      "metadata": {
        "id": "mF2x_KC5n8sx"
      }
    },
    {
      "cell_type": "code",
      "source": [
        "even =lambda x : (x%2==0)\n",
        "even(5)"
      ],
      "metadata": {
        "colab": {
          "base_uri": "https://localhost:8080/"
        },
        "id": "6sEBPKYYobEn",
        "outputId": "34e3eb8b-9354-4e5e-a09b-3eb8f7677c30"
      },
      "execution_count": null,
      "outputs": [
        {
          "output_type": "execute_result",
          "data": {
            "text/plain": [
              "False"
            ]
          },
          "metadata": {},
          "execution_count": 32
        }
      ]
    },
    {
      "cell_type": "code",
      "source": [
        "lis=[1,2,3,4,5,6,7,8,9,10]\n",
        "even_list=list(filter(lambda x :(x%2==0), lis))\n",
        "\n",
        "even_list"
      ],
      "metadata": {
        "colab": {
          "base_uri": "https://localhost:8080/"
        },
        "id": "Cp6gjYzbopvY",
        "outputId": "062f9bda-7cc8-47be-a7d9-23a2529d31e5"
      },
      "execution_count": null,
      "outputs": [
        {
          "output_type": "execute_result",
          "data": {
            "text/plain": [
              "[2, 4, 6, 8, 10]"
            ]
          },
          "metadata": {},
          "execution_count": 31
        }
      ]
    },
    {
      "cell_type": "code",
      "source": [
        "map_list=list(map(lambda x:(x%2==0), lis))\n",
        "\n",
        "map_list"
      ],
      "metadata": {
        "colab": {
          "base_uri": "https://localhost:8080/"
        },
        "id": "lMnpV4OSpk-d",
        "outputId": "67fa2870-6fdb-4636-dcb7-5f2d1483b941"
      },
      "execution_count": null,
      "outputs": [
        {
          "output_type": "execute_result",
          "data": {
            "text/plain": [
              "[False, True, False, True, False, True, False, True, False, True]"
            ]
          },
          "metadata": {},
          "execution_count": 33
        }
      ]
    },
    {
      "cell_type": "code",
      "source": [
        "map_mul=list(map(lambda x: x*5, lis))\n",
        "\n",
        "map_mul"
      ],
      "metadata": {
        "colab": {
          "base_uri": "https://localhost:8080/"
        },
        "id": "odTmivLFqCe1",
        "outputId": "4f687073-9286-4abe-d939-6d806599d711"
      },
      "execution_count": null,
      "outputs": [
        {
          "output_type": "execute_result",
          "data": {
            "text/plain": [
              "[5, 10, 15, 20, 25, 30, 35, 40, 45, 50]"
            ]
          },
          "metadata": {},
          "execution_count": 35
        }
      ]
    },
    {
      "cell_type": "code",
      "source": [
        "import functools\n",
        "\n",
        "functools.reduce(lambda x,y : x if (x>y) else y,lis)\n"
      ],
      "metadata": {
        "colab": {
          "base_uri": "https://localhost:8080/"
        },
        "id": "A9v34vgPpzQ7",
        "outputId": "db3b9da5-92e4-4ba4-f821-5ed05e1ea1a6"
      },
      "execution_count": null,
      "outputs": [
        {
          "output_type": "execute_result",
          "data": {
            "text/plain": [
              "10"
            ]
          },
          "metadata": {},
          "execution_count": 41
        }
      ]
    },
    {
      "cell_type": "code",
      "source": [
        "functools.reduce(lambda x, y: x+y, lis)"
      ],
      "metadata": {
        "colab": {
          "base_uri": "https://localhost:8080/"
        },
        "id": "twH-zm0Iq-26",
        "outputId": "e1fbc178-0fcd-4e67-8775-9ff0e2144410"
      },
      "execution_count": null,
      "outputs": [
        {
          "output_type": "execute_result",
          "data": {
            "text/plain": [
              "55"
            ]
          },
          "metadata": {},
          "execution_count": 42
        }
      ]
    },
    {
      "cell_type": "code",
      "source": [
        "functools.reduce(lambda x, y:x+y, map_mul)"
      ],
      "metadata": {
        "colab": {
          "base_uri": "https://localhost:8080/"
        },
        "id": "QewHnK3lrOl_",
        "outputId": "1fdb76e3-e999-4a32-878f-543e6de8e680"
      },
      "execution_count": null,
      "outputs": [
        {
          "output_type": "execute_result",
          "data": {
            "text/plain": [
              "275"
            ]
          },
          "metadata": {},
          "execution_count": 43
        }
      ]
    },
    {
      "cell_type": "code",
      "source": [
        "# take some data\n",
        "\n",
        "marks = [90,77,67,89,55,34,91]\n",
        "\n",
        "# grace marks as 5\n",
        "\n",
        "# identify pass marks\n",
        "\n",
        "# top 1 marks\n",
        "\n",
        "grace=list(map(lambda x: x+5, marks))\n",
        "grace"
      ],
      "metadata": {
        "colab": {
          "base_uri": "https://localhost:8080/"
        },
        "id": "t0wZZiVLrgy9",
        "outputId": "2c9af8d5-1e65-433c-d4d6-0af323705b7e"
      },
      "execution_count": null,
      "outputs": [
        {
          "output_type": "execute_result",
          "data": {
            "text/plain": [
              "[95, 82, 72, 94, 60, 39, 96]"
            ]
          },
          "metadata": {},
          "execution_count": 45
        }
      ]
    },
    {
      "cell_type": "code",
      "source": [
        "pass_mark = list(filter(lambda x : x >40 , grace))\n",
        "pass_mark"
      ],
      "metadata": {
        "colab": {
          "base_uri": "https://localhost:8080/"
        },
        "id": "7jJnwWoirx6l",
        "outputId": "41fded7c-61bb-47c2-be5a-8ff901ec53b0"
      },
      "execution_count": null,
      "outputs": [
        {
          "output_type": "execute_result",
          "data": {
            "text/plain": [
              "[95, 82, 72, 94, 60, 96]"
            ]
          },
          "metadata": {},
          "execution_count": 47
        }
      ]
    },
    {
      "cell_type": "code",
      "source": [
        "functools.reduce(lambda x,y : x if (x>y) else y, pass_mark)"
      ],
      "metadata": {
        "colab": {
          "base_uri": "https://localhost:8080/"
        },
        "id": "-keJdVQZsIxH",
        "outputId": "b5950a5e-60b8-475e-bddf-193064e684e4"
      },
      "execution_count": null,
      "outputs": [
        {
          "output_type": "execute_result",
          "data": {
            "text/plain": [
              "96"
            ]
          },
          "metadata": {},
          "execution_count": 49
        }
      ]
    }
  ]
}