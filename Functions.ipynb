{
  "nbformat": 4,
  "nbformat_minor": 0,
  "metadata": {
    "colab": {
      "provenance": [],
      "authorship_tag": "ABX9TyMcJXPcn4Ep74hj49xIKAd4",
      "include_colab_link": true
    },
    "kernelspec": {
      "name": "python3",
      "display_name": "Python 3"
    },
    "language_info": {
      "name": "python"
    }
  },
  "cells": [
    {
      "cell_type": "markdown",
      "metadata": {
        "id": "view-in-github",
        "colab_type": "text"
      },
      "source": [
        "<a href=\"https://colab.research.google.com/github/nandhuk0706/python/blob/main/Functions.ipynb\" target=\"_parent\"><img src=\"https://colab.research.google.com/assets/colab-badge.svg\" alt=\"Open In Colab\"/></a>"
      ]
    },
    {
      "cell_type": "code",
      "execution_count": 27,
      "metadata": {
        "colab": {
          "base_uri": "https://localhost:8080/"
        },
        "id": "FMnZwgd3tqAe",
        "outputId": "bf7514ff-2172-4dbc-c7d5-16b44bfd070e"
      },
      "outputs": [
        {
          "output_type": "stream",
          "name": "stdout",
          "text": [
            "Enter a number:8\n",
            "Enter a number:6\n",
            "sum --> 14\n",
            "return value: 14\n"
          ]
        }
      ],
      "source": [
        "x=int(input(\"Enter a number:\"))\n",
        "y=int(input(\"Enter a number:\"))\n",
        "def add(x,y):\n",
        "  z=x+y\n",
        "  print(\"sum -->\",z)\n",
        "  return z # z value is stored and in return that can retireve from using an variable\n",
        "\n",
        "my_return=add(x,y)\n",
        "print(\"return value:\",my_return)\n",
        "\n"
      ]
    },
    {
      "cell_type": "code",
      "source": [
        "add(8,9)\n"
      ],
      "metadata": {
        "colab": {
          "base_uri": "https://localhost:8080/"
        },
        "id": "r7tqFGP2uqoI",
        "outputId": "fca10193-4bfc-444f-e0a8-e138a09a68c0"
      },
      "execution_count": 18,
      "outputs": [
        {
          "output_type": "stream",
          "name": "stdout",
          "text": [
            "sum --> 17\n"
          ]
        },
        {
          "output_type": "execute_result",
          "data": {
            "text/plain": [
              "17"
            ]
          },
          "metadata": {},
          "execution_count": 18
        }
      ]
    },
    {
      "cell_type": "code",
      "source": [
        "def DoAdd(x,y):\n",
        "  \"\"\"hey! There i'm Ushanandhini\n",
        "  Hope everything going good\n",
        "  Bless of luck for your future\n",
        "  Meet you soon\"\"\"\n",
        "  print(\"Sum of x, y\",x+y)\n",
        "  #return (x+y) #return statement is not used that variable value would be none\n",
        "\n",
        "DoAdd(4,8)\n",
        "my_return=DoAdd(6,7)\n",
        "print(\"return value:\",my_return)"
      ],
      "metadata": {
        "colab": {
          "base_uri": "https://localhost:8080/"
        },
        "id": "SK-RMha7wANY",
        "outputId": "852405c8-8a67-4994-ee8d-77777b585442"
      },
      "execution_count": 28,
      "outputs": [
        {
          "output_type": "stream",
          "name": "stdout",
          "text": [
            "Sum of x, y 12\n",
            "Sum of x, y 13\n",
            "return value: None\n"
          ]
        }
      ]
    },
    {
      "cell_type": "code",
      "source": [
        "print(DoAdd.__doc__)"
      ],
      "metadata": {
        "colab": {
          "base_uri": "https://localhost:8080/"
        },
        "id": "biS85GJHwa5H",
        "outputId": "7f18d36a-582e-4718-8f1f-ffee7aaf486a"
      },
      "execution_count": 24,
      "outputs": [
        {
          "output_type": "stream",
          "name": "stdout",
          "text": [
            "hey! There i'm Ushanandhini \n",
            "  Hope everything going good\n",
            "  Bless of luck for your future\n",
            "  Meet you soon\n"
          ]
        }
      ]
    },
    {
      "cell_type": "code",
      "source": [
        "def squre(x):\n",
        "  print(\"squre of x is:\",x**2)\n",
        "  return #nothing assigned to return it just an end of function\n",
        "  return(x**2) #it never print the return statement one return only execute and end the function\n",
        "  print(\"squre of x value is printed above\") #return statement is the end of function after that it never printed anything\n",
        "squre(5)\n",
        "my_return=squre(7)\n",
        "print(\"return value:\",my_return)"
      ],
      "metadata": {
        "colab": {
          "base_uri": "https://localhost:8080/"
        },
        "id": "MtcbENfkxyp4",
        "outputId": "777f36d6-9046-4166-efa3-ad407bd90dd0"
      },
      "execution_count": 32,
      "outputs": [
        {
          "output_type": "stream",
          "name": "stdout",
          "text": [
            "squre of x is: 25\n",
            "squre of x is: 49\n",
            "return value: None\n"
          ]
        }
      ]
    },
    {
      "cell_type": "code",
      "source": [
        "def printnames():\n",
        "  print(\"Anu\",\"thames\")\n",
        "  return (\"Anu\",\"thames\",\"Ahaana\")\n",
        "printnames()\n",
        "my_return=printnames()\n",
        "print(\"returned value:\",my_return)\n",
        "type(my_return)"
      ],
      "metadata": {
        "colab": {
          "base_uri": "https://localhost:8080/"
        },
        "id": "ysQ3_AoMzMg_",
        "outputId": "cb2e003a-9baa-463a-efc7-ece24f4b14de"
      },
      "execution_count": 35,
      "outputs": [
        {
          "output_type": "stream",
          "name": "stdout",
          "text": [
            "Anu thames\n",
            "Anu thames\n",
            "returned value: ('Anu', 'thames', 'Ahaana')\n"
          ]
        },
        {
          "output_type": "execute_result",
          "data": {
            "text/plain": [
              "tuple"
            ]
          },
          "metadata": {},
          "execution_count": 35
        }
      ]
    },
    {
      "cell_type": "code",
      "source": [
        "def add():\n",
        "  x=10\n",
        "  y=34\n",
        "  print(\"add of x,y:\",x+y)\n",
        "  return(x+y)\n",
        "def squr(value):\n",
        "  print(\"squre of value:\",value**2)\n",
        "  return (value**2)\n",
        "\n",
        "squr(add()) #we can pass the value from one function to another function like this"
      ],
      "metadata": {
        "colab": {
          "base_uri": "https://localhost:8080/"
        },
        "id": "C6NSa9oUz3wG",
        "outputId": "bd17df2c-364a-4752-eff2-82ac13862bf0"
      },
      "execution_count": 39,
      "outputs": [
        {
          "output_type": "stream",
          "name": "stdout",
          "text": [
            "add of x,y: 44\n",
            "squre of value: 1936\n"
          ]
        },
        {
          "output_type": "execute_result",
          "data": {
            "text/plain": [
              "1936"
            ]
          },
          "metadata": {},
          "execution_count": 39
        }
      ]
    },
    {
      "cell_type": "code",
      "source": [
        "def hey():\n",
        "  print(\"hey hello\")\n",
        "def hello():\n",
        "  print(\"hello\")\n",
        "\n",
        "hello()\n",
        "hey()\n",
        "\n",
        "hey(hello())"
      ],
      "metadata": {
        "colab": {
          "base_uri": "https://localhost:8080/",
          "height": 263
        },
        "id": "M8xFNhLw1zit",
        "outputId": "41ef089a-b9b8-4cd0-ee5a-d905264b36df"
      },
      "execution_count": 47,
      "outputs": [
        {
          "output_type": "stream",
          "name": "stdout",
          "text": [
            "hello\n",
            "hey hello\n",
            "hello\n"
          ]
        },
        {
          "output_type": "error",
          "ename": "TypeError",
          "evalue": "ignored",
          "traceback": [
            "\u001b[0;31m---------------------------------------------------------------------------\u001b[0m",
            "\u001b[0;31mTypeError\u001b[0m                                 Traceback (most recent call last)",
            "\u001b[0;32m<ipython-input-47-b6b9d8b63f2b>\u001b[0m in \u001b[0;36m<cell line: 9>\u001b[0;34m()\u001b[0m\n\u001b[1;32m      7\u001b[0m \u001b[0mhey\u001b[0m\u001b[0;34m(\u001b[0m\u001b[0;34m)\u001b[0m\u001b[0;34m\u001b[0m\u001b[0;34m\u001b[0m\u001b[0m\n\u001b[1;32m      8\u001b[0m \u001b[0;34m\u001b[0m\u001b[0m\n\u001b[0;32m----> 9\u001b[0;31m \u001b[0mhey\u001b[0m\u001b[0;34m(\u001b[0m\u001b[0mhello\u001b[0m\u001b[0;34m(\u001b[0m\u001b[0;34m)\u001b[0m\u001b[0;34m)\u001b[0m\u001b[0;34m\u001b[0m\u001b[0;34m\u001b[0m\u001b[0m\n\u001b[0m",
            "\u001b[0;31mTypeError\u001b[0m: hey() takes 0 positional arguments but 1 was given"
          ]
        }
      ]
    },
    {
      "cell_type": "code",
      "source": [
        "def hey(y=None):\n",
        "  print(\"hey hello\")\n",
        "def hello():\n",
        "  print(\"hello\")\n",
        "\n",
        "hello()\n",
        "hey()\n",
        "\n",
        "hey(hello())"
      ],
      "metadata": {
        "colab": {
          "base_uri": "https://localhost:8080/"
        },
        "id": "lU-40UrS2hPS",
        "outputId": "d7f8533a-fcdd-40bf-aaa4-93362b2da48c"
      },
      "execution_count": 50,
      "outputs": [
        {
          "output_type": "stream",
          "name": "stdout",
          "text": [
            "hello\n",
            "hey hello\n",
            "hello\n",
            "hey hello\n"
          ]
        }
      ]
    },
    {
      "cell_type": "code",
      "source": [
        "def add(x,y):\n",
        "  z=x+y\n",
        "  print(\"sum of x, y:\",z)\n",
        "  return z\n",
        "def squre(x):\n",
        "  print(\"squre of x is :\",x**2)\n",
        "  return (x**2)\n",
        "\n",
        "add(7,5)\n",
        "squre(45)\n",
        "add(add(4,5),squre(4))\n"
      ],
      "metadata": {
        "colab": {
          "base_uri": "https://localhost:8080/"
        },
        "id": "eo-ruNIz253t",
        "outputId": "bcdf80c5-6724-4d9d-d407-9fefbea30ee4"
      },
      "execution_count": 53,
      "outputs": [
        {
          "output_type": "stream",
          "name": "stdout",
          "text": [
            "sum of x, y: 12\n",
            "squre of x is : 2025\n",
            "sum of x, y: 9\n",
            "squre of x is : 16\n",
            "sum of x, y: 25\n"
          ]
        },
        {
          "output_type": "execute_result",
          "data": {
            "text/plain": [
              "25"
            ]
          },
          "metadata": {},
          "execution_count": 53
        }
      ]
    },
    {
      "cell_type": "code",
      "source": [
        "#30%(20%number)\n",
        "def percentage(percent,number):\n",
        "  op=((percent/100) * number)\n",
        "  print(op)\n",
        "  return op\n",
        "\n",
        "percentage(20,25000)\n",
        "\n",
        "percentage(30,(percentage(20,45000)))\n",
        "\n"
      ],
      "metadata": {
        "colab": {
          "base_uri": "https://localhost:8080/"
        },
        "id": "jQIw9oY54Wjf",
        "outputId": "28ae9472-7ad9-4b71-d093-fe98acbdefb3"
      },
      "execution_count": 60,
      "outputs": [
        {
          "output_type": "stream",
          "name": "stdout",
          "text": [
            "5000.0\n",
            "9000.0\n",
            "2700.0\n"
          ]
        },
        {
          "output_type": "execute_result",
          "data": {
            "text/plain": [
              "2700.0"
            ]
          },
          "metadata": {},
          "execution_count": 60
        }
      ]
    }
  ]
}