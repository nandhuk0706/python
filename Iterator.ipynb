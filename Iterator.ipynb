{
  "cells": [
    {
      "cell_type": "markdown",
      "metadata": {
        "id": "view-in-github",
        "colab_type": "text"
      },
      "source": [
        "<a href=\"https://colab.research.google.com/github/nandhuk0706/python/blob/main/Iterator.ipynb\" target=\"_parent\"><img src=\"https://colab.research.google.com/assets/colab-badge.svg\" alt=\"Open In Colab\"/></a>"
      ]
    },
    {
      "cell_type": "code",
      "execution_count": null,
      "metadata": {
        "colab": {
          "base_uri": "https://localhost:8080/"
        },
        "id": "YfOq4TxuJl_9",
        "outputId": "e5bd0a2a-1120-428b-a3b6-5d93d6e52c0a"
      },
      "outputs": [
        {
          "name": "stdout",
          "output_type": "stream",
          "text": [
            "0\n",
            "1\n",
            "2\n",
            "3\n",
            "4\n",
            "5\n"
          ]
        }
      ],
      "source": [
        "for i in range(6):\n",
        "  print(i)"
      ]
    },
    {
      "cell_type": "code",
      "execution_count": null,
      "metadata": {
        "colab": {
          "base_uri": "https://localhost:8080/"
        },
        "id": "u3xQf_9WJw5Q",
        "outputId": "63049203-35ce-4053-f49b-fba4a5b33b6a"
      },
      "outputs": [
        {
          "name": "stdout",
          "output_type": "stream",
          "text": [
            "0\n",
            "1\n",
            "2\n",
            "3\n",
            "4\n",
            "5\n"
          ]
        }
      ],
      "source": [
        "i=0\n",
        "while i <=5:\n",
        "  print(i)\n",
        "  i+=1\n"
      ]
    },
    {
      "cell_type": "code",
      "execution_count": null,
      "metadata": {
        "colab": {
          "base_uri": "https://localhost:8080/"
        },
        "id": "uD8_TymMGWi6",
        "outputId": "b82d6e14-7f3d-4684-bb26-e4301adad834"
      },
      "outputs": [
        {
          "data": {
            "text/plain": [
              "<list_iterator at 0x7d6e9d3839d0>"
            ]
          },
          "execution_count": 7,
          "metadata": {},
          "output_type": "execute_result"
        }
      ],
      "source": [
        "#iterator has two element\n",
        "#__iter__ used to iterate the iterable elements\n",
        "#__next__ used to get next iter items\n",
        "l=[1,2,3,4,6]\n",
        "my_iter=iter(l)\n",
        "my_iter #it's memory address of that object"
      ]
    },
    {
      "cell_type": "code",
      "execution_count": null,
      "metadata": {
        "colab": {
          "base_uri": "https://localhost:8080/"
        },
        "id": "JWa_0jDuHO7s",
        "outputId": "d0efe423-aba9-472b-9e64-5fa1f321922c"
      },
      "outputs": [
        {
          "data": {
            "text/plain": [
              "1"
            ]
          },
          "execution_count": 8,
          "metadata": {},
          "output_type": "execute_result"
        }
      ],
      "source": [
        "next(my_iter)"
      ]
    },
    {
      "cell_type": "code",
      "execution_count": null,
      "metadata": {
        "colab": {
          "base_uri": "https://localhost:8080/"
        },
        "id": "ES1jYu9rHefj",
        "outputId": "6a78a5bb-cedc-4631-a41e-7c90d3b22e8e"
      },
      "outputs": [
        {
          "data": {
            "text/plain": [
              "2"
            ]
          },
          "execution_count": 9,
          "metadata": {},
          "output_type": "execute_result"
        }
      ],
      "source": [
        "next(my_iter)"
      ]
    },
    {
      "cell_type": "code",
      "execution_count": null,
      "metadata": {
        "colab": {
          "base_uri": "https://localhost:8080/"
        },
        "id": "edZnG-R_Hhxo",
        "outputId": "8a3aa15c-b6a7-4b1d-a1ff-4b5bb9d2ca1c"
      },
      "outputs": [
        {
          "data": {
            "text/plain": [
              "3"
            ]
          },
          "execution_count": 10,
          "metadata": {},
          "output_type": "execute_result"
        }
      ],
      "source": [
        "next(my_iter)"
      ]
    },
    {
      "cell_type": "code",
      "execution_count": null,
      "metadata": {
        "colab": {
          "base_uri": "https://localhost:8080/"
        },
        "id": "mORrLiYAHjni",
        "outputId": "6e224437-ab72-46c8-9ab5-89e0abcf7ad4"
      },
      "outputs": [
        {
          "data": {
            "text/plain": [
              "4"
            ]
          },
          "execution_count": 11,
          "metadata": {},
          "output_type": "execute_result"
        }
      ],
      "source": [
        "next(my_iter)"
      ]
    },
    {
      "cell_type": "code",
      "execution_count": null,
      "metadata": {
        "colab": {
          "base_uri": "https://localhost:8080/"
        },
        "id": "tQ1DC29PHk3D",
        "outputId": "a8bf1bbd-e2c6-4967-b9bc-516b5aa44bbd"
      },
      "outputs": [
        {
          "data": {
            "text/plain": [
              "6"
            ]
          },
          "execution_count": 12,
          "metadata": {},
          "output_type": "execute_result"
        }
      ],
      "source": [
        "next(my_iter)"
      ]
    },
    {
      "cell_type": "code",
      "execution_count": null,
      "metadata": {
        "colab": {
          "base_uri": "https://localhost:8080/",
          "height": 176
        },
        "id": "RCwIpF7cHmpD",
        "outputId": "6b061413-1a73-40de-d7ec-1883a1480503"
      },
      "outputs": [
        {
          "ename": "StopIteration",
          "evalue": "",
          "output_type": "error",
          "traceback": [
            "\u001b[0;31m---------------------------------------------------------------------------\u001b[0m",
            "\u001b[0;31mStopIteration\u001b[0m                             Traceback (most recent call last)",
            "\u001b[0;32m<ipython-input-13-94a4229f6542>\u001b[0m in \u001b[0;36m<cell line: 1>\u001b[0;34m()\u001b[0m\n\u001b[0;32m----> 1\u001b[0;31m \u001b[0mnext\u001b[0m\u001b[0;34m(\u001b[0m\u001b[0mmy_iter\u001b[0m\u001b[0;34m)\u001b[0m\u001b[0;34m\u001b[0m\u001b[0;34m\u001b[0m\u001b[0m\n\u001b[0m",
            "\u001b[0;31mStopIteration\u001b[0m: "
          ]
        }
      ],
      "source": [
        "next(my_iter) #the list of element is completed on before iter itself"
      ]
    },
    {
      "cell_type": "code",
      "execution_count": null,
      "metadata": {
        "colab": {
          "base_uri": "https://localhost:8080/"
        },
        "id": "ZvOHESfgH2BJ",
        "outputId": "fa3531c2-bfc3-43f8-87e6-b9c7f25a5520"
      },
      "outputs": [
        {
          "name": "stdout",
          "output_type": "stream",
          "text": [
            "1\n",
            "2\n",
            "3\n",
            "4\n",
            "5\n",
            "6\n",
            "7\n"
          ]
        }
      ],
      "source": [
        "#how to use in while and for loop\n",
        "\n",
        "l=[1,2,3,4,5,6,7]\n",
        "l_obj=iter(l)\n",
        "\n",
        "while True:\n",
        "  try:\n",
        "    element=next(l_obj)\n",
        "    print(element)\n",
        "\n",
        "  except StopIteration:\n",
        "    break"
      ]
    },
    {
      "cell_type": "code",
      "execution_count": 3,
      "metadata": {
        "id": "KxaTx3n4J-_d"
      },
      "outputs": [],
      "source": [
        "class pt:\n",
        "  def __init__(self,max=0):\n",
        "    self.max=max\n",
        "  def __iter__(self):\n",
        "    self.n=0\n",
        "    return self\n",
        "  def __next__(self):\n",
        "    if self.n<=self.max:\n",
        "      result=2**self.n\n",
        "      self.n +=1\n",
        "      return result\n",
        "    else:\n",
        "      raise StopIteration\n",
        "\n"
      ]
    },
    {
      "cell_type": "code",
      "execution_count": 4,
      "metadata": {
        "id": "ZS64M3jBMChh"
      },
      "outputs": [],
      "source": [
        "pt_obj=pt(3)"
      ]
    },
    {
      "cell_type": "code",
      "execution_count": 5,
      "metadata": {
        "id": "re3u7FY1KhR4"
      },
      "outputs": [],
      "source": [
        "ir=iter(pt_obj)"
      ]
    },
    {
      "cell_type": "code",
      "execution_count": 6,
      "metadata": {
        "colab": {
          "base_uri": "https://localhost:8080/"
        },
        "id": "2KKx7yO6LkWi",
        "outputId": "f1cea600-b675-4bad-9168-6b7793e6822b"
      },
      "outputs": [
        {
          "output_type": "execute_result",
          "data": {
            "text/plain": [
              "1"
            ]
          },
          "metadata": {},
          "execution_count": 6
        }
      ],
      "source": [
        "next(ir)"
      ]
    },
    {
      "cell_type": "code",
      "execution_count": 7,
      "metadata": {
        "colab": {
          "base_uri": "https://localhost:8080/"
        },
        "id": "Ayi90EeJLmjC",
        "outputId": "124fabc2-ba14-4f1e-833a-1818abc6426b"
      },
      "outputs": [
        {
          "output_type": "execute_result",
          "data": {
            "text/plain": [
              "2"
            ]
          },
          "metadata": {},
          "execution_count": 7
        }
      ],
      "source": [
        "next(ir)"
      ]
    },
    {
      "cell_type": "code",
      "execution_count": 8,
      "metadata": {
        "colab": {
          "base_uri": "https://localhost:8080/"
        },
        "id": "yS0r4peDLom1",
        "outputId": "7b695ebc-db09-40fb-a2e5-0e818e53f7b5"
      },
      "outputs": [
        {
          "output_type": "execute_result",
          "data": {
            "text/plain": [
              "4"
            ]
          },
          "metadata": {},
          "execution_count": 8
        }
      ],
      "source": [
        "next(ir)"
      ]
    },
    {
      "cell_type": "code",
      "execution_count": 9,
      "metadata": {
        "colab": {
          "base_uri": "https://localhost:8080/"
        },
        "id": "3djQzxJELrgA",
        "outputId": "97a2906d-3afb-41d9-9162-fe6f3336244a"
      },
      "outputs": [
        {
          "output_type": "execute_result",
          "data": {
            "text/plain": [
              "8"
            ]
          },
          "metadata": {},
          "execution_count": 9
        }
      ],
      "source": [
        "next(ir)"
      ]
    },
    {
      "cell_type": "code",
      "execution_count": 10,
      "metadata": {
        "colab": {
          "base_uri": "https://localhost:8080/",
          "height": 280
        },
        "id": "NpxUlfSKLvRk",
        "outputId": "e782a93d-9fef-406b-9c8b-299d843c9120"
      },
      "outputs": [
        {
          "output_type": "error",
          "ename": "StopIteration",
          "evalue": "",
          "traceback": [
            "\u001b[0;31m---------------------------------------------------------------------------\u001b[0m",
            "\u001b[0;31mStopIteration\u001b[0m                             Traceback (most recent call last)",
            "\u001b[0;32m<ipython-input-10-72ae0720287c>\u001b[0m in \u001b[0;36m<cell line: 1>\u001b[0;34m()\u001b[0m\n\u001b[0;32m----> 1\u001b[0;31m \u001b[0mnext\u001b[0m\u001b[0;34m(\u001b[0m\u001b[0mir\u001b[0m\u001b[0;34m)\u001b[0m\u001b[0;34m\u001b[0m\u001b[0;34m\u001b[0m\u001b[0m\n\u001b[0m",
            "\u001b[0;32m<ipython-input-3-e0b8e7ffab59>\u001b[0m in \u001b[0;36m__next__\u001b[0;34m(self)\u001b[0m\n\u001b[1;32m     11\u001b[0m       \u001b[0;32mreturn\u001b[0m \u001b[0mresult\u001b[0m\u001b[0;34m\u001b[0m\u001b[0;34m\u001b[0m\u001b[0m\n\u001b[1;32m     12\u001b[0m     \u001b[0;32melse\u001b[0m\u001b[0;34m:\u001b[0m\u001b[0;34m\u001b[0m\u001b[0;34m\u001b[0m\u001b[0m\n\u001b[0;32m---> 13\u001b[0;31m       \u001b[0;32mraise\u001b[0m \u001b[0mStopIteration\u001b[0m\u001b[0;34m\u001b[0m\u001b[0;34m\u001b[0m\u001b[0m\n\u001b[0m\u001b[1;32m     14\u001b[0m \u001b[0;34m\u001b[0m\u001b[0m\n",
            "\u001b[0;31mStopIteration\u001b[0m: "
          ]
        }
      ],
      "source": [
        "next(ir)"
      ]
    },
    {
      "cell_type": "code",
      "execution_count": 12,
      "metadata": {
        "colab": {
          "base_uri": "https://localhost:8080/"
        },
        "id": "Qc3kTttOLyfH",
        "outputId": "13d5f95c-d2a5-47ff-ad57-e15938640027"
      },
      "outputs": [
        {
          "output_type": "stream",
          "name": "stdout",
          "text": [
            "1\n",
            "2\n",
            "4\n",
            "8\n",
            "16\n",
            "32\n",
            "64\n",
            "128\n",
            "256\n",
            "512\n",
            "1024\n"
          ]
        }
      ],
      "source": [
        "  for i in pt(10):\n",
        "    print(i)"
      ]
    },
    {
      "cell_type": "code",
      "source": [
        "class infinitept:\n",
        "  def __iter__(self):\n",
        "    self.n=0\n",
        "    return self\n",
        "  def __next__(self):\n",
        "    result=2**self.n\n",
        "    self.n+=1\n",
        "    return result\n"
      ],
      "metadata": {
        "id": "qNW8raF803Nj"
      },
      "execution_count": 2,
      "outputs": []
    },
    {
      "cell_type": "code",
      "source": [
        "ipt_obj=iter(infinitept())"
      ],
      "metadata": {
        "id": "gomgrt7n04rf"
      },
      "execution_count": 17,
      "outputs": []
    },
    {
      "cell_type": "code",
      "source": [
        "next(ipt_obj) #it will infinite level"
      ],
      "metadata": {
        "colab": {
          "base_uri": "https://localhost:8080/"
        },
        "id": "G3bp3NAF0-Em",
        "outputId": "db62ae9f-b829-4674-992e-ed1a876d63fe"
      },
      "execution_count": 19,
      "outputs": [
        {
          "output_type": "execute_result",
          "data": {
            "text/plain": [
              "2"
            ]
          },
          "metadata": {},
          "execution_count": 19
        }
      ]
    },
    {
      "cell_type": "code",
      "source": [
        "for i in range(11):\n",
        "  print(next(ipt_obj))"
      ],
      "metadata": {
        "colab": {
          "base_uri": "https://localhost:8080/"
        },
        "id": "RQd6S4Vv1QVt",
        "outputId": "1b3eaeda-934f-4f3c-9b8a-b2142d18c0c7"
      },
      "execution_count": 20,
      "outputs": [
        {
          "output_type": "stream",
          "name": "stdout",
          "text": [
            "4\n",
            "8\n",
            "16\n",
            "32\n",
            "64\n",
            "128\n",
            "256\n",
            "512\n",
            "1024\n",
            "2048\n",
            "4096\n"
          ]
        }
      ]
    },
    {
      "cell_type": "markdown",
      "source": [
        "## GENERATOR\n",
        "calling a funtion inside a function is called higher order function\n",
        "eg:func1(func2(x))\n",
        "\n",
        "# Generator is an function, that returns an object(iterator) which we can iterate over(one at a time)\n",
        "\n",
        "it can find by either yield or round brackets\n"
      ],
      "metadata": {
        "id": "kmGG1ka1i6Ba"
      }
    },
    {
      "cell_type": "code",
      "source": [
        "def count():\n",
        "  n=1\n",
        "  yield n\n",
        "  n = n*8\n",
        "  yield n\n",
        "  n =n/2\n",
        "  yield n"
      ],
      "metadata": {
        "id": "x_glgYdFgQYb"
      },
      "execution_count": 8,
      "outputs": []
    },
    {
      "cell_type": "code",
      "source": [
        "count_obj=count()"
      ],
      "metadata": {
        "id": "ESdbrysVmwAe"
      },
      "execution_count": 9,
      "outputs": []
    },
    {
      "cell_type": "code",
      "source": [
        "next(count_obj)"
      ],
      "metadata": {
        "colab": {
          "base_uri": "https://localhost:8080/"
        },
        "id": "-FTsiE2imzgh",
        "outputId": "3343a019-ee1c-4e58-c1f7-0e7da3843a59"
      },
      "execution_count": 10,
      "outputs": [
        {
          "output_type": "execute_result",
          "data": {
            "text/plain": [
              "1"
            ]
          },
          "metadata": {},
          "execution_count": 10
        }
      ]
    },
    {
      "cell_type": "code",
      "source": [
        "next(count_obj)"
      ],
      "metadata": {
        "colab": {
          "base_uri": "https://localhost:8080/"
        },
        "id": "v3mfaQWHm2kj",
        "outputId": "44f949f8-975f-40cc-c79d-5d8ad0419112"
      },
      "execution_count": 11,
      "outputs": [
        {
          "output_type": "execute_result",
          "data": {
            "text/plain": [
              "8"
            ]
          },
          "metadata": {},
          "execution_count": 11
        }
      ]
    },
    {
      "cell_type": "code",
      "source": [
        "next(count_obj)"
      ],
      "metadata": {
        "colab": {
          "base_uri": "https://localhost:8080/"
        },
        "id": "0QLPjITfm_no",
        "outputId": "fadac38b-0c44-4cce-b327-a2aeecac5a09"
      },
      "execution_count": 12,
      "outputs": [
        {
          "output_type": "execute_result",
          "data": {
            "text/plain": [
              "4.0"
            ]
          },
          "metadata": {},
          "execution_count": 12
        }
      ]
    },
    {
      "cell_type": "code",
      "source": [
        "for x in count():\n",
        "  print(x)"
      ],
      "metadata": {
        "colab": {
          "base_uri": "https://localhost:8080/"
        },
        "id": "G0C_3dWenBT9",
        "outputId": "d06b2acb-ce38-4c6e-d136-727b9c38746e"
      },
      "execution_count": 15,
      "outputs": [
        {
          "output_type": "stream",
          "name": "stdout",
          "text": [
            "1\n",
            "8\n",
            "4.0\n"
          ]
        }
      ]
    },
    {
      "cell_type": "code",
      "source": [
        "#we can reverse a string\n",
        "\n",
        "def rev(x):\n",
        "  lenght=len(x)\n",
        "  for i in range(lenght-1,-1,-1):\n",
        "    yield x[i] #this is the generator here"
      ],
      "metadata": {
        "id": "MyOIClXrnUXz"
      },
      "execution_count": 16,
      "outputs": []
    },
    {
      "cell_type": "code",
      "source": [
        "for char in rev(\"Ahaana\"):\n",
        "  print(char)"
      ],
      "metadata": {
        "colab": {
          "base_uri": "https://localhost:8080/"
        },
        "id": "XrFBu-dvnu-b",
        "outputId": "b2600424-a57a-4e23-eb69-9aa9d2806fc5"
      },
      "execution_count": 18,
      "outputs": [
        {
          "output_type": "stream",
          "name": "stdout",
          "text": [
            "a\n",
            "n\n",
            "a\n",
            "a\n",
            "h\n",
            "A\n"
          ]
        }
      ]
    },
    {
      "cell_type": "code",
      "source": [
        "marks=(12,23,33,34,45,56,56,66,67,78,89,90)\n",
        "pass_m = (m for m in marks if m>=30 )\n"
      ],
      "metadata": {
        "id": "01ESPIp0piQg"
      },
      "execution_count": 27,
      "outputs": []
    },
    {
      "cell_type": "code",
      "source": [
        "next(pass_m)#we can also iterate like this"
      ],
      "metadata": {
        "colab": {
          "base_uri": "https://localhost:8080/"
        },
        "id": "TKDGG04TqTh_",
        "outputId": "84c10cce-94a6-4dca-9938-23701d719e0a"
      },
      "execution_count": 28,
      "outputs": [
        {
          "output_type": "execute_result",
          "data": {
            "text/plain": [
              "33"
            ]
          },
          "metadata": {},
          "execution_count": 28
        }
      ]
    },
    {
      "cell_type": "code",
      "source": [
        "next(pass_m)"
      ],
      "metadata": {
        "colab": {
          "base_uri": "https://localhost:8080/"
        },
        "id": "0fnfEDkgqeuY",
        "outputId": "76552094-89d8-4dc4-c319-e4d83af43202"
      },
      "execution_count": 29,
      "outputs": [
        {
          "output_type": "execute_result",
          "data": {
            "text/plain": [
              "34"
            ]
          },
          "metadata": {},
          "execution_count": 29
        }
      ]
    },
    {
      "cell_type": "code",
      "source": [
        "next(pass_m)"
      ],
      "metadata": {
        "colab": {
          "base_uri": "https://localhost:8080/"
        },
        "id": "6zz0lAaZqgLU",
        "outputId": "c8879b1b-9aa2-4393-9361-fa51e24a8c53"
      },
      "execution_count": 30,
      "outputs": [
        {
          "output_type": "execute_result",
          "data": {
            "text/plain": [
              "45"
            ]
          },
          "metadata": {},
          "execution_count": 30
        }
      ]
    },
    {
      "cell_type": "code",
      "source": [
        "for x in pass_m: #we can do this it is print after the third iterate\n",
        "  print(x)"
      ],
      "metadata": {
        "colab": {
          "base_uri": "https://localhost:8080/"
        },
        "id": "V7UwPiwDqCF4",
        "outputId": "d0c83bfd-b367-4d08-b9f5-4e57813cfb3a"
      },
      "execution_count": 31,
      "outputs": [
        {
          "output_type": "stream",
          "name": "stdout",
          "text": [
            "56\n",
            "56\n",
            "66\n",
            "67\n",
            "78\n",
            "89\n",
            "90\n"
          ]
        }
      ]
    },
    {
      "cell_type": "code",
      "source": [
        "type(pass_m)"
      ],
      "metadata": {
        "colab": {
          "base_uri": "https://localhost:8080/"
        },
        "id": "jnCW4SEfqMal",
        "outputId": "46ab5e9d-ba4c-4cd6-825d-19117d444324"
      },
      "execution_count": 25,
      "outputs": [
        {
          "output_type": "execute_result",
          "data": {
            "text/plain": [
              "generator"
            ]
          },
          "metadata": {},
          "execution_count": 25
        }
      ]
    },
    {
      "cell_type": "code",
      "source": [
        "sum(m for m in marks)"
      ],
      "metadata": {
        "colab": {
          "base_uri": "https://localhost:8080/"
        },
        "id": "bS3bCIvmqpL1",
        "outputId": "b70113c0-bab4-4011-b378-85aa1e541c4b"
      },
      "execution_count": 33,
      "outputs": [
        {
          "output_type": "execute_result",
          "data": {
            "text/plain": [
              "649"
            ]
          },
          "metadata": {},
          "execution_count": 33
        }
      ]
    },
    {
      "cell_type": "code",
      "source": [
        "max(m for m in marks)"
      ],
      "metadata": {
        "colab": {
          "base_uri": "https://localhost:8080/"
        },
        "id": "CbLOLdKXq4n8",
        "outputId": "85f7c34a-ea5d-4014-e68f-c5c48a6cc078"
      },
      "execution_count": 34,
      "outputs": [
        {
          "output_type": "execute_result",
          "data": {
            "text/plain": [
              "90"
            ]
          },
          "metadata": {},
          "execution_count": 34
        }
      ]
    },
    {
      "cell_type": "code",
      "source": [
        "min(m for m in marks)"
      ],
      "metadata": {
        "colab": {
          "base_uri": "https://localhost:8080/"
        },
        "id": "rII5Uihhq8V-",
        "outputId": "0c5be22d-9b0f-41b7-b060-90e1fa979a8d"
      },
      "execution_count": 35,
      "outputs": [
        {
          "output_type": "execute_result",
          "data": {
            "text/plain": [
              "12"
            ]
          },
          "metadata": {},
          "execution_count": 35
        }
      ]
    },
    {
      "cell_type": "markdown",
      "source": [
        "## CLOSURE\n",
        "\n",
        "closure is used fro nested function which is called as function inside function\n",
        "\n",
        " outer function is enclosing function, which returns inner function that is nested function a reference as a return statement\n",
        " and inner function which refers the data present in the outer function\n"
      ],
      "metadata": {
        "id": "1H2PpRgcrq_S"
      }
    },
    {
      "cell_type": "markdown",
      "source": [
        "closure  is a property in python, it gets applied on your nested functions , where your enclosing(outer) function returns nested(inner) functions reference as a return statement and my nested function(inner) which refers the data present in your enclosing function"
      ],
      "metadata": {
        "id": "RAI066vZtWrZ"
      }
    },
    {
      "cell_type": "code",
      "source": [
        "def outer(x):\n",
        "  def inner():\n",
        "    print(x)\n",
        "  return inner\n",
        "\n",
        "data=outer('nandhu')"
      ],
      "metadata": {
        "id": "GPR2nmGysXQk"
      },
      "execution_count": 36,
      "outputs": []
    },
    {
      "cell_type": "code",
      "source": [
        "data"
      ],
      "metadata": {
        "colab": {
          "base_uri": "https://localhost:8080/"
        },
        "id": "trUH3wazstMp",
        "outputId": "830dd1ab-a290-4776-93a0-1434a68e5f30"
      },
      "execution_count": 40,
      "outputs": [
        {
          "output_type": "execute_result",
          "data": {
            "text/plain": [
              "<function __main__.outer.<locals>.inner()>"
            ]
          },
          "metadata": {},
          "execution_count": 40
        }
      ]
    },
    {
      "cell_type": "code",
      "source": [
        "data()"
      ],
      "metadata": {
        "colab": {
          "base_uri": "https://localhost:8080/"
        },
        "id": "kSRH2UGRsh7S",
        "outputId": "5b4eb86d-75e4-4240-edd7-f0b9c8b0072a"
      },
      "execution_count": 38,
      "outputs": [
        {
          "output_type": "stream",
          "name": "stdout",
          "text": [
            "nandhu\n"
          ]
        }
      ]
    },
    {
      "cell_type": "code",
      "source": [
        "x=5 #globa variable\n",
        "def outer():\n",
        "  x=10#local variable\n",
        "  def inner():\n",
        "    global x\n",
        "    x=x+500\n",
        "    print(\"Inner x value is,\",x)\n",
        "  inner()\n",
        "  print(\"outer x value is,\",x)\n",
        "\n",
        "outer()"
      ],
      "metadata": {
        "colab": {
          "base_uri": "https://localhost:8080/"
        },
        "id": "-H6v3rt5tYm6",
        "outputId": "e476030c-0c2c-40fd-b133-44b5dcdc361c"
      },
      "execution_count": 44,
      "outputs": [
        {
          "output_type": "stream",
          "name": "stdout",
          "text": [
            "Inner x value is, 505\n",
            "outer x value is, 10\n"
          ]
        }
      ]
    },
    {
      "cell_type": "code",
      "source": [
        "def outer(x):\n",
        "  def inner():\n",
        "    nonlocal x\n",
        "    x=x+25\n",
        "    print(x)\n",
        "  return inner() #if we write inner alone we need to create object to call outer function and we need to call object again\n",
        "  #/////if we write inner() in return we can directly can outer() alone"
      ],
      "metadata": {
        "id": "xicISVX1uDx-"
      },
      "execution_count": 52,
      "outputs": []
    },
    {
      "cell_type": "code",
      "source": [
        "outer(20)"
      ],
      "metadata": {
        "colab": {
          "base_uri": "https://localhost:8080/"
        },
        "id": "8fmXDveyuTKO",
        "outputId": "27bd14ca-964f-4506-e007-8a399c5c12ca"
      },
      "execution_count": 53,
      "outputs": [
        {
          "output_type": "stream",
          "name": "stdout",
          "text": [
            "45\n"
          ]
        }
      ]
    },
    {
      "cell_type": "code",
      "source": [
        "def outer(a,b):\n",
        "  def add():\n",
        "    print (a+b)\n",
        "  def mul():\n",
        "    print (a*b)\n",
        "  return add,mul"
      ],
      "metadata": {
        "id": "WE14M1xowHlY"
      },
      "execution_count": 60,
      "outputs": []
    },
    {
      "cell_type": "code",
      "source": [
        "calc=outer(2,3)"
      ],
      "metadata": {
        "id": "EDotxXXawZpP"
      },
      "execution_count": 61,
      "outputs": []
    },
    {
      "cell_type": "code",
      "source": [
        "calc[0]() #its an tuple of function we have to values like funtion call"
      ],
      "metadata": {
        "colab": {
          "base_uri": "https://localhost:8080/"
        },
        "id": "x1PR5R_GwcgM",
        "outputId": "7623536b-5b94-4ec9-e51d-b590ed935092"
      },
      "execution_count": 56,
      "outputs": [
        {
          "output_type": "stream",
          "name": "stdout",
          "text": [
            "5\n"
          ]
        }
      ]
    },
    {
      "cell_type": "code",
      "source": [
        "calc[1]()"
      ],
      "metadata": {
        "colab": {
          "base_uri": "https://localhost:8080/"
        },
        "id": "wcCRQ98nwfFy",
        "outputId": "ddbd1abb-e528-4f3a-8aa2-572a9b4c4f5a"
      },
      "execution_count": 57,
      "outputs": [
        {
          "output_type": "stream",
          "name": "stdout",
          "text": [
            "6\n"
          ]
        }
      ]
    },
    {
      "cell_type": "code",
      "source": [
        "#counter\n",
        "def outer_count(x):\n",
        "  x=x+1 #4+1=5\n",
        "  def count():\n",
        "    nonlocal x\n",
        "    x+=2 #5+2=7\n",
        "    print(x)\n",
        "  return count\n"
      ],
      "metadata": {
        "id": "DFrULi7OwuvI"
      },
      "execution_count": 74,
      "outputs": []
    },
    {
      "cell_type": "code",
      "source": [
        "count_obj=outer_count(4)"
      ],
      "metadata": {
        "id": "qR4cW0Mrw9ul"
      },
      "execution_count": 75,
      "outputs": []
    },
    {
      "cell_type": "code",
      "source": [
        "count_obj()"
      ],
      "metadata": {
        "colab": {
          "base_uri": "https://localhost:8080/"
        },
        "id": "jZ0ERDudxBhl",
        "outputId": "da41fe2e-5361-452b-d3c4-fa2be56a1ad3"
      },
      "execution_count": 76,
      "outputs": [
        {
          "output_type": "stream",
          "name": "stdout",
          "text": [
            "7\n"
          ]
        }
      ]
    },
    {
      "cell_type": "code",
      "source": [
        "def multiplie(x):\n",
        "  def multiii(n):\n",
        "    return x*n\n",
        "  return multiii"
      ],
      "metadata": {
        "id": "X-SOMyJhx2-c"
      },
      "execution_count": 77,
      "outputs": []
    },
    {
      "cell_type": "code",
      "source": [
        "t=multiplie(4)"
      ],
      "metadata": {
        "id": "Yg7-ikyKyGQA"
      },
      "execution_count": 78,
      "outputs": []
    },
    {
      "cell_type": "code",
      "source": [
        "t(4)#4*4"
      ],
      "metadata": {
        "colab": {
          "base_uri": "https://localhost:8080/"
        },
        "id": "QxfM8HqyyK--",
        "outputId": "42056e2e-039a-4803-e403-7dc2fbc4fee8"
      },
      "execution_count": 79,
      "outputs": [
        {
          "output_type": "execute_result",
          "data": {
            "text/plain": [
              "16"
            ]
          },
          "metadata": {},
          "execution_count": 79
        }
      ]
    },
    {
      "cell_type": "code",
      "source": [
        "t1=multiplie(5)\n",
        "t1(4)#5*4"
      ],
      "metadata": {
        "colab": {
          "base_uri": "https://localhost:8080/"
        },
        "id": "iQOnsxqMyOKV",
        "outputId": "7e22ed20-3d2e-40d0-9b51-581f1d031e74"
      },
      "execution_count": 82,
      "outputs": [
        {
          "output_type": "execute_result",
          "data": {
            "text/plain": [
              "20"
            ]
          },
          "metadata": {},
          "execution_count": 82
        }
      ]
    },
    {
      "cell_type": "code",
      "source": [
        "t1(t(6))#5*4*6"
      ],
      "metadata": {
        "colab": {
          "base_uri": "https://localhost:8080/"
        },
        "id": "zHj-z4cwyYCc",
        "outputId": "445ffd80-afea-47d4-f7e4-a6e83bff9a95"
      },
      "execution_count": 83,
      "outputs": [
        {
          "output_type": "execute_result",
          "data": {
            "text/plain": [
              "120"
            ]
          },
          "metadata": {},
          "execution_count": 83
        }
      ]
    }
  ],
  "metadata": {
    "colab": {
      "provenance": [],
      "authorship_tag": "ABX9TyMcyyJspUKqtQNSf91pcBMd",
      "include_colab_link": true
    },
    "kernelspec": {
      "display_name": "Python 3",
      "name": "python3"
    },
    "language_info": {
      "name": "python"
    }
  },
  "nbformat": 4,
  "nbformat_minor": 0
}