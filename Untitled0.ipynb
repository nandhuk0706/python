{
  "nbformat": 4,
  "nbformat_minor": 0,
  "metadata": {
    "colab": {
      "provenance": [],
      "authorship_tag": "ABX9TyOReTEMayFQIjCHY0MCvF20",
      "include_colab_link": true
    },
    "kernelspec": {
      "name": "python3",
      "display_name": "Python 3"
    },
    "language_info": {
      "name": "python"
    }
  },
  "cells": [
    {
      "cell_type": "markdown",
      "metadata": {
        "id": "view-in-github",
        "colab_type": "text"
      },
      "source": [
        "<a href=\"https://colab.research.google.com/github/nandhuk0706/python/blob/main/Untitled0.ipynb\" target=\"_parent\"><img src=\"https://colab.research.google.com/assets/colab-badge.svg\" alt=\"Open In Colab\"/></a>"
      ]
    },
    {
      "cell_type": "code",
      "execution_count": 1,
      "metadata": {
        "colab": {
          "base_uri": "https://localhost:8080/"
        },
        "id": "z9Cd85LHnpJt",
        "outputId": "bec84a99-7605-4986-cdd6-6d27d0d4dba8"
      },
      "outputs": [
        {
          "output_type": "stream",
          "name": "stdout",
          "text": [
            "Help on built-in function len in module builtins:\n",
            "\n",
            "len(obj, /)\n",
            "    Return the number of items in a container.\n",
            "\n"
          ]
        }
      ],
      "source": [
        "help(len)"
      ]
    },
    {
      "cell_type": "code",
      "source": [
        "x=6+6j\n",
        "type(x)"
      ],
      "metadata": {
        "colab": {
          "base_uri": "https://localhost:8080/"
        },
        "id": "WlhxhITHnsb0",
        "outputId": "5e289a04-136b-47d0-cc71-725ac24daffe"
      },
      "execution_count": 4,
      "outputs": [
        {
          "output_type": "execute_result",
          "data": {
            "text/plain": [
              "complex"
            ]
          },
          "metadata": {},
          "execution_count": 4
        }
      ]
    },
    {
      "cell_type": "code",
      "source": [
        "x.real,x.imag,x.conjugate()"
      ],
      "metadata": {
        "colab": {
          "base_uri": "https://localhost:8080/"
        },
        "id": "oEm1whGy5ZKw",
        "outputId": "e62537b9-35c9-4451-caba-50e52417f8a3"
      },
      "execution_count": 5,
      "outputs": [
        {
          "output_type": "execute_result",
          "data": {
            "text/plain": [
              "(6.0, 6.0, (6-6j))"
            ]
          },
          "metadata": {},
          "execution_count": 5
        }
      ]
    },
    {
      "cell_type": "code",
      "source": [
        "a=3\n",
        "id(a)"
      ],
      "metadata": {
        "colab": {
          "base_uri": "https://localhost:8080/"
        },
        "id": "sSvPIDDW5s_0",
        "outputId": "09be00a7-2401-4fcc-b2fd-462ddbb323fc"
      },
      "execution_count": 6,
      "outputs": [
        {
          "output_type": "execute_result",
          "data": {
            "text/plain": [
              "134834371658032"
            ]
          },
          "metadata": {},
          "execution_count": 6
        }
      ]
    },
    {
      "cell_type": "code",
      "source": [
        "id(3)"
      ],
      "metadata": {
        "colab": {
          "base_uri": "https://localhost:8080/"
        },
        "id": "igX7PxP65w0M",
        "outputId": "3556822a-b739-40aa-c48d-489f38bf6d81"
      },
      "execution_count": 7,
      "outputs": [
        {
          "output_type": "execute_result",
          "data": {
            "text/plain": [
              "134834371658032"
            ]
          },
          "metadata": {},
          "execution_count": 7
        }
      ]
    },
    {
      "cell_type": "code",
      "source": [
        "del a"
      ],
      "metadata": {
        "id": "PYEvhYRG51rn"
      },
      "execution_count": 8,
      "outputs": []
    },
    {
      "cell_type": "code",
      "source": [
        "a\n"
      ],
      "metadata": {
        "colab": {
          "base_uri": "https://localhost:8080/",
          "height": 176
        },
        "id": "7YMpAENA530r",
        "outputId": "2e31f191-5833-4536-e237-594a6afbfb5c"
      },
      "execution_count": 9,
      "outputs": [
        {
          "output_type": "error",
          "ename": "NameError",
          "evalue": "ignored",
          "traceback": [
            "\u001b[0;31m---------------------------------------------------------------------------\u001b[0m",
            "\u001b[0;31mNameError\u001b[0m                                 Traceback (most recent call last)",
            "\u001b[0;32m<ipython-input-9-3f786850e387>\u001b[0m in \u001b[0;36m<cell line: 1>\u001b[0;34m()\u001b[0m\n\u001b[0;32m----> 1\u001b[0;31m \u001b[0ma\u001b[0m\u001b[0;34m\u001b[0m\u001b[0;34m\u001b[0m\u001b[0m\n\u001b[0m",
            "\u001b[0;31mNameError\u001b[0m: name 'a' is not defined"
          ]
        }
      ]
    },
    {
      "cell_type": "code",
      "source": [
        "isinstance(x,complex)"
      ],
      "metadata": {
        "colab": {
          "base_uri": "https://localhost:8080/"
        },
        "id": "gcmZ5EpC58u2",
        "outputId": "b483e299-f989-470a-e800-41ed21488004"
      },
      "execution_count": 13,
      "outputs": [
        {
          "output_type": "execute_result",
          "data": {
            "text/plain": [
              "True"
            ]
          },
          "metadata": {},
          "execution_count": 13
        }
      ]
    },
    {
      "cell_type": "code",
      "source": [
        "isinstance(x,(int,float,complex))"
      ],
      "metadata": {
        "colab": {
          "base_uri": "https://localhost:8080/"
        },
        "id": "sBw2rV5u6Kpg",
        "outputId": "8a90a38d-3aca-4c03-89c0-4d478f1fcb23"
      },
      "execution_count": 14,
      "outputs": [
        {
          "output_type": "execute_result",
          "data": {
            "text/plain": [
              "True"
            ]
          },
          "metadata": {},
          "execution_count": 14
        }
      ]
    },
    {
      "cell_type": "code",
      "source": [
        "y=4.5\n",
        "isinstance(y,float)"
      ],
      "metadata": {
        "colab": {
          "base_uri": "https://localhost:8080/"
        },
        "id": "6xBYgx2U6P-T",
        "outputId": "812aaf12-355e-4e68-9f88-90d188d05d17"
      },
      "execution_count": 16,
      "outputs": [
        {
          "output_type": "execute_result",
          "data": {
            "text/plain": [
              "True"
            ]
          },
          "metadata": {},
          "execution_count": 16
        }
      ]
    },
    {
      "cell_type": "code",
      "source": [
        "help(\"keywords\")"
      ],
      "metadata": {
        "colab": {
          "base_uri": "https://localhost:8080/"
        },
        "id": "0-LkZXrq6fKo",
        "outputId": "071d5c40-1ba8-47a6-9ce7-146995728f04"
      },
      "execution_count": 18,
      "outputs": [
        {
          "output_type": "stream",
          "name": "stdout",
          "text": [
            "\n",
            "Here is a list of the Python keywords.  Enter any keyword to get more help.\n",
            "\n",
            "False               class               from                or\n",
            "None                continue            global              pass\n",
            "True                def                 if                  raise\n",
            "and                 del                 import              return\n",
            "as                  elif                in                  try\n",
            "assert              else                is                  while\n",
            "async               except              lambda              with\n",
            "await               finally             nonlocal            yield\n",
            "break               for                 not                 \n",
            "\n"
          ]
        }
      ]
    },
    {
      "cell_type": "code",
      "source": [
        "help(\"def\")"
      ],
      "metadata": {
        "colab": {
          "base_uri": "https://localhost:8080/"
        },
        "id": "lEDi8Xf1_V-l",
        "outputId": "050e714f-3968-413f-9bb4-6137225f0864"
      },
      "execution_count": 20,
      "outputs": [
        {
          "output_type": "stream",
          "name": "stdout",
          "text": [
            "Function definitions\n",
            "********************\n",
            "\n",
            "A function definition defines a user-defined function object (see\n",
            "section The standard type hierarchy):\n",
            "\n",
            "   funcdef                   ::= [decorators] \"def\" funcname \"(\" [parameter_list] \")\"\n",
            "               [\"->\" expression] \":\" suite\n",
            "   decorators                ::= decorator+\n",
            "   decorator                 ::= \"@\" assignment_expression NEWLINE\n",
            "   parameter_list            ::= defparameter (\",\" defparameter)* \",\" \"/\" [\",\" [parameter_list_no_posonly]]\n",
            "                        | parameter_list_no_posonly\n",
            "   parameter_list_no_posonly ::= defparameter (\",\" defparameter)* [\",\" [parameter_list_starargs]]\n",
            "                                 | parameter_list_starargs\n",
            "   parameter_list_starargs   ::= \"*\" [parameter] (\",\" defparameter)* [\",\" [\"**\" parameter [\",\"]]]\n",
            "                               | \"**\" parameter [\",\"]\n",
            "   parameter                 ::= identifier [\":\" expression]\n",
            "   defparameter              ::= parameter [\"=\" expression]\n",
            "   funcname                  ::= identifier\n",
            "\n",
            "A function definition is an executable statement.  Its execution binds\n",
            "the function name in the current local namespace to a function object\n",
            "(a wrapper around the executable code for the function).  This\n",
            "function object contains a reference to the current global namespace\n",
            "as the global namespace to be used when the function is called.\n",
            "\n",
            "The function definition does not execute the function body; this gets\n",
            "executed only when the function is called. [4]\n",
            "\n",
            "A function definition may be wrapped by one or more *decorator*\n",
            "expressions. Decorator expressions are evaluated when the function is\n",
            "defined, in the scope that contains the function definition.  The\n",
            "result must be a callable, which is invoked with the function object\n",
            "as the only argument. The returned value is bound to the function name\n",
            "instead of the function object.  Multiple decorators are applied in\n",
            "nested fashion. For example, the following code\n",
            "\n",
            "   @f1(arg)\n",
            "   @f2\n",
            "   def func(): pass\n",
            "\n",
            "is roughly equivalent to\n",
            "\n",
            "   def func(): pass\n",
            "   func = f1(arg)(f2(func))\n",
            "\n",
            "except that the original function is not temporarily bound to the name\n",
            "\"func\".\n",
            "\n",
            "Changed in version 3.9: Functions may be decorated with any valid\n",
            "\"assignment_expression\". Previously, the grammar was much more\n",
            "restrictive; see **PEP 614** for details.\n",
            "\n",
            "When one or more *parameters* have the form *parameter* \"=\"\n",
            "*expression*, the function is said to have “default parameter values.”\n",
            "For a parameter with a default value, the corresponding *argument* may\n",
            "be omitted from a call, in which case the parameter’s default value is\n",
            "substituted.  If a parameter has a default value, all following\n",
            "parameters up until the “\"*\"” must also have a default value — this is\n",
            "a syntactic restriction that is not expressed by the grammar.\n",
            "\n",
            "**Default parameter values are evaluated from left to right when the\n",
            "function definition is executed.** This means that the expression is\n",
            "evaluated once, when the function is defined, and that the same “pre-\n",
            "computed” value is used for each call.  This is especially important\n",
            "to understand when a default parameter value is a mutable object, such\n",
            "as a list or a dictionary: if the function modifies the object (e.g.\n",
            "by appending an item to a list), the default parameter value is in\n",
            "effect modified.  This is generally not what was intended.  A way\n",
            "around this is to use \"None\" as the default, and explicitly test for\n",
            "it in the body of the function, e.g.:\n",
            "\n",
            "   def whats_on_the_telly(penguin=None):\n",
            "       if penguin is None:\n",
            "           penguin = []\n",
            "       penguin.append(\"property of the zoo\")\n",
            "       return penguin\n",
            "\n",
            "Function call semantics are described in more detail in section Calls.\n",
            "A function call always assigns values to all parameters mentioned in\n",
            "the parameter list, either from positional arguments, from keyword\n",
            "arguments, or from default values.  If the form “\"*identifier\"” is\n",
            "present, it is initialized to a tuple receiving any excess positional\n",
            "parameters, defaulting to the empty tuple. If the form\n",
            "“\"**identifier\"” is present, it is initialized to a new ordered\n",
            "mapping receiving any excess keyword arguments, defaulting to a new\n",
            "empty mapping of the same type.  Parameters after “\"*\"” or\n",
            "“\"*identifier\"” are keyword-only parameters and may only be passed by\n",
            "keyword arguments.  Parameters before “\"/\"” are positional-only\n",
            "parameters and may only be passed by positional arguments.\n",
            "\n",
            "Changed in version 3.8: The \"/\" function parameter syntax may be used\n",
            "to indicate positional-only parameters. See **PEP 570** for details.\n",
            "\n",
            "Parameters may have an *annotation* of the form “\": expression\"”\n",
            "following the parameter name.  Any parameter may have an annotation,\n",
            "even those of the form \"*identifier\" or \"**identifier\".  Functions may\n",
            "have “return” annotation of the form “\"-> expression\"” after the\n",
            "parameter list.  These annotations can be any valid Python expression.\n",
            "The presence of annotations does not change the semantics of a\n",
            "function.  The annotation values are available as values of a\n",
            "dictionary keyed by the parameters’ names in the \"__annotations__\"\n",
            "attribute of the function object.  If the \"annotations\" import from\n",
            "\"__future__\" is used, annotations are preserved as strings at runtime\n",
            "which enables postponed evaluation.  Otherwise, they are evaluated\n",
            "when the function definition is executed.  In this case annotations\n",
            "may be evaluated in a different order than they appear in the source\n",
            "code.\n",
            "\n",
            "It is also possible to create anonymous functions (functions not bound\n",
            "to a name), for immediate use in expressions.  This uses lambda\n",
            "expressions, described in section Lambdas.  Note that the lambda\n",
            "expression is merely a shorthand for a simplified function definition;\n",
            "a function defined in a “\"def\"” statement can be passed around or\n",
            "assigned to another name just like a function defined by a lambda\n",
            "expression.  The “\"def\"” form is actually more powerful since it\n",
            "allows the execution of multiple statements and annotations.\n",
            "\n",
            "**Programmer’s note:** Functions are first-class objects.  A “\"def\"”\n",
            "statement executed inside a function definition defines a local\n",
            "function that can be returned or passed around.  Free variables used\n",
            "in the nested function can access the local variables of the function\n",
            "containing the def.  See section Naming and binding for details.\n",
            "\n",
            "See also:\n",
            "\n",
            "  **PEP 3107** - Function Annotations\n",
            "     The original specification for function annotations.\n",
            "\n",
            "  **PEP 484** - Type Hints\n",
            "     Definition of a standard meaning for annotations: type hints.\n",
            "\n",
            "  **PEP 526** - Syntax for Variable Annotations\n",
            "     Ability to type hint variable declarations, including class\n",
            "     variables and instance variables\n",
            "\n",
            "  **PEP 563** - Postponed Evaluation of Annotations\n",
            "     Support for forward references within annotations by preserving\n",
            "     annotations in a string form at runtime instead of eager\n",
            "     evaluation.\n",
            "\n"
          ]
        }
      ]
    },
    {
      "cell_type": "code",
      "source": [
        "def whats_on_the_telly(penguin=None):\n",
        "       if penguin is None:\n",
        "           penguin = []\n",
        "       penguin.append(\"property of the zoo\")\n",
        "       return penguin"
      ],
      "metadata": {
        "id": "Lss2gXYY_orf"
      },
      "execution_count": 22,
      "outputs": []
    },
    {
      "cell_type": "code",
      "source": [
        "help(\"import\")"
      ],
      "metadata": {
        "colab": {
          "base_uri": "https://localhost:8080/"
        },
        "id": "XtM8GJtVADOf",
        "outputId": "1da62ae8-aaec-45ff-cdae-4409a3fedc15"
      },
      "execution_count": 23,
      "outputs": [
        {
          "output_type": "stream",
          "name": "stdout",
          "text": [
            "The \"import\" statement\n",
            "**********************\n",
            "\n",
            "   import_stmt     ::= \"import\" module [\"as\" identifier] (\",\" module [\"as\" identifier])*\n",
            "                   | \"from\" relative_module \"import\" identifier [\"as\" identifier]\n",
            "                   (\",\" identifier [\"as\" identifier])*\n",
            "                   | \"from\" relative_module \"import\" \"(\" identifier [\"as\" identifier]\n",
            "                   (\",\" identifier [\"as\" identifier])* [\",\"] \")\"\n",
            "                   | \"from\" relative_module \"import\" \"*\"\n",
            "   module          ::= (identifier \".\")* identifier\n",
            "   relative_module ::= \".\"* module | \".\"+\n",
            "\n",
            "The basic import statement (no \"from\" clause) is executed in two\n",
            "steps:\n",
            "\n",
            "1. find a module, loading and initializing it if necessary\n",
            "\n",
            "2. define a name or names in the local namespace for the scope where\n",
            "   the \"import\" statement occurs.\n",
            "\n",
            "When the statement contains multiple clauses (separated by commas) the\n",
            "two steps are carried out separately for each clause, just as though\n",
            "the clauses had been separated out into individual import statements.\n",
            "\n",
            "The details of the first step, finding and loading modules, are\n",
            "described in greater detail in the section on the import system, which\n",
            "also describes the various types of packages and modules that can be\n",
            "imported, as well as all the hooks that can be used to customize the\n",
            "import system. Note that failures in this step may indicate either\n",
            "that the module could not be located, *or* that an error occurred\n",
            "while initializing the module, which includes execution of the\n",
            "module’s code.\n",
            "\n",
            "If the requested module is retrieved successfully, it will be made\n",
            "available in the local namespace in one of three ways:\n",
            "\n",
            "* If the module name is followed by \"as\", then the name following \"as\"\n",
            "  is bound directly to the imported module.\n",
            "\n",
            "* If no other name is specified, and the module being imported is a\n",
            "  top level module, the module’s name is bound in the local namespace\n",
            "  as a reference to the imported module\n",
            "\n",
            "* If the module being imported is *not* a top level module, then the\n",
            "  name of the top level package that contains the module is bound in\n",
            "  the local namespace as a reference to the top level package. The\n",
            "  imported module must be accessed using its full qualified name\n",
            "  rather than directly\n",
            "\n",
            "The \"from\" form uses a slightly more complex process:\n",
            "\n",
            "1. find the module specified in the \"from\" clause, loading and\n",
            "   initializing it if necessary;\n",
            "\n",
            "2. for each of the identifiers specified in the \"import\" clauses:\n",
            "\n",
            "   1. check if the imported module has an attribute by that name\n",
            "\n",
            "   2. if not, attempt to import a submodule with that name and then\n",
            "      check the imported module again for that attribute\n",
            "\n",
            "   3. if the attribute is not found, \"ImportError\" is raised.\n",
            "\n",
            "   4. otherwise, a reference to that value is stored in the local\n",
            "      namespace, using the name in the \"as\" clause if it is present,\n",
            "      otherwise using the attribute name\n",
            "\n",
            "Examples:\n",
            "\n",
            "   import foo                 # foo imported and bound locally\n",
            "   import foo.bar.baz         # foo, foo.bar, and foo.bar.baz imported, foo bound locally\n",
            "   import foo.bar.baz as fbb  # foo, foo.bar, and foo.bar.baz imported, foo.bar.baz bound as fbb\n",
            "   from foo.bar import baz    # foo, foo.bar, and foo.bar.baz imported, foo.bar.baz bound as baz\n",
            "   from foo import attr       # foo imported and foo.attr bound as attr\n",
            "\n",
            "If the list of identifiers is replaced by a star (\"'*'\"), all public\n",
            "names defined in the module are bound in the local namespace for the\n",
            "scope where the \"import\" statement occurs.\n",
            "\n",
            "The *public names* defined by a module are determined by checking the\n",
            "module’s namespace for a variable named \"__all__\"; if defined, it must\n",
            "be a sequence of strings which are names defined or imported by that\n",
            "module.  The names given in \"__all__\" are all considered public and\n",
            "are required to exist.  If \"__all__\" is not defined, the set of public\n",
            "names includes all names found in the module’s namespace which do not\n",
            "begin with an underscore character (\"'_'\").  \"__all__\" should contain\n",
            "the entire public API. It is intended to avoid accidentally exporting\n",
            "items that are not part of the API (such as library modules which were\n",
            "imported and used within the module).\n",
            "\n",
            "The wild card form of import — \"from module import *\" — is only\n",
            "allowed at the module level.  Attempting to use it in class or\n",
            "function definitions will raise a \"SyntaxError\".\n",
            "\n",
            "When specifying what module to import you do not have to specify the\n",
            "absolute name of the module. When a module or package is contained\n",
            "within another package it is possible to make a relative import within\n",
            "the same top package without having to mention the package name. By\n",
            "using leading dots in the specified module or package after \"from\" you\n",
            "can specify how high to traverse up the current package hierarchy\n",
            "without specifying exact names. One leading dot means the current\n",
            "package where the module making the import exists. Two dots means up\n",
            "one package level. Three dots is up two levels, etc. So if you execute\n",
            "\"from . import mod\" from a module in the \"pkg\" package then you will\n",
            "end up importing \"pkg.mod\". If you execute \"from ..subpkg2 import mod\"\n",
            "from within \"pkg.subpkg1\" you will import \"pkg.subpkg2.mod\". The\n",
            "specification for relative imports is contained in the Package\n",
            "Relative Imports section.\n",
            "\n",
            "\"importlib.import_module()\" is provided to support applications that\n",
            "determine dynamically the modules to be loaded.\n",
            "\n",
            "Raises an auditing event \"import\" with arguments \"module\", \"filename\",\n",
            "\"sys.path\", \"sys.meta_path\", \"sys.path_hooks\".\n",
            "\n",
            "\n",
            "Future statements\n",
            "=================\n",
            "\n",
            "A *future statement* is a directive to the compiler that a particular\n",
            "module should be compiled using syntax or semantics that will be\n",
            "available in a specified future release of Python where the feature\n",
            "becomes standard.\n",
            "\n",
            "The future statement is intended to ease migration to future versions\n",
            "of Python that introduce incompatible changes to the language.  It\n",
            "allows use of the new features on a per-module basis before the\n",
            "release in which the feature becomes standard.\n",
            "\n",
            "   future_stmt ::= \"from\" \"__future__\" \"import\" feature [\"as\" identifier]\n",
            "                   (\",\" feature [\"as\" identifier])*\n",
            "                   | \"from\" \"__future__\" \"import\" \"(\" feature [\"as\" identifier]\n",
            "                   (\",\" feature [\"as\" identifier])* [\",\"] \")\"\n",
            "   feature     ::= identifier\n",
            "\n",
            "A future statement must appear near the top of the module.  The only\n",
            "lines that can appear before a future statement are:\n",
            "\n",
            "* the module docstring (if any),\n",
            "\n",
            "* comments,\n",
            "\n",
            "* blank lines, and\n",
            "\n",
            "* other future statements.\n",
            "\n",
            "The only feature that requires using the future statement is\n",
            "\"annotations\" (see **PEP 563**).\n",
            "\n",
            "All historical features enabled by the future statement are still\n",
            "recognized by Python 3.  The list includes \"absolute_import\",\n",
            "\"division\", \"generators\", \"generator_stop\", \"unicode_literals\",\n",
            "\"print_function\", \"nested_scopes\" and \"with_statement\".  They are all\n",
            "redundant because they are always enabled, and only kept for backwards\n",
            "compatibility.\n",
            "\n",
            "A future statement is recognized and treated specially at compile\n",
            "time: Changes to the semantics of core constructs are often\n",
            "implemented by generating different code.  It may even be the case\n",
            "that a new feature introduces new incompatible syntax (such as a new\n",
            "reserved word), in which case the compiler may need to parse the\n",
            "module differently.  Such decisions cannot be pushed off until\n",
            "runtime.\n",
            "\n",
            "For any given release, the compiler knows which feature names have\n",
            "been defined, and raises a compile-time error if a future statement\n",
            "contains a feature not known to it.\n",
            "\n",
            "The direct runtime semantics are the same as for any import statement:\n",
            "there is a standard module \"__future__\", described later, and it will\n",
            "be imported in the usual way at the time the future statement is\n",
            "executed.\n",
            "\n",
            "The interesting runtime semantics depend on the specific feature\n",
            "enabled by the future statement.\n",
            "\n",
            "Note that there is nothing special about the statement:\n",
            "\n",
            "   import __future__ [as name]\n",
            "\n",
            "That is not a future statement; it’s an ordinary import statement with\n",
            "no special semantics or syntax restrictions.\n",
            "\n",
            "Code compiled by calls to the built-in functions \"exec()\" and\n",
            "\"compile()\" that occur in a module \"M\" containing a future statement\n",
            "will, by default, use the new syntax or semantics associated with the\n",
            "future statement.  This can be controlled by optional arguments to\n",
            "\"compile()\" — see the documentation of that function for details.\n",
            "\n",
            "A future statement typed at an interactive interpreter prompt will\n",
            "take effect for the rest of the interpreter session.  If an\n",
            "interpreter is started with the \"-i\" option, is passed a script name\n",
            "to execute, and the script includes a future statement, it will be in\n",
            "effect in the interactive session started after the script is\n",
            "executed.\n",
            "\n",
            "See also:\n",
            "\n",
            "  **PEP 236** - Back to the __future__\n",
            "     The original proposal for the __future__ mechanism.\n",
            "\n",
            "Related help topics: MODULES\n",
            "\n"
          ]
        }
      ]
    },
    {
      "cell_type": "code",
      "source": [
        "import math\n",
        "x=7.8\n",
        "math.ceil(x)\n"
      ],
      "metadata": {
        "colab": {
          "base_uri": "https://localhost:8080/"
        },
        "id": "oD7qg-pKAhjm",
        "outputId": "e22641df-c12c-471a-cbec-99596676ba16"
      },
      "execution_count": 29,
      "outputs": [
        {
          "output_type": "execute_result",
          "data": {
            "text/plain": [
              "8"
            ]
          },
          "metadata": {},
          "execution_count": 29
        }
      ]
    },
    {
      "cell_type": "code",
      "source": [
        "print(dir(math))"
      ],
      "metadata": {
        "colab": {
          "base_uri": "https://localhost:8080/"
        },
        "id": "2agAplXBAvjq",
        "outputId": "f0da802d-f39a-47a6-ab36-205a59b95003"
      },
      "execution_count": 30,
      "outputs": [
        {
          "output_type": "stream",
          "name": "stdout",
          "text": [
            "['__doc__', '__loader__', '__name__', '__package__', '__spec__', 'acos', 'acosh', 'asin', 'asinh', 'atan', 'atan2', 'atanh', 'ceil', 'comb', 'copysign', 'cos', 'cosh', 'degrees', 'dist', 'e', 'erf', 'erfc', 'exp', 'expm1', 'fabs', 'factorial', 'floor', 'fmod', 'frexp', 'fsum', 'gamma', 'gcd', 'hypot', 'inf', 'isclose', 'isfinite', 'isinf', 'isnan', 'isqrt', 'lcm', 'ldexp', 'lgamma', 'log', 'log10', 'log1p', 'log2', 'modf', 'nan', 'nextafter', 'perm', 'pi', 'pow', 'prod', 'radians', 'remainder', 'sin', 'sinh', 'sqrt', 'tan', 'tanh', 'tau', 'trunc', 'ulp']\n"
          ]
        }
      ]
    },
    {
      "cell_type": "code",
      "source": [
        "fruit=\"grape\",\"apple\",\"pomo\",\"pineaple\",\"guava\",\"cherry\",\"melon\",\"dragonfruit\",\"mango\",\"orange\"\n",
        "fruit"
      ],
      "metadata": {
        "colab": {
          "base_uri": "https://localhost:8080/"
        },
        "id": "GoWn2o5MDcAb",
        "outputId": "89d41115-9d29-4f7d-ffc1-c6b29df4f69d"
      },
      "execution_count": 17,
      "outputs": [
        {
          "output_type": "execute_result",
          "data": {
            "text/plain": [
              "('grape',\n",
              " 'apple',\n",
              " 'pomo',\n",
              " 'pineaple',\n",
              " 'guava',\n",
              " 'cherry',\n",
              " 'melon',\n",
              " 'dragonfruit',\n",
              " 'mango',\n",
              " 'orange')"
            ]
          },
          "metadata": {},
          "execution_count": 17
        }
      ]
    },
    {
      "cell_type": "code",
      "source": [
        "type(fruit)"
      ],
      "metadata": {
        "colab": {
          "base_uri": "https://localhost:8080/"
        },
        "id": "_JofZZWlD_xK",
        "outputId": "9066f380-69ba-4b3c-85f6-0eec08377268"
      },
      "execution_count": 33,
      "outputs": [
        {
          "output_type": "execute_result",
          "data": {
            "text/plain": [
              "tuple"
            ]
          },
          "metadata": {},
          "execution_count": 33
        }
      ]
    },
    {
      "cell_type": "code",
      "source": [
        "fruits=[\"grape\",\"apple\",\"pomo\",\"pineaple\",\"guava\",\"cherry\",\"melon\",\"dragonfruit\",\"mango\",\"orange\"]\n",
        "fruits"
      ],
      "metadata": {
        "colab": {
          "base_uri": "https://localhost:8080/"
        },
        "id": "fO6rWBYPEEBY",
        "outputId": "84695b2f-5b29-4d19-db64-73bd147e7564"
      },
      "execution_count": 5,
      "outputs": [
        {
          "output_type": "execute_result",
          "data": {
            "text/plain": [
              "['grape',\n",
              " 'apple',\n",
              " 'pomo',\n",
              " 'pineaple',\n",
              " 'guava',\n",
              " 'cherry',\n",
              " 'melon',\n",
              " 'dragonfruit',\n",
              " 'mango',\n",
              " 'orange']"
            ]
          },
          "metadata": {},
          "execution_count": 5
        }
      ]
    },
    {
      "cell_type": "code",
      "source": [
        "type(fruits)"
      ],
      "metadata": {
        "colab": {
          "base_uri": "https://localhost:8080/"
        },
        "id": "NYpD5fx_EMeY",
        "outputId": "1f0c6c7b-3d3c-4857-bd2c-d827d8880952"
      },
      "execution_count": 43,
      "outputs": [
        {
          "output_type": "execute_result",
          "data": {
            "text/plain": [
              "list"
            ]
          },
          "metadata": {},
          "execution_count": 43
        }
      ]
    },
    {
      "cell_type": "code",
      "source": [
        "my_list=list(fruit)\n",
        "my_list\n",
        "type(my_list)"
      ],
      "metadata": {
        "colab": {
          "base_uri": "https://localhost:8080/"
        },
        "id": "K_I1ZY-lETKL",
        "outputId": "0e1c71c3-7e75-43f3-9db7-298e32f68c86"
      },
      "execution_count": 44,
      "outputs": [
        {
          "output_type": "execute_result",
          "data": {
            "text/plain": [
              "list"
            ]
          },
          "metadata": {},
          "execution_count": 44
        }
      ]
    },
    {
      "cell_type": "code",
      "source": [
        "len(fruits) #method(obj)"
      ],
      "metadata": {
        "colab": {
          "base_uri": "https://localhost:8080/"
        },
        "id": "dKTxI8HUGInM",
        "outputId": "688a639b-16cf-48bb-b5b6-65c05ed0a945"
      },
      "execution_count": 49,
      "outputs": [
        {
          "output_type": "execute_result",
          "data": {
            "text/plain": [
              "10"
            ]
          },
          "metadata": {},
          "execution_count": 49
        }
      ]
    },
    {
      "cell_type": "code",
      "source": [
        "list.__len__(fruits) #class.method(object)"
      ],
      "metadata": {
        "colab": {
          "base_uri": "https://localhost:8080/"
        },
        "id": "FtCBigMzGLIK",
        "outputId": "f0d036b4-0f49-4bfb-84fc-2c265ee6f892"
      },
      "execution_count": 50,
      "outputs": [
        {
          "output_type": "execute_result",
          "data": {
            "text/plain": [
              "10"
            ]
          },
          "metadata": {},
          "execution_count": 50
        }
      ]
    },
    {
      "cell_type": "code",
      "source": [
        "fruits.__len__() #object.method()"
      ],
      "metadata": {
        "colab": {
          "base_uri": "https://localhost:8080/"
        },
        "id": "y0zGdptGGLUW",
        "outputId": "200873ab-dd97-4c85-dc46-fe84d6ddbaa5"
      },
      "execution_count": 51,
      "outputs": [
        {
          "output_type": "execute_result",
          "data": {
            "text/plain": [
              "10"
            ]
          },
          "metadata": {},
          "execution_count": 51
        }
      ]
    },
    {
      "cell_type": "code",
      "source": [
        "list.__repr__(fruits)"
      ],
      "metadata": {
        "colab": {
          "base_uri": "https://localhost:8080/",
          "height": 35
        },
        "id": "GuMvMPJbHCdD",
        "outputId": "413a5753-8718-4816-dd1f-af642b2c9189"
      },
      "execution_count": 52,
      "outputs": [
        {
          "output_type": "execute_result",
          "data": {
            "text/plain": [
              "\"['grape', 'apple', 'pomo', 'pineaple', 'guava', 'cherry', 'melon', 'dragonfruit', 'mango', 'orange']\""
            ],
            "application/vnd.google.colaboratory.intrinsic+json": {
              "type": "string"
            }
          },
          "metadata": {},
          "execution_count": 52
        }
      ]
    },
    {
      "cell_type": "code",
      "source": [
        "fruits.__repr__()"
      ],
      "metadata": {
        "colab": {
          "base_uri": "https://localhost:8080/",
          "height": 35
        },
        "id": "A70eQAj9HH4k",
        "outputId": "9274d27a-72a9-4916-fe4c-396f2b1bc694"
      },
      "execution_count": 54,
      "outputs": [
        {
          "output_type": "execute_result",
          "data": {
            "text/plain": [
              "\"['grape', 'apple', 'pomo', 'pineaple', 'guava', 'cherry', 'melon', 'dragonfruit', 'mango', 'orange']\""
            ],
            "application/vnd.google.colaboratory.intrinsic+json": {
              "type": "string"
            }
          },
          "metadata": {},
          "execution_count": 54
        }
      ]
    },
    {
      "cell_type": "code",
      "source": [
        "fruits"
      ],
      "metadata": {
        "colab": {
          "base_uri": "https://localhost:8080/",
          "height": 176
        },
        "id": "VQVLDe1DHObA",
        "outputId": "859f9a1f-dc4e-4927-e516-2e15e7cc03ad"
      },
      "execution_count": 3,
      "outputs": [
        {
          "output_type": "error",
          "ename": "NameError",
          "evalue": "ignored",
          "traceback": [
            "\u001b[0;31m---------------------------------------------------------------------------\u001b[0m",
            "\u001b[0;31mNameError\u001b[0m                                 Traceback (most recent call last)",
            "\u001b[0;32m<ipython-input-3-5842b46f59fb>\u001b[0m in \u001b[0;36m<cell line: 1>\u001b[0;34m()\u001b[0m\n\u001b[0;32m----> 1\u001b[0;31m \u001b[0mfruits\u001b[0m\u001b[0;34m\u001b[0m\u001b[0;34m\u001b[0m\u001b[0m\n\u001b[0m",
            "\u001b[0;31mNameError\u001b[0m: name 'fruits' is not defined"
          ]
        }
      ]
    },
    {
      "cell_type": "code",
      "source": [
        "fruits[0] #left to right positive indexing starts from 0 ////right to left starts from -1 negative indexing"
      ],
      "metadata": {
        "colab": {
          "base_uri": "https://localhost:8080/",
          "height": 35
        },
        "id": "7kWEMeDlIPbS",
        "outputId": "0ce7abb4-9ff7-4867-d0e1-d1e57cf0d392"
      },
      "execution_count": 56,
      "outputs": [
        {
          "output_type": "execute_result",
          "data": {
            "text/plain": [
              "'grape'"
            ],
            "application/vnd.google.colaboratory.intrinsic+json": {
              "type": "string"
            }
          },
          "metadata": {},
          "execution_count": 56
        }
      ]
    },
    {
      "cell_type": "code",
      "source": [
        "fruits[-5]"
      ],
      "metadata": {
        "colab": {
          "base_uri": "https://localhost:8080/",
          "height": 35
        },
        "id": "xhkVnr6JISPI",
        "outputId": "ea9fd5b1-4a3f-4f4f-ccce-38b3dc63e32f"
      },
      "execution_count": 57,
      "outputs": [
        {
          "output_type": "execute_result",
          "data": {
            "text/plain": [
              "'cherry'"
            ],
            "application/vnd.google.colaboratory.intrinsic+json": {
              "type": "string"
            }
          },
          "metadata": {},
          "execution_count": 57
        }
      ]
    },
    {
      "cell_type": "code",
      "source": [
        "fruits.__getitem__(7)"
      ],
      "metadata": {
        "colab": {
          "base_uri": "https://localhost:8080/",
          "height": 35
        },
        "id": "_VxZ_eMLIWoc",
        "outputId": "4c3ae807-686b-4fea-a7d1-0ed9db6e0104"
      },
      "execution_count": 58,
      "outputs": [
        {
          "output_type": "execute_result",
          "data": {
            "text/plain": [
              "'dragonfruit'"
            ],
            "application/vnd.google.colaboratory.intrinsic+json": {
              "type": "string"
            }
          },
          "metadata": {},
          "execution_count": 58
        }
      ]
    },
    {
      "cell_type": "code",
      "source": [
        "list.__getitem__(fruits,7)"
      ],
      "metadata": {
        "colab": {
          "base_uri": "https://localhost:8080/",
          "height": 35
        },
        "id": "uPGdr9hbIb8_",
        "outputId": "f85aa654-f665-47ec-a8f4-1da149e299ef"
      },
      "execution_count": 61,
      "outputs": [
        {
          "output_type": "execute_result",
          "data": {
            "text/plain": [
              "'dragonfruit'"
            ],
            "application/vnd.google.colaboratory.intrinsic+json": {
              "type": "string"
            }
          },
          "metadata": {},
          "execution_count": 61
        }
      ]
    },
    {
      "cell_type": "code",
      "source": [
        "fruits.__repr__()\n"
      ],
      "metadata": {
        "colab": {
          "base_uri": "https://localhost:8080/",
          "height": 35
        },
        "id": "sfAs1jxQIvYN",
        "outputId": "00367909-c497-4933-e19d-64938da57cd3"
      },
      "execution_count": 67,
      "outputs": [
        {
          "output_type": "execute_result",
          "data": {
            "text/plain": [
              "\"['grape', 'apple', 'pomo', 'pineaple', 'guava', 'cherry', 'melon', 'dragonfruit', 'mango', 'orange']\""
            ],
            "application/vnd.google.colaboratory.intrinsic+json": {
              "type": "string"
            }
          },
          "metadata": {},
          "execution_count": 67
        }
      ]
    },
    {
      "cell_type": "code",
      "source": [
        "fruits[1:10:2]"
      ],
      "metadata": {
        "colab": {
          "base_uri": "https://localhost:8080/"
        },
        "id": "FyGCk5ChKjos",
        "outputId": "066f6438-1cc9-48d0-e656-54f0320020a9"
      },
      "execution_count": 71,
      "outputs": [
        {
          "output_type": "execute_result",
          "data": {
            "text/plain": [
              "['apple', 'pineaple', 'cherry', 'dragonfruit', 'orange']"
            ]
          },
          "metadata": {},
          "execution_count": 71
        }
      ]
    },
    {
      "cell_type": "code",
      "source": [
        "fruits[1:10:3]"
      ],
      "metadata": {
        "colab": {
          "base_uri": "https://localhost:8080/"
        },
        "id": "z29hBsEtKy0a",
        "outputId": "01d0a8f5-56a2-44ed-d337-a3c9cf027766"
      },
      "execution_count": 72,
      "outputs": [
        {
          "output_type": "execute_result",
          "data": {
            "text/plain": [
              "['apple', 'guava', 'dragonfruit']"
            ]
          },
          "metadata": {},
          "execution_count": 72
        }
      ]
    },
    {
      "cell_type": "code",
      "source": [
        "fruits[-1:-11:-1]"
      ],
      "metadata": {
        "colab": {
          "base_uri": "https://localhost:8080/"
        },
        "id": "z656LLN_K_n_",
        "outputId": "d099d0be-be62-4cf2-a98c-ffa367d455a7"
      },
      "execution_count": 81,
      "outputs": [
        {
          "output_type": "execute_result",
          "data": {
            "text/plain": [
              "['orange',\n",
              " 'mango',\n",
              " 'dragonfruit',\n",
              " 'melon',\n",
              " 'cherry',\n",
              " 'guava',\n",
              " 'pineaple',\n",
              " 'pomo',\n",
              " 'apple',\n",
              " 'grape']"
            ]
          },
          "metadata": {},
          "execution_count": 81
        }
      ]
    },
    {
      "cell_type": "code",
      "source": [
        "fruits[::]"
      ],
      "metadata": {
        "colab": {
          "base_uri": "https://localhost:8080/"
        },
        "id": "Mw-M1HhWMrUk",
        "outputId": "4761c22f-c12a-41f5-e2c5-3d752b7f655a"
      },
      "execution_count": 88,
      "outputs": [
        {
          "output_type": "execute_result",
          "data": {
            "text/plain": [
              "['grape',\n",
              " 'apple',\n",
              " 'pomo',\n",
              " 'pineaple',\n",
              " 'guava',\n",
              " 'cherry',\n",
              " 'melon',\n",
              " 'dragonfruit',\n",
              " 'mango',\n",
              " 'orange']"
            ]
          },
          "metadata": {},
          "execution_count": 88
        }
      ]
    },
    {
      "cell_type": "code",
      "source": [
        "fruits[::-1]"
      ],
      "metadata": {
        "colab": {
          "base_uri": "https://localhost:8080/",
          "height": 176
        },
        "id": "5TeTULZwNHGn",
        "outputId": "1e3de743-9697-4103-879c-0d1d51cc01a7"
      },
      "execution_count": 2,
      "outputs": [
        {
          "output_type": "error",
          "ename": "NameError",
          "evalue": "ignored",
          "traceback": [
            "\u001b[0;31m---------------------------------------------------------------------------\u001b[0m",
            "\u001b[0;31mNameError\u001b[0m                                 Traceback (most recent call last)",
            "\u001b[0;32m<ipython-input-2-68822e554944>\u001b[0m in \u001b[0;36m<cell line: 1>\u001b[0;34m()\u001b[0m\n\u001b[0;32m----> 1\u001b[0;31m \u001b[0mfruits\u001b[0m\u001b[0;34m[\u001b[0m\u001b[0;34m:\u001b[0m\u001b[0;34m:\u001b[0m\u001b[0;34m-\u001b[0m\u001b[0;36m1\u001b[0m\u001b[0;34m]\u001b[0m\u001b[0;34m\u001b[0m\u001b[0;34m\u001b[0m\u001b[0m\n\u001b[0m",
            "\u001b[0;31mNameError\u001b[0m: name 'fruits' is not defined"
          ]
        }
      ]
    },
    {
      "cell_type": "code",
      "source": [
        "fruits[-1:-3:-1]"
      ],
      "metadata": {
        "colab": {
          "base_uri": "https://localhost:8080/"
        },
        "id": "cbnLt8SjOjk0",
        "outputId": "558d09ed-6189-4bb5-cf2a-236c141213c5"
      },
      "execution_count": 90,
      "outputs": [
        {
          "output_type": "execute_result",
          "data": {
            "text/plain": [
              "['orange', 'mango']"
            ]
          },
          "metadata": {},
          "execution_count": 90
        }
      ]
    },
    {
      "cell_type": "code",
      "source": [
        "fruits[-8::-1]"
      ],
      "metadata": {
        "colab": {
          "base_uri": "https://localhost:8080/"
        },
        "id": "J5HaA_UoO8YG",
        "outputId": "2723b58e-c141-4b9c-ecf2-163ad965de4c"
      },
      "execution_count": 106,
      "outputs": [
        {
          "output_type": "execute_result",
          "data": {
            "text/plain": [
              "['pomo', 'apple', 'grape']"
            ]
          },
          "metadata": {},
          "execution_count": 106
        }
      ]
    },
    {
      "cell_type": "code",
      "source": [
        "fruits[-8:1:-1]"
      ],
      "metadata": {
        "colab": {
          "base_uri": "https://localhost:8080/"
        },
        "id": "7Jcw91B6SADu",
        "outputId": "59b6868a-966d-46ba-9624-e7e0c109bc82"
      },
      "execution_count": 108,
      "outputs": [
        {
          "output_type": "execute_result",
          "data": {
            "text/plain": [
              "['pomo']"
            ]
          },
          "metadata": {},
          "execution_count": 108
        }
      ]
    },
    {
      "cell_type": "code",
      "source": [
        "res = len(test_list) - test_list.index(\"pomo\")\n",
        "res"
      ],
      "metadata": {
        "colab": {
          "base_uri": "https://localhost:8080/",
          "height": 193
        },
        "id": "Ixrw0DPYSXwI",
        "outputId": "7315c906-3777-4bca-dec9-725ac54808ef"
      },
      "execution_count": 6,
      "outputs": [
        {
          "output_type": "error",
          "ename": "NameError",
          "evalue": "ignored",
          "traceback": [
            "\u001b[0;31m---------------------------------------------------------------------------\u001b[0m",
            "\u001b[0;31mNameError\u001b[0m                                 Traceback (most recent call last)",
            "\u001b[0;32m<ipython-input-6-3d56ec594524>\u001b[0m in \u001b[0;36m<cell line: 1>\u001b[0;34m()\u001b[0m\n\u001b[0;32m----> 1\u001b[0;31m \u001b[0mres\u001b[0m \u001b[0;34m=\u001b[0m \u001b[0mlen\u001b[0m\u001b[0;34m(\u001b[0m\u001b[0mtest_list\u001b[0m\u001b[0;34m)\u001b[0m \u001b[0;34m-\u001b[0m \u001b[0mtest_list\u001b[0m\u001b[0;34m.\u001b[0m\u001b[0mindex\u001b[0m\u001b[0;34m(\u001b[0m\u001b[0;34m\"pomo\"\u001b[0m\u001b[0;34m)\u001b[0m\u001b[0;34m\u001b[0m\u001b[0;34m\u001b[0m\u001b[0m\n\u001b[0m\u001b[1;32m      2\u001b[0m \u001b[0mres\u001b[0m\u001b[0;34m\u001b[0m\u001b[0;34m\u001b[0m\u001b[0m\n",
            "\u001b[0;31mNameError\u001b[0m: name 'test_list' is not defined"
          ]
        }
      ]
    },
    {
      "cell_type": "code",
      "source": [
        "fruits[5]=\"nandhu\"\n",
        "fruits"
      ],
      "metadata": {
        "colab": {
          "base_uri": "https://localhost:8080/"
        },
        "id": "znP5907knvJd",
        "outputId": "eeda191c-600f-4a00-fca6-fd733fa91c97"
      },
      "execution_count": 16,
      "outputs": [
        {
          "output_type": "execute_result",
          "data": {
            "text/plain": [
              "['grape',\n",
              " 'apple',\n",
              " 'pomo',\n",
              " 'pineaple',\n",
              " 'guava',\n",
              " 'nandhu',\n",
              " 'melon',\n",
              " 'dragonfruit',\n",
              " 'mango',\n",
              " 'orange']"
            ]
          },
          "metadata": {},
          "execution_count": 16
        }
      ]
    },
    {
      "cell_type": "code",
      "source": [
        "fruits[3:5]=[\"ahaana\",\"ahaan\",\"ahaa\",\"dsf\"]"
      ],
      "metadata": {
        "id": "JZZbIXroomCB"
      },
      "execution_count": 24,
      "outputs": []
    },
    {
      "cell_type": "code",
      "source": [
        "fruits\n"
      ],
      "metadata": {
        "colab": {
          "base_uri": "https://localhost:8080/",
          "height": 176
        },
        "id": "HmDoQ-uZpO2A",
        "outputId": "9ead4da9-0727-420b-ac9a-0f50f7466e54"
      },
      "execution_count": 4,
      "outputs": [
        {
          "output_type": "error",
          "ename": "NameError",
          "evalue": "ignored",
          "traceback": [
            "\u001b[0;31m---------------------------------------------------------------------------\u001b[0m",
            "\u001b[0;31mNameError\u001b[0m                                 Traceback (most recent call last)",
            "\u001b[0;32m<ipython-input-4-5842b46f59fb>\u001b[0m in \u001b[0;36m<cell line: 1>\u001b[0;34m()\u001b[0m\n\u001b[0;32m----> 1\u001b[0;31m \u001b[0mfruits\u001b[0m\u001b[0;34m\u001b[0m\u001b[0;34m\u001b[0m\u001b[0m\n\u001b[0m",
            "\u001b[0;31mNameError\u001b[0m: name 'fruits' is not defined"
          ]
        }
      ]
    },
    {
      "cell_type": "code",
      "source": [
        "list.__len__(fruits)"
      ],
      "metadata": {
        "colab": {
          "base_uri": "https://localhost:8080/"
        },
        "id": "VYbLB3JBpaxo",
        "outputId": "85d84601-deed-45a4-d983-4783a7993470"
      },
      "execution_count": 26,
      "outputs": [
        {
          "output_type": "execute_result",
          "data": {
            "text/plain": [
              "13"
            ]
          },
          "metadata": {},
          "execution_count": 26
        }
      ]
    },
    {
      "cell_type": "code",
      "source": [
        "fruits[-8:1:-1]"
      ],
      "metadata": {
        "colab": {
          "base_uri": "https://localhost:8080/"
        },
        "id": "161bhf2WMwsh",
        "outputId": "e217ce9a-de69-44b2-fd40-ebd676c8a023"
      },
      "execution_count": 27,
      "outputs": [
        {
          "output_type": "execute_result",
          "data": {
            "text/plain": [
              "['ahaa', 'ahaan', 'ahaana', 'pomo']"
            ]
          },
          "metadata": {},
          "execution_count": 27
        }
      ]
    },
    {
      "cell_type": "code",
      "source": [
        "fruits[:]=[\"kiwi\"]"
      ],
      "metadata": {
        "id": "zfwKYaDGqV43"
      },
      "execution_count": 7,
      "outputs": []
    },
    {
      "cell_type": "code",
      "source": [
        "fruits\n"
      ],
      "metadata": {
        "colab": {
          "base_uri": "https://localhost:8080/"
        },
        "id": "3zfyp7OQqZRZ",
        "outputId": "a06d380a-ebe2-4715-dc59-a24a2bc1c649"
      },
      "execution_count": 8,
      "outputs": [
        {
          "output_type": "execute_result",
          "data": {
            "text/plain": [
              "['kiwi']"
            ]
          },
          "metadata": {},
          "execution_count": 8
        }
      ]
    },
    {
      "cell_type": "code",
      "source": [
        "fruits.append(\"orange\")"
      ],
      "metadata": {
        "id": "TTT_eHKoqhxV"
      },
      "execution_count": 9,
      "outputs": []
    },
    {
      "cell_type": "code",
      "source": [
        "fruits"
      ],
      "metadata": {
        "colab": {
          "base_uri": "https://localhost:8080/"
        },
        "id": "9jgP_hYDq0XZ",
        "outputId": "2112870c-6dc7-4890-f211-6a671f0109fa"
      },
      "execution_count": 20,
      "outputs": [
        {
          "output_type": "execute_result",
          "data": {
            "text/plain": [
              "['kiwi',\n",
              " 'mango',\n",
              " 'Bingo',\n",
              " 'orange',\n",
              " 'pineapple',\n",
              " 'grape',\n",
              " 'apple',\n",
              " 'pomo',\n",
              " 'pineaple',\n",
              " 'guava',\n",
              " 'cherry',\n",
              " 'melon',\n",
              " 'dragonfruit',\n",
              " 'mango',\n",
              " 'orange']"
            ]
          },
          "metadata": {},
          "execution_count": 20
        }
      ]
    },
    {
      "cell_type": "code",
      "source": [
        "list.append(fruits,\"pineapple\")"
      ],
      "metadata": {
        "id": "G0aeiBrVln4b"
      },
      "execution_count": 11,
      "outputs": []
    },
    {
      "cell_type": "code",
      "source": [
        "fruits.insert(2,\"Bingo\")"
      ],
      "metadata": {
        "id": "vz8qdYMZlu54"
      },
      "execution_count": 15,
      "outputs": []
    },
    {
      "cell_type": "code",
      "source": [
        "list.extend(fruits,fruit)"
      ],
      "metadata": {
        "id": "Aqvbb0KdmM1c"
      },
      "execution_count": 39,
      "outputs": []
    },
    {
      "cell_type": "code",
      "source": [
        "type(fruits)"
      ],
      "metadata": {
        "colab": {
          "base_uri": "https://localhost:8080/"
        },
        "id": "z683H8FtmdQ3",
        "outputId": "cd06fe8e-9670-4c0c-874e-79ae6e8aafcc"
      },
      "execution_count": 25,
      "outputs": [
        {
          "output_type": "execute_result",
          "data": {
            "text/plain": [
              "list"
            ]
          },
          "metadata": {},
          "execution_count": 25
        }
      ]
    },
    {
      "cell_type": "code",
      "source": [
        "tup=(\"hai\",\"hello\",\"how\",\"are\",\"you\")"
      ],
      "metadata": {
        "id": "Z--LuifvmgoF"
      },
      "execution_count": 22,
      "outputs": []
    },
    {
      "cell_type": "code",
      "source": [
        "list.extend(fruits,tup)"
      ],
      "metadata": {
        "id": "lq0u3p2RmrcY"
      },
      "execution_count": 38,
      "outputs": []
    },
    {
      "cell_type": "code",
      "source": [
        "fruits[2:10]=[\"NANDHU\"]"
      ],
      "metadata": {
        "id": "8PiGswYYm3hQ"
      },
      "execution_count": 36,
      "outputs": []
    },
    {
      "cell_type": "code",
      "source": [
        "fruits"
      ],
      "metadata": {
        "colab": {
          "base_uri": "https://localhost:8080/"
        },
        "id": "SzYAsAAVmv9X",
        "outputId": "eb23dc98-06a8-406b-de1c-0efbb83b798b"
      },
      "execution_count": 59,
      "outputs": [
        {
          "output_type": "execute_result",
          "data": {
            "text/plain": [
              "['you',\n",
              " 'hai',\n",
              " 'hello',\n",
              " 'how',\n",
              " 'are',\n",
              " 'you',\n",
              " 'grape',\n",
              " 'pineaple',\n",
              " 'guava',\n",
              " 'cherry',\n",
              " 'melon']"
            ]
          },
          "metadata": {},
          "execution_count": 59
        }
      ]
    },
    {
      "cell_type": "code",
      "source": [
        "fruits.remove(\"NANDHU\")"
      ],
      "metadata": {
        "id": "CghWF00_nlz4"
      },
      "execution_count": 40,
      "outputs": []
    },
    {
      "cell_type": "code",
      "source": [
        "len(fruits)"
      ],
      "metadata": {
        "colab": {
          "base_uri": "https://localhost:8080/"
        },
        "id": "X4bPXo63nz94",
        "outputId": "b62e30fb-37e2-4cda-8c67-7d2ad8c220dd"
      },
      "execution_count": 54,
      "outputs": [
        {
          "output_type": "execute_result",
          "data": {
            "text/plain": [
              "13"
            ]
          },
          "metadata": {},
          "execution_count": 54
        }
      ]
    },
    {
      "cell_type": "code",
      "source": [
        "list.remove(fruits,\"mango\")"
      ],
      "metadata": {
        "id": "RaK7vGmcnwCk"
      },
      "execution_count": 44,
      "outputs": []
    },
    {
      "cell_type": "code",
      "source": [
        "fruits.pop()"
      ],
      "metadata": {
        "colab": {
          "base_uri": "https://localhost:8080/",
          "height": 35
        },
        "id": "0Iw-TPzwn9sx",
        "outputId": "c2c05972-3d65-40da-d853-cbbbe0e09532"
      },
      "execution_count": 52,
      "outputs": [
        {
          "output_type": "execute_result",
          "data": {
            "text/plain": [
              "'dragonfruit'"
            ],
            "application/vnd.google.colaboratory.intrinsic+json": {
              "type": "string"
            }
          },
          "metadata": {},
          "execution_count": 52
        }
      ]
    },
    {
      "cell_type": "code",
      "source": [
        "fruits.__delitem__(0)"
      ],
      "metadata": {
        "id": "xTtmbV-coFsl"
      },
      "execution_count": 56,
      "outputs": []
    },
    {
      "cell_type": "code",
      "source": [
        "fruits.pop(8)"
      ],
      "metadata": {
        "colab": {
          "base_uri": "https://localhost:8080/",
          "height": 35
        },
        "id": "e1PWE2VuoC00",
        "outputId": "d8e5cfaa-9d00-4a0e-a21f-0039c5d2d402"
      },
      "execution_count": 49,
      "outputs": [
        {
          "output_type": "execute_result",
          "data": {
            "text/plain": [
              "'apple'"
            ],
            "application/vnd.google.colaboratory.intrinsic+json": {
              "type": "string"
            }
          },
          "metadata": {},
          "execution_count": 49
        }
      ]
    },
    {
      "cell_type": "code",
      "source": [
        "list.__delitem__(fruits,-5)"
      ],
      "metadata": {
        "id": "oBmpKIacosHF"
      },
      "execution_count": 58,
      "outputs": []
    },
    {
      "cell_type": "code",
      "source": [
        "fruits.append(\"Ahaana\")"
      ],
      "metadata": {
        "id": "vdqkPGTJo1iL"
      },
      "execution_count": 62,
      "outputs": []
    },
    {
      "cell_type": "code",
      "source": [
        "fruits.clear()"
      ],
      "metadata": {
        "id": "rXcJTzUDozIQ"
      },
      "execution_count": 60,
      "outputs": []
    },
    {
      "cell_type": "code",
      "source": [
        "fruits"
      ],
      "metadata": {
        "colab": {
          "base_uri": "https://localhost:8080/"
        },
        "id": "E7IWKOR0o90E",
        "outputId": "72617200-d86d-4574-a5d8-f4955433bbde"
      },
      "execution_count": 63,
      "outputs": [
        {
          "output_type": "execute_result",
          "data": {
            "text/plain": [
              "['Ahaana']"
            ]
          },
          "metadata": {},
          "execution_count": 63
        }
      ]
    },
    {
      "cell_type": "code",
      "source": [
        "type(fruits)"
      ],
      "metadata": {
        "colab": {
          "base_uri": "https://localhost:8080/"
        },
        "id": "6Os5OC6bpAFa",
        "outputId": "2eaf7b3c-9c05-473b-ef0a-ef78cb8c5ab0"
      },
      "execution_count": 64,
      "outputs": [
        {
          "output_type": "execute_result",
          "data": {
            "text/plain": [
              "list"
            ]
          },
          "metadata": {},
          "execution_count": 64
        }
      ]
    },
    {
      "cell_type": "code",
      "source": [
        "del fruits"
      ],
      "metadata": {
        "colab": {
          "base_uri": "https://localhost:8080/",
          "height": 176
        },
        "id": "-OtplPwmpDs8",
        "outputId": "cf50a486-30a3-48aa-f4c4-d4323c5a8ced"
      },
      "execution_count": 70,
      "outputs": [
        {
          "output_type": "error",
          "ename": "NameError",
          "evalue": "ignored",
          "traceback": [
            "\u001b[0;31m---------------------------------------------------------------------------\u001b[0m",
            "\u001b[0;31mNameError\u001b[0m                                 Traceback (most recent call last)",
            "\u001b[0;32m<ipython-input-70-a6f06d65ef31>\u001b[0m in \u001b[0;36m<cell line: 1>\u001b[0;34m()\u001b[0m\n\u001b[0;32m----> 1\u001b[0;31m \u001b[0;32mdel\u001b[0m \u001b[0mfruits\u001b[0m\u001b[0;34m\u001b[0m\u001b[0;34m\u001b[0m\u001b[0m\n\u001b[0m",
            "\u001b[0;31mNameError\u001b[0m: name 'fruits' is not defined"
          ]
        }
      ]
    },
    {
      "cell_type": "code",
      "source": [
        "list1=['@','@','@']\n",
        "list2=['*','*','*']\n",
        "#list3=list1+list2\n",
        "list3=list1.__add__(list2)\n",
        "list3"
      ],
      "metadata": {
        "colab": {
          "base_uri": "https://localhost:8080/"
        },
        "id": "-1223WZPpJpF",
        "outputId": "ae0c9d17-63f5-496c-d051-e6b05efeb9fa"
      },
      "execution_count": 69,
      "outputs": [
        {
          "output_type": "execute_result",
          "data": {
            "text/plain": [
              "['@', '@', '@', '*', '*', '*']"
            ]
          },
          "metadata": {},
          "execution_count": 69
        }
      ]
    },
    {
      "cell_type": "code",
      "source": [
        "fruits"
      ],
      "metadata": {
        "colab": {
          "base_uri": "https://localhost:8080/",
          "height": 176
        },
        "id": "afyvo8WJpGPY",
        "outputId": "50f013e0-f076-4503-8817-bfbddb107b33"
      },
      "execution_count": 66,
      "outputs": [
        {
          "output_type": "error",
          "ename": "NameError",
          "evalue": "ignored",
          "traceback": [
            "\u001b[0;31m---------------------------------------------------------------------------\u001b[0m",
            "\u001b[0;31mNameError\u001b[0m                                 Traceback (most recent call last)",
            "\u001b[0;32m<ipython-input-66-5842b46f59fb>\u001b[0m in \u001b[0;36m<cell line: 1>\u001b[0;34m()\u001b[0m\n\u001b[0;32m----> 1\u001b[0;31m \u001b[0mfruits\u001b[0m\u001b[0;34m\u001b[0m\u001b[0;34m\u001b[0m\u001b[0m\n\u001b[0m",
            "\u001b[0;31mNameError\u001b[0m: name 'fruits' is not defined"
          ]
        }
      ]
    },
    {
      "cell_type": "code",
      "source": [
        "list3.count('@')"
      ],
      "metadata": {
        "colab": {
          "base_uri": "https://localhost:8080/"
        },
        "id": "2MSRtgFYpx_n",
        "outputId": "56db1ed8-d98a-44af-80c7-ba7858960add"
      },
      "execution_count": 73,
      "outputs": [
        {
          "output_type": "execute_result",
          "data": {
            "text/plain": [
              "3"
            ]
          },
          "metadata": {},
          "execution_count": 73
        }
      ]
    },
    {
      "cell_type": "code",
      "source": [
        "list.count(list3,'*')"
      ],
      "metadata": {
        "colab": {
          "base_uri": "https://localhost:8080/"
        },
        "id": "fhngJDIyqCpT",
        "outputId": "e88e49ed-a969-481f-a7b7-10034e2e6327"
      },
      "execution_count": 74,
      "outputs": [
        {
          "output_type": "execute_result",
          "data": {
            "text/plain": [
              "3"
            ]
          },
          "metadata": {},
          "execution_count": 74
        }
      ]
    },
    {
      "cell_type": "code",
      "source": [
        "listx=['1','%','*','()','$','&','&','*','*']\n",
        "listx.index('*',1,6)#it will find the * and its index number"
      ],
      "metadata": {
        "colab": {
          "base_uri": "https://localhost:8080/"
        },
        "id": "aBBpaYTpqhD2",
        "outputId": "00fe0cdd-2745-425f-f93f-56d532e3bc81"
      },
      "execution_count": 76,
      "outputs": [
        {
          "output_type": "execute_result",
          "data": {
            "text/plain": [
              "2"
            ]
          },
          "metadata": {},
          "execution_count": 76
        }
      ]
    },
    {
      "cell_type": "code",
      "source": [
        "list.__rmul__(list1,4)"
      ],
      "metadata": {
        "colab": {
          "base_uri": "https://localhost:8080/"
        },
        "id": "2iE2JfF6rIRy",
        "outputId": "d4a61aff-49d2-44ec-bcea-71aba909d8e2"
      },
      "execution_count": 77,
      "outputs": [
        {
          "output_type": "execute_result",
          "data": {
            "text/plain": [
              "['@', '@', '@', '@', '@', '@', '@', '@', '@', '@', '@', '@']"
            ]
          },
          "metadata": {},
          "execution_count": 77
        }
      ]
    },
    {
      "cell_type": "code",
      "source": [
        "list1"
      ],
      "metadata": {
        "colab": {
          "base_uri": "https://localhost:8080/"
        },
        "id": "sYP5HJcurQoa",
        "outputId": "2065e0bd-ae5a-498a-819d-6f93f0fc262a"
      },
      "execution_count": 78,
      "outputs": [
        {
          "output_type": "execute_result",
          "data": {
            "text/plain": [
              "['@', '@', '@']"
            ]
          },
          "metadata": {},
          "execution_count": 78
        }
      ]
    }
  ]
}