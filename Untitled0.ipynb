{
  "cells": [
    {
      "cell_type": "markdown",
      "metadata": {
        "id": "view-in-github",
        "colab_type": "text"
      },
      "source": [
        "<a href=\"https://colab.research.google.com/github/nandhuk0706/python/blob/main/Untitled0.ipynb\" target=\"_parent\"><img src=\"https://colab.research.google.com/assets/colab-badge.svg\" alt=\"Open In Colab\"/></a>"
      ]
    },
    {
      "cell_type": "code",
      "execution_count": null,
      "metadata": {
        "colab": {
          "base_uri": "https://localhost:8080/"
        },
        "id": "z9Cd85LHnpJt",
        "outputId": "bec84a99-7605-4986-cdd6-6d27d0d4dba8"
      },
      "outputs": [
        {
          "name": "stdout",
          "output_type": "stream",
          "text": [
            "Help on built-in function len in module builtins:\n",
            "\n",
            "len(obj, /)\n",
            "    Return the number of items in a container.\n",
            "\n"
          ]
        }
      ],
      "source": [
        "help(len)"
      ]
    },
    {
      "cell_type": "code",
      "execution_count": null,
      "metadata": {
        "colab": {
          "base_uri": "https://localhost:8080/"
        },
        "id": "WlhxhITHnsb0",
        "outputId": "5e289a04-136b-47d0-cc71-725ac24daffe"
      },
      "outputs": [
        {
          "data": {
            "text/plain": [
              "complex"
            ]
          },
          "execution_count": 4,
          "metadata": {},
          "output_type": "execute_result"
        }
      ],
      "source": [
        "x=6+6j\n",
        "type(x)"
      ]
    },
    {
      "cell_type": "code",
      "execution_count": null,
      "metadata": {
        "colab": {
          "base_uri": "https://localhost:8080/"
        },
        "id": "oEm1whGy5ZKw",
        "outputId": "e62537b9-35c9-4451-caba-50e52417f8a3"
      },
      "outputs": [
        {
          "data": {
            "text/plain": [
              "(6.0, 6.0, (6-6j))"
            ]
          },
          "execution_count": 5,
          "metadata": {},
          "output_type": "execute_result"
        }
      ],
      "source": [
        "x.real,x.imag,x.conjugate()"
      ]
    },
    {
      "cell_type": "code",
      "execution_count": null,
      "metadata": {
        "colab": {
          "base_uri": "https://localhost:8080/"
        },
        "id": "sSvPIDDW5s_0",
        "outputId": "09be00a7-2401-4fcc-b2fd-462ddbb323fc"
      },
      "outputs": [
        {
          "data": {
            "text/plain": [
              "134834371658032"
            ]
          },
          "execution_count": 6,
          "metadata": {},
          "output_type": "execute_result"
        }
      ],
      "source": [
        "a=3\n",
        "id(a)"
      ]
    },
    {
      "cell_type": "code",
      "execution_count": null,
      "metadata": {
        "colab": {
          "base_uri": "https://localhost:8080/"
        },
        "id": "igX7PxP65w0M",
        "outputId": "3556822a-b739-40aa-c48d-489f38bf6d81"
      },
      "outputs": [
        {
          "data": {
            "text/plain": [
              "134834371658032"
            ]
          },
          "execution_count": 7,
          "metadata": {},
          "output_type": "execute_result"
        }
      ],
      "source": [
        "id(3)"
      ]
    },
    {
      "cell_type": "code",
      "execution_count": null,
      "metadata": {
        "id": "PYEvhYRG51rn"
      },
      "outputs": [],
      "source": [
        "del a"
      ]
    },
    {
      "cell_type": "code",
      "execution_count": null,
      "metadata": {
        "colab": {
          "base_uri": "https://localhost:8080/",
          "height": 176
        },
        "id": "7YMpAENA530r",
        "outputId": "2e31f191-5833-4536-e237-594a6afbfb5c"
      },
      "outputs": [
        {
          "ename": "NameError",
          "evalue": "ignored",
          "output_type": "error",
          "traceback": [
            "\u001b[0;31m---------------------------------------------------------------------------\u001b[0m",
            "\u001b[0;31mNameError\u001b[0m                                 Traceback (most recent call last)",
            "\u001b[0;32m<ipython-input-9-3f786850e387>\u001b[0m in \u001b[0;36m<cell line: 1>\u001b[0;34m()\u001b[0m\n\u001b[0;32m----> 1\u001b[0;31m \u001b[0ma\u001b[0m\u001b[0;34m\u001b[0m\u001b[0;34m\u001b[0m\u001b[0m\n\u001b[0m",
            "\u001b[0;31mNameError\u001b[0m: name 'a' is not defined"
          ]
        }
      ],
      "source": [
        "a\n"
      ]
    },
    {
      "cell_type": "code",
      "execution_count": null,
      "metadata": {
        "colab": {
          "base_uri": "https://localhost:8080/"
        },
        "id": "gcmZ5EpC58u2",
        "outputId": "b483e299-f989-470a-e800-41ed21488004"
      },
      "outputs": [
        {
          "data": {
            "text/plain": [
              "True"
            ]
          },
          "execution_count": 13,
          "metadata": {},
          "output_type": "execute_result"
        }
      ],
      "source": [
        "isinstance(x,complex)"
      ]
    },
    {
      "cell_type": "code",
      "execution_count": null,
      "metadata": {
        "colab": {
          "base_uri": "https://localhost:8080/"
        },
        "id": "sBw2rV5u6Kpg",
        "outputId": "8a90a38d-3aca-4c03-89c0-4d478f1fcb23"
      },
      "outputs": [
        {
          "data": {
            "text/plain": [
              "True"
            ]
          },
          "execution_count": 14,
          "metadata": {},
          "output_type": "execute_result"
        }
      ],
      "source": [
        "isinstance(x,(int,float,complex))"
      ]
    },
    {
      "cell_type": "code",
      "execution_count": null,
      "metadata": {
        "colab": {
          "base_uri": "https://localhost:8080/"
        },
        "id": "6xBYgx2U6P-T",
        "outputId": "812aaf12-355e-4e68-9f88-90d188d05d17"
      },
      "outputs": [
        {
          "data": {
            "text/plain": [
              "True"
            ]
          },
          "execution_count": 16,
          "metadata": {},
          "output_type": "execute_result"
        }
      ],
      "source": [
        "y=4.5\n",
        "isinstance(y,float)"
      ]
    },
    {
      "cell_type": "code",
      "execution_count": null,
      "metadata": {
        "colab": {
          "base_uri": "https://localhost:8080/"
        },
        "id": "0-LkZXrq6fKo",
        "outputId": "071d5c40-1ba8-47a6-9ce7-146995728f04"
      },
      "outputs": [
        {
          "name": "stdout",
          "output_type": "stream",
          "text": [
            "\n",
            "Here is a list of the Python keywords.  Enter any keyword to get more help.\n",
            "\n",
            "False               class               from                or\n",
            "None                continue            global              pass\n",
            "True                def                 if                  raise\n",
            "and                 del                 import              return\n",
            "as                  elif                in                  try\n",
            "assert              else                is                  while\n",
            "async               except              lambda              with\n",
            "await               finally             nonlocal            yield\n",
            "break               for                 not                 \n",
            "\n"
          ]
        }
      ],
      "source": [
        "help(\"keywords\")"
      ]
    },
    {
      "cell_type": "code",
      "execution_count": null,
      "metadata": {
        "colab": {
          "base_uri": "https://localhost:8080/"
        },
        "id": "lEDi8Xf1_V-l",
        "outputId": "050e714f-3968-413f-9bb4-6137225f0864"
      },
      "outputs": [
        {
          "name": "stdout",
          "output_type": "stream",
          "text": [
            "Function definitions\n",
            "********************\n",
            "\n",
            "A function definition defines a user-defined function object (see\n",
            "section The standard type hierarchy):\n",
            "\n",
            "   funcdef                   ::= [decorators] \"def\" funcname \"(\" [parameter_list] \")\"\n",
            "               [\"->\" expression] \":\" suite\n",
            "   decorators                ::= decorator+\n",
            "   decorator                 ::= \"@\" assignment_expression NEWLINE\n",
            "   parameter_list            ::= defparameter (\",\" defparameter)* \",\" \"/\" [\",\" [parameter_list_no_posonly]]\n",
            "                        | parameter_list_no_posonly\n",
            "   parameter_list_no_posonly ::= defparameter (\",\" defparameter)* [\",\" [parameter_list_starargs]]\n",
            "                                 | parameter_list_starargs\n",
            "   parameter_list_starargs   ::= \"*\" [parameter] (\",\" defparameter)* [\",\" [\"**\" parameter [\",\"]]]\n",
            "                               | \"**\" parameter [\",\"]\n",
            "   parameter                 ::= identifier [\":\" expression]\n",
            "   defparameter              ::= parameter [\"=\" expression]\n",
            "   funcname                  ::= identifier\n",
            "\n",
            "A function definition is an executable statement.  Its execution binds\n",
            "the function name in the current local namespace to a function object\n",
            "(a wrapper around the executable code for the function).  This\n",
            "function object contains a reference to the current global namespace\n",
            "as the global namespace to be used when the function is called.\n",
            "\n",
            "The function definition does not execute the function body; this gets\n",
            "executed only when the function is called. [4]\n",
            "\n",
            "A function definition may be wrapped by one or more *decorator*\n",
            "expressions. Decorator expressions are evaluated when the function is\n",
            "defined, in the scope that contains the function definition.  The\n",
            "result must be a callable, which is invoked with the function object\n",
            "as the only argument. The returned value is bound to the function name\n",
            "instead of the function object.  Multiple decorators are applied in\n",
            "nested fashion. For example, the following code\n",
            "\n",
            "   @f1(arg)\n",
            "   @f2\n",
            "   def func(): pass\n",
            "\n",
            "is roughly equivalent to\n",
            "\n",
            "   def func(): pass\n",
            "   func = f1(arg)(f2(func))\n",
            "\n",
            "except that the original function is not temporarily bound to the name\n",
            "\"func\".\n",
            "\n",
            "Changed in version 3.9: Functions may be decorated with any valid\n",
            "\"assignment_expression\". Previously, the grammar was much more\n",
            "restrictive; see **PEP 614** for details.\n",
            "\n",
            "When one or more *parameters* have the form *parameter* \"=\"\n",
            "*expression*, the function is said to have “default parameter values.”\n",
            "For a parameter with a default value, the corresponding *argument* may\n",
            "be omitted from a call, in which case the parameter’s default value is\n",
            "substituted.  If a parameter has a default value, all following\n",
            "parameters up until the “\"*\"” must also have a default value — this is\n",
            "a syntactic restriction that is not expressed by the grammar.\n",
            "\n",
            "**Default parameter values are evaluated from left to right when the\n",
            "function definition is executed.** This means that the expression is\n",
            "evaluated once, when the function is defined, and that the same “pre-\n",
            "computed” value is used for each call.  This is especially important\n",
            "to understand when a default parameter value is a mutable object, such\n",
            "as a list or a dictionary: if the function modifies the object (e.g.\n",
            "by appending an item to a list), the default parameter value is in\n",
            "effect modified.  This is generally not what was intended.  A way\n",
            "around this is to use \"None\" as the default, and explicitly test for\n",
            "it in the body of the function, e.g.:\n",
            "\n",
            "   def whats_on_the_telly(penguin=None):\n",
            "       if penguin is None:\n",
            "           penguin = []\n",
            "       penguin.append(\"property of the zoo\")\n",
            "       return penguin\n",
            "\n",
            "Function call semantics are described in more detail in section Calls.\n",
            "A function call always assigns values to all parameters mentioned in\n",
            "the parameter list, either from positional arguments, from keyword\n",
            "arguments, or from default values.  If the form “\"*identifier\"” is\n",
            "present, it is initialized to a tuple receiving any excess positional\n",
            "parameters, defaulting to the empty tuple. If the form\n",
            "“\"**identifier\"” is present, it is initialized to a new ordered\n",
            "mapping receiving any excess keyword arguments, defaulting to a new\n",
            "empty mapping of the same type.  Parameters after “\"*\"” or\n",
            "“\"*identifier\"” are keyword-only parameters and may only be passed by\n",
            "keyword arguments.  Parameters before “\"/\"” are positional-only\n",
            "parameters and may only be passed by positional arguments.\n",
            "\n",
            "Changed in version 3.8: The \"/\" function parameter syntax may be used\n",
            "to indicate positional-only parameters. See **PEP 570** for details.\n",
            "\n",
            "Parameters may have an *annotation* of the form “\": expression\"”\n",
            "following the parameter name.  Any parameter may have an annotation,\n",
            "even those of the form \"*identifier\" or \"**identifier\".  Functions may\n",
            "have “return” annotation of the form “\"-> expression\"” after the\n",
            "parameter list.  These annotations can be any valid Python expression.\n",
            "The presence of annotations does not change the semantics of a\n",
            "function.  The annotation values are available as values of a\n",
            "dictionary keyed by the parameters’ names in the \"__annotations__\"\n",
            "attribute of the function object.  If the \"annotations\" import from\n",
            "\"__future__\" is used, annotations are preserved as strings at runtime\n",
            "which enables postponed evaluation.  Otherwise, they are evaluated\n",
            "when the function definition is executed.  In this case annotations\n",
            "may be evaluated in a different order than they appear in the source\n",
            "code.\n",
            "\n",
            "It is also possible to create anonymous functions (functions not bound\n",
            "to a name), for immediate use in expressions.  This uses lambda\n",
            "expressions, described in section Lambdas.  Note that the lambda\n",
            "expression is merely a shorthand for a simplified function definition;\n",
            "a function defined in a “\"def\"” statement can be passed around or\n",
            "assigned to another name just like a function defined by a lambda\n",
            "expression.  The “\"def\"” form is actually more powerful since it\n",
            "allows the execution of multiple statements and annotations.\n",
            "\n",
            "**Programmer’s note:** Functions are first-class objects.  A “\"def\"”\n",
            "statement executed inside a function definition defines a local\n",
            "function that can be returned or passed around.  Free variables used\n",
            "in the nested function can access the local variables of the function\n",
            "containing the def.  See section Naming and binding for details.\n",
            "\n",
            "See also:\n",
            "\n",
            "  **PEP 3107** - Function Annotations\n",
            "     The original specification for function annotations.\n",
            "\n",
            "  **PEP 484** - Type Hints\n",
            "     Definition of a standard meaning for annotations: type hints.\n",
            "\n",
            "  **PEP 526** - Syntax for Variable Annotations\n",
            "     Ability to type hint variable declarations, including class\n",
            "     variables and instance variables\n",
            "\n",
            "  **PEP 563** - Postponed Evaluation of Annotations\n",
            "     Support for forward references within annotations by preserving\n",
            "     annotations in a string form at runtime instead of eager\n",
            "     evaluation.\n",
            "\n"
          ]
        }
      ],
      "source": [
        "help(\"def\")"
      ]
    },
    {
      "cell_type": "code",
      "execution_count": null,
      "metadata": {
        "id": "Lss2gXYY_orf"
      },
      "outputs": [],
      "source": [
        "def whats_on_the_telly(penguin=None):\n",
        "       if penguin is None:\n",
        "           penguin = []\n",
        "       penguin.append(\"property of the zoo\")\n",
        "       return penguin"
      ]
    },
    {
      "cell_type": "code",
      "execution_count": null,
      "metadata": {
        "colab": {
          "base_uri": "https://localhost:8080/"
        },
        "id": "XtM8GJtVADOf",
        "outputId": "1da62ae8-aaec-45ff-cdae-4409a3fedc15"
      },
      "outputs": [
        {
          "name": "stdout",
          "output_type": "stream",
          "text": [
            "The \"import\" statement\n",
            "**********************\n",
            "\n",
            "   import_stmt     ::= \"import\" module [\"as\" identifier] (\",\" module [\"as\" identifier])*\n",
            "                   | \"from\" relative_module \"import\" identifier [\"as\" identifier]\n",
            "                   (\",\" identifier [\"as\" identifier])*\n",
            "                   | \"from\" relative_module \"import\" \"(\" identifier [\"as\" identifier]\n",
            "                   (\",\" identifier [\"as\" identifier])* [\",\"] \")\"\n",
            "                   | \"from\" relative_module \"import\" \"*\"\n",
            "   module          ::= (identifier \".\")* identifier\n",
            "   relative_module ::= \".\"* module | \".\"+\n",
            "\n",
            "The basic import statement (no \"from\" clause) is executed in two\n",
            "steps:\n",
            "\n",
            "1. find a module, loading and initializing it if necessary\n",
            "\n",
            "2. define a name or names in the local namespace for the scope where\n",
            "   the \"import\" statement occurs.\n",
            "\n",
            "When the statement contains multiple clauses (separated by commas) the\n",
            "two steps are carried out separately for each clause, just as though\n",
            "the clauses had been separated out into individual import statements.\n",
            "\n",
            "The details of the first step, finding and loading modules, are\n",
            "described in greater detail in the section on the import system, which\n",
            "also describes the various types of packages and modules that can be\n",
            "imported, as well as all the hooks that can be used to customize the\n",
            "import system. Note that failures in this step may indicate either\n",
            "that the module could not be located, *or* that an error occurred\n",
            "while initializing the module, which includes execution of the\n",
            "module’s code.\n",
            "\n",
            "If the requested module is retrieved successfully, it will be made\n",
            "available in the local namespace in one of three ways:\n",
            "\n",
            "* If the module name is followed by \"as\", then the name following \"as\"\n",
            "  is bound directly to the imported module.\n",
            "\n",
            "* If no other name is specified, and the module being imported is a\n",
            "  top level module, the module’s name is bound in the local namespace\n",
            "  as a reference to the imported module\n",
            "\n",
            "* If the module being imported is *not* a top level module, then the\n",
            "  name of the top level package that contains the module is bound in\n",
            "  the local namespace as a reference to the top level package. The\n",
            "  imported module must be accessed using its full qualified name\n",
            "  rather than directly\n",
            "\n",
            "The \"from\" form uses a slightly more complex process:\n",
            "\n",
            "1. find the module specified in the \"from\" clause, loading and\n",
            "   initializing it if necessary;\n",
            "\n",
            "2. for each of the identifiers specified in the \"import\" clauses:\n",
            "\n",
            "   1. check if the imported module has an attribute by that name\n",
            "\n",
            "   2. if not, attempt to import a submodule with that name and then\n",
            "      check the imported module again for that attribute\n",
            "\n",
            "   3. if the attribute is not found, \"ImportError\" is raised.\n",
            "\n",
            "   4. otherwise, a reference to that value is stored in the local\n",
            "      namespace, using the name in the \"as\" clause if it is present,\n",
            "      otherwise using the attribute name\n",
            "\n",
            "Examples:\n",
            "\n",
            "   import foo                 # foo imported and bound locally\n",
            "   import foo.bar.baz         # foo, foo.bar, and foo.bar.baz imported, foo bound locally\n",
            "   import foo.bar.baz as fbb  # foo, foo.bar, and foo.bar.baz imported, foo.bar.baz bound as fbb\n",
            "   from foo.bar import baz    # foo, foo.bar, and foo.bar.baz imported, foo.bar.baz bound as baz\n",
            "   from foo import attr       # foo imported and foo.attr bound as attr\n",
            "\n",
            "If the list of identifiers is replaced by a star (\"'*'\"), all public\n",
            "names defined in the module are bound in the local namespace for the\n",
            "scope where the \"import\" statement occurs.\n",
            "\n",
            "The *public names* defined by a module are determined by checking the\n",
            "module’s namespace for a variable named \"__all__\"; if defined, it must\n",
            "be a sequence of strings which are names defined or imported by that\n",
            "module.  The names given in \"__all__\" are all considered public and\n",
            "are required to exist.  If \"__all__\" is not defined, the set of public\n",
            "names includes all names found in the module’s namespace which do not\n",
            "begin with an underscore character (\"'_'\").  \"__all__\" should contain\n",
            "the entire public API. It is intended to avoid accidentally exporting\n",
            "items that are not part of the API (such as library modules which were\n",
            "imported and used within the module).\n",
            "\n",
            "The wild card form of import — \"from module import *\" — is only\n",
            "allowed at the module level.  Attempting to use it in class or\n",
            "function definitions will raise a \"SyntaxError\".\n",
            "\n",
            "When specifying what module to import you do not have to specify the\n",
            "absolute name of the module. When a module or package is contained\n",
            "within another package it is possible to make a relative import within\n",
            "the same top package without having to mention the package name. By\n",
            "using leading dots in the specified module or package after \"from\" you\n",
            "can specify how high to traverse up the current package hierarchy\n",
            "without specifying exact names. One leading dot means the current\n",
            "package where the module making the import exists. Two dots means up\n",
            "one package level. Three dots is up two levels, etc. So if you execute\n",
            "\"from . import mod\" from a module in the \"pkg\" package then you will\n",
            "end up importing \"pkg.mod\". If you execute \"from ..subpkg2 import mod\"\n",
            "from within \"pkg.subpkg1\" you will import \"pkg.subpkg2.mod\". The\n",
            "specification for relative imports is contained in the Package\n",
            "Relative Imports section.\n",
            "\n",
            "\"importlib.import_module()\" is provided to support applications that\n",
            "determine dynamically the modules to be loaded.\n",
            "\n",
            "Raises an auditing event \"import\" with arguments \"module\", \"filename\",\n",
            "\"sys.path\", \"sys.meta_path\", \"sys.path_hooks\".\n",
            "\n",
            "\n",
            "Future statements\n",
            "=================\n",
            "\n",
            "A *future statement* is a directive to the compiler that a particular\n",
            "module should be compiled using syntax or semantics that will be\n",
            "available in a specified future release of Python where the feature\n",
            "becomes standard.\n",
            "\n",
            "The future statement is intended to ease migration to future versions\n",
            "of Python that introduce incompatible changes to the language.  It\n",
            "allows use of the new features on a per-module basis before the\n",
            "release in which the feature becomes standard.\n",
            "\n",
            "   future_stmt ::= \"from\" \"__future__\" \"import\" feature [\"as\" identifier]\n",
            "                   (\",\" feature [\"as\" identifier])*\n",
            "                   | \"from\" \"__future__\" \"import\" \"(\" feature [\"as\" identifier]\n",
            "                   (\",\" feature [\"as\" identifier])* [\",\"] \")\"\n",
            "   feature     ::= identifier\n",
            "\n",
            "A future statement must appear near the top of the module.  The only\n",
            "lines that can appear before a future statement are:\n",
            "\n",
            "* the module docstring (if any),\n",
            "\n",
            "* comments,\n",
            "\n",
            "* blank lines, and\n",
            "\n",
            "* other future statements.\n",
            "\n",
            "The only feature that requires using the future statement is\n",
            "\"annotations\" (see **PEP 563**).\n",
            "\n",
            "All historical features enabled by the future statement are still\n",
            "recognized by Python 3.  The list includes \"absolute_import\",\n",
            "\"division\", \"generators\", \"generator_stop\", \"unicode_literals\",\n",
            "\"print_function\", \"nested_scopes\" and \"with_statement\".  They are all\n",
            "redundant because they are always enabled, and only kept for backwards\n",
            "compatibility.\n",
            "\n",
            "A future statement is recognized and treated specially at compile\n",
            "time: Changes to the semantics of core constructs are often\n",
            "implemented by generating different code.  It may even be the case\n",
            "that a new feature introduces new incompatible syntax (such as a new\n",
            "reserved word), in which case the compiler may need to parse the\n",
            "module differently.  Such decisions cannot be pushed off until\n",
            "runtime.\n",
            "\n",
            "For any given release, the compiler knows which feature names have\n",
            "been defined, and raises a compile-time error if a future statement\n",
            "contains a feature not known to it.\n",
            "\n",
            "The direct runtime semantics are the same as for any import statement:\n",
            "there is a standard module \"__future__\", described later, and it will\n",
            "be imported in the usual way at the time the future statement is\n",
            "executed.\n",
            "\n",
            "The interesting runtime semantics depend on the specific feature\n",
            "enabled by the future statement.\n",
            "\n",
            "Note that there is nothing special about the statement:\n",
            "\n",
            "   import __future__ [as name]\n",
            "\n",
            "That is not a future statement; it’s an ordinary import statement with\n",
            "no special semantics or syntax restrictions.\n",
            "\n",
            "Code compiled by calls to the built-in functions \"exec()\" and\n",
            "\"compile()\" that occur in a module \"M\" containing a future statement\n",
            "will, by default, use the new syntax or semantics associated with the\n",
            "future statement.  This can be controlled by optional arguments to\n",
            "\"compile()\" — see the documentation of that function for details.\n",
            "\n",
            "A future statement typed at an interactive interpreter prompt will\n",
            "take effect for the rest of the interpreter session.  If an\n",
            "interpreter is started with the \"-i\" option, is passed a script name\n",
            "to execute, and the script includes a future statement, it will be in\n",
            "effect in the interactive session started after the script is\n",
            "executed.\n",
            "\n",
            "See also:\n",
            "\n",
            "  **PEP 236** - Back to the __future__\n",
            "     The original proposal for the __future__ mechanism.\n",
            "\n",
            "Related help topics: MODULES\n",
            "\n"
          ]
        }
      ],
      "source": [
        "help(\"import\")"
      ]
    },
    {
      "cell_type": "code",
      "execution_count": null,
      "metadata": {
        "colab": {
          "base_uri": "https://localhost:8080/"
        },
        "id": "oD7qg-pKAhjm",
        "outputId": "e22641df-c12c-471a-cbec-99596676ba16"
      },
      "outputs": [
        {
          "data": {
            "text/plain": [
              "8"
            ]
          },
          "execution_count": 29,
          "metadata": {},
          "output_type": "execute_result"
        }
      ],
      "source": [
        "import math\n",
        "x=7.8\n",
        "math.ceil(x)\n"
      ]
    },
    {
      "cell_type": "code",
      "execution_count": null,
      "metadata": {
        "colab": {
          "base_uri": "https://localhost:8080/"
        },
        "id": "2agAplXBAvjq",
        "outputId": "f0da802d-f39a-47a6-ab36-205a59b95003"
      },
      "outputs": [
        {
          "name": "stdout",
          "output_type": "stream",
          "text": [
            "['__doc__', '__loader__', '__name__', '__package__', '__spec__', 'acos', 'acosh', 'asin', 'asinh', 'atan', 'atan2', 'atanh', 'ceil', 'comb', 'copysign', 'cos', 'cosh', 'degrees', 'dist', 'e', 'erf', 'erfc', 'exp', 'expm1', 'fabs', 'factorial', 'floor', 'fmod', 'frexp', 'fsum', 'gamma', 'gcd', 'hypot', 'inf', 'isclose', 'isfinite', 'isinf', 'isnan', 'isqrt', 'lcm', 'ldexp', 'lgamma', 'log', 'log10', 'log1p', 'log2', 'modf', 'nan', 'nextafter', 'perm', 'pi', 'pow', 'prod', 'radians', 'remainder', 'sin', 'sinh', 'sqrt', 'tan', 'tanh', 'tau', 'trunc', 'ulp']\n"
          ]
        }
      ],
      "source": [
        "print(dir(math))"
      ]
    },
    {
      "cell_type": "code",
      "execution_count": null,
      "metadata": {
        "colab": {
          "base_uri": "https://localhost:8080/"
        },
        "id": "GoWn2o5MDcAb",
        "outputId": "89d41115-9d29-4f7d-ffc1-c6b29df4f69d"
      },
      "outputs": [
        {
          "data": {
            "text/plain": [
              "('grape',\n",
              " 'apple',\n",
              " 'pomo',\n",
              " 'pineaple',\n",
              " 'guava',\n",
              " 'cherry',\n",
              " 'melon',\n",
              " 'dragonfruit',\n",
              " 'mango',\n",
              " 'orange')"
            ]
          },
          "execution_count": 17,
          "metadata": {},
          "output_type": "execute_result"
        }
      ],
      "source": [
        "fruit=\"grape\",\"apple\",\"pomo\",\"pineaple\",\"guava\",\"cherry\",\"melon\",\"dragonfruit\",\"mango\",\"orange\"\n",
        "fruit"
      ]
    },
    {
      "cell_type": "code",
      "execution_count": null,
      "metadata": {
        "colab": {
          "base_uri": "https://localhost:8080/"
        },
        "id": "_JofZZWlD_xK",
        "outputId": "9066f380-69ba-4b3c-85f6-0eec08377268"
      },
      "outputs": [
        {
          "data": {
            "text/plain": [
              "tuple"
            ]
          },
          "execution_count": 33,
          "metadata": {},
          "output_type": "execute_result"
        }
      ],
      "source": [
        "type(fruit)"
      ]
    },
    {
      "cell_type": "markdown",
      "metadata": {
        "id": "dByVtBsNvADp"
      },
      "source": [
        "**List**\n",
        "Mutable,ordered,indexed,accept duplicate values"
      ]
    },
    {
      "cell_type": "code",
      "execution_count": null,
      "metadata": {
        "colab": {
          "base_uri": "https://localhost:8080/"
        },
        "id": "fO6rWBYPEEBY",
        "outputId": "84695b2f-5b29-4d19-db64-73bd147e7564"
      },
      "outputs": [
        {
          "data": {
            "text/plain": [
              "['grape',\n",
              " 'apple',\n",
              " 'pomo',\n",
              " 'pineaple',\n",
              " 'guava',\n",
              " 'cherry',\n",
              " 'melon',\n",
              " 'dragonfruit',\n",
              " 'mango',\n",
              " 'orange']"
            ]
          },
          "execution_count": 5,
          "metadata": {},
          "output_type": "execute_result"
        }
      ],
      "source": [
        "fruits=[\"grape\",\"apple\",\"pomo\",\"pineaple\",\"guava\",\"cherry\",\"melon\",\"dragonfruit\",\"mango\",\"orange\"]\n",
        "fruits"
      ]
    },
    {
      "cell_type": "code",
      "execution_count": null,
      "metadata": {
        "colab": {
          "base_uri": "https://localhost:8080/"
        },
        "id": "NYpD5fx_EMeY",
        "outputId": "1f0c6c7b-3d3c-4857-bd2c-d827d8880952"
      },
      "outputs": [
        {
          "data": {
            "text/plain": [
              "list"
            ]
          },
          "execution_count": 43,
          "metadata": {},
          "output_type": "execute_result"
        }
      ],
      "source": [
        "type(fruits)"
      ]
    },
    {
      "cell_type": "code",
      "execution_count": null,
      "metadata": {
        "colab": {
          "base_uri": "https://localhost:8080/"
        },
        "id": "K_I1ZY-lETKL",
        "outputId": "0e1c71c3-7e75-43f3-9db7-298e32f68c86"
      },
      "outputs": [
        {
          "data": {
            "text/plain": [
              "list"
            ]
          },
          "execution_count": 44,
          "metadata": {},
          "output_type": "execute_result"
        }
      ],
      "source": [
        "my_list=list(fruit)\n",
        "my_list\n",
        "type(my_list)"
      ]
    },
    {
      "cell_type": "code",
      "execution_count": null,
      "metadata": {
        "colab": {
          "base_uri": "https://localhost:8080/"
        },
        "id": "dKTxI8HUGInM",
        "outputId": "688a639b-16cf-48bb-b5b6-65c05ed0a945"
      },
      "outputs": [
        {
          "data": {
            "text/plain": [
              "10"
            ]
          },
          "execution_count": 49,
          "metadata": {},
          "output_type": "execute_result"
        }
      ],
      "source": [
        "len(fruits) #method(obj)"
      ]
    },
    {
      "cell_type": "code",
      "execution_count": null,
      "metadata": {
        "colab": {
          "base_uri": "https://localhost:8080/"
        },
        "id": "FtCBigMzGLIK",
        "outputId": "f0d036b4-0f49-4bfb-84fc-2c265ee6f892"
      },
      "outputs": [
        {
          "data": {
            "text/plain": [
              "10"
            ]
          },
          "execution_count": 50,
          "metadata": {},
          "output_type": "execute_result"
        }
      ],
      "source": [
        "list.__len__(fruits) #class.method(object)"
      ]
    },
    {
      "cell_type": "code",
      "execution_count": null,
      "metadata": {
        "colab": {
          "base_uri": "https://localhost:8080/"
        },
        "id": "y0zGdptGGLUW",
        "outputId": "200873ab-dd97-4c85-dc46-fe84d6ddbaa5"
      },
      "outputs": [
        {
          "data": {
            "text/plain": [
              "10"
            ]
          },
          "execution_count": 51,
          "metadata": {},
          "output_type": "execute_result"
        }
      ],
      "source": [
        "fruits.__len__() #object.method()"
      ]
    },
    {
      "cell_type": "code",
      "execution_count": null,
      "metadata": {
        "colab": {
          "base_uri": "https://localhost:8080/",
          "height": 35
        },
        "id": "GuMvMPJbHCdD",
        "outputId": "413a5753-8718-4816-dd1f-af642b2c9189"
      },
      "outputs": [
        {
          "data": {
            "application/vnd.google.colaboratory.intrinsic+json": {
              "type": "string"
            },
            "text/plain": [
              "\"['grape', 'apple', 'pomo', 'pineaple', 'guava', 'cherry', 'melon', 'dragonfruit', 'mango', 'orange']\""
            ]
          },
          "execution_count": 52,
          "metadata": {},
          "output_type": "execute_result"
        }
      ],
      "source": [
        "list.__repr__(fruits)"
      ]
    },
    {
      "cell_type": "code",
      "execution_count": null,
      "metadata": {
        "colab": {
          "base_uri": "https://localhost:8080/",
          "height": 35
        },
        "id": "A70eQAj9HH4k",
        "outputId": "9274d27a-72a9-4916-fe4c-396f2b1bc694"
      },
      "outputs": [
        {
          "data": {
            "application/vnd.google.colaboratory.intrinsic+json": {
              "type": "string"
            },
            "text/plain": [
              "\"['grape', 'apple', 'pomo', 'pineaple', 'guava', 'cherry', 'melon', 'dragonfruit', 'mango', 'orange']\""
            ]
          },
          "execution_count": 54,
          "metadata": {},
          "output_type": "execute_result"
        }
      ],
      "source": [
        "fruits.__repr__()"
      ]
    },
    {
      "cell_type": "code",
      "execution_count": null,
      "metadata": {
        "colab": {
          "base_uri": "https://localhost:8080/",
          "height": 176
        },
        "id": "VQVLDe1DHObA",
        "outputId": "859f9a1f-dc4e-4927-e516-2e15e7cc03ad"
      },
      "outputs": [
        {
          "ename": "NameError",
          "evalue": "ignored",
          "output_type": "error",
          "traceback": [
            "\u001b[0;31m---------------------------------------------------------------------------\u001b[0m",
            "\u001b[0;31mNameError\u001b[0m                                 Traceback (most recent call last)",
            "\u001b[0;32m<ipython-input-3-5842b46f59fb>\u001b[0m in \u001b[0;36m<cell line: 1>\u001b[0;34m()\u001b[0m\n\u001b[0;32m----> 1\u001b[0;31m \u001b[0mfruits\u001b[0m\u001b[0;34m\u001b[0m\u001b[0;34m\u001b[0m\u001b[0m\n\u001b[0m",
            "\u001b[0;31mNameError\u001b[0m: name 'fruits' is not defined"
          ]
        }
      ],
      "source": [
        "fruits"
      ]
    },
    {
      "cell_type": "code",
      "execution_count": null,
      "metadata": {
        "colab": {
          "base_uri": "https://localhost:8080/",
          "height": 35
        },
        "id": "7kWEMeDlIPbS",
        "outputId": "0ce7abb4-9ff7-4867-d0e1-d1e57cf0d392"
      },
      "outputs": [
        {
          "data": {
            "application/vnd.google.colaboratory.intrinsic+json": {
              "type": "string"
            },
            "text/plain": [
              "'grape'"
            ]
          },
          "execution_count": 56,
          "metadata": {},
          "output_type": "execute_result"
        }
      ],
      "source": [
        "fruits[0] #left to right positive indexing starts from 0 ////right to left starts from -1 negative indexing"
      ]
    },
    {
      "cell_type": "code",
      "execution_count": null,
      "metadata": {
        "colab": {
          "base_uri": "https://localhost:8080/",
          "height": 35
        },
        "id": "xhkVnr6JISPI",
        "outputId": "ea9fd5b1-4a3f-4f4f-ccce-38b3dc63e32f"
      },
      "outputs": [
        {
          "data": {
            "application/vnd.google.colaboratory.intrinsic+json": {
              "type": "string"
            },
            "text/plain": [
              "'cherry'"
            ]
          },
          "execution_count": 57,
          "metadata": {},
          "output_type": "execute_result"
        }
      ],
      "source": [
        "fruits[-5]"
      ]
    },
    {
      "cell_type": "code",
      "execution_count": null,
      "metadata": {
        "colab": {
          "base_uri": "https://localhost:8080/",
          "height": 35
        },
        "id": "_VxZ_eMLIWoc",
        "outputId": "4c3ae807-686b-4fea-a7d1-0ed9db6e0104"
      },
      "outputs": [
        {
          "data": {
            "application/vnd.google.colaboratory.intrinsic+json": {
              "type": "string"
            },
            "text/plain": [
              "'dragonfruit'"
            ]
          },
          "execution_count": 58,
          "metadata": {},
          "output_type": "execute_result"
        }
      ],
      "source": [
        "fruits.__getitem__(7)"
      ]
    },
    {
      "cell_type": "code",
      "execution_count": null,
      "metadata": {
        "colab": {
          "base_uri": "https://localhost:8080/",
          "height": 35
        },
        "id": "uPGdr9hbIb8_",
        "outputId": "f85aa654-f665-47ec-a8f4-1da149e299ef"
      },
      "outputs": [
        {
          "data": {
            "application/vnd.google.colaboratory.intrinsic+json": {
              "type": "string"
            },
            "text/plain": [
              "'dragonfruit'"
            ]
          },
          "execution_count": 61,
          "metadata": {},
          "output_type": "execute_result"
        }
      ],
      "source": [
        "list.__getitem__(fruits,7)"
      ]
    },
    {
      "cell_type": "code",
      "execution_count": null,
      "metadata": {
        "colab": {
          "base_uri": "https://localhost:8080/",
          "height": 35
        },
        "id": "sfAs1jxQIvYN",
        "outputId": "00367909-c497-4933-e19d-64938da57cd3"
      },
      "outputs": [
        {
          "data": {
            "application/vnd.google.colaboratory.intrinsic+json": {
              "type": "string"
            },
            "text/plain": [
              "\"['grape', 'apple', 'pomo', 'pineaple', 'guava', 'cherry', 'melon', 'dragonfruit', 'mango', 'orange']\""
            ]
          },
          "execution_count": 67,
          "metadata": {},
          "output_type": "execute_result"
        }
      ],
      "source": [
        "fruits.__repr__()\n"
      ]
    },
    {
      "cell_type": "code",
      "execution_count": null,
      "metadata": {
        "colab": {
          "base_uri": "https://localhost:8080/"
        },
        "id": "FyGCk5ChKjos",
        "outputId": "066f6438-1cc9-48d0-e656-54f0320020a9"
      },
      "outputs": [
        {
          "data": {
            "text/plain": [
              "['apple', 'pineaple', 'cherry', 'dragonfruit', 'orange']"
            ]
          },
          "execution_count": 71,
          "metadata": {},
          "output_type": "execute_result"
        }
      ],
      "source": [
        "fruits[1:10:2]"
      ]
    },
    {
      "cell_type": "code",
      "execution_count": null,
      "metadata": {
        "colab": {
          "base_uri": "https://localhost:8080/"
        },
        "id": "z29hBsEtKy0a",
        "outputId": "01d0a8f5-56a2-44ed-d337-a3c9cf027766"
      },
      "outputs": [
        {
          "data": {
            "text/plain": [
              "['apple', 'guava', 'dragonfruit']"
            ]
          },
          "execution_count": 72,
          "metadata": {},
          "output_type": "execute_result"
        }
      ],
      "source": [
        "fruits[1:10:3]"
      ]
    },
    {
      "cell_type": "code",
      "execution_count": null,
      "metadata": {
        "colab": {
          "base_uri": "https://localhost:8080/"
        },
        "id": "z656LLN_K_n_",
        "outputId": "d099d0be-be62-4cf2-a98c-ffa367d455a7"
      },
      "outputs": [
        {
          "data": {
            "text/plain": [
              "['orange',\n",
              " 'mango',\n",
              " 'dragonfruit',\n",
              " 'melon',\n",
              " 'cherry',\n",
              " 'guava',\n",
              " 'pineaple',\n",
              " 'pomo',\n",
              " 'apple',\n",
              " 'grape']"
            ]
          },
          "execution_count": 81,
          "metadata": {},
          "output_type": "execute_result"
        }
      ],
      "source": [
        "fruits[-1:-11:-1]"
      ]
    },
    {
      "cell_type": "code",
      "execution_count": null,
      "metadata": {
        "colab": {
          "base_uri": "https://localhost:8080/"
        },
        "id": "Mw-M1HhWMrUk",
        "outputId": "4761c22f-c12a-41f5-e2c5-3d752b7f655a"
      },
      "outputs": [
        {
          "data": {
            "text/plain": [
              "['grape',\n",
              " 'apple',\n",
              " 'pomo',\n",
              " 'pineaple',\n",
              " 'guava',\n",
              " 'cherry',\n",
              " 'melon',\n",
              " 'dragonfruit',\n",
              " 'mango',\n",
              " 'orange']"
            ]
          },
          "execution_count": 88,
          "metadata": {},
          "output_type": "execute_result"
        }
      ],
      "source": [
        "fruits[::]"
      ]
    },
    {
      "cell_type": "code",
      "execution_count": null,
      "metadata": {
        "colab": {
          "base_uri": "https://localhost:8080/",
          "height": 176
        },
        "id": "5TeTULZwNHGn",
        "outputId": "1e3de743-9697-4103-879c-0d1d51cc01a7"
      },
      "outputs": [
        {
          "ename": "NameError",
          "evalue": "ignored",
          "output_type": "error",
          "traceback": [
            "\u001b[0;31m---------------------------------------------------------------------------\u001b[0m",
            "\u001b[0;31mNameError\u001b[0m                                 Traceback (most recent call last)",
            "\u001b[0;32m<ipython-input-2-68822e554944>\u001b[0m in \u001b[0;36m<cell line: 1>\u001b[0;34m()\u001b[0m\n\u001b[0;32m----> 1\u001b[0;31m \u001b[0mfruits\u001b[0m\u001b[0;34m[\u001b[0m\u001b[0;34m:\u001b[0m\u001b[0;34m:\u001b[0m\u001b[0;34m-\u001b[0m\u001b[0;36m1\u001b[0m\u001b[0;34m]\u001b[0m\u001b[0;34m\u001b[0m\u001b[0;34m\u001b[0m\u001b[0m\n\u001b[0m",
            "\u001b[0;31mNameError\u001b[0m: name 'fruits' is not defined"
          ]
        }
      ],
      "source": [
        "fruits[::-1]"
      ]
    },
    {
      "cell_type": "code",
      "execution_count": null,
      "metadata": {
        "colab": {
          "base_uri": "https://localhost:8080/"
        },
        "id": "cbnLt8SjOjk0",
        "outputId": "558d09ed-6189-4bb5-cf2a-236c141213c5"
      },
      "outputs": [
        {
          "data": {
            "text/plain": [
              "['orange', 'mango']"
            ]
          },
          "execution_count": 90,
          "metadata": {},
          "output_type": "execute_result"
        }
      ],
      "source": [
        "fruits[-1:-3:-1]"
      ]
    },
    {
      "cell_type": "code",
      "execution_count": null,
      "metadata": {
        "colab": {
          "base_uri": "https://localhost:8080/"
        },
        "id": "J5HaA_UoO8YG",
        "outputId": "2723b58e-c141-4b9c-ecf2-163ad965de4c"
      },
      "outputs": [
        {
          "data": {
            "text/plain": [
              "['pomo', 'apple', 'grape']"
            ]
          },
          "execution_count": 106,
          "metadata": {},
          "output_type": "execute_result"
        }
      ],
      "source": [
        "fruits[-8::-1]"
      ]
    },
    {
      "cell_type": "code",
      "execution_count": null,
      "metadata": {
        "colab": {
          "base_uri": "https://localhost:8080/"
        },
        "id": "7Jcw91B6SADu",
        "outputId": "59b6868a-966d-46ba-9624-e7e0c109bc82"
      },
      "outputs": [
        {
          "data": {
            "text/plain": [
              "['pomo']"
            ]
          },
          "execution_count": 108,
          "metadata": {},
          "output_type": "execute_result"
        }
      ],
      "source": [
        "fruits[-8:1:-1]"
      ]
    },
    {
      "cell_type": "code",
      "execution_count": null,
      "metadata": {
        "colab": {
          "base_uri": "https://localhost:8080/",
          "height": 193
        },
        "id": "Ixrw0DPYSXwI",
        "outputId": "7315c906-3777-4bca-dec9-725ac54808ef"
      },
      "outputs": [
        {
          "ename": "NameError",
          "evalue": "ignored",
          "output_type": "error",
          "traceback": [
            "\u001b[0;31m---------------------------------------------------------------------------\u001b[0m",
            "\u001b[0;31mNameError\u001b[0m                                 Traceback (most recent call last)",
            "\u001b[0;32m<ipython-input-6-3d56ec594524>\u001b[0m in \u001b[0;36m<cell line: 1>\u001b[0;34m()\u001b[0m\n\u001b[0;32m----> 1\u001b[0;31m \u001b[0mres\u001b[0m \u001b[0;34m=\u001b[0m \u001b[0mlen\u001b[0m\u001b[0;34m(\u001b[0m\u001b[0mtest_list\u001b[0m\u001b[0;34m)\u001b[0m \u001b[0;34m-\u001b[0m \u001b[0mtest_list\u001b[0m\u001b[0;34m.\u001b[0m\u001b[0mindex\u001b[0m\u001b[0;34m(\u001b[0m\u001b[0;34m\"pomo\"\u001b[0m\u001b[0;34m)\u001b[0m\u001b[0;34m\u001b[0m\u001b[0;34m\u001b[0m\u001b[0m\n\u001b[0m\u001b[1;32m      2\u001b[0m \u001b[0mres\u001b[0m\u001b[0;34m\u001b[0m\u001b[0;34m\u001b[0m\u001b[0m\n",
            "\u001b[0;31mNameError\u001b[0m: name 'test_list' is not defined"
          ]
        }
      ],
      "source": [
        "res = len(test_list) - test_list.index(\"pomo\")\n",
        "res"
      ]
    },
    {
      "cell_type": "code",
      "execution_count": null,
      "metadata": {
        "colab": {
          "base_uri": "https://localhost:8080/"
        },
        "id": "znP5907knvJd",
        "outputId": "eeda191c-600f-4a00-fca6-fd733fa91c97"
      },
      "outputs": [
        {
          "data": {
            "text/plain": [
              "['grape',\n",
              " 'apple',\n",
              " 'pomo',\n",
              " 'pineaple',\n",
              " 'guava',\n",
              " 'nandhu',\n",
              " 'melon',\n",
              " 'dragonfruit',\n",
              " 'mango',\n",
              " 'orange']"
            ]
          },
          "execution_count": 16,
          "metadata": {},
          "output_type": "execute_result"
        }
      ],
      "source": [
        "fruits[5]=\"nandhu\"\n",
        "fruits"
      ]
    },
    {
      "cell_type": "code",
      "execution_count": null,
      "metadata": {
        "id": "JZZbIXroomCB"
      },
      "outputs": [],
      "source": [
        "fruits[3:5]=[\"ahaana\",\"ahaan\",\"ahaa\",\"dsf\"]"
      ]
    },
    {
      "cell_type": "code",
      "execution_count": null,
      "metadata": {
        "colab": {
          "base_uri": "https://localhost:8080/",
          "height": 176
        },
        "id": "HmDoQ-uZpO2A",
        "outputId": "9ead4da9-0727-420b-ac9a-0f50f7466e54"
      },
      "outputs": [
        {
          "ename": "NameError",
          "evalue": "ignored",
          "output_type": "error",
          "traceback": [
            "\u001b[0;31m---------------------------------------------------------------------------\u001b[0m",
            "\u001b[0;31mNameError\u001b[0m                                 Traceback (most recent call last)",
            "\u001b[0;32m<ipython-input-4-5842b46f59fb>\u001b[0m in \u001b[0;36m<cell line: 1>\u001b[0;34m()\u001b[0m\n\u001b[0;32m----> 1\u001b[0;31m \u001b[0mfruits\u001b[0m\u001b[0;34m\u001b[0m\u001b[0;34m\u001b[0m\u001b[0m\n\u001b[0m",
            "\u001b[0;31mNameError\u001b[0m: name 'fruits' is not defined"
          ]
        }
      ],
      "source": [
        "fruits\n"
      ]
    },
    {
      "cell_type": "code",
      "execution_count": null,
      "metadata": {
        "colab": {
          "base_uri": "https://localhost:8080/"
        },
        "id": "VYbLB3JBpaxo",
        "outputId": "85d84601-deed-45a4-d983-4783a7993470"
      },
      "outputs": [
        {
          "data": {
            "text/plain": [
              "13"
            ]
          },
          "execution_count": 26,
          "metadata": {},
          "output_type": "execute_result"
        }
      ],
      "source": [
        "list.__len__(fruits)"
      ]
    },
    {
      "cell_type": "code",
      "execution_count": null,
      "metadata": {
        "colab": {
          "base_uri": "https://localhost:8080/"
        },
        "id": "161bhf2WMwsh",
        "outputId": "e217ce9a-de69-44b2-fd40-ebd676c8a023"
      },
      "outputs": [
        {
          "data": {
            "text/plain": [
              "['ahaa', 'ahaan', 'ahaana', 'pomo']"
            ]
          },
          "execution_count": 27,
          "metadata": {},
          "output_type": "execute_result"
        }
      ],
      "source": [
        "fruits[-8:1:-1]"
      ]
    },
    {
      "cell_type": "code",
      "execution_count": null,
      "metadata": {
        "id": "zfwKYaDGqV43"
      },
      "outputs": [],
      "source": [
        "fruits[:]=[\"kiwi\"]"
      ]
    },
    {
      "cell_type": "code",
      "execution_count": null,
      "metadata": {
        "colab": {
          "base_uri": "https://localhost:8080/"
        },
        "id": "3zfyp7OQqZRZ",
        "outputId": "a06d380a-ebe2-4715-dc59-a24a2bc1c649"
      },
      "outputs": [
        {
          "data": {
            "text/plain": [
              "['kiwi']"
            ]
          },
          "execution_count": 8,
          "metadata": {},
          "output_type": "execute_result"
        }
      ],
      "source": [
        "fruits\n"
      ]
    },
    {
      "cell_type": "code",
      "execution_count": null,
      "metadata": {
        "id": "TTT_eHKoqhxV"
      },
      "outputs": [],
      "source": [
        "fruits.append(\"orange\")"
      ]
    },
    {
      "cell_type": "code",
      "execution_count": null,
      "metadata": {
        "colab": {
          "base_uri": "https://localhost:8080/"
        },
        "id": "9jgP_hYDq0XZ",
        "outputId": "2112870c-6dc7-4890-f211-6a671f0109fa"
      },
      "outputs": [
        {
          "data": {
            "text/plain": [
              "['kiwi',\n",
              " 'mango',\n",
              " 'Bingo',\n",
              " 'orange',\n",
              " 'pineapple',\n",
              " 'grape',\n",
              " 'apple',\n",
              " 'pomo',\n",
              " 'pineaple',\n",
              " 'guava',\n",
              " 'cherry',\n",
              " 'melon',\n",
              " 'dragonfruit',\n",
              " 'mango',\n",
              " 'orange']"
            ]
          },
          "execution_count": 20,
          "metadata": {},
          "output_type": "execute_result"
        }
      ],
      "source": [
        "fruits"
      ]
    },
    {
      "cell_type": "code",
      "execution_count": null,
      "metadata": {
        "id": "G0aeiBrVln4b"
      },
      "outputs": [],
      "source": [
        "list.append(fruits,\"pineapple\")"
      ]
    },
    {
      "cell_type": "code",
      "execution_count": null,
      "metadata": {
        "id": "vz8qdYMZlu54"
      },
      "outputs": [],
      "source": [
        "fruits.insert(2,\"Bingo\")"
      ]
    },
    {
      "cell_type": "code",
      "execution_count": null,
      "metadata": {
        "id": "Aqvbb0KdmM1c"
      },
      "outputs": [],
      "source": [
        "list.extend(fruits,fruit)"
      ]
    },
    {
      "cell_type": "code",
      "execution_count": null,
      "metadata": {
        "colab": {
          "base_uri": "https://localhost:8080/"
        },
        "id": "z683H8FtmdQ3",
        "outputId": "cd06fe8e-9670-4c0c-874e-79ae6e8aafcc"
      },
      "outputs": [
        {
          "data": {
            "text/plain": [
              "list"
            ]
          },
          "execution_count": 25,
          "metadata": {},
          "output_type": "execute_result"
        }
      ],
      "source": [
        "type(fruits)"
      ]
    },
    {
      "cell_type": "code",
      "execution_count": null,
      "metadata": {
        "id": "Z--LuifvmgoF"
      },
      "outputs": [],
      "source": [
        "tup=(\"hai\",\"hello\",\"how\",\"are\",\"you\")"
      ]
    },
    {
      "cell_type": "code",
      "execution_count": null,
      "metadata": {
        "id": "lq0u3p2RmrcY"
      },
      "outputs": [],
      "source": [
        "list.extend(fruits,tup)"
      ]
    },
    {
      "cell_type": "code",
      "execution_count": null,
      "metadata": {
        "id": "8PiGswYYm3hQ"
      },
      "outputs": [],
      "source": [
        "fruits[2:10]=[\"NANDHU\"]"
      ]
    },
    {
      "cell_type": "code",
      "execution_count": null,
      "metadata": {
        "colab": {
          "base_uri": "https://localhost:8080/"
        },
        "id": "SzYAsAAVmv9X",
        "outputId": "eb23dc98-06a8-406b-de1c-0efbb83b798b"
      },
      "outputs": [
        {
          "data": {
            "text/plain": [
              "['you',\n",
              " 'hai',\n",
              " 'hello',\n",
              " 'how',\n",
              " 'are',\n",
              " 'you',\n",
              " 'grape',\n",
              " 'pineaple',\n",
              " 'guava',\n",
              " 'cherry',\n",
              " 'melon']"
            ]
          },
          "execution_count": 59,
          "metadata": {},
          "output_type": "execute_result"
        }
      ],
      "source": [
        "fruits"
      ]
    },
    {
      "cell_type": "code",
      "execution_count": null,
      "metadata": {
        "id": "CghWF00_nlz4"
      },
      "outputs": [],
      "source": [
        "fruits.remove(\"NANDHU\")"
      ]
    },
    {
      "cell_type": "code",
      "execution_count": null,
      "metadata": {
        "colab": {
          "base_uri": "https://localhost:8080/"
        },
        "id": "X4bPXo63nz94",
        "outputId": "b62e30fb-37e2-4cda-8c67-7d2ad8c220dd"
      },
      "outputs": [
        {
          "data": {
            "text/plain": [
              "13"
            ]
          },
          "execution_count": 54,
          "metadata": {},
          "output_type": "execute_result"
        }
      ],
      "source": [
        "len(fruits)"
      ]
    },
    {
      "cell_type": "code",
      "execution_count": null,
      "metadata": {
        "id": "RaK7vGmcnwCk"
      },
      "outputs": [],
      "source": [
        "list.remove(fruits,\"mango\")"
      ]
    },
    {
      "cell_type": "code",
      "execution_count": null,
      "metadata": {
        "colab": {
          "base_uri": "https://localhost:8080/",
          "height": 35
        },
        "id": "0Iw-TPzwn9sx",
        "outputId": "c2c05972-3d65-40da-d853-cbbbe0e09532"
      },
      "outputs": [
        {
          "data": {
            "application/vnd.google.colaboratory.intrinsic+json": {
              "type": "string"
            },
            "text/plain": [
              "'dragonfruit'"
            ]
          },
          "execution_count": 52,
          "metadata": {},
          "output_type": "execute_result"
        }
      ],
      "source": [
        "fruits.pop()"
      ]
    },
    {
      "cell_type": "code",
      "execution_count": null,
      "metadata": {
        "id": "xTtmbV-coFsl"
      },
      "outputs": [],
      "source": [
        "fruits.__delitem__(0)"
      ]
    },
    {
      "cell_type": "code",
      "execution_count": null,
      "metadata": {
        "colab": {
          "base_uri": "https://localhost:8080/",
          "height": 35
        },
        "id": "e1PWE2VuoC00",
        "outputId": "d8e5cfaa-9d00-4a0e-a21f-0039c5d2d402"
      },
      "outputs": [
        {
          "data": {
            "application/vnd.google.colaboratory.intrinsic+json": {
              "type": "string"
            },
            "text/plain": [
              "'apple'"
            ]
          },
          "execution_count": 49,
          "metadata": {},
          "output_type": "execute_result"
        }
      ],
      "source": [
        "fruits.pop(8)"
      ]
    },
    {
      "cell_type": "code",
      "execution_count": null,
      "metadata": {
        "id": "oBmpKIacosHF"
      },
      "outputs": [],
      "source": [
        "list.__delitem__(fruits,-5)"
      ]
    },
    {
      "cell_type": "code",
      "execution_count": null,
      "metadata": {
        "id": "vdqkPGTJo1iL"
      },
      "outputs": [],
      "source": [
        "fruits.append(\"Ahaana\")"
      ]
    },
    {
      "cell_type": "code",
      "execution_count": null,
      "metadata": {
        "id": "rXcJTzUDozIQ"
      },
      "outputs": [],
      "source": [
        "fruits.clear()"
      ]
    },
    {
      "cell_type": "code",
      "execution_count": null,
      "metadata": {
        "colab": {
          "base_uri": "https://localhost:8080/"
        },
        "id": "E7IWKOR0o90E",
        "outputId": "72617200-d86d-4574-a5d8-f4955433bbde"
      },
      "outputs": [
        {
          "data": {
            "text/plain": [
              "['Ahaana']"
            ]
          },
          "execution_count": 63,
          "metadata": {},
          "output_type": "execute_result"
        }
      ],
      "source": [
        "fruits"
      ]
    },
    {
      "cell_type": "code",
      "execution_count": null,
      "metadata": {
        "colab": {
          "base_uri": "https://localhost:8080/"
        },
        "id": "6Os5OC6bpAFa",
        "outputId": "2eaf7b3c-9c05-473b-ef0a-ef78cb8c5ab0"
      },
      "outputs": [
        {
          "data": {
            "text/plain": [
              "list"
            ]
          },
          "execution_count": 64,
          "metadata": {},
          "output_type": "execute_result"
        }
      ],
      "source": [
        "type(fruits)"
      ]
    },
    {
      "cell_type": "code",
      "execution_count": null,
      "metadata": {
        "colab": {
          "base_uri": "https://localhost:8080/",
          "height": 176
        },
        "id": "-OtplPwmpDs8",
        "outputId": "cf50a486-30a3-48aa-f4c4-d4323c5a8ced"
      },
      "outputs": [
        {
          "ename": "NameError",
          "evalue": "ignored",
          "output_type": "error",
          "traceback": [
            "\u001b[0;31m---------------------------------------------------------------------------\u001b[0m",
            "\u001b[0;31mNameError\u001b[0m                                 Traceback (most recent call last)",
            "\u001b[0;32m<ipython-input-70-a6f06d65ef31>\u001b[0m in \u001b[0;36m<cell line: 1>\u001b[0;34m()\u001b[0m\n\u001b[0;32m----> 1\u001b[0;31m \u001b[0;32mdel\u001b[0m \u001b[0mfruits\u001b[0m\u001b[0;34m\u001b[0m\u001b[0;34m\u001b[0m\u001b[0m\n\u001b[0m",
            "\u001b[0;31mNameError\u001b[0m: name 'fruits' is not defined"
          ]
        }
      ],
      "source": [
        "del fruits"
      ]
    },
    {
      "cell_type": "code",
      "execution_count": null,
      "metadata": {
        "colab": {
          "base_uri": "https://localhost:8080/"
        },
        "id": "-1223WZPpJpF",
        "outputId": "ae0c9d17-63f5-496c-d051-e6b05efeb9fa"
      },
      "outputs": [
        {
          "data": {
            "text/plain": [
              "['@', '@', '@', '*', '*', '*']"
            ]
          },
          "execution_count": 69,
          "metadata": {},
          "output_type": "execute_result"
        }
      ],
      "source": [
        "list1=['@','@','@']\n",
        "list2=['*','*','*']\n",
        "#list3=list1+list2\n",
        "list3=list1.__add__(list2)\n",
        "list3"
      ]
    },
    {
      "cell_type": "code",
      "execution_count": null,
      "metadata": {
        "colab": {
          "base_uri": "https://localhost:8080/",
          "height": 176
        },
        "id": "afyvo8WJpGPY",
        "outputId": "50f013e0-f076-4503-8817-bfbddb107b33"
      },
      "outputs": [
        {
          "ename": "NameError",
          "evalue": "ignored",
          "output_type": "error",
          "traceback": [
            "\u001b[0;31m---------------------------------------------------------------------------\u001b[0m",
            "\u001b[0;31mNameError\u001b[0m                                 Traceback (most recent call last)",
            "\u001b[0;32m<ipython-input-66-5842b46f59fb>\u001b[0m in \u001b[0;36m<cell line: 1>\u001b[0;34m()\u001b[0m\n\u001b[0;32m----> 1\u001b[0;31m \u001b[0mfruits\u001b[0m\u001b[0;34m\u001b[0m\u001b[0;34m\u001b[0m\u001b[0m\n\u001b[0m",
            "\u001b[0;31mNameError\u001b[0m: name 'fruits' is not defined"
          ]
        }
      ],
      "source": [
        "fruits"
      ]
    },
    {
      "cell_type": "code",
      "execution_count": null,
      "metadata": {
        "colab": {
          "base_uri": "https://localhost:8080/"
        },
        "id": "2MSRtgFYpx_n",
        "outputId": "56db1ed8-d98a-44af-80c7-ba7858960add"
      },
      "outputs": [
        {
          "data": {
            "text/plain": [
              "3"
            ]
          },
          "execution_count": 73,
          "metadata": {},
          "output_type": "execute_result"
        }
      ],
      "source": [
        "list3.count('@')"
      ]
    },
    {
      "cell_type": "code",
      "execution_count": null,
      "metadata": {
        "colab": {
          "base_uri": "https://localhost:8080/"
        },
        "id": "fhngJDIyqCpT",
        "outputId": "e88e49ed-a969-481f-a7b7-10034e2e6327"
      },
      "outputs": [
        {
          "data": {
            "text/plain": [
              "3"
            ]
          },
          "execution_count": 74,
          "metadata": {},
          "output_type": "execute_result"
        }
      ],
      "source": [
        "list.count(list3,'*')"
      ]
    },
    {
      "cell_type": "code",
      "execution_count": null,
      "metadata": {
        "colab": {
          "base_uri": "https://localhost:8080/"
        },
        "id": "aBBpaYTpqhD2",
        "outputId": "00fe0cdd-2745-425f-f93f-56d532e3bc81"
      },
      "outputs": [
        {
          "data": {
            "text/plain": [
              "2"
            ]
          },
          "execution_count": 76,
          "metadata": {},
          "output_type": "execute_result"
        }
      ],
      "source": [
        "listx=['1','%','*','()','$','&','&','*','*']\n",
        "listx.index('*',1,6)#it will find the * and its index number"
      ]
    },
    {
      "cell_type": "code",
      "execution_count": null,
      "metadata": {
        "colab": {
          "base_uri": "https://localhost:8080/"
        },
        "id": "2iE2JfF6rIRy",
        "outputId": "d4a61aff-49d2-44ec-bcea-71aba909d8e2"
      },
      "outputs": [
        {
          "data": {
            "text/plain": [
              "['@', '@', '@', '@', '@', '@', '@', '@', '@', '@', '@', '@']"
            ]
          },
          "execution_count": 77,
          "metadata": {},
          "output_type": "execute_result"
        }
      ],
      "source": [
        "list.__rmul__(list1,4)"
      ]
    },
    {
      "cell_type": "code",
      "execution_count": null,
      "metadata": {
        "colab": {
          "base_uri": "https://localhost:8080/"
        },
        "id": "sYP5HJcurQoa",
        "outputId": "2065e0bd-ae5a-498a-819d-6f93f0fc262a"
      },
      "outputs": [
        {
          "data": {
            "text/plain": [
              "['@', '@', '@']"
            ]
          },
          "execution_count": 78,
          "metadata": {},
          "output_type": "execute_result"
        }
      ],
      "source": [
        "list1"
      ]
    },
    {
      "cell_type": "markdown",
      "metadata": {
        "id": "IZof5GGKG550"
      },
      "source": [
        "**Tuple**\n",
        "\n",
        "immutable, ordered , indexed, accept duplicate values.\n",
        "faster than List\n",
        "if we want to add values in tuple\n",
        "first casting into list then add values\n",
        "then casting into tuple\n",
        "\n"
      ]
    },
    {
      "cell_type": "code",
      "execution_count": null,
      "metadata": {
        "id": "xpnlc-VWG5Nq"
      },
      "outputs": [],
      "source": [
        "rgb='red','green','blue'"
      ]
    },
    {
      "cell_type": "code",
      "execution_count": null,
      "metadata": {
        "colab": {
          "base_uri": "https://localhost:8080/"
        },
        "id": "HJde7LC9HQBC",
        "outputId": "f031561c-bda5-4b34-f81a-a447b7b0faea"
      },
      "outputs": [
        {
          "data": {
            "text/plain": [
              "tuple"
            ]
          },
          "execution_count": 2,
          "metadata": {},
          "output_type": "execute_result"
        }
      ],
      "source": [
        "type(rgb)"
      ]
    },
    {
      "cell_type": "code",
      "execution_count": null,
      "metadata": {
        "colab": {
          "base_uri": "https://localhost:8080/"
        },
        "id": "oi4BSbjOHSdu",
        "outputId": "9d233371-a0a4-4152-b62a-cdd2b3bfb07f"
      },
      "outputs": [
        {
          "data": {
            "text/plain": [
              "('red', 'green', 'blue')"
            ]
          },
          "execution_count": 3,
          "metadata": {},
          "output_type": "execute_result"
        }
      ],
      "source": [
        "rgb"
      ]
    },
    {
      "cell_type": "code",
      "execution_count": null,
      "metadata": {
        "id": "33Ijn5D9HUc0"
      },
      "outputs": [],
      "source": [
        "r,*g,b='red','green','blue','yellow','orange'"
      ]
    },
    {
      "cell_type": "code",
      "execution_count": null,
      "metadata": {
        "colab": {
          "base_uri": "https://localhost:8080/",
          "height": 35
        },
        "id": "fJDwlFGkHarc",
        "outputId": "3e55908d-d125-494b-b7d1-726c890a2f1a"
      },
      "outputs": [
        {
          "data": {
            "application/vnd.google.colaboratory.intrinsic+json": {
              "type": "string"
            },
            "text/plain": [
              "'red'"
            ]
          },
          "execution_count": 5,
          "metadata": {},
          "output_type": "execute_result"
        }
      ],
      "source": [
        "r"
      ]
    },
    {
      "cell_type": "code",
      "execution_count": null,
      "metadata": {
        "colab": {
          "base_uri": "https://localhost:8080/",
          "height": 35
        },
        "id": "oqFftfkZHkiK",
        "outputId": "7f547d79-5356-4b79-a2ba-14da36b9d504"
      },
      "outputs": [
        {
          "data": {
            "application/vnd.google.colaboratory.intrinsic+json": {
              "type": "string"
            },
            "text/plain": [
              "'orange'"
            ]
          },
          "execution_count": 7,
          "metadata": {},
          "output_type": "execute_result"
        }
      ],
      "source": [
        "b"
      ]
    },
    {
      "cell_type": "code",
      "execution_count": null,
      "metadata": {
        "colab": {
          "base_uri": "https://localhost:8080/"
        },
        "id": "HXXjGxvWHnTk",
        "outputId": "d6d0f586-3e4e-4700-b225-304dcbfc2a73"
      },
      "outputs": [
        {
          "data": {
            "text/plain": [
              "['green', 'blue', 'yellow']"
            ]
          },
          "execution_count": 8,
          "metadata": {},
          "output_type": "execute_result"
        }
      ],
      "source": [
        "g"
      ]
    },
    {
      "cell_type": "code",
      "execution_count": null,
      "metadata": {
        "id": "kNCJ4t1mJSzR"
      },
      "outputs": [],
      "source": [
        "y,*u=rgb"
      ]
    },
    {
      "cell_type": "code",
      "execution_count": null,
      "metadata": {
        "colab": {
          "base_uri": "https://localhost:8080/"
        },
        "id": "72CiU4WtJaeH",
        "outputId": "88d47aba-2cd5-4276-8001-c490076a4afb"
      },
      "outputs": [
        {
          "data": {
            "text/plain": [
              "['green', 'blue']"
            ]
          },
          "execution_count": 23,
          "metadata": {},
          "output_type": "execute_result"
        }
      ],
      "source": [
        "u"
      ]
    },
    {
      "cell_type": "code",
      "execution_count": null,
      "metadata": {
        "colab": {
          "base_uri": "https://localhost:8080/"
        },
        "id": "PyIYlcG3Hp4m",
        "outputId": "884ca277-a39b-45a8-f2d4-a0bbb9a9f54f"
      },
      "outputs": [
        {
          "data": {
            "text/plain": [
              "list"
            ]
          },
          "execution_count": 9,
          "metadata": {},
          "output_type": "execute_result"
        }
      ],
      "source": [
        "type(g)"
      ]
    },
    {
      "cell_type": "code",
      "execution_count": null,
      "metadata": {
        "id": "obqxpbZcId6j"
      },
      "outputs": [],
      "source": [
        "bag = 'mobile','head set','charger','laptop - charger', 'pen drive', 'E-disk','dairy','pen','dress','cash','cosmetics','tablets','shirts','books'"
      ]
    },
    {
      "cell_type": "code",
      "execution_count": null,
      "metadata": {
        "colab": {
          "base_uri": "https://localhost:8080/"
        },
        "id": "owGmaNl0IgCy",
        "outputId": "166f3af8-8930-48bc-becc-e2c9d85e491c"
      },
      "outputs": [
        {
          "data": {
            "text/plain": [
              "('mobile',\n",
              " 'head set',\n",
              " 'charger',\n",
              " 'laptop - charger',\n",
              " 'pen drive',\n",
              " 'E-disk',\n",
              " 'dairy',\n",
              " 'pen',\n",
              " 'dress',\n",
              " 'cash',\n",
              " 'cosmetics',\n",
              " 'tablets')"
            ]
          },
          "execution_count": 11,
          "metadata": {},
          "output_type": "execute_result"
        }
      ],
      "source": [
        "bag"
      ]
    },
    {
      "cell_type": "code",
      "execution_count": null,
      "metadata": {
        "colab": {
          "base_uri": "https://localhost:8080/"
        },
        "id": "CeWbkRpvIisn",
        "outputId": "05c49936-3237-4de8-ac99-1bb8dc14c83d"
      },
      "outputs": [
        {
          "data": {
            "text/plain": [
              "tuple"
            ]
          },
          "execution_count": 12,
          "metadata": {},
          "output_type": "execute_result"
        }
      ],
      "source": [
        "type(bag)"
      ]
    },
    {
      "cell_type": "code",
      "execution_count": null,
      "metadata": {
        "id": "5DAemgh6Ik4K"
      },
      "outputs": [],
      "source": [
        "*table,wallet,wardrobe,cosmetics_wardrobe,medicine_kit=bag"
      ]
    },
    {
      "cell_type": "code",
      "execution_count": null,
      "metadata": {
        "colab": {
          "base_uri": "https://localhost:8080/",
          "height": 35
        },
        "id": "VkSvYFyTIwAL",
        "outputId": "5f150346-08c4-4f31-f5cd-5e023a102284"
      },
      "outputs": [
        {
          "data": {
            "application/vnd.google.colaboratory.intrinsic+json": {
              "type": "string"
            },
            "text/plain": [
              "'books'"
            ]
          },
          "execution_count": 21,
          "metadata": {},
          "output_type": "execute_result"
        }
      ],
      "source": [
        "medicine_kit"
      ]
    },
    {
      "cell_type": "code",
      "execution_count": null,
      "metadata": {
        "colab": {
          "base_uri": "https://localhost:8080/",
          "height": 35
        },
        "id": "TvZSfQBtI0FI",
        "outputId": "0889bc8f-4f86-4fdc-d764-11b10ebc3c22"
      },
      "outputs": [
        {
          "data": {
            "application/vnd.google.colaboratory.intrinsic+json": {
              "type": "string"
            },
            "text/plain": [
              "'dress'"
            ]
          },
          "execution_count": 18,
          "metadata": {},
          "output_type": "execute_result"
        }
      ],
      "source": [
        "wallet"
      ]
    },
    {
      "cell_type": "code",
      "execution_count": null,
      "metadata": {
        "colab": {
          "base_uri": "https://localhost:8080/"
        },
        "id": "DoZZuW7YJJ4T",
        "outputId": "c6d9f80b-981b-4c60-f31e-452fdd31f3b2"
      },
      "outputs": [
        {
          "data": {
            "text/plain": [
              "['mobile',\n",
              " 'head set',\n",
              " 'charger',\n",
              " 'laptop - charger',\n",
              " 'pen drive',\n",
              " 'E-disk',\n",
              " 'dairy',\n",
              " 'pen',\n",
              " 'dress',\n",
              " 'cash']"
            ]
          },
          "execution_count": 24,
          "metadata": {},
          "output_type": "execute_result"
        }
      ],
      "source": [
        "table"
      ]
    },
    {
      "cell_type": "markdown",
      "metadata": {
        "id": "_HX_CUYanQmq"
      },
      "source": [
        "***Dictionary***\n",
        "mutable,cannot accept duplicate values\n",
        "ordered as per python version of 3.7, 3.6 and earlier version of python dictionary is unordered."
      ]
    },
    {
      "cell_type": "code",
      "execution_count": null,
      "metadata": {
        "id": "O-oavaQLnQNx"
      },
      "outputs": [],
      "source": [
        "d1=dict()"
      ]
    },
    {
      "cell_type": "code",
      "execution_count": null,
      "metadata": {
        "colab": {
          "base_uri": "https://localhost:8080/"
        },
        "id": "-9puaWrCnaf2",
        "outputId": "dc5dc2de-28be-4526-9438-5a3c2eaa04c4"
      },
      "outputs": [
        {
          "data": {
            "text/plain": [
              "dict"
            ]
          },
          "execution_count": 2,
          "metadata": {},
          "output_type": "execute_result"
        }
      ],
      "source": [
        "type(d1)"
      ]
    },
    {
      "cell_type": "code",
      "execution_count": null,
      "metadata": {
        "colab": {
          "base_uri": "https://localhost:8080/"
        },
        "id": "iuIJYT9snxdw",
        "outputId": "a37cadcd-5733-40eb-d451-0070033fe168"
      },
      "outputs": [
        {
          "data": {
            "text/plain": [
              "{'name': 'Nandhu', 'age': 30, 'city': 'salem'}"
            ]
          },
          "execution_count": 4,
          "metadata": {},
          "output_type": "execute_result"
        }
      ],
      "source": [
        "d1['name']='Nandhu'\n",
        "d1['age']=30\n",
        "d1['city']='salem'\n",
        "d1"
      ]
    },
    {
      "cell_type": "code",
      "execution_count": null,
      "metadata": {
        "colab": {
          "base_uri": "https://localhost:8080/"
        },
        "id": "mpXRhTOEoHJE",
        "outputId": "7eedf78e-6498-4142-990b-77dd08ded029"
      },
      "outputs": [
        {
          "data": {
            "text/plain": [
              "{'name': 'Nandhu', 'age': 30, 'city': 'salem', 'year': 1993}"
            ]
          },
          "execution_count": 5,
          "metadata": {},
          "output_type": "execute_result"
        }
      ],
      "source": [
        "d1.update({'year':1993})\n",
        "d1"
      ]
    },
    {
      "cell_type": "code",
      "execution_count": null,
      "metadata": {
        "colab": {
          "base_uri": "https://localhost:8080/"
        },
        "id": "olOeBrOKohPT",
        "outputId": "0f4bf9df-504a-4a75-d0a5-381e92c81186"
      },
      "outputs": [
        {
          "data": {
            "text/plain": [
              "{0: 'zero', 1: 'one', 'car': 'NO', 'brand': 'MG Hector', 'color': 'Red'}"
            ]
          },
          "execution_count": 46,
          "metadata": {},
          "output_type": "execute_result"
        }
      ],
      "source": [
        "d1.update({0:'zero'})\n",
        "d1.update({1:'one'})\n",
        "d1.update({'car':'Yes'})\n",
        "d1.update({'brand':'MG Hector'})\n",
        "d1['color']='Red'\n",
        "d1['car']='NO'\n",
        "d1"
      ]
    },
    {
      "cell_type": "code",
      "execution_count": null,
      "metadata": {
        "colab": {
          "base_uri": "https://localhost:8080/",
          "height": 35
        },
        "id": "vPoWXDHno-OW",
        "outputId": "8c217834-4d1d-416c-a390-512f8094a990"
      },
      "outputs": [
        {
          "data": {
            "application/vnd.google.colaboratory.intrinsic+json": {
              "type": "string"
            },
            "text/plain": [
              "'zero'"
            ]
          },
          "execution_count": 8,
          "metadata": {},
          "output_type": "execute_result"
        }
      ],
      "source": [
        "d1[(0)]"
      ]
    },
    {
      "cell_type": "code",
      "execution_count": null,
      "metadata": {
        "colab": {
          "base_uri": "https://localhost:8080/",
          "height": 35
        },
        "id": "Hey_Zj4Cp59D",
        "outputId": "e62c01c5-776c-4fab-edce-2587e128aa54"
      },
      "outputs": [
        {
          "data": {
            "application/vnd.google.colaboratory.intrinsic+json": {
              "type": "string"
            },
            "text/plain": [
              "'MG Hector'"
            ]
          },
          "execution_count": 14,
          "metadata": {},
          "output_type": "execute_result"
        }
      ],
      "source": [
        "d1['brand']"
      ]
    },
    {
      "cell_type": "code",
      "execution_count": null,
      "metadata": {
        "id": "yRvcqRrlp8H3"
      },
      "outputs": [],
      "source": [
        "d2={}"
      ]
    },
    {
      "cell_type": "code",
      "execution_count": null,
      "metadata": {
        "colab": {
          "base_uri": "https://localhost:8080/"
        },
        "id": "lqVHQMBJp-z8",
        "outputId": "50c0a1b1-b397-4fa9-87e6-e5f4ca663712"
      },
      "outputs": [
        {
          "data": {
            "text/plain": [
              "{'type': 'Petrol', 'place': 'Bangalore', True: 'Boolean'}"
            ]
          },
          "execution_count": 11,
          "metadata": {},
          "output_type": "execute_result"
        }
      ],
      "source": [
        "d2['type']='Petrol'\n",
        "d2.update({'place':'Bangalore'})\n",
        "d2.update({True:'Boolean'})\n",
        "d2"
      ]
    },
    {
      "cell_type": "code",
      "execution_count": null,
      "metadata": {
        "colab": {
          "base_uri": "https://localhost:8080/"
        },
        "id": "GkMNvtGwqdiU",
        "outputId": "3374297f-8168-4153-b5a7-95ffc6ec8614"
      },
      "outputs": [
        {
          "data": {
            "text/plain": [
              "11"
            ]
          },
          "execution_count": 16,
          "metadata": {},
          "output_type": "execute_result"
        }
      ],
      "source": [
        "len(d1)\n",
        "#len(d2)"
      ]
    },
    {
      "cell_type": "code",
      "execution_count": null,
      "metadata": {
        "colab": {
          "base_uri": "https://localhost:8080/"
        },
        "id": "1kgR90lGroII",
        "outputId": "cfab2ee4-0072-468f-96ff-5e100c337423"
      },
      "outputs": [
        {
          "data": {
            "text/plain": [
              "{'name': 'Nandhu',\n",
              " 'age': 30,\n",
              " 'city': 'salem',\n",
              " 'year': 1993,\n",
              " 0: 'zero',\n",
              " 1: 'Boolean',\n",
              " 'car': 'Yes',\n",
              " 'brand': 'MG Hector',\n",
              " 'color': 'Red',\n",
              " 'type': 'Petrol',\n",
              " 'place': 'Bangalore'}"
            ]
          },
          "execution_count": 15,
          "metadata": {},
          "output_type": "execute_result"
        }
      ],
      "source": [
        "d1.update(d2)\n",
        "d1"
      ]
    },
    {
      "cell_type": "code",
      "execution_count": null,
      "metadata": {
        "colab": {
          "base_uri": "https://localhost:8080/"
        },
        "id": "TdRyVKk-r3bw",
        "outputId": "2740af8d-1706-49cf-e18d-281e3c724698"
      },
      "outputs": [
        {
          "data": {
            "text/plain": [
              "dict_keys(['name', 'age', 'city', 'year', 0, 1, 'car', 'brand', 'color', 'type', 'place'])"
            ]
          },
          "execution_count": 17,
          "metadata": {},
          "output_type": "execute_result"
        }
      ],
      "source": [
        "d1.keys()"
      ]
    },
    {
      "cell_type": "code",
      "execution_count": null,
      "metadata": {
        "colab": {
          "base_uri": "https://localhost:8080/"
        },
        "id": "_bzP3DRwr6MD",
        "outputId": "e7be7591-3194-4b0d-e0c7-c66c570f1dd8"
      },
      "outputs": [
        {
          "data": {
            "text/plain": [
              "dict_values(['Nandhu', 30, 'salem', 1993, 'zero', 'Boolean', 'Yes', 'MG Hector', 'Red', 'Petrol', 'Bangalore'])"
            ]
          },
          "execution_count": 18,
          "metadata": {},
          "output_type": "execute_result"
        }
      ],
      "source": [
        "d1.values()"
      ]
    },
    {
      "cell_type": "code",
      "execution_count": null,
      "metadata": {
        "colab": {
          "base_uri": "https://localhost:8080/"
        },
        "id": "D32NbthOr9JL",
        "outputId": "eac390a0-afa7-4200-86cf-121e26a5a31e"
      },
      "outputs": [
        {
          "data": {
            "text/plain": [
              "dict_items([('name', 'Nandhu'), ('age', 30), ('city', 'salem'), ('year', 1993), (0, 'zero'), (1, 'Boolean'), ('car', 'Yes'), ('brand', 'MG Hector'), ('color', 'Red'), ('type', 'Petrol'), ('place', 'Bangalore')])"
            ]
          },
          "execution_count": 19,
          "metadata": {},
          "output_type": "execute_result"
        }
      ],
      "source": [
        "d1.items()"
      ]
    },
    {
      "cell_type": "code",
      "execution_count": null,
      "metadata": {
        "colab": {
          "base_uri": "https://localhost:8080/",
          "height": 35
        },
        "id": "ZPVqrgY4sGtC",
        "outputId": "cd27962b-f740-4bea-a54c-edfc1de95260"
      },
      "outputs": [
        {
          "data": {
            "application/vnd.google.colaboratory.intrinsic+json": {
              "type": "string"
            },
            "text/plain": [
              "'Boolean'"
            ]
          },
          "execution_count": 21,
          "metadata": {},
          "output_type": "execute_result"
        }
      ],
      "source": [
        "d1.get(True)"
      ]
    },
    {
      "cell_type": "code",
      "execution_count": null,
      "metadata": {
        "colab": {
          "base_uri": "https://localhost:8080/"
        },
        "id": "fZQ6aZhPsOJK",
        "outputId": "ff21e6d1-2a46-4109-eb87-9d5070c73184"
      },
      "outputs": [
        {
          "data": {
            "text/plain": [
              "30"
            ]
          },
          "execution_count": 22,
          "metadata": {},
          "output_type": "execute_result"
        }
      ],
      "source": [
        "d1['age']"
      ]
    },
    {
      "cell_type": "code",
      "execution_count": null,
      "metadata": {
        "colab": {
          "base_uri": "https://localhost:8080/",
          "height": 176
        },
        "id": "taZ0baQusSEY",
        "outputId": "bc7a596e-fec8-42cb-dd7f-2c27e2a2e3e3"
      },
      "outputs": [
        {
          "ename": "KeyError",
          "evalue": "ignored",
          "output_type": "error",
          "traceback": [
            "\u001b[0;31m---------------------------------------------------------------------------\u001b[0m",
            "\u001b[0;31mKeyError\u001b[0m                                  Traceback (most recent call last)",
            "\u001b[0;32m<ipython-input-23-5677f957e36a>\u001b[0m in \u001b[0;36m<cell line: 1>\u001b[0;34m()\u001b[0m\n\u001b[0;32m----> 1\u001b[0;31m \u001b[0md1\u001b[0m\u001b[0;34m[\u001b[0m\u001b[0;34m'house'\u001b[0m\u001b[0;34m]\u001b[0m\u001b[0;34m\u001b[0m\u001b[0;34m\u001b[0m\u001b[0m\n\u001b[0m",
            "\u001b[0;31mKeyError\u001b[0m: 'house'"
          ]
        }
      ],
      "source": [
        "d1['house']"
      ]
    },
    {
      "cell_type": "code",
      "execution_count": null,
      "metadata": {
        "colab": {
          "base_uri": "https://localhost:8080/"
        },
        "id": "He3Re6w0sWzV",
        "outputId": "a308cc37-e72c-414b-f109-241bce0aeed6"
      },
      "outputs": [
        {
          "name": "stdout",
          "output_type": "stream",
          "text": [
            "salem\n"
          ]
        }
      ],
      "source": [
        "if 'city' in d1:\n",
        "  print (d1.get('city'))\n",
        "else:\n",
        "  print (\"NO VALUE FOUND\")\n"
      ]
    },
    {
      "cell_type": "code",
      "execution_count": null,
      "metadata": {
        "colab": {
          "base_uri": "https://localhost:8080/"
        },
        "id": "9ldXVV1-sp-i",
        "outputId": "b1984b6f-db0e-4b6c-ba07-58941cb62e4e"
      },
      "outputs": [
        {
          "data": {
            "text/plain": [
              "False"
            ]
          },
          "execution_count": 25,
          "metadata": {},
          "output_type": "execute_result"
        }
      ],
      "source": [
        "'Nandhu' in d1"
      ]
    },
    {
      "cell_type": "code",
      "execution_count": null,
      "metadata": {
        "colab": {
          "base_uri": "https://localhost:8080/"
        },
        "id": "agdASzwDsvvy",
        "outputId": "6744530a-e4ac-4548-aebd-d083c967d40d"
      },
      "outputs": [
        {
          "data": {
            "text/plain": [
              "True"
            ]
          },
          "execution_count": 26,
          "metadata": {},
          "output_type": "execute_result"
        }
      ],
      "source": [
        "'brand' in d1"
      ]
    },
    {
      "cell_type": "code",
      "execution_count": null,
      "metadata": {
        "colab": {
          "base_uri": "https://localhost:8080/"
        },
        "id": "80H3Ee_Is1di",
        "outputId": "b29332c6-6914-4b09-cc75-48f34f966db3"
      },
      "outputs": [
        {
          "data": {
            "text/plain": [
              "False"
            ]
          },
          "execution_count": 29,
          "metadata": {},
          "output_type": "execute_result"
        }
      ],
      "source": [
        "'Red' in d1"
      ]
    },
    {
      "cell_type": "code",
      "execution_count": null,
      "metadata": {
        "colab": {
          "base_uri": "https://localhost:8080/",
          "height": 35
        },
        "id": "UxrKU3bOs-8h",
        "outputId": "12c63fa7-59e3-4e48-e463-ca3f3ba9a13f"
      },
      "outputs": [
        {
          "data": {
            "application/vnd.google.colaboratory.intrinsic+json": {
              "type": "string"
            },
            "text/plain": [
              "'zero'"
            ]
          },
          "execution_count": 30,
          "metadata": {},
          "output_type": "execute_result"
        }
      ],
      "source": [
        "d1.pop(0)"
      ]
    },
    {
      "cell_type": "code",
      "execution_count": null,
      "metadata": {
        "colab": {
          "base_uri": "https://localhost:8080/"
        },
        "id": "w19rY8KetEnO",
        "outputId": "6c6ac95b-6135-4b7f-e94d-a2692205bf91"
      },
      "outputs": [
        {
          "data": {
            "text/plain": [
              "{'name': 'Nandhu',\n",
              " 'age': 30,\n",
              " 'city': 'salem',\n",
              " 'year': 1993,\n",
              " 1: 'Boolean',\n",
              " 'car': 'Yes',\n",
              " 'brand': 'MG Hector',\n",
              " 'color': 'Red',\n",
              " 'type': 'Petrol',\n",
              " 'place': 'Bangalore'}"
            ]
          },
          "execution_count": 31,
          "metadata": {},
          "output_type": "execute_result"
        }
      ],
      "source": [
        "d1"
      ]
    },
    {
      "cell_type": "code",
      "execution_count": null,
      "metadata": {
        "colab": {
          "base_uri": "https://localhost:8080/"
        },
        "id": "MDpVGizytIlB",
        "outputId": "159a8a2c-fd37-4769-bd2d-c5785e4eec01"
      },
      "outputs": [
        {
          "data": {
            "text/plain": [
              "('place', 'Bangalore')"
            ]
          },
          "execution_count": 32,
          "metadata": {},
          "output_type": "execute_result"
        }
      ],
      "source": [
        "d1.popitem()"
      ]
    },
    {
      "cell_type": "code",
      "execution_count": null,
      "metadata": {
        "colab": {
          "base_uri": "https://localhost:8080/"
        },
        "id": "JbjvozR-tM0n",
        "outputId": "4f1a3aea-65b4-4a92-d690-76df37975063"
      },
      "outputs": [
        {
          "data": {
            "text/plain": [
              "{'name': 'Nandhu',\n",
              " 'age': 30,\n",
              " 'city': 'salem',\n",
              " 'year': 1993,\n",
              " 1: 'Boolean',\n",
              " 'car': 'Yes',\n",
              " 'brand': 'MG Hector',\n",
              " 'color': 'Red',\n",
              " 'type': 'Petrol'}"
            ]
          },
          "execution_count": 33,
          "metadata": {},
          "output_type": "execute_result"
        }
      ],
      "source": [
        "d1"
      ]
    },
    {
      "cell_type": "code",
      "execution_count": null,
      "metadata": {
        "id": "UaOeA1-jtRN2"
      },
      "outputs": [],
      "source": [
        "del d1[1]"
      ]
    },
    {
      "cell_type": "code",
      "execution_count": null,
      "metadata": {
        "colab": {
          "base_uri": "https://localhost:8080/"
        },
        "id": "LVH0n_T8tZWY",
        "outputId": "723a2fa8-1b27-4c92-caa5-1e67983d5a46"
      },
      "outputs": [
        {
          "data": {
            "text/plain": [
              "{'name': 'Nandhu',\n",
              " 'age': 30,\n",
              " 'city': 'salem',\n",
              " 'year': 1993,\n",
              " 'car': 'Yes',\n",
              " 'brand': 'MG Hector',\n",
              " 'color': 'Red',\n",
              " 'type': 'Petrol'}"
            ]
          },
          "execution_count": 35,
          "metadata": {},
          "output_type": "execute_result"
        }
      ],
      "source": [
        "d1"
      ]
    },
    {
      "cell_type": "code",
      "execution_count": null,
      "metadata": {
        "id": "7YBiQ-bBtbou"
      },
      "outputs": [],
      "source": [
        "d1.get(True)"
      ]
    },
    {
      "cell_type": "code",
      "execution_count": null,
      "metadata": {
        "id": "eKNNnoo7tjY1"
      },
      "outputs": [],
      "source": [
        "del d2"
      ]
    },
    {
      "cell_type": "code",
      "execution_count": null,
      "metadata": {
        "colab": {
          "base_uri": "https://localhost:8080/"
        },
        "id": "pq6IqhWPtmJH",
        "outputId": "a16a6559-ee31-4b84-9a61-aa40539b3e43"
      },
      "outputs": [
        {
          "data": {
            "text/plain": [
              "{'name': 'Nandhu',\n",
              " 'age': 30,\n",
              " 'city': 'salem',\n",
              " 'year': 1993,\n",
              " 'car': 'Yes',\n",
              " 'brand': 'MG Hector',\n",
              " 'color': 'Red',\n",
              " 'type': 'Petrol'}"
            ]
          },
          "execution_count": 39,
          "metadata": {},
          "output_type": "execute_result"
        }
      ],
      "source": [
        "d1"
      ]
    },
    {
      "cell_type": "code",
      "execution_count": null,
      "metadata": {
        "colab": {
          "base_uri": "https://localhost:8080/",
          "height": 176
        },
        "id": "xT273aUFtoQv",
        "outputId": "25a61cc3-fccb-4638-fd18-11cd826b8026"
      },
      "outputs": [
        {
          "ename": "NameError",
          "evalue": "ignored",
          "output_type": "error",
          "traceback": [
            "\u001b[0;31m---------------------------------------------------------------------------\u001b[0m",
            "\u001b[0;31mNameError\u001b[0m                                 Traceback (most recent call last)",
            "\u001b[0;32m<ipython-input-40-fe1ba9d06821>\u001b[0m in \u001b[0;36m<cell line: 1>\u001b[0;34m()\u001b[0m\n\u001b[0;32m----> 1\u001b[0;31m \u001b[0md2\u001b[0m\u001b[0;34m\u001b[0m\u001b[0;34m\u001b[0m\u001b[0m\n\u001b[0m",
            "\u001b[0;31mNameError\u001b[0m: name 'd2' is not defined"
          ]
        }
      ],
      "source": [
        "d2"
      ]
    },
    {
      "cell_type": "code",
      "execution_count": null,
      "metadata": {
        "colab": {
          "base_uri": "https://localhost:8080/"
        },
        "id": "lRIyD8jLtt_r",
        "outputId": "2116f8f1-3f43-4fe0-deb9-eab54291c078"
      },
      "outputs": [
        {
          "data": {
            "text/plain": [
              "{'name': 'Nandhu',\n",
              " 'city': 'salem',\n",
              " 'car': 'Yes',\n",
              " 'brand': 'MG Hector',\n",
              " 'color': 'Red',\n",
              " 'type': 'Petrol'}"
            ]
          },
          "execution_count": 42,
          "metadata": {},
          "output_type": "execute_result"
        }
      ],
      "source": [
        " del d1['year'],d1['age']\n",
        "d1"
      ]
    },
    {
      "cell_type": "code",
      "execution_count": null,
      "metadata": {
        "id": "dO7TIQVDt4v8"
      },
      "outputs": [],
      "source": [
        "d1.clear()"
      ]
    },
    {
      "cell_type": "code",
      "execution_count": null,
      "metadata": {
        "colab": {
          "base_uri": "https://localhost:8080/"
        },
        "id": "xT5wyEl5t_Fs",
        "outputId": "0ac99ff3-4562-4e60-9db1-3f0e569bfad4"
      },
      "outputs": [
        {
          "data": {
            "text/plain": [
              "{}"
            ]
          },
          "execution_count": 45,
          "metadata": {},
          "output_type": "execute_result"
        }
      ],
      "source": [
        "d1"
      ]
    },
    {
      "cell_type": "code",
      "execution_count": null,
      "metadata": {
        "colab": {
          "base_uri": "https://localhost:8080/"
        },
        "id": "EHJ_2hFMwXuI",
        "outputId": "f08f12aa-b2ee-4fb3-bd3b-cc2367c8a6a5"
      },
      "outputs": [
        {
          "data": {
            "text/plain": [
              "{1: 1, 2: 8, 3: 9, 4: 16, 5: 25}"
            ]
          },
          "execution_count": 3,
          "metadata": {},
          "output_type": "execute_result"
        }
      ],
      "source": [
        "s_n={1:1,2:8,3:9,4:16,5:25}\n",
        "s_n"
      ]
    },
    {
      "cell_type": "code",
      "execution_count": null,
      "metadata": {
        "colab": {
          "base_uri": "https://localhost:8080/"
        },
        "id": "4dmOoQTpx8G7",
        "outputId": "40106251-cc5b-4288-c4f5-dbb83db3f3bd"
      },
      "outputs": [
        {
          "data": {
            "text/plain": [
              "25"
            ]
          },
          "execution_count": 4,
          "metadata": {},
          "output_type": "execute_result"
        }
      ],
      "source": [
        "s_n[5]"
      ]
    },
    {
      "cell_type": "code",
      "execution_count": null,
      "metadata": {
        "colab": {
          "base_uri": "https://localhost:8080/"
        },
        "id": "wfr7m_xOyBmx",
        "outputId": "b455459b-0c5b-4d78-8dda-ba45078f62da"
      },
      "outputs": [
        {
          "data": {
            "text/plain": [
              "dict_keys([1, 2, 3, 4, 5])"
            ]
          },
          "execution_count": 5,
          "metadata": {},
          "output_type": "execute_result"
        }
      ],
      "source": [
        "s_n.keys()"
      ]
    },
    {
      "cell_type": "code",
      "execution_count": null,
      "metadata": {
        "colab": {
          "base_uri": "https://localhost:8080/"
        },
        "id": "spgiNaN_yWJc",
        "outputId": "e263e1d6-e403-4376-a111-3e58ef71b9a4"
      },
      "outputs": [
        {
          "data": {
            "text/plain": [
              "dict_values([1, 8, 9, 16, 25])"
            ]
          },
          "execution_count": 6,
          "metadata": {},
          "output_type": "execute_result"
        }
      ],
      "source": [
        "s_n.values()"
      ]
    },
    {
      "cell_type": "code",
      "execution_count": 3,
      "metadata": {
        "colab": {
          "base_uri": "https://localhost:8080/"
        },
        "id": "5yVhnGk7yYsw",
        "outputId": "4350db6e-ecf7-40c6-c0e9-d17394f7dec4"
      },
      "outputs": [
        {
          "output_type": "execute_result",
          "data": {
            "text/plain": [
              "({'name': 'usha', 'contact': '9790003193', 'city': 'salem'},\n",
              " {'name': 'manju', 'contact': '954565', 'city': 'madras'},\n",
              " {'name': 'ahaana', 'contact': '324684', 'city': 'Bangalore'},\n",
              " {'name': 'adhira', 'contact': '5465', 'city': 'chennai'})"
            ]
          },
          "metadata": {},
          "execution_count": 3
        }
      ],
      "source": [
        "employee=({\n",
        "    'name':\"usha\",\n",
        "    'contact':'9790003193',\n",
        "    'city':'salem'\n",
        "},\n",
        "          {\n",
        "              'name':'manju',\n",
        "              'contact':'954565',\n",
        "              'city':'madras'\n",
        "          },\n",
        "          {\n",
        "              'name':'ahaana',\n",
        "              'contact':'324684',\n",
        "              'city':'Bangalore'\n",
        "          },\n",
        "          {\n",
        "              'name':'adhira',\n",
        "              'contact':'5465',\n",
        "              'city':'chennai'\n",
        "\n",
        "          })\n",
        "employee"
      ]
    },
    {
      "cell_type": "code",
      "source": [
        "employee[1]"
      ],
      "metadata": {
        "colab": {
          "base_uri": "https://localhost:8080/"
        },
        "id": "_GKY2EG_etT3",
        "outputId": "3594cf52-87a0-489d-bf78-3d8953f4ecc0"
      },
      "execution_count": 4,
      "outputs": [
        {
          "output_type": "execute_result",
          "data": {
            "text/plain": [
              "{'name': 'manju', 'contact': '954565', 'city': 'madras'}"
            ]
          },
          "metadata": {},
          "execution_count": 4
        }
      ]
    },
    {
      "cell_type": "code",
      "source": [
        "employee[1]['city']='madras','chennai','nungampakkam'"
      ],
      "metadata": {
        "id": "JmRKQIRbexMz"
      },
      "execution_count": 6,
      "outputs": []
    },
    {
      "cell_type": "code",
      "source": [
        "employee[1]['city'][2]"
      ],
      "metadata": {
        "colab": {
          "base_uri": "https://localhost:8080/",
          "height": 35
        },
        "id": "kK6xaxtDe_BJ",
        "outputId": "66b1fade-1e22-46a0-c64b-0d2a87e26952"
      },
      "execution_count": 9,
      "outputs": [
        {
          "output_type": "execute_result",
          "data": {
            "text/plain": [
              "'nungampakkam'"
            ],
            "application/vnd.google.colaboratory.intrinsic+json": {
              "type": "string"
            }
          },
          "metadata": {},
          "execution_count": 9
        }
      ]
    },
    {
      "cell_type": "code",
      "source": [
        "len(employee)"
      ],
      "metadata": {
        "colab": {
          "base_uri": "https://localhost:8080/"
        },
        "id": "BEyeI21thAd_",
        "outputId": "c4a8dc39-409d-4d5a-c4ee-212be2a2de1d"
      },
      "execution_count": 10,
      "outputs": [
        {
          "output_type": "execute_result",
          "data": {
            "text/plain": [
              "4"
            ]
          },
          "metadata": {},
          "execution_count": 10
        }
      ]
    },
    {
      "cell_type": "code",
      "source": [
        "employee[0]['color']='red','green','yellow'"
      ],
      "metadata": {
        "id": "zU2U7wwmiQed"
      },
      "execution_count": 19,
      "outputs": []
    },
    {
      "cell_type": "code",
      "source": [
        "employee[1]['color']='yellow'\n",
        "employee[2]['color']='green'\n",
        "employee[3]['color']='pink'\n",
        "employee"
      ],
      "metadata": {
        "colab": {
          "base_uri": "https://localhost:8080/"
        },
        "id": "D5I8BUYolZCg",
        "outputId": "1bc7463a-d20b-4e00-c5e4-c70f2b1df340"
      },
      "execution_count": 21,
      "outputs": [
        {
          "output_type": "execute_result",
          "data": {
            "text/plain": [
              "({'name': 'usha',\n",
              "  'contact': '9790003193',\n",
              "  'city': 'salem',\n",
              "  'color': ('red', 'green', 'yellow')},\n",
              " {'name': 'manju',\n",
              "  'contact': '954565',\n",
              "  'city': ('madras', 'chennai', 'nungampakkam'),\n",
              "  'color': 'yellow'},\n",
              " {'name': 'ahaana',\n",
              "  'contact': '324684',\n",
              "  'city': 'Bangalore',\n",
              "  'color': 'green'},\n",
              " {'name': 'adhira', 'contact': '5465', 'city': 'chennai', 'color': 'pink'})"
            ]
          },
          "metadata": {},
          "execution_count": 21
        }
      ]
    },
    {
      "cell_type": "code",
      "source": [
        "employee['color'].popitem()"
      ],
      "metadata": {
        "colab": {
          "base_uri": "https://localhost:8080/",
          "height": 176
        },
        "id": "hwga0M6kl8ul",
        "outputId": "ade2cba8-94b2-4a45-a191-4212e9e73116"
      },
      "execution_count": 27,
      "outputs": [
        {
          "output_type": "error",
          "ename": "TypeError",
          "evalue": "ignored",
          "traceback": [
            "\u001b[0;31m---------------------------------------------------------------------------\u001b[0m",
            "\u001b[0;31mTypeError\u001b[0m                                 Traceback (most recent call last)",
            "\u001b[0;32m<ipython-input-27-a27342c3898c>\u001b[0m in \u001b[0;36m<cell line: 1>\u001b[0;34m()\u001b[0m\n\u001b[0;32m----> 1\u001b[0;31m \u001b[0memployee\u001b[0m\u001b[0;34m[\u001b[0m\u001b[0;34m'color'\u001b[0m\u001b[0;34m]\u001b[0m\u001b[0;34m.\u001b[0m\u001b[0mpopitem\u001b[0m\u001b[0;34m(\u001b[0m\u001b[0;34m)\u001b[0m\u001b[0;34m\u001b[0m\u001b[0;34m\u001b[0m\u001b[0m\n\u001b[0m",
            "\u001b[0;31mTypeError\u001b[0m: tuple indices must be integers or slices, not str"
          ]
        }
      ]
    },
    {
      "cell_type": "code",
      "source": [
        "new=dict()"
      ],
      "metadata": {
        "id": "LxptmvyGmlft"
      },
      "execution_count": 22,
      "outputs": []
    },
    {
      "cell_type": "code",
      "source": [
        "type(new)"
      ],
      "metadata": {
        "colab": {
          "base_uri": "https://localhost:8080/"
        },
        "id": "-gOi0hFGmnjv",
        "outputId": "b5709ae9-a701-45a6-d991-99d4c6d34984"
      },
      "execution_count": 29,
      "outputs": [
        {
          "output_type": "execute_result",
          "data": {
            "text/plain": [
              "dict"
            ]
          },
          "metadata": {},
          "execution_count": 29
        }
      ]
    },
    {
      "cell_type": "code",
      "source": [
        "new=dict(company='tcs',branch='bangalore')\n",
        "new"
      ],
      "metadata": {
        "colab": {
          "base_uri": "https://localhost:8080/"
        },
        "id": "DJhwEDdigTsE",
        "outputId": "85a06a99-db1c-48da-bc09-efe8a5886a07"
      },
      "execution_count": 23,
      "outputs": [
        {
          "output_type": "execute_result",
          "data": {
            "text/plain": [
              "{'company': 'tcs', 'branch': 'bangalore'}"
            ]
          },
          "metadata": {},
          "execution_count": 23
        }
      ]
    },
    {
      "cell_type": "code",
      "source": [
        "new=dict([(1,'one'),(2,'two'),(3,'three')])\n",
        "new"
      ],
      "metadata": {
        "colab": {
          "base_uri": "https://localhost:8080/"
        },
        "id": "dm3SeYACgvfd",
        "outputId": "42600cd2-c24e-4f66-a004-ddc6b1a5d4e8"
      },
      "execution_count": 24,
      "outputs": [
        {
          "output_type": "execute_result",
          "data": {
            "text/plain": [
              "{1: 'one', 2: 'two', 3: 'three'}"
            ]
          },
          "metadata": {},
          "execution_count": 24
        }
      ]
    },
    {
      "cell_type": "code",
      "source": [
        "new=dict([[1,'one'],[2,'two'],[3,'three']])\n",
        "new"
      ],
      "metadata": {
        "colab": {
          "base_uri": "https://localhost:8080/"
        },
        "id": "mo_sY2dzhDoF",
        "outputId": "f6463f78-2fbd-4535-cd70-f9a416722789"
      },
      "execution_count": 25,
      "outputs": [
        {
          "output_type": "execute_result",
          "data": {
            "text/plain": [
              "{1: 'one', 2: 'two', 3: 'three'}"
            ]
          },
          "metadata": {},
          "execution_count": 25
        }
      ]
    },
    {
      "cell_type": "code",
      "source": [
        "emp=dict({11:'oneone',22:'twotwo',33:'threethree'})\n",
        "emp"
      ],
      "metadata": {
        "colab": {
          "base_uri": "https://localhost:8080/"
        },
        "id": "4-PS4CLihnT_",
        "outputId": "ec4400e8-b8ee-404c-88c7-83bb327bca3b"
      },
      "execution_count": 2,
      "outputs": [
        {
          "output_type": "execute_result",
          "data": {
            "text/plain": [
              "{11: 'oneone', 22: 'twotwo', 33: 'threethree'}"
            ]
          },
          "metadata": {},
          "execution_count": 2
        }
      ]
    },
    {
      "cell_type": "code",
      "source": [
        "emp.keys()"
      ],
      "metadata": {
        "colab": {
          "base_uri": "https://localhost:8080/"
        },
        "id": "M48mtR3yh7lS",
        "outputId": "9453fc0e-bf61-409f-9f55-69550eefbd2a"
      },
      "execution_count": 3,
      "outputs": [
        {
          "output_type": "execute_result",
          "data": {
            "text/plain": [
              "dict_keys([11, 22, 33])"
            ]
          },
          "metadata": {},
          "execution_count": 3
        }
      ]
    },
    {
      "cell_type": "code",
      "source": [
        "emp.values()"
      ],
      "metadata": {
        "colab": {
          "base_uri": "https://localhost:8080/"
        },
        "id": "GT97UYhqh-mg",
        "outputId": "9cc29629-5d5a-451a-bb37-cfb8fbc47e0c"
      },
      "execution_count": 4,
      "outputs": [
        {
          "output_type": "execute_result",
          "data": {
            "text/plain": [
              "dict_values(['oneone', 'twotwo', 'threethree'])"
            ]
          },
          "metadata": {},
          "execution_count": 4
        }
      ]
    },
    {
      "cell_type": "code",
      "source": [
        "emp.items()"
      ],
      "metadata": {
        "colab": {
          "base_uri": "https://localhost:8080/"
        },
        "id": "rCmL_jKHiBtJ",
        "outputId": "0ba90dc7-d261-4085-c518-1272ece1aabd"
      },
      "execution_count": 5,
      "outputs": [
        {
          "output_type": "execute_result",
          "data": {
            "text/plain": [
              "dict_items([(11, 'oneone'), (22, 'twotwo'), (33, 'threethree')])"
            ]
          },
          "metadata": {},
          "execution_count": 5
        }
      ]
    },
    {
      "cell_type": "code",
      "source": [
        "emp.get(22)"
      ],
      "metadata": {
        "colab": {
          "base_uri": "https://localhost:8080/",
          "height": 35
        },
        "id": "c-KBNq-2iL6g",
        "outputId": "2d97ac02-10a1-4b62-ad2f-0fee66ad0adc"
      },
      "execution_count": 6,
      "outputs": [
        {
          "output_type": "execute_result",
          "data": {
            "text/plain": [
              "'twotwo'"
            ],
            "application/vnd.google.colaboratory.intrinsic+json": {
              "type": "string"
            }
          },
          "metadata": {},
          "execution_count": 6
        }
      ]
    },
    {
      "cell_type": "code",
      "source": [
        "emp['name']='usha'"
      ],
      "metadata": {
        "id": "rdLdAVWXiRl0"
      },
      "execution_count": 7,
      "outputs": []
    },
    {
      "cell_type": "code",
      "source": [
        "emp"
      ],
      "metadata": {
        "colab": {
          "base_uri": "https://localhost:8080/"
        },
        "id": "zBFKIrG3ikRB",
        "outputId": "cad19ba1-4e32-4170-8a55-712017adb542"
      },
      "execution_count": 8,
      "outputs": [
        {
          "output_type": "execute_result",
          "data": {
            "text/plain": [
              "{11: 'oneone', 22: 'twotwo', 33: 'threethree', 'name': 'usha'}"
            ]
          },
          "metadata": {},
          "execution_count": 8
        }
      ]
    },
    {
      "cell_type": "code",
      "source": [
        "emp.get('name')"
      ],
      "metadata": {
        "colab": {
          "base_uri": "https://localhost:8080/",
          "height": 35
        },
        "id": "54iBBM2EimqJ",
        "outputId": "f459dc84-f5d0-4c17-f603-bfc2fa37be6b"
      },
      "execution_count": 9,
      "outputs": [
        {
          "output_type": "execute_result",
          "data": {
            "text/plain": [
              "'usha'"
            ],
            "application/vnd.google.colaboratory.intrinsic+json": {
              "type": "string"
            }
          },
          "metadata": {},
          "execution_count": 9
        }
      ]
    },
    {
      "cell_type": "code",
      "source": [
        "emp['name']"
      ],
      "metadata": {
        "colab": {
          "base_uri": "https://localhost:8080/",
          "height": 35
        },
        "id": "fWz8JVOkip5P",
        "outputId": "c69cfb0a-4d78-4004-9d3b-78c7a35e72a0"
      },
      "execution_count": 10,
      "outputs": [
        {
          "output_type": "execute_result",
          "data": {
            "text/plain": [
              "'usha'"
            ],
            "application/vnd.google.colaboratory.intrinsic+json": {
              "type": "string"
            }
          },
          "metadata": {},
          "execution_count": 10
        }
      ]
    },
    {
      "cell_type": "code",
      "source": [
        "emp.__getitem__('name')"
      ],
      "metadata": {
        "colab": {
          "base_uri": "https://localhost:8080/",
          "height": 35
        },
        "id": "ks5E3xPmizG4",
        "outputId": "16a42fc3-225e-4ac7-f0c5-0719c9c8a5a8"
      },
      "execution_count": 11,
      "outputs": [
        {
          "output_type": "execute_result",
          "data": {
            "text/plain": [
              "'usha'"
            ],
            "application/vnd.google.colaboratory.intrinsic+json": {
              "type": "string"
            }
          },
          "metadata": {},
          "execution_count": 11
        }
      ]
    },
    {
      "cell_type": "code",
      "source": [
        "'name' in emp"
      ],
      "metadata": {
        "colab": {
          "base_uri": "https://localhost:8080/"
        },
        "id": "bsXDCSbKi7kZ",
        "outputId": "a65cc290-7415-404d-ecdc-abcdf9cbef98"
      },
      "execution_count": 12,
      "outputs": [
        {
          "output_type": "execute_result",
          "data": {
            "text/plain": [
              "True"
            ]
          },
          "metadata": {},
          "execution_count": 12
        }
      ]
    },
    {
      "cell_type": "code",
      "source": [
        "'salary' in emp"
      ],
      "metadata": {
        "colab": {
          "base_uri": "https://localhost:8080/"
        },
        "id": "tZ7iQqhJi-bb",
        "outputId": "72e6d8d5-2664-460c-91d4-389fc51ee93c"
      },
      "execution_count": 13,
      "outputs": [
        {
          "output_type": "execute_result",
          "data": {
            "text/plain": [
              "False"
            ]
          },
          "metadata": {},
          "execution_count": 13
        }
      ]
    },
    {
      "cell_type": "code",
      "source": [
        "emp['salary']=150000\n",
        "emp"
      ],
      "metadata": {
        "colab": {
          "base_uri": "https://localhost:8080/"
        },
        "id": "Dnwr63D5jCxQ",
        "outputId": "a5f4f30e-c553-496f-9a20-b2146fcc3307"
      },
      "execution_count": 14,
      "outputs": [
        {
          "output_type": "execute_result",
          "data": {
            "text/plain": [
              "{11: 'oneone',\n",
              " 22: 'twotwo',\n",
              " 33: 'threethree',\n",
              " 'name': 'usha',\n",
              " 'salary': 150000}"
            ]
          },
          "metadata": {},
          "execution_count": 14
        }
      ]
    },
    {
      "cell_type": "code",
      "source": [
        "emp.__contains__('salary')"
      ],
      "metadata": {
        "colab": {
          "base_uri": "https://localhost:8080/"
        },
        "id": "DWVsf-hIjJba",
        "outputId": "88eef62c-0a80-4c53-8041-cb1fe1e9cae2"
      },
      "execution_count": 15,
      "outputs": [
        {
          "output_type": "execute_result",
          "data": {
            "text/plain": [
              "True"
            ]
          },
          "metadata": {},
          "execution_count": 15
        }
      ]
    },
    {
      "cell_type": "code",
      "source": [
        "emp.update({'year':1993})\n",
        "emp"
      ],
      "metadata": {
        "colab": {
          "base_uri": "https://localhost:8080/"
        },
        "id": "hpZr6_SDjU1u",
        "outputId": "2c3414c5-f9db-4a89-bd5a-1c9461306b0a"
      },
      "execution_count": 16,
      "outputs": [
        {
          "output_type": "execute_result",
          "data": {
            "text/plain": [
              "{11: 'oneone',\n",
              " 22: 'twotwo',\n",
              " 33: 'threethree',\n",
              " 'name': 'usha',\n",
              " 'salary': 150000,\n",
              " 'year': 1993}"
            ]
          },
          "metadata": {},
          "execution_count": 16
        }
      ]
    },
    {
      "cell_type": "code",
      "source": [
        "emp['blood group']='A+'\n",
        "emp"
      ],
      "metadata": {
        "colab": {
          "base_uri": "https://localhost:8080/"
        },
        "id": "AvMEW0WsbWm7",
        "outputId": "8db3dae3-02dd-4ad0-cb28-9bfa2aab9e69"
      },
      "execution_count": 17,
      "outputs": [
        {
          "output_type": "execute_result",
          "data": {
            "text/plain": [
              "{11: 'oneone',\n",
              " 22: 'twotwo',\n",
              " 33: 'threethree',\n",
              " 'name': 'usha',\n",
              " 'salary': 150000,\n",
              " 'year': 1993,\n",
              " 'blood group': 'A+'}"
            ]
          },
          "metadata": {},
          "execution_count": 17
        }
      ]
    },
    {
      "cell_type": "code",
      "source": [
        "emp.pop('name')"
      ],
      "metadata": {
        "colab": {
          "base_uri": "https://localhost:8080/",
          "height": 35
        },
        "id": "FV70PoAkbm61",
        "outputId": "ccfcf841-2533-4fd7-848b-a35b04409d9a"
      },
      "execution_count": 18,
      "outputs": [
        {
          "output_type": "execute_result",
          "data": {
            "text/plain": [
              "'usha'"
            ],
            "application/vnd.google.colaboratory.intrinsic+json": {
              "type": "string"
            }
          },
          "metadata": {},
          "execution_count": 18
        }
      ]
    },
    {
      "cell_type": "code",
      "source": [
        "emp.popitem()"
      ],
      "metadata": {
        "colab": {
          "base_uri": "https://localhost:8080/"
        },
        "id": "NAe6sn2Pbu28",
        "outputId": "25f85373-61c6-4996-9146-ebd9a0eb353c"
      },
      "execution_count": 20,
      "outputs": [
        {
          "output_type": "execute_result",
          "data": {
            "text/plain": [
              "('year', 1993)"
            ]
          },
          "metadata": {},
          "execution_count": 20
        }
      ]
    },
    {
      "cell_type": "code",
      "source": [
        "emp"
      ],
      "metadata": {
        "colab": {
          "base_uri": "https://localhost:8080/"
        },
        "id": "kmza1qK6byKM",
        "outputId": "64457db3-d79b-404f-c8f4-761646e753b1"
      },
      "execution_count": 21,
      "outputs": [
        {
          "output_type": "execute_result",
          "data": {
            "text/plain": [
              "{11: 'oneone', 22: 'twotwo', 33: 'threethree', 'salary': 150000}"
            ]
          },
          "metadata": {},
          "execution_count": 21
        }
      ]
    },
    {
      "cell_type": "code",
      "source": [
        "new"
      ],
      "metadata": {
        "colab": {
          "base_uri": "https://localhost:8080/"
        },
        "id": "49UhUvrgb_VZ",
        "outputId": "d14d009d-e5a7-418d-971d-23a48a8efe9c"
      },
      "execution_count": 26,
      "outputs": [
        {
          "output_type": "execute_result",
          "data": {
            "text/plain": [
              "{1: 'one', 2: 'two', 3: 'three'}"
            ]
          },
          "metadata": {},
          "execution_count": 26
        }
      ]
    },
    {
      "cell_type": "code",
      "source": [
        "new.clear()"
      ],
      "metadata": {
        "id": "ayLs8vflcDCY"
      },
      "execution_count": 27,
      "outputs": []
    },
    {
      "cell_type": "code",
      "source": [
        "new"
      ],
      "metadata": {
        "colab": {
          "base_uri": "https://localhost:8080/"
        },
        "id": "VO5NICv_cFpk",
        "outputId": "cefb1c2d-74d2-436a-845a-e62a9270f041"
      },
      "execution_count": 28,
      "outputs": [
        {
          "output_type": "execute_result",
          "data": {
            "text/plain": [
              "{}"
            ]
          },
          "metadata": {},
          "execution_count": 28
        }
      ]
    },
    {
      "cell_type": "code",
      "source": [
        "del new"
      ],
      "metadata": {
        "id": "7-xm44uucHUD"
      },
      "execution_count": 29,
      "outputs": []
    },
    {
      "cell_type": "code",
      "source": [
        "new"
      ],
      "metadata": {
        "colab": {
          "base_uri": "https://localhost:8080/",
          "height": 176
        },
        "id": "U9X_JqxOcKAc",
        "outputId": "01333a07-e7d8-4035-ba8e-b55fbcceb23b"
      },
      "execution_count": 30,
      "outputs": [
        {
          "output_type": "error",
          "ename": "NameError",
          "evalue": "ignored",
          "traceback": [
            "\u001b[0;31m---------------------------------------------------------------------------\u001b[0m",
            "\u001b[0;31mNameError\u001b[0m                                 Traceback (most recent call last)",
            "\u001b[0;32m<ipython-input-30-389cc6b7ae5a>\u001b[0m in \u001b[0;36m<cell line: 1>\u001b[0;34m()\u001b[0m\n\u001b[0;32m----> 1\u001b[0;31m \u001b[0mnew\u001b[0m\u001b[0;34m\u001b[0m\u001b[0;34m\u001b[0m\u001b[0m\n\u001b[0m",
            "\u001b[0;31mNameError\u001b[0m: name 'new' is not defined"
          ]
        }
      ]
    },
    {
      "cell_type": "code",
      "source": [
        "emp"
      ],
      "metadata": {
        "colab": {
          "base_uri": "https://localhost:8080/"
        },
        "id": "jkWyBhpUcM0r",
        "outputId": "1f293e54-36b4-45c1-83bf-520ed79d3c9c"
      },
      "execution_count": 31,
      "outputs": [
        {
          "output_type": "execute_result",
          "data": {
            "text/plain": [
              "{11: 'oneone', 22: 'twotwo', 33: 'threethree', 'salary': 150000}"
            ]
          },
          "metadata": {},
          "execution_count": 31
        }
      ]
    },
    {
      "cell_type": "code",
      "source": [
        "popped=emp.popitem()\n"
      ],
      "metadata": {
        "id": "dfnaeqCXcT5s"
      },
      "execution_count": 32,
      "outputs": []
    },
    {
      "cell_type": "code",
      "source": [
        "popped"
      ],
      "metadata": {
        "colab": {
          "base_uri": "https://localhost:8080/"
        },
        "id": "BCrrPoOcceWE",
        "outputId": "6e994ca5-1de8-4f91-ee41-9444af63a794"
      },
      "execution_count": 33,
      "outputs": [
        {
          "output_type": "execute_result",
          "data": {
            "text/plain": [
              "('salary', 150000)"
            ]
          },
          "metadata": {},
          "execution_count": 33
        }
      ]
    },
    {
      "cell_type": "markdown",
      "source": [
        "**Nested Dictionary**"
      ],
      "metadata": {
        "id": "m5qqOpdEcie_"
      }
    },
    {
      "cell_type": "code",
      "source": [
        "family=dict(\n",
        "    {\n",
        "        'child1':{\n",
        "            'name':'usha',\n",
        "            'age':5,\n",
        "            'place':'bangalore'\n",
        "        },\n",
        "        'child2':{\n",
        "            'name':'nandhu',\n",
        "            'age':7,\n",
        "            'place':'salem'\n",
        "        },\n",
        "        'child3':{\n",
        "            'name':'Ahaana',\n",
        "            'age':2,\n",
        "            'place':'Bengaluru'\n",
        "        }\n",
        "    }\n",
        ")\n",
        "family"
      ],
      "metadata": {
        "colab": {
          "base_uri": "https://localhost:8080/"
        },
        "id": "atRk8d5pcpHf",
        "outputId": "f0c0a3b6-1cb0-4214-9106-eb1d5e42434f"
      },
      "execution_count": 1,
      "outputs": [
        {
          "output_type": "execute_result",
          "data": {
            "text/plain": [
              "{'child1': {'name': 'usha', 'age': 5, 'place': 'bangalore'},\n",
              " 'child2': {'name': 'nandhu', 'age': 7, 'place': 'salem'},\n",
              " 'child3': {'name': 'Ahaana', 'age': 2, 'place': 'Bengaluru'}}"
            ]
          },
          "metadata": {},
          "execution_count": 1
        }
      ]
    },
    {
      "cell_type": "code",
      "source": [
        "family['child3']['age']"
      ],
      "metadata": {
        "colab": {
          "base_uri": "https://localhost:8080/"
        },
        "id": "txbBtoY0dhS8",
        "outputId": "db2fb099-9d52-4868-d786-b9347be31920"
      },
      "execution_count": 2,
      "outputs": [
        {
          "output_type": "execute_result",
          "data": {
            "text/plain": [
              "2"
            ]
          },
          "metadata": {},
          "execution_count": 2
        }
      ]
    },
    {
      "cell_type": "code",
      "source": [
        "family.keys()"
      ],
      "metadata": {
        "colab": {
          "base_uri": "https://localhost:8080/"
        },
        "id": "JPUfJgbj60CW",
        "outputId": "7f00c62d-2009-43da-e35c-cd30115609ca"
      },
      "execution_count": 3,
      "outputs": [
        {
          "output_type": "execute_result",
          "data": {
            "text/plain": [
              "dict_keys(['child1', 'child2', 'child3'])"
            ]
          },
          "metadata": {},
          "execution_count": 3
        }
      ]
    },
    {
      "cell_type": "code",
      "source": [
        "family.values()"
      ],
      "metadata": {
        "colab": {
          "base_uri": "https://localhost:8080/"
        },
        "id": "f_thpmWU6311",
        "outputId": "6da76186-820a-4c13-b9ff-620dc39560f5"
      },
      "execution_count": 4,
      "outputs": [
        {
          "output_type": "execute_result",
          "data": {
            "text/plain": [
              "dict_values([{'name': 'usha', 'age': 5, 'place': 'bangalore'}, {'name': 'nandhu', 'age': 7, 'place': 'salem'}, {'name': 'Ahaana', 'age': 2, 'place': 'Bengaluru'}])"
            ]
          },
          "metadata": {},
          "execution_count": 4
        }
      ]
    },
    {
      "cell_type": "code",
      "source": [
        "family['child1'].keys()"
      ],
      "metadata": {
        "colab": {
          "base_uri": "https://localhost:8080/"
        },
        "id": "pGcRIR3d68RN",
        "outputId": "04619519-9fc2-47d1-927c-f7000322b66d"
      },
      "execution_count": 6,
      "outputs": [
        {
          "output_type": "execute_result",
          "data": {
            "text/plain": [
              "dict_keys(['name', 'age', 'place'])"
            ]
          },
          "metadata": {},
          "execution_count": 6
        }
      ]
    },
    {
      "cell_type": "code",
      "source": [
        "family.items()"
      ],
      "metadata": {
        "colab": {
          "base_uri": "https://localhost:8080/"
        },
        "id": "NbLE-arF7Dm8",
        "outputId": "2bf6c51c-019b-418a-ee57-7bb536d9df48"
      },
      "execution_count": 7,
      "outputs": [
        {
          "output_type": "execute_result",
          "data": {
            "text/plain": [
              "dict_items([('child1', {'name': 'usha', 'age': 5, 'place': 'bangalore'}), ('child2', {'name': 'nandhu', 'age': 7, 'place': 'salem'}), ('child3', {'name': 'Ahaana', 'age': 2, 'place': 'Bengaluru'})])"
            ]
          },
          "metadata": {},
          "execution_count": 7
        }
      ]
    },
    {
      "cell_type": "code",
      "source": [
        "family['child2']['name']"
      ],
      "metadata": {
        "colab": {
          "base_uri": "https://localhost:8080/",
          "height": 35
        },
        "id": "toAATbGJ7HmQ",
        "outputId": "dc73b31c-0cf9-43d2-8aa1-d90703527609"
      },
      "execution_count": 8,
      "outputs": [
        {
          "output_type": "execute_result",
          "data": {
            "text/plain": [
              "'nandhu'"
            ],
            "application/vnd.google.colaboratory.intrinsic+json": {
              "type": "string"
            }
          },
          "metadata": {},
          "execution_count": 8
        }
      ]
    },
    {
      "cell_type": "code",
      "source": [
        "comp=family.setdefault('company','LNT')\n",
        "comp"
      ],
      "metadata": {
        "colab": {
          "base_uri": "https://localhost:8080/",
          "height": 35
        },
        "id": "0cb7l13v7Pfh",
        "outputId": "632e0754-eca2-4a4b-95f3-2b08a48f1dd6"
      },
      "execution_count": 10,
      "outputs": [
        {
          "output_type": "execute_result",
          "data": {
            "text/plain": [
              "'LNT'"
            ],
            "application/vnd.google.colaboratory.intrinsic+json": {
              "type": "string"
            }
          },
          "metadata": {},
          "execution_count": 10
        }
      ]
    },
    {
      "cell_type": "code",
      "source": [
        "family"
      ],
      "metadata": {
        "colab": {
          "base_uri": "https://localhost:8080/"
        },
        "id": "vS4VoVwr70km",
        "outputId": "63169b51-8754-4d4b-d542-ef47775bfcb6"
      },
      "execution_count": 11,
      "outputs": [
        {
          "output_type": "execute_result",
          "data": {
            "text/plain": [
              "{'child1': {'name': 'usha', 'age': 5, 'place': 'bangalore'},\n",
              " 'child2': {'name': 'nandhu', 'age': 7, 'place': 'salem'},\n",
              " 'child3': {'name': 'Ahaana', 'age': 2, 'place': 'Bengaluru'},\n",
              " 'company': 'LNT'}"
            ]
          },
          "metadata": {},
          "execution_count": 11
        }
      ]
    },
    {
      "cell_type": "code",
      "source": [
        "len(family)"
      ],
      "metadata": {
        "colab": {
          "base_uri": "https://localhost:8080/"
        },
        "id": "WXqAiatC73-c",
        "outputId": "32970282-f048-4c84-dad5-9b3757e6503a"
      },
      "execution_count": 12,
      "outputs": [
        {
          "output_type": "execute_result",
          "data": {
            "text/plain": [
              "4"
            ]
          },
          "metadata": {},
          "execution_count": 12
        }
      ]
    },
    {
      "cell_type": "code",
      "source": [
        "family.setdefault('company','HCL')\n",
        "family"
      ],
      "metadata": {
        "colab": {
          "base_uri": "https://localhost:8080/"
        },
        "id": "92S-1LmY761P",
        "outputId": "55c10506-b3e4-4e9e-fa7a-9630a7ff158d"
      },
      "execution_count": 14,
      "outputs": [
        {
          "output_type": "execute_result",
          "data": {
            "text/plain": [
              "{'child1': {'name': 'usha', 'age': 5, 'place': 'bangalore'},\n",
              " 'child2': {'name': 'nandhu', 'age': 7, 'place': 'salem'},\n",
              " 'child3': {'name': 'Ahaana', 'age': 2, 'place': 'Bengaluru'},\n",
              " 'company': 'LNT'}"
            ]
          },
          "metadata": {},
          "execution_count": 14
        }
      ]
    },
    {
      "cell_type": "code",
      "source": [
        "family['company']='zoho'\n",
        "family"
      ],
      "metadata": {
        "colab": {
          "base_uri": "https://localhost:8080/"
        },
        "id": "IsUzaSbB87O7",
        "outputId": "57779974-5efa-447e-cf3a-6ff4437dc72b"
      },
      "execution_count": 15,
      "outputs": [
        {
          "output_type": "execute_result",
          "data": {
            "text/plain": [
              "{'child1': {'name': 'usha', 'age': 5, 'place': 'bangalore'},\n",
              " 'child2': {'name': 'nandhu', 'age': 7, 'place': 'salem'},\n",
              " 'child3': {'name': 'Ahaana', 'age': 2, 'place': 'Bengaluru'},\n",
              " 'company': 'zoho'}"
            ]
          },
          "metadata": {},
          "execution_count": 15
        }
      ]
    },
    {
      "cell_type": "code",
      "source": [
        "x=('usha','asha','nisha','gisha','aisha')\n",
        "y=('age','place')\n",
        "num=dict.fromkeys(x,y)\n",
        "num"
      ],
      "metadata": {
        "colab": {
          "base_uri": "https://localhost:8080/"
        },
        "id": "rZLwAgaC9YFF",
        "outputId": "08ebe096-b714-46af-e7c3-9e818c8a397b"
      },
      "execution_count": 18,
      "outputs": [
        {
          "output_type": "execute_result",
          "data": {
            "text/plain": [
              "{'usha': ('age', 'place'),\n",
              " 'asha': ('age', 'place'),\n",
              " 'nisha': ('age', 'place'),\n",
              " 'gisha': ('age', 'place'),\n",
              " 'aisha': ('age', 'place')}"
            ]
          },
          "metadata": {},
          "execution_count": 18
        }
      ]
    },
    {
      "cell_type": "code",
      "source": [
        "x=('usha','asha','nisha','gisha','aisha')\n",
        "y={'age':5,'place':'banga'}\n",
        "details=dict.fromkeys(x,y)\n",
        "details"
      ],
      "metadata": {
        "colab": {
          "base_uri": "https://localhost:8080/"
        },
        "id": "69W9naDU-GDM",
        "outputId": "f84438d0-3819-42cc-bbbe-a10f2cb73cd9"
      },
      "execution_count": 21,
      "outputs": [
        {
          "output_type": "execute_result",
          "data": {
            "text/plain": [
              "{'usha': {'age': 5, 'place': 'banga'},\n",
              " 'asha': {'age': 5, 'place': 'banga'},\n",
              " 'nisha': {'age': 5, 'place': 'banga'},\n",
              " 'gisha': {'age': 5, 'place': 'banga'},\n",
              " 'aisha': {'age': 5, 'place': 'banga'}}"
            ]
          },
          "metadata": {},
          "execution_count": 21
        }
      ]
    },
    {
      "cell_type": "code",
      "source": [
        "marks=[88,99,77,66,55]\n",
        "total=sum(marks)\n",
        "total"
      ],
      "metadata": {
        "colab": {
          "base_uri": "https://localhost:8080/"
        },
        "id": "3zfTL8ib_C1_",
        "outputId": "720d1b96-b0d6-4bf2-f3f7-6ab3e156e81f"
      },
      "execution_count": 23,
      "outputs": [
        {
          "output_type": "execute_result",
          "data": {
            "text/plain": [
              "385"
            ]
          },
          "metadata": {},
          "execution_count": 23
        }
      ]
    },
    {
      "cell_type": "code",
      "source": [
        "avg=total/len(marks)\n",
        "avg"
      ],
      "metadata": {
        "colab": {
          "base_uri": "https://localhost:8080/"
        },
        "id": "Euz3KZO9_Q1-",
        "outputId": "696c1ef5-3bc8-4d77-8759-55d63746afa5"
      },
      "execution_count": 24,
      "outputs": [
        {
          "output_type": "execute_result",
          "data": {
            "text/plain": [
              "77.0"
            ]
          },
          "metadata": {},
          "execution_count": 24
        }
      ]
    },
    {
      "cell_type": "markdown",
      "source": [
        "**Converting two list into dictionary/list/tuple**\n",
        "\n",
        "**ZIP method**"
      ],
      "metadata": {
        "id": "6aDCyNDB_YSM"
      }
    },
    {
      "cell_type": "code",
      "source": [
        "a=[1,2,3,4,5,6]\n",
        "b=['one','two','three','four','five']\n",
        "type(a),type(b)"
      ],
      "metadata": {
        "colab": {
          "base_uri": "https://localhost:8080/"
        },
        "id": "w6F95zK2_Xw5",
        "outputId": "e12c50fa-c68e-4021-a445-8ad2240d8202"
      },
      "execution_count": 27,
      "outputs": [
        {
          "output_type": "execute_result",
          "data": {
            "text/plain": [
              "(list, list)"
            ]
          },
          "metadata": {},
          "execution_count": 27
        }
      ]
    },
    {
      "cell_type": "code",
      "source": [
        "list(zip(a,b))"
      ],
      "metadata": {
        "colab": {
          "base_uri": "https://localhost:8080/"
        },
        "id": "hs1DzCqr_2FX",
        "outputId": "20ae64e0-6a3a-460c-9232-28b0f4fe90f2"
      },
      "execution_count": 29,
      "outputs": [
        {
          "output_type": "execute_result",
          "data": {
            "text/plain": [
              "[(1, 'one'), (2, 'two'), (3, 'three'), (4, 'four'), (5, 'five')]"
            ]
          },
          "metadata": {},
          "execution_count": 29
        }
      ]
    },
    {
      "cell_type": "code",
      "source": [
        "dictionary=dict(zip(a,b))\n",
        "dictionary"
      ],
      "metadata": {
        "colab": {
          "base_uri": "https://localhost:8080/"
        },
        "id": "DPXjR759AGIK",
        "outputId": "60cdde05-111d-4ab0-f92c-e3c46ad02414"
      },
      "execution_count": 30,
      "outputs": [
        {
          "output_type": "execute_result",
          "data": {
            "text/plain": [
              "{1: 'one', 2: 'two', 3: 'three', 4: 'four', 5: 'five'}"
            ]
          },
          "metadata": {},
          "execution_count": 30
        }
      ]
    },
    {
      "cell_type": "code",
      "source": [
        "tuple(zip(a,b))"
      ],
      "metadata": {
        "colab": {
          "base_uri": "https://localhost:8080/"
        },
        "id": "pZ62TL4EAQB0",
        "outputId": "ddb5fb40-46e0-43ba-d8cb-244b03720f69"
      },
      "execution_count": 31,
      "outputs": [
        {
          "output_type": "execute_result",
          "data": {
            "text/plain": [
              "((1, 'one'), (2, 'two'), (3, 'three'), (4, 'four'), (5, 'five'))"
            ]
          },
          "metadata": {},
          "execution_count": 31
        }
      ]
    },
    {
      "cell_type": "markdown",
      "source": [
        "**updating two dictionaries into one dictionary**"
      ],
      "metadata": {
        "id": "Df28TuosLN6K"
      }
    },
    {
      "cell_type": "code",
      "source": [
        "a1={1:'one',2:'two'}\n",
        "a2={3:'three',4:'four'}\n",
        "a3=a1.copy()\n",
        "a3"
      ],
      "metadata": {
        "colab": {
          "base_uri": "https://localhost:8080/"
        },
        "id": "lZ6-jlflAZ9Y",
        "outputId": "cfd8f5e1-6a66-42fd-a060-cbc3623673d8"
      },
      "execution_count": 50,
      "outputs": [
        {
          "output_type": "execute_result",
          "data": {
            "text/plain": [
              "{1: 'one', 2: 'two'}"
            ]
          },
          "metadata": {},
          "execution_count": 50
        }
      ]
    },
    {
      "cell_type": "code",
      "source": [
        "dict.update(a2,a1)\n",
        "a2"
      ],
      "metadata": {
        "colab": {
          "base_uri": "https://localhost:8080/"
        },
        "id": "rSW7-PRFBfx0",
        "outputId": "b6082ae7-562e-4d93-bf5f-c40df294fdcc"
      },
      "execution_count": 51,
      "outputs": [
        {
          "output_type": "execute_result",
          "data": {
            "text/plain": [
              "{3: 'three', 4: 'four', 1: 'one', 2: 'two'}"
            ]
          },
          "metadata": {},
          "execution_count": 51
        }
      ]
    },
    {
      "cell_type": "code",
      "source": [
        "a2.update(a3)\n",
        "a3,a2"
      ],
      "metadata": {
        "colab": {
          "base_uri": "https://localhost:8080/"
        },
        "id": "SUlI-9euCjEo",
        "outputId": "8146c463-13d7-4501-a347-d892c3e21700"
      },
      "execution_count": 52,
      "outputs": [
        {
          "output_type": "execute_result",
          "data": {
            "text/plain": [
              "({1: 'one', 2: 'two'}, {3: 'three', 4: 'four', 1: 'one', 2: 'two'})"
            ]
          },
          "metadata": {},
          "execution_count": 52
        }
      ]
    },
    {
      "cell_type": "code",
      "source": [
        "new1={'name':'usha',\"place\":'bangalore'}\n",
        "new2={'age':34,\"salary\":140000}\n",
        "#new1.update(new2)\n",
        "#new1\n",
        "#{'name': 'usha', 'place': 'bangalore', 'age': 34, 'salary': 140000}"
      ],
      "metadata": {
        "id": "3HncVstaCi_w"
      },
      "execution_count": 56,
      "outputs": []
    },
    {
      "cell_type": "code",
      "source": [
        "newdict={}\n",
        "newdict.update(**new1,**new2)\n",
        "newdict"
      ],
      "metadata": {
        "colab": {
          "base_uri": "https://localhost:8080/"
        },
        "id": "31ZSYWpdJMYT",
        "outputId": "49e45b69-5022-46ae-957f-9832b132b46f"
      },
      "execution_count": 57,
      "outputs": [
        {
          "output_type": "execute_result",
          "data": {
            "text/plain": [
              "{'name': 'usha', 'place': 'bangalore', 'age': 34, 'salary': 140000}"
            ]
          },
          "metadata": {},
          "execution_count": 57
        }
      ]
    },
    {
      "cell_type": "code",
      "source": [
        "n1={'1':'one'}\n",
        "n2={'2':'two'}\n",
        "n3={}\n",
        "n3.update(**n1,**n2)\n",
        "n3"
      ],
      "metadata": {
        "colab": {
          "base_uri": "https://localhost:8080/"
        },
        "id": "0YvZdnDbJ94Z",
        "outputId": "1247762d-bcc1-4bf3-85fc-977f2f20c38d"
      },
      "execution_count": 59,
      "outputs": [
        {
          "output_type": "execute_result",
          "data": {
            "text/plain": [
              "{'1': 'one', '2': 'two'}"
            ]
          },
          "metadata": {},
          "execution_count": 59
        }
      ]
    },
    {
      "cell_type": "code",
      "source": [
        "n5={}\n",
        "n5.update(**n3,**new2)\n",
        "n5"
      ],
      "metadata": {
        "colab": {
          "base_uri": "https://localhost:8080/"
        },
        "id": "lgPqw5NuKUgB",
        "outputId": "f4fa1a2f-c24a-44c8-d619-214575e3a450"
      },
      "execution_count": 60,
      "outputs": [
        {
          "output_type": "execute_result",
          "data": {
            "text/plain": [
              "{'1': 'one', '2': 'two', 'age': 34, 'salary': 140000}"
            ]
          },
          "metadata": {},
          "execution_count": 60
        }
      ]
    },
    {
      "cell_type": "code",
      "source": [
        "n4={}\n",
        "n4.update(**n3,**newdict)\n",
        "n4"
      ],
      "metadata": {
        "colab": {
          "base_uri": "https://localhost:8080/"
        },
        "id": "do7ePwyVKnpj",
        "outputId": "b6e49b55-4e56-476f-e2a8-5d443cc5fc03"
      },
      "execution_count": 62,
      "outputs": [
        {
          "output_type": "execute_result",
          "data": {
            "text/plain": [
              "{'1': 'one',\n",
              " '2': 'two',\n",
              " 'name': 'usha',\n",
              " 'place': 'bangalore',\n",
              " 'age': 34,\n",
              " 'salary': 140000}"
            ]
          },
          "metadata": {},
          "execution_count": 62
        }
      ]
    },
    {
      "cell_type": "code",
      "source": [
        "n4['age1']=n4.pop('age')\n",
        "n4"
      ],
      "metadata": {
        "colab": {
          "base_uri": "https://localhost:8080/"
        },
        "id": "OUJZeZ15MDwt",
        "outputId": "7a2f22a1-bcd8-4acc-c9bf-04c297fc4672"
      },
      "execution_count": 63,
      "outputs": [
        {
          "output_type": "execute_result",
          "data": {
            "text/plain": [
              "{'1': 'one',\n",
              " '2': 'two',\n",
              " 'name': 'usha',\n",
              " 'place': 'bangalore',\n",
              " 'salary': 140000,\n",
              " 'age1': 34}"
            ]
          },
          "metadata": {},
          "execution_count": 63
        }
      ]
    },
    {
      "cell_type": "code",
      "source": [
        "#n4[1]=n4.pop('1')\n",
        "n4[2]=n4.pop('2')\n",
        "n4"
      ],
      "metadata": {
        "colab": {
          "base_uri": "https://localhost:8080/"
        },
        "id": "8PGx-h3kMz3E",
        "outputId": "f53d4ae8-c8f3-4615-c37e-a1003bca3db4"
      },
      "execution_count": 67,
      "outputs": [
        {
          "output_type": "execute_result",
          "data": {
            "text/plain": [
              "{'name': 'usha',\n",
              " 'place': 'bangalore',\n",
              " 'salary': 140000,\n",
              " 'age1': 34,\n",
              " 1: 'one',\n",
              " 2: 'two'}"
            ]
          },
          "metadata": {},
          "execution_count": 67
        }
      ]
    },
    {
      "cell_type": "markdown",
      "source": [
        "**SET**\n"
      ],
      "metadata": {
        "id": "pTGcB5wrNgVo"
      }
    },
    {
      "cell_type": "code",
      "source": [
        "s1=set((5,8,1,5,9,10))\n",
        "s1"
      ],
      "metadata": {
        "colab": {
          "base_uri": "https://localhost:8080/"
        },
        "id": "Lc7tkrL4NHzx",
        "outputId": "64105dd8-9c07-4088-8895-89fe4fc45eb8"
      },
      "execution_count": 70,
      "outputs": [
        {
          "output_type": "execute_result",
          "data": {
            "text/plain": [
              "{1, 5, 8, 9, 10}"
            ]
          },
          "metadata": {},
          "execution_count": 70
        }
      ]
    },
    {
      "cell_type": "code",
      "source": [
        "s2={'apple','orange','kiwi','dragon','banana','mango'}\n",
        "s2"
      ],
      "metadata": {
        "colab": {
          "base_uri": "https://localhost:8080/"
        },
        "id": "HSOFik4FN8vH",
        "outputId": "b585a62b-5574-45e4-cab5-79b0c4229a04"
      },
      "execution_count": 71,
      "outputs": [
        {
          "output_type": "execute_result",
          "data": {
            "text/plain": [
              "{'apple', 'banana', 'dragon', 'kiwi', 'mango', 'orange'}"
            ]
          },
          "metadata": {},
          "execution_count": 71
        }
      ]
    },
    {
      "cell_type": "code",
      "source": [
        "s3={True,1,1.0,False,0,True,False}\n",
        "s3"
      ],
      "metadata": {
        "colab": {
          "base_uri": "https://localhost:8080/"
        },
        "id": "dVNd8kteOHwA",
        "outputId": "fc8ddf6b-8c9c-4a35-a3e9-25325b378831"
      },
      "execution_count": 72,
      "outputs": [
        {
          "output_type": "execute_result",
          "data": {
            "text/plain": [
              "{False, True}"
            ]
          },
          "metadata": {},
          "execution_count": 72
        }
      ]
    },
    {
      "cell_type": "code",
      "source": [
        "'apple' in s2"
      ],
      "metadata": {
        "colab": {
          "base_uri": "https://localhost:8080/"
        },
        "id": "kj_L4b1xObgW",
        "outputId": "ed5cdf11-ff70-4041-9f61-541dea3216ca"
      },
      "execution_count": 73,
      "outputs": [
        {
          "output_type": "execute_result",
          "data": {
            "text/plain": [
              "True"
            ]
          },
          "metadata": {},
          "execution_count": 73
        }
      ]
    },
    {
      "cell_type": "code",
      "source": [
        "'ahjbdjs' in s2"
      ],
      "metadata": {
        "colab": {
          "base_uri": "https://localhost:8080/"
        },
        "id": "FnhK7fo2OfHe",
        "outputId": "5ca74cfd-c35c-458c-825e-57ef4ea964d3"
      },
      "execution_count": 74,
      "outputs": [
        {
          "output_type": "execute_result",
          "data": {
            "text/plain": [
              "False"
            ]
          },
          "metadata": {},
          "execution_count": 74
        }
      ]
    },
    {
      "cell_type": "code",
      "source": [
        "s2.add('ahaana')\n",
        "s2"
      ],
      "metadata": {
        "colab": {
          "base_uri": "https://localhost:8080/"
        },
        "id": "tDcE8oHjOl9v",
        "outputId": "51c277f8-319d-4fb4-fc87-e47fa96eac4e"
      },
      "execution_count": 75,
      "outputs": [
        {
          "output_type": "execute_result",
          "data": {
            "text/plain": [
              "{'ahaana', 'apple', 'banana', 'dragon', 'kiwi', 'mango', 'orange'}"
            ]
          },
          "metadata": {},
          "execution_count": 75
        }
      ]
    },
    {
      "cell_type": "code",
      "source": [
        "fruits={'usha','nandhu','andhini'}\n",
        "s2.update(fruits)\n",
        "s2"
      ],
      "metadata": {
        "colab": {
          "base_uri": "https://localhost:8080/"
        },
        "id": "QLzhbDFKOub_",
        "outputId": "0a7619dc-807f-48b9-ce39-b0dbe2c84991"
      },
      "execution_count": 76,
      "outputs": [
        {
          "output_type": "execute_result",
          "data": {
            "text/plain": [
              "{'ahaana',\n",
              " 'andhini',\n",
              " 'apple',\n",
              " 'banana',\n",
              " 'dragon',\n",
              " 'kiwi',\n",
              " 'mango',\n",
              " 'nandhu',\n",
              " 'orange',\n",
              " 'usha'}"
            ]
          },
          "metadata": {},
          "execution_count": 76
        }
      ]
    },
    {
      "cell_type": "code",
      "source": [
        "len(s2)"
      ],
      "metadata": {
        "colab": {
          "base_uri": "https://localhost:8080/"
        },
        "id": "z6gpfSH6Or6z",
        "outputId": "2c196f17-cde4-4f63-ce61-f23b951e675c"
      },
      "execution_count": 80,
      "outputs": [
        {
          "output_type": "execute_result",
          "data": {
            "text/plain": [
              "12"
            ]
          },
          "metadata": {},
          "execution_count": 80
        }
      ]
    },
    {
      "cell_type": "code",
      "source": [
        "fruit=['custardapple','avacoda']\n",
        "s2.update(fruit)\n",
        "s2"
      ],
      "metadata": {
        "colab": {
          "base_uri": "https://localhost:8080/"
        },
        "id": "juwyEHA6PAGk",
        "outputId": "ae921772-6614-4142-e879-450c425dd167"
      },
      "execution_count": 79,
      "outputs": [
        {
          "output_type": "execute_result",
          "data": {
            "text/plain": [
              "{'ahaana',\n",
              " 'andhini',\n",
              " 'apple',\n",
              " 'avacoda',\n",
              " 'banana',\n",
              " 'custardapple',\n",
              " 'dragon',\n",
              " 'kiwi',\n",
              " 'mango',\n",
              " 'nandhu',\n",
              " 'orange',\n",
              " 'usha'}"
            ]
          },
          "metadata": {},
          "execution_count": 79
        }
      ]
    },
    {
      "cell_type": "code",
      "source": [
        "s2.remove('banana')\n"
      ],
      "metadata": {
        "id": "pUNuXJ27PTA6"
      },
      "execution_count": 81,
      "outputs": []
    },
    {
      "cell_type": "code",
      "source": [
        "s2.remove('grapes')"
      ],
      "metadata": {
        "colab": {
          "base_uri": "https://localhost:8080/",
          "height": 176
        },
        "id": "qXy-KQpcPXpZ",
        "outputId": "c41975f1-2d56-4480-c07d-823459b81242"
      },
      "execution_count": 82,
      "outputs": [
        {
          "output_type": "error",
          "ename": "KeyError",
          "evalue": "ignored",
          "traceback": [
            "\u001b[0;31m---------------------------------------------------------------------------\u001b[0m",
            "\u001b[0;31mKeyError\u001b[0m                                  Traceback (most recent call last)",
            "\u001b[0;32m<ipython-input-82-d8b71d8b046f>\u001b[0m in \u001b[0;36m<cell line: 1>\u001b[0;34m()\u001b[0m\n\u001b[0;32m----> 1\u001b[0;31m \u001b[0ms2\u001b[0m\u001b[0;34m.\u001b[0m\u001b[0mremove\u001b[0m\u001b[0;34m(\u001b[0m\u001b[0;34m'grapes'\u001b[0m\u001b[0;34m)\u001b[0m\u001b[0;34m\u001b[0m\u001b[0;34m\u001b[0m\u001b[0m\n\u001b[0m",
            "\u001b[0;31mKeyError\u001b[0m: 'grapes'"
          ]
        }
      ]
    },
    {
      "cell_type": "code",
      "source": [
        "s2.add('grapes')\n",
        "s2"
      ],
      "metadata": {
        "colab": {
          "base_uri": "https://localhost:8080/"
        },
        "id": "BJGqvkPFPcpl",
        "outputId": "32f23c2a-e070-4b71-868e-aa91b187a18d"
      },
      "execution_count": 84,
      "outputs": [
        {
          "output_type": "execute_result",
          "data": {
            "text/plain": [
              "{'a',\n",
              " 'ahaana',\n",
              " 'andhini',\n",
              " 'apple',\n",
              " 'avacoda',\n",
              " 'custardapple',\n",
              " 'dragon',\n",
              " 'e',\n",
              " 'g',\n",
              " 'grapes',\n",
              " 'kiwi',\n",
              " 'mango',\n",
              " 'nandhu',\n",
              " 'orange',\n",
              " 'p',\n",
              " 'r',\n",
              " 's',\n",
              " 'usha'}"
            ]
          },
          "metadata": {},
          "execution_count": 84
        }
      ]
    },
    {
      "cell_type": "code",
      "source": [
        "s2.remove('g')"
      ],
      "metadata": {
        "id": "_-zuwrFBPs0S"
      },
      "execution_count": 85,
      "outputs": []
    },
    {
      "cell_type": "code",
      "source": [
        "s2.discard('grapes')\n",
        "s2"
      ],
      "metadata": {
        "colab": {
          "base_uri": "https://localhost:8080/"
        },
        "id": "VCA_mIkbPwrS",
        "outputId": "8a14d291-e74a-42d0-f911-79fc9472c258"
      },
      "execution_count": 86,
      "outputs": [
        {
          "output_type": "execute_result",
          "data": {
            "text/plain": [
              "{'a',\n",
              " 'ahaana',\n",
              " 'andhini',\n",
              " 'apple',\n",
              " 'avacoda',\n",
              " 'custardapple',\n",
              " 'dragon',\n",
              " 'e',\n",
              " 'kiwi',\n",
              " 'mango',\n",
              " 'nandhu',\n",
              " 'orange',\n",
              " 'p',\n",
              " 'r',\n",
              " 's',\n",
              " 'usha'}"
            ]
          },
          "metadata": {},
          "execution_count": 86
        }
      ]
    },
    {
      "cell_type": "code",
      "source": [
        "s2.discard('grapes') #if not in the set also it will throw an error\n",
        "s2"
      ],
      "metadata": {
        "colab": {
          "base_uri": "https://localhost:8080/"
        },
        "id": "W7meN2xVP5Yt",
        "outputId": "117e0cc6-bc5b-4e3d-b25e-884b48a86adc"
      },
      "execution_count": 88,
      "outputs": [
        {
          "output_type": "execute_result",
          "data": {
            "text/plain": [
              "{'a',\n",
              " 'ahaana',\n",
              " 'andhini',\n",
              " 'apple',\n",
              " 'avacoda',\n",
              " 'custardapple',\n",
              " 'dragon',\n",
              " 'e',\n",
              " 'kiwi',\n",
              " 'mango',\n",
              " 'nandhu',\n",
              " 'orange',\n",
              " 'p',\n",
              " 'r',\n",
              " 's',\n",
              " 'usha'}"
            ]
          },
          "metadata": {},
          "execution_count": 88
        }
      ]
    },
    {
      "cell_type": "code",
      "source": [
        "s2.pop()  #randomly delete an element in the set"
      ],
      "metadata": {
        "colab": {
          "base_uri": "https://localhost:8080/",
          "height": 35
        },
        "id": "Adlhg70FP_ke",
        "outputId": "fafae855-64b0-41e4-b033-0fff0dfedb93"
      },
      "execution_count": 89,
      "outputs": [
        {
          "output_type": "execute_result",
          "data": {
            "text/plain": [
              "'orange'"
            ],
            "application/vnd.google.colaboratory.intrinsic+json": {
              "type": "string"
            }
          },
          "metadata": {},
          "execution_count": 89
        }
      ]
    },
    {
      "cell_type": "code",
      "source": [
        "s2.pop()"
      ],
      "metadata": {
        "colab": {
          "base_uri": "https://localhost:8080/",
          "height": 35
        },
        "id": "na-EBxt-QO1W",
        "outputId": "ed6079d1-be7e-4ddb-d08e-359acbadc9ba"
      },
      "execution_count": 90,
      "outputs": [
        {
          "output_type": "execute_result",
          "data": {
            "text/plain": [
              "'a'"
            ],
            "application/vnd.google.colaboratory.intrinsic+json": {
              "type": "string"
            }
          },
          "metadata": {},
          "execution_count": 90
        }
      ]
    },
    {
      "cell_type": "code",
      "source": [
        "s1.clear()\n",
        "s1"
      ],
      "metadata": {
        "colab": {
          "base_uri": "https://localhost:8080/"
        },
        "id": "PnDyXCRCQRsH",
        "outputId": "cca9ac81-8341-4baa-bdc5-caab3ee6f1fa"
      },
      "execution_count": 91,
      "outputs": [
        {
          "output_type": "execute_result",
          "data": {
            "text/plain": [
              "set()"
            ]
          },
          "metadata": {},
          "execution_count": 91
        }
      ]
    },
    {
      "cell_type": "code",
      "source": [
        "s3.update(s2)\n",
        "s3"
      ],
      "metadata": {
        "colab": {
          "base_uri": "https://localhost:8080/"
        },
        "id": "8Oq0xZRIQYLO",
        "outputId": "ae78fae1-972d-41b2-c94c-7a61a5d7d0e6"
      },
      "execution_count": 92,
      "outputs": [
        {
          "output_type": "execute_result",
          "data": {
            "text/plain": [
              "{False,\n",
              " True,\n",
              " 'ahaana',\n",
              " 'andhini',\n",
              " 'apple',\n",
              " 'avacoda',\n",
              " 'custardapple',\n",
              " 'dragon',\n",
              " 'e',\n",
              " 'kiwi',\n",
              " 'mango',\n",
              " 'nandhu',\n",
              " 'p',\n",
              " 'r',\n",
              " 's',\n",
              " 'usha'}"
            ]
          },
          "metadata": {},
          "execution_count": 92
        }
      ]
    },
    {
      "cell_type": "code",
      "source": [
        "del s3"
      ],
      "metadata": {
        "id": "ukpaUkJ0Qf5w"
      },
      "execution_count": 93,
      "outputs": []
    },
    {
      "cell_type": "code",
      "source": [
        "s2"
      ],
      "metadata": {
        "colab": {
          "base_uri": "https://localhost:8080/"
        },
        "id": "sLdTIr3WQjxV",
        "outputId": "7c49aab4-e1f0-467e-d829-553bcd9eebfe"
      },
      "execution_count": 94,
      "outputs": [
        {
          "output_type": "execute_result",
          "data": {
            "text/plain": [
              "{'ahaana',\n",
              " 'andhini',\n",
              " 'apple',\n",
              " 'avacoda',\n",
              " 'custardapple',\n",
              " 'dragon',\n",
              " 'e',\n",
              " 'kiwi',\n",
              " 'mango',\n",
              " 'nandhu',\n",
              " 'p',\n",
              " 'r',\n",
              " 's',\n",
              " 'usha'}"
            ]
          },
          "metadata": {},
          "execution_count": 94
        }
      ]
    },
    {
      "cell_type": "markdown",
      "source": [
        "**JOIN TEXT**"
      ],
      "metadata": {
        "id": "Hau_PhuzQ87t"
      }
    },
    {
      "cell_type": "code",
      "source": [
        "j1={1,2,3,4,5,6}\n",
        "j2={1,2,5,6,7,8}\n",
        "j3=j1.union(j2)\n",
        "j3"
      ],
      "metadata": {
        "colab": {
          "base_uri": "https://localhost:8080/"
        },
        "id": "YyscKXGvRBMs",
        "outputId": "70aa4f72-0f53-4982-f8c4-be0b0057d852"
      },
      "execution_count": 103,
      "outputs": [
        {
          "output_type": "execute_result",
          "data": {
            "text/plain": [
              "{1, 2, 3, 4, 5, 6, 7, 8}"
            ]
          },
          "metadata": {},
          "execution_count": 103
        }
      ]
    },
    {
      "cell_type": "code",
      "source": [
        "j4=j1.intersection(j2)\n",
        "j4"
      ],
      "metadata": {
        "colab": {
          "base_uri": "https://localhost:8080/"
        },
        "id": "AAgQcr1XRYCd",
        "outputId": "b02c87cd-567c-44c5-c875-b79c923640ce"
      },
      "execution_count": 104,
      "outputs": [
        {
          "output_type": "execute_result",
          "data": {
            "text/plain": [
              "{1, 2, 5, 6}"
            ]
          },
          "metadata": {},
          "execution_count": 104
        }
      ]
    },
    {
      "cell_type": "code",
      "source": [
        "s1={1,2,3,4}\n",
        "s2={1,2}\n",
        "s3=s1.intersection(s2)\n",
        "s3"
      ],
      "metadata": {
        "colab": {
          "base_uri": "https://localhost:8080/"
        },
        "id": "G22ijaHuS0KP",
        "outputId": "4b265958-8a50-461e-cdc9-05693b6d2580"
      },
      "execution_count": 106,
      "outputs": [
        {
          "output_type": "execute_result",
          "data": {
            "text/plain": [
              "{1, 2}"
            ]
          },
          "metadata": {},
          "execution_count": 106
        }
      ]
    },
    {
      "cell_type": "code",
      "source": [
        "s4=s1.union(s2)\n",
        "s4"
      ],
      "metadata": {
        "colab": {
          "base_uri": "https://localhost:8080/"
        },
        "id": "I-rpsZ7DTE7E",
        "outputId": "03f51fc8-3580-4d15-99ba-7892aef4a219"
      },
      "execution_count": 114,
      "outputs": [
        {
          "output_type": "execute_result",
          "data": {
            "text/plain": [
              "{1, 2}"
            ]
          },
          "metadata": {},
          "execution_count": 114
        }
      ]
    },
    {
      "cell_type": "code",
      "source": [
        "s1.intersection_update(s2)\n",
        "s1"
      ],
      "metadata": {
        "colab": {
          "base_uri": "https://localhost:8080/"
        },
        "id": "dFcIGQLvTKfC",
        "outputId": "dc7b0755-56f6-4d00-e075-b173f9f5565f"
      },
      "execution_count": 108,
      "outputs": [
        {
          "output_type": "execute_result",
          "data": {
            "text/plain": [
              "{1, 2}"
            ]
          },
          "metadata": {},
          "execution_count": 108
        }
      ]
    },
    {
      "cell_type": "code",
      "source": [
        "j1.intersection_update(j2)\n",
        "j1"
      ],
      "metadata": {
        "colab": {
          "base_uri": "https://localhost:8080/"
        },
        "id": "JqcldEQdRgTj",
        "outputId": "62b0ddcc-493c-4629-92c2-25717a7de5c4"
      },
      "execution_count": 105,
      "outputs": [
        {
          "output_type": "execute_result",
          "data": {
            "text/plain": [
              "{1, 2, 5, 6}"
            ]
          },
          "metadata": {},
          "execution_count": 105
        }
      ]
    },
    {
      "cell_type": "code",
      "source": [
        "w1={1,2,4,6,8,9}\n",
        "w2={3,5,7,8}\n",
        "w3=w1.symmetric_difference(w2)\n",
        "w3"
      ],
      "metadata": {
        "colab": {
          "base_uri": "https://localhost:8080/"
        },
        "id": "3p64_DJHTkvG",
        "outputId": "b9a123cd-db4e-4e65-b9aa-871aa3b9d287"
      },
      "execution_count": 109,
      "outputs": [
        {
          "output_type": "execute_result",
          "data": {
            "text/plain": [
              "{1, 2, 3, 4, 5, 6, 7, 9}"
            ]
          },
          "metadata": {},
          "execution_count": 109
        }
      ]
    },
    {
      "cell_type": "code",
      "source": [
        "w1.symmetric_difference_update(w2)\n",
        "w1"
      ],
      "metadata": {
        "colab": {
          "base_uri": "https://localhost:8080/"
        },
        "id": "1oGtEedqT9af",
        "outputId": "8cac09de-ecf3-49aa-8ff7-2865923758ca"
      },
      "execution_count": 110,
      "outputs": [
        {
          "output_type": "execute_result",
          "data": {
            "text/plain": [
              "{1, 2, 3, 4, 5, 6, 7, 9}"
            ]
          },
          "metadata": {},
          "execution_count": 110
        }
      ]
    },
    {
      "cell_type": "code",
      "source": [
        "d1={1,2,4,5,7,9}\n",
        "d2={4,7,9,0}\n",
        "d3=d1.difference(d2)\n",
        "d3"
      ],
      "metadata": {
        "colab": {
          "base_uri": "https://localhost:8080/"
        },
        "id": "G8ncyihiUud8",
        "outputId": "af90a578-971c-4c88-f9a2-d1c67d3fdff7"
      },
      "execution_count": 115,
      "outputs": [
        {
          "output_type": "execute_result",
          "data": {
            "text/plain": [
              "{1, 2, 5}"
            ]
          },
          "metadata": {},
          "execution_count": 115
        }
      ]
    },
    {
      "cell_type": "code",
      "source": [
        "d1.difference_update(d2)\n",
        "d1"
      ],
      "metadata": {
        "colab": {
          "base_uri": "https://localhost:8080/"
        },
        "id": "6W7HCfZQU44R",
        "outputId": "4f649c74-16a2-4c9d-ebe5-029f43f771fc"
      },
      "execution_count": 117,
      "outputs": [
        {
          "output_type": "execute_result",
          "data": {
            "text/plain": [
              "{1, 2, 5}"
            ]
          },
          "metadata": {},
          "execution_count": 117
        }
      ]
    },
    {
      "cell_type": "code",
      "source": [
        "set1={1,2,3,4,5,9,4}\n",
        "set2={2,4,6,8}\n",
        "set3=set1-set2\n",
        "set3"
      ],
      "metadata": {
        "colab": {
          "base_uri": "https://localhost:8080/"
        },
        "id": "QZXkVu2jVEgx",
        "outputId": "1b54673e-31a3-4625-dfbc-32bcd761409c"
      },
      "execution_count": 118,
      "outputs": [
        {
          "output_type": "execute_result",
          "data": {
            "text/plain": [
              "{1, 3, 5, 9}"
            ]
          },
          "metadata": {},
          "execution_count": 118
        }
      ]
    },
    {
      "cell_type": "code",
      "source": [
        "set4=set2-set1\n",
        "set4"
      ],
      "metadata": {
        "colab": {
          "base_uri": "https://localhost:8080/"
        },
        "id": "LNvvkQqTVfSt",
        "outputId": "73b58366-1ebc-4012-86b8-850c6ec6c64a"
      },
      "execution_count": 119,
      "outputs": [
        {
          "output_type": "execute_result",
          "data": {
            "text/plain": [
              "{6, 8}"
            ]
          },
          "metadata": {},
          "execution_count": 119
        }
      ]
    },
    {
      "cell_type": "code",
      "source": [
        "s3=set1.isdisjoint(set2)\n",
        "s3"
      ],
      "metadata": {
        "colab": {
          "base_uri": "https://localhost:8080/"
        },
        "id": "Dx0T2kZrV0xJ",
        "outputId": "efacec5d-3bbd-44a1-a2c4-95f0a457000c"
      },
      "execution_count": 120,
      "outputs": [
        {
          "output_type": "execute_result",
          "data": {
            "text/plain": [
              "False"
            ]
          },
          "metadata": {},
          "execution_count": 120
        }
      ]
    },
    {
      "cell_type": "code",
      "source": [
        "e1={1,2,3,4}\n",
        "e2={7,8,9}\n",
        "eee=e1.isdisjoint(e2)\n",
        "eee"
      ],
      "metadata": {
        "colab": {
          "base_uri": "https://localhost:8080/"
        },
        "id": "X8i_EvPWWH2d",
        "outputId": "3351afca-aed0-4236-fdf1-c31c4cdcfa45"
      },
      "execution_count": 121,
      "outputs": [
        {
          "output_type": "execute_result",
          "data": {
            "text/plain": [
              "True"
            ]
          },
          "metadata": {},
          "execution_count": 121
        }
      ]
    },
    {
      "cell_type": "code",
      "source": [
        "ss1={1,2,3,4,5,6,7}\n",
        "ss2={1,2,3,4,5,6}\n",
        "ss3=ss1.issubset(ss2)\n",
        "ss3"
      ],
      "metadata": {
        "colab": {
          "base_uri": "https://localhost:8080/"
        },
        "id": "UKDtACs4WQos",
        "outputId": "64e0c4f2-bb5d-4ee9-f9b5-045f9142a232"
      },
      "execution_count": 123,
      "outputs": [
        {
          "output_type": "execute_result",
          "data": {
            "text/plain": [
              "False"
            ]
          },
          "metadata": {},
          "execution_count": 123
        }
      ]
    },
    {
      "cell_type": "code",
      "source": [
        "ss4=ss1.issuperset(ss2)\n",
        "ss4"
      ],
      "metadata": {
        "colab": {
          "base_uri": "https://localhost:8080/"
        },
        "id": "315T2AWfWlnx",
        "outputId": "1cbcf9ab-99c8-4794-912b-3384aa95c219"
      },
      "execution_count": 124,
      "outputs": [
        {
          "output_type": "execute_result",
          "data": {
            "text/plain": [
              "True"
            ]
          },
          "metadata": {},
          "execution_count": 124
        }
      ]
    },
    {
      "cell_type": "code",
      "source": [
        "students = ['vishnu','merrin','rakesh','suresh','merrin','vishnu']\n",
        "#have to find duplicate in this list\n",
        "if len(students)==len(set(students)):\n",
        "  print(\"NO Duplicates\")\n",
        "else:\n",
        "  print(\"duplicates found\")\n"
      ],
      "metadata": {
        "colab": {
          "base_uri": "https://localhost:8080/"
        },
        "id": "jMID7E1pXNCy",
        "outputId": "8b286b9f-c503-4c9a-a473-f4afae9b607a"
      },
      "execution_count": 126,
      "outputs": [
        {
          "output_type": "stream",
          "name": "stdout",
          "text": [
            "duplicates found\n"
          ]
        }
      ]
    }
  ],
  "metadata": {
    "colab": {
      "provenance": [],
      "authorship_tag": "ABX9TyNhN8b+fiuBALrjslaQm8KA",
      "include_colab_link": true
    },
    "kernelspec": {
      "display_name": "Python 3",
      "name": "python3"
    },
    "language_info": {
      "name": "python"
    }
  },
  "nbformat": 4,
  "nbformat_minor": 0
}