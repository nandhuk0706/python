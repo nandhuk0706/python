{
  "nbformat": 4,
  "nbformat_minor": 0,
  "metadata": {
    "colab": {
      "provenance": [],
      "authorship_tag": "ABX9TyNd31gZ293siQ71Tja/tEEf",
      "include_colab_link": true
    },
    "kernelspec": {
      "name": "python3",
      "display_name": "Python 3"
    },
    "language_info": {
      "name": "python"
    }
  },
  "cells": [
    {
      "cell_type": "markdown",
      "metadata": {
        "id": "view-in-github",
        "colab_type": "text"
      },
      "source": [
        "<a href=\"https://colab.research.google.com/github/nandhuk0706/python/blob/main/Tasks.ipynb\" target=\"_parent\"><img src=\"https://colab.research.google.com/assets/colab-badge.svg\" alt=\"Open In Colab\"/></a>"
      ]
    },
    {
      "cell_type": "code",
      "execution_count": null,
      "metadata": {
        "id": "gHWz9a6Wmaeb"
      },
      "outputs": [],
      "source": []
    },
    {
      "cell_type": "code",
      "source": [
        "guess = 10\n",
        "while guess:\n",
        "  n =int(input(\"Enter your Guessing number:\"))\n",
        "  if guess >n :\n",
        "    print(\"Guessed number is lesser than your original number\")\n",
        "  elif guess<n:\n",
        "    print(\"Guessed number is greater than your original number\")\n",
        "  elif guess == n:\n",
        "    print(\"You guessed IT!\")\n",
        "    break\n",
        "print(\"Your guessed number is :\", n)"
      ],
      "metadata": {
        "colab": {
          "base_uri": "https://localhost:8080/"
        },
        "id": "nQW7QGii4dsm",
        "outputId": "0530b99d-b8e6-4410-820b-10e142aa1caf"
      },
      "execution_count": null,
      "outputs": [
        {
          "output_type": "stream",
          "name": "stdout",
          "text": [
            "Enter your Guessing number:5\n",
            "Guessed number is lesser than your original number\n",
            "Enter your Guessing number:6\n",
            "Guessed number is lesser than your original number\n",
            "Enter your Guessing number:12\n",
            "Guessed number is greater than your original number\n",
            "Enter your Guessing number:10\n",
            "You guessed IT!\n",
            "Your guessed number is : 10\n"
          ]
        }
      ]
    },
    {
      "cell_type": "code",
      "source": [
        "#checking the pin validation\n",
        "attempts =0\n",
        "while attempts <=3:\n",
        "  pin=int(input(\"Enter the pin:\"))\n",
        "  attempts +=1\n",
        "  if pin !=1234:\n",
        "    print(\"Re-Enter the pin\")\n",
        "    print(\"Attempts:{}\".format(attempts))\n",
        "  else:\n",
        "    print(\"Login success\")\n",
        "    break\n",
        "\n",
        "  if attempts > 3:\n",
        "    print(\"locked\")\n",
        "    break"
      ],
      "metadata": {
        "colab": {
          "base_uri": "https://localhost:8080/"
        },
        "id": "q2-bNO7mMw2P",
        "outputId": "c7aacdc7-246a-4f5d-9f7f-064baee17f1a"
      },
      "execution_count": null,
      "outputs": [
        {
          "output_type": "stream",
          "name": "stdout",
          "text": [
            "Enter the pin:1253\n",
            "Re-Enter the pin\n",
            "Attempts:1\n",
            "Enter the pin:5689\n",
            "Re-Enter the pin\n",
            "Attempts:2\n",
            "Enter the pin:45689\n",
            "Re-Enter the pin\n",
            "Attempts:3\n",
            "Enter the pin:6588\n",
            "Re-Enter the pin\n",
            "Attempts:4\n",
            "locked\n"
          ]
        }
      ]
    },
    {
      "cell_type": "code",
      "source": [
        "#factorial of n\n",
        "n= int(input(\"Enter the number of factorial you want:\"))\n",
        "f=1\n",
        "\n",
        "while n >=1:\n",
        "  f = f*n\n",
        "  n -=1\n",
        "  print(f ,n)\n",
        "\n",
        "print(\"Factorial of {}\".format(n),\"is\",f)"
      ],
      "metadata": {
        "colab": {
          "base_uri": "https://localhost:8080/"
        },
        "id": "Lk9wsKcNOWZ4",
        "outputId": "7270dfc3-72a0-4a86-fa3d-46906f984468"
      },
      "execution_count": null,
      "outputs": [
        {
          "output_type": "stream",
          "name": "stdout",
          "text": [
            "Enter the number of factorial you want:5\n",
            "5 4\n",
            "20 3\n",
            "60 2\n",
            "120 1\n",
            "120 0\n",
            "Factorial of 0 is 120\n"
          ]
        }
      ]
    },
    {
      "cell_type": "code",
      "source": [
        "\n",
        "#fibbo series\n",
        "\n",
        "n_terms=int(input(\"Enter the number of terms you want:\"))\n",
        "count=0\n",
        "a=1\n",
        "n1=0\n",
        "n2=1\n",
        "l=[n1,n2]\n",
        "while n_terms > count:\n",
        "  print(n1,n2,\"before swap\")\n",
        "  nth= n1+ n2\n",
        "  a +=nth\n",
        "\n",
        "  print(nth)\n",
        "\n",
        "  n1 =n2\n",
        "  n2 =nth\n",
        "  l.append(n2)\n",
        "  print(n2,nth,\"after swap\")\n",
        "  count +=1\n",
        "#a =a+1\n",
        "print(\"fibbo series of {}\".format(n_terms),\"is\", nth)\n",
        "print(\"list of fibbo{}\".format(l))\n",
        "print(\"addition of all is {}\".format(a))\n"
      ],
      "metadata": {
        "colab": {
          "base_uri": "https://localhost:8080/"
        },
        "id": "tM1CDM9mRq6Y",
        "outputId": "7ca3bf13-2a39-4a32-af60-9d9e0488e850"
      },
      "execution_count": null,
      "outputs": [
        {
          "output_type": "stream",
          "name": "stdout",
          "text": [
            "Enter the number of terms you want:6\n",
            "0 1 before swap\n",
            "1\n",
            "1 1 after swap\n",
            "1 1 before swap\n",
            "2\n",
            "2 2 after swap\n",
            "1 2 before swap\n",
            "3\n",
            "3 3 after swap\n",
            "2 3 before swap\n",
            "5\n",
            "5 5 after swap\n",
            "3 5 before swap\n",
            "8\n",
            "8 8 after swap\n",
            "5 8 before swap\n",
            "13\n",
            "13 13 after swap\n",
            "fibbo series of 6 is 13\n",
            "list of fibbo[0, 1, 1, 2, 3, 5, 8, 13]\n",
            "addition of all is 33\n"
          ]
        }
      ]
    },
    {
      "cell_type": "code",
      "source": [
        "#making 1 to 5 tables\n",
        "l=[5,6]\n",
        "r=[1,2,3,4,5,6]\n",
        "for left in l:\n",
        "  for right in r:\n",
        "    print(\"{}*{}={}\".format(left, right,left*right))\n",
        "  print(\"*********\")"
      ],
      "metadata": {
        "colab": {
          "base_uri": "https://localhost:8080/"
        },
        "id": "k4WYLzc0tOf2",
        "outputId": "dd8c46bb-eec3-40eb-d818-e3910c6ca89b"
      },
      "execution_count": null,
      "outputs": [
        {
          "output_type": "stream",
          "name": "stdout",
          "text": [
            "5*1=5\n",
            "5*2=10\n",
            "5*3=15\n",
            "5*4=20\n",
            "5*5=25\n",
            "5*6=30\n",
            "*********\n",
            "6*1=6\n",
            "6*2=12\n",
            "6*3=18\n",
            "6*4=24\n",
            "6*5=30\n",
            "6*6=36\n",
            "*********\n"
          ]
        }
      ]
    },
    {
      "cell_type": "code",
      "source": [
        "row=5\n",
        "col=5\n",
        "for x in range(0,row+1):\n",
        "  for y in range(0,x):\n",
        "    print(\"*\", end=\"\")\n",
        "  print(end=\"\\n\")\n",
        "for x in range(0,row+1):\n",
        "  for y in range(col-x):\n",
        "    print(\"*\", end=\"\")\n",
        "  print(end=\"\\n\")"
      ],
      "metadata": {
        "id": "OusOQSsNxGtu",
        "colab": {
          "base_uri": "https://localhost:8080/"
        },
        "outputId": "1abac73e-0373-48ca-e203-89addb46fe77"
      },
      "execution_count": null,
      "outputs": [
        {
          "output_type": "stream",
          "name": "stdout",
          "text": [
            "\n",
            "*\n",
            "**\n",
            "***\n",
            "****\n",
            "*****\n",
            "*****\n",
            "****\n",
            "***\n",
            "**\n",
            "*\n",
            "\n"
          ]
        }
      ]
    },
    {
      "cell_type": "code",
      "source": [
        "s=int(input(\"Enter the number of rows/columns:\"))\n",
        "for x in range(0,s):\n",
        "  for y in range(0,x+1):\n",
        "    print(y,end=\" \")\n",
        "  print(end=\"\\n\")"
      ],
      "metadata": {
        "colab": {
          "base_uri": "https://localhost:8080/"
        },
        "id": "QkhteWjazCat",
        "outputId": "bfc59a1f-946e-4899-8688-392869864a60"
      },
      "execution_count": null,
      "outputs": [
        {
          "output_type": "stream",
          "name": "stdout",
          "text": [
            "Enter the number of rows/columns:4\n",
            "0 \n",
            "0 1 \n",
            "0 1 2 \n",
            "0 1 2 3 \n"
          ]
        }
      ]
    },
    {
      "cell_type": "code",
      "source": [
        "s=int(input(\"Enter the number of rows/columns:\"))\n",
        "for x in range(0,s+1):\n",
        "  for y in range(s-x):\n",
        "    print(y,end=\" \")\n",
        "  print(end=\"\\n\")"
      ],
      "metadata": {
        "colab": {
          "base_uri": "https://localhost:8080/"
        },
        "id": "s9LSAvxnz4eK",
        "outputId": "1e1a0033-a733-4404-8507-676aa585e420"
      },
      "execution_count": null,
      "outputs": [
        {
          "output_type": "stream",
          "name": "stdout",
          "text": [
            "Enter the number of rows/columns:4\n",
            "0 1 2 3 \n",
            "0 1 2 \n",
            "0 1 \n",
            "0 \n",
            "\n"
          ]
        }
      ]
    },
    {
      "cell_type": "code",
      "source": [
        "r=5\n",
        "col=5\n",
        "for x in range(0,r+1):\n",
        "  for y in range(0,col+1):\n",
        "    print(\"*\",end=\" \")\n",
        "  print(end=\"\\n\")"
      ],
      "metadata": {
        "colab": {
          "base_uri": "https://localhost:8080/"
        },
        "id": "QPhy1npe08Jh",
        "outputId": "9c804b6f-02ae-491e-95b6-3d69ef6a44f9"
      },
      "execution_count": null,
      "outputs": [
        {
          "output_type": "stream",
          "name": "stdout",
          "text": [
            "* * * * * * \n",
            "* * * * * * \n",
            "* * * * * * \n",
            "* * * * * * \n",
            "* * * * * * \n",
            "* * * * * * \n"
          ]
        }
      ]
    },
    {
      "cell_type": "code",
      "source": [
        "#reversing the number 1234 into 4321\n",
        "\n",
        "num=input(\"enter the number for reversing:\")\n",
        "rev=num[::-1]\n",
        "print(rev)"
      ],
      "metadata": {
        "colab": {
          "base_uri": "https://localhost:8080/"
        },
        "id": "QReFWGnD1R4e",
        "outputId": "0efe4dcf-e210-4712-c58d-15d3e7692aea"
      },
      "execution_count": null,
      "outputs": [
        {
          "output_type": "stream",
          "name": "stdout",
          "text": [
            "enter the number for reversing:852369\n",
            "963258\n"
          ]
        }
      ]
    },
    {
      "cell_type": "code",
      "source": [
        "#adding in for loop\n",
        "marks = [91,89,75,99,100,100]\n",
        "x=0\n",
        "for mark in marks:\n",
        "  x +=mark\n",
        "print(\"Total of marks:{}\".format(x))"
      ],
      "metadata": {
        "colab": {
          "base_uri": "https://localhost:8080/"
        },
        "id": "Ft1HvZeF1qrG",
        "outputId": "ea1dbf30-f087-43d0-bec1-a2a50c84ec46"
      },
      "execution_count": null,
      "outputs": [
        {
          "output_type": "stream",
          "name": "stdout",
          "text": [
            "Total of marks:554\n"
          ]
        }
      ]
    },
    {
      "cell_type": "code",
      "source": [
        "#factorial in for loop\n",
        "n=5\n",
        "\n",
        "for x in range(1,5):\n",
        "\n",
        "  x *=n\n",
        "  n -=1\n",
        "  print(n,x)\n",
        "print(x)\n",
        "\n",
        "f=1\n",
        "m=5\n",
        "while m>=1:\n",
        "  f=f*m\n",
        "  m -=1\n",
        "print(f)"
      ],
      "metadata": {
        "colab": {
          "base_uri": "https://localhost:8080/"
        },
        "id": "tvK6atVq2BPo",
        "outputId": "6af1b813-dc19-4538-9cd9-4bc415b3777d"
      },
      "execution_count": null,
      "outputs": [
        {
          "output_type": "stream",
          "name": "stdout",
          "text": [
            "4 5\n",
            "3 8\n",
            "2 9\n",
            "1 8\n",
            "8\n",
            "120\n"
          ]
        }
      ]
    },
    {
      "cell_type": "code",
      "source": [
        "#prime number checking\n",
        "p=int(input(\"enter the number for prime :\"))\n",
        "n=1\n",
        "if p ==1:\n",
        "  print(\"It's an not an prime number\")\n",
        "elif p >1:\n",
        "  for i in range (2,p):\n",
        "    print(i)\n",
        "    if p%i == 0:\n",
        "      print(\"It's not an prime number\")\n",
        "      #break\n",
        "  else:\n",
        "      print(\"It's an prime\")"
      ],
      "metadata": {
        "colab": {
          "base_uri": "https://localhost:8080/"
        },
        "id": "JDyEhikHIkxs",
        "outputId": "28de87d4-5fb3-4cce-89b1-36a21d431fec"
      },
      "execution_count": null,
      "outputs": [
        {
          "output_type": "stream",
          "name": "stdout",
          "text": [
            "enter the number for prime :11\n",
            "2\n",
            "3\n",
            "4\n",
            "5\n",
            "6\n",
            "7\n",
            "8\n",
            "9\n",
            "10\n",
            "It's an prime\n"
          ]
        }
      ]
    },
    {
      "cell_type": "code",
      "source": [
        "16%3,16/3,16//3"
      ],
      "metadata": {
        "colab": {
          "base_uri": "https://localhost:8080/"
        },
        "id": "fmdiyqWHK0y5",
        "outputId": "6cdf36cd-073a-49b7-c041-4afaab7bee34"
      },
      "execution_count": null,
      "outputs": [
        {
          "output_type": "execute_result",
          "data": {
            "text/plain": [
              "(1, 5.333333333333333, 5)"
            ]
          },
          "metadata": {},
          "execution_count": 1
        }
      ]
    },
    {
      "cell_type": "code",
      "source": [
        "p=2\n",
        "n=0\n",
        "pl=[]\n",
        "while n<10:\n",
        "  if p ==1:\n",
        "    print(\"It's an not an prime number\")\n",
        "  elif p >1:\n",
        "    for i in range (2,p):\n",
        "      if p%i == 0:\n",
        "        #print(i)\n",
        "        print(\"It's not an prime number {},{}\".format(p,i))\n",
        "        p +=1\n",
        "\n",
        "    else:\n",
        "      #print(i)\n",
        "      print(\"It's an prime {}\".format(p))\n",
        "      pl.append(p)\n",
        "      p+=1\n",
        "      n +=1\n",
        "\n",
        "print(pl)\n",
        "\n",
        "\n",
        "\n"
      ],
      "metadata": {
        "colab": {
          "base_uri": "https://localhost:8080/"
        },
        "id": "bVWltjEQyRcs",
        "outputId": "076358f0-d47b-404c-9911-fad9eade6ebe"
      },
      "execution_count": null,
      "outputs": [
        {
          "output_type": "stream",
          "name": "stdout",
          "text": [
            "It's an prime 2\n",
            "It's an prime 3\n",
            "It's not an prime number 4,2\n",
            "It's an prime 5\n",
            "It's not an prime number 6,2\n",
            "It's an prime 7\n",
            "It's not an prime number 8,2\n",
            "It's not an prime number 9,3\n",
            "It's not an prime number 10,5\n",
            "It's an prime 11\n",
            "It's not an prime number 12,2\n",
            "It's an prime 13\n",
            "It's not an prime number 14,2\n",
            "It's not an prime number 15,3\n",
            "It's not an prime number 16,4\n",
            "It's an prime 17\n",
            "It's not an prime number 18,2\n",
            "It's an prime 19\n",
            "It's not an prime number 20,2\n",
            "It's not an prime number 21,3\n",
            "It's not an prime number 22,11\n",
            "It's an prime 23\n",
            "It's not an prime number 24,2\n",
            "It's not an prime number 25,5\n",
            "It's not an prime number 26,13\n",
            "It's an prime 27\n",
            "[2, 3, 5, 7, 11, 13, 17, 19, 23, 27]\n"
          ]
        }
      ]
    },
    {
      "cell_type": "code",
      "source": [
        "19%4"
      ],
      "metadata": {
        "colab": {
          "base_uri": "https://localhost:8080/"
        },
        "id": "Xt41DYpq_Lx5",
        "outputId": "178ad62e-8dfe-48ed-8bcb-6b3c8cadc5f9"
      },
      "execution_count": null,
      "outputs": [
        {
          "output_type": "execute_result",
          "data": {
            "text/plain": [
              "3"
            ]
          },
          "metadata": {},
          "execution_count": 29
        }
      ]
    },
    {
      "cell_type": "code",
      "source": [
        "#finding armstrong numbers using cubes\n",
        "x=0\n",
        "number=input(\"Enter an number:\")\n",
        "for n in number:\n",
        "  x= x+(int(n)**3)\n",
        "  print(x)\n",
        "if x == int(number):\n",
        "  print (\"It's an amstrong number\")\n",
        "else:\n",
        "  print(\"It's not an amstrong number\")\n",
        "\n"
      ],
      "metadata": {
        "colab": {
          "base_uri": "https://localhost:8080/"
        },
        "id": "SzYnXvg7iYBy",
        "outputId": "9c8d8de0-3e3f-433e-d8c7-5c3efeca1260"
      },
      "execution_count": null,
      "outputs": [
        {
          "output_type": "stream",
          "name": "stdout",
          "text": [
            "Enter an number:407\n",
            "64\n",
            "64\n",
            "407\n",
            "It's an amstrong number\n"
          ]
        }
      ]
    },
    {
      "cell_type": "code",
      "source": [
        "#checking the palindrome words\n",
        "name=input(\"enter a word:\")\n",
        "rev=name[::-1]\n",
        "if name == rev:\n",
        "  print (\"Its an palindrome word\")\n",
        "else:\n",
        "  print(\"It's not an palidrome word\")"
      ],
      "metadata": {
        "colab": {
          "base_uri": "https://localhost:8080/"
        },
        "id": "ETpCJ2UKk9wJ",
        "outputId": "2181426b-80c8-450d-c8ca-70b0b80f00af"
      },
      "execution_count": null,
      "outputs": [
        {
          "output_type": "stream",
          "name": "stdout",
          "text": [
            "enter a word:madam\n",
            "Its an palindrome word\n"
          ]
        }
      ]
    },
    {
      "cell_type": "code",
      "source": [
        "#finding leap year\n",
        "year=int(input(\"Enter the year:\"))\n",
        "if (year%400 == 0) and (year%100==0):\n",
        "  print(\"It's an leap year\")\n",
        "elif (year%4==0):\n",
        "  print(\"It's an leap year\")\n",
        "else:\n",
        "  print(\"It's not an leap year\")"
      ],
      "metadata": {
        "colab": {
          "base_uri": "https://localhost:8080/"
        },
        "id": "2lbyHF98mAw8",
        "outputId": "13c1badc-2fb8-4750-e9b2-b693ab7b800c"
      },
      "execution_count": null,
      "outputs": [
        {
          "output_type": "stream",
          "name": "stdout",
          "text": [
            "Enter the year:2024\n",
            "It's an leap year\n"
          ]
        }
      ]
    },
    {
      "cell_type": "code",
      "source": [
        "#functions\n",
        "#passing value from one funtion to another function\n",
        "\n",
        "def add():\n",
        "  x=int(input(\"Enter the x value:\"))\n",
        "  y=int(input(\"Enter the y value:\"))\n",
        "  z=x+y\n",
        "  print(\"Sum of x, y values:\",z)\n",
        "  return z\n",
        "def squre(value):\n",
        "  print(\"squre of value is :\",value**2)\n",
        "  return value**2\n",
        "\n",
        "my_return=squre(add())\n",
        "print(my_return)\n"
      ],
      "metadata": {
        "colab": {
          "base_uri": "https://localhost:8080/"
        },
        "id": "hRgws1sd00V9",
        "outputId": "78a1fcb8-9410-4b93-d579-1088b4c6ed4e"
      },
      "execution_count": null,
      "outputs": [
        {
          "output_type": "stream",
          "name": "stdout",
          "text": [
            "Enter the x value:56\n",
            "Enter the y value:63\n",
            "Sum of x, y values: 119\n",
            "squre of value is : 14161\n",
            "14161\n"
          ]
        }
      ]
    },
    {
      "cell_type": "code",
      "source": [
        "def squre():\n",
        "  e=int(input(\"Enter a number:\"))\n",
        "  ee=e**2\n",
        "  print(ee)\n",
        "  return ee\n",
        "\n",
        "def squre_root(x):\n",
        "  z=x**(1/2)\n",
        "  print(\"squre root of x is:\",z)\n",
        "  return z\n",
        "\n",
        "squre_root(squre())"
      ],
      "metadata": {
        "colab": {
          "base_uri": "https://localhost:8080/"
        },
        "id": "Wt7Eh-iF6AhP",
        "outputId": "58f045ce-8aa4-4024-8d71-995813b79a55"
      },
      "execution_count": null,
      "outputs": [
        {
          "output_type": "stream",
          "name": "stdout",
          "text": [
            "Enter a number:56\n",
            "3136\n",
            "squre root of x is: 56.0\n"
          ]
        },
        {
          "output_type": "execute_result",
          "data": {
            "text/plain": [
              "56.0"
            ]
          },
          "metadata": {},
          "execution_count": 8
        }
      ]
    },
    {
      "cell_type": "code",
      "source": [
        "#getting a list and check it has duplicates and find first and last element are same\n",
        "\n",
        "def getList(my_list):\n",
        "  return my_list"
      ],
      "metadata": {
        "id": "oyXtI6oAXaF6"
      },
      "execution_count": null,
      "outputs": []
    },
    {
      "cell_type": "code",
      "source": [
        "num=int(input(\"Enter a number of list want to create:\"))\n",
        "my_list=list()\n",
        "for i in range(num):\n",
        "  value=int(input(\"enter list elements:\"))\n",
        "  my_list.append(value)\n",
        "\n",
        "getList(my_list)\n"
      ],
      "metadata": {
        "colab": {
          "base_uri": "https://localhost:8080/"
        },
        "id": "z1amvUYNXqHq",
        "outputId": "f7e2a999-e877-4e22-cc1d-a8fde3e8bf45"
      },
      "execution_count": null,
      "outputs": [
        {
          "name": "stdout",
          "output_type": "stream",
          "text": [
            "Enter a number of list want to create:10\n",
            "enter list elements:23\n",
            "enter list elements:15\n",
            "enter list elements:12\n",
            "enter list elements:23\n",
            "enter list elements:56\n",
            "enter list elements:89\n",
            "enter list elements:78\n",
            "enter list elements:23\n",
            "enter list elements:56\n",
            "enter list elements:23\n"
          ]
        },
        {
          "output_type": "execute_result",
          "data": {
            "text/plain": [
              "[23, 15, 12, 23, 56, 89, 78, 23, 56, 23]"
            ]
          },
          "metadata": {},
          "execution_count": 115
        }
      ]
    },
    {
      "cell_type": "code",
      "source": [
        "def checkElements(my_list):\n",
        "  if my_list[0]== my_list[-1]:\n",
        "    print(\"It's same\",my_list[0],my_list[-1])\n",
        "  else:\n",
        "    print(\"It's not same\",my_list[0],my_list[-1])\n",
        "  return\n",
        "\n",
        "checkElements(my_list)"
      ],
      "metadata": {
        "colab": {
          "base_uri": "https://localhost:8080/"
        },
        "id": "K2xfbNMRYjwT",
        "outputId": "65e8f7a6-26ac-4b80-e9e8-187c45dfe4ce"
      },
      "execution_count": null,
      "outputs": [
        {
          "output_type": "stream",
          "name": "stdout",
          "text": [
            "It's same 23 23\n"
          ]
        }
      ]
    },
    {
      "cell_type": "code",
      "source": [
        "def checkDuplicates(my_list):\n",
        "  if len(my_list)==len(set(my_list)):\n",
        "    print(\"No duplicates found\")\n",
        "  else:\n",
        "    print(\"Duplicates Found\")\n",
        "  return set(my_list)\n",
        "\n",
        "checkDuplicates(my_list)"
      ],
      "metadata": {
        "colab": {
          "base_uri": "https://localhost:8080/"
        },
        "id": "gHZ4_waZBeTp",
        "outputId": "a79e4e16-aa20-4648-a6f1-c2aebfdba74a"
      },
      "execution_count": null,
      "outputs": [
        {
          "output_type": "stream",
          "name": "stdout",
          "text": [
            "Duplicates Found\n"
          ]
        },
        {
          "output_type": "execute_result",
          "data": {
            "text/plain": [
              "{12, 15, 23, 56, 78, 89}"
            ]
          },
          "metadata": {},
          "execution_count": 117
        }
      ]
    },
    {
      "cell_type": "code",
      "source": [
        "print(my_list)"
      ],
      "metadata": {
        "colab": {
          "base_uri": "https://localhost:8080/"
        },
        "id": "6osUd8h7C5aF",
        "outputId": "e79165cf-035a-4419-e004-5486c27988ef"
      },
      "execution_count": null,
      "outputs": [
        {
          "output_type": "stream",
          "name": "stdout",
          "text": [
            "[23, 15, 12, 23, 56, 89, 78, 23, 56, 23]\n"
          ]
        }
      ]
    },
    {
      "cell_type": "code",
      "source": [
        "def squrt(my_list):\n",
        "  sum_=sum(my_list) #sum_ will add all the list and store in sum_\n",
        "  print(sum_)\n",
        "  return sum_**0.5 #getting squre root of sum from the list elements\n",
        "\n",
        "squrt(my_list)"
      ],
      "metadata": {
        "colab": {
          "base_uri": "https://localhost:8080/"
        },
        "id": "qm3HlkVrC8LM",
        "outputId": "cc7b9352-1b9a-454d-ecf0-90217e67ff7a"
      },
      "execution_count": null,
      "outputs": [
        {
          "output_type": "stream",
          "name": "stdout",
          "text": [
            "398\n"
          ]
        },
        {
          "output_type": "execute_result",
          "data": {
            "text/plain": [
              "19.949937343260004"
            ]
          },
          "metadata": {},
          "execution_count": 119
        }
      ]
    },
    {
      "cell_type": "code",
      "source": [
        "#checking prime using functions\n",
        "def checkPrime():\n",
        "  n=int(input(\"Enter a number:\"))\n",
        "  flag =False\n",
        "  if n == 1:\n",
        "    print(\"{} is an prime nor composite\".format(n))\n",
        "  elif n > 1 :\n",
        "    for i in range(2,n):\n",
        "           #print(n%i)\n",
        "      if n%i == 0:\n",
        "        flag = True\n",
        "        print(\"{} is divisible is {}\".format(n,i))\n",
        "        break\n",
        "\n",
        "\n",
        "\n",
        "    if flag:\n",
        "      print(\"{} not an prime number\".format(n))\n",
        "    else:\n",
        "      print(\"{} is an prime number\".format(n))\n",
        "\n",
        "checkPrime()"
      ],
      "metadata": {
        "colab": {
          "base_uri": "https://localhost:8080/"
        },
        "id": "Hf8WFVOKZ6Nw",
        "outputId": "f1f17a4d-50fd-4141-a06c-2ea0cbe3f9ae"
      },
      "execution_count": null,
      "outputs": [
        {
          "output_type": "stream",
          "name": "stdout",
          "text": [
            "Enter a number:6\n",
            "6 is divisible is 2\n",
            "6 not an prime number\n"
          ]
        }
      ]
    },
    {
      "cell_type": "code",
      "source": [
        "#lower=2\n",
        "#upper=17\n",
        "def checkPrime(lower,upper):\n",
        "  prime_list=list()\n",
        "  for i in range(lower,upper+1):\n",
        "    if i%lower ==0:\n",
        "      continue\n",
        "      print(\"{} is not an prime number\".format(i))\n",
        "\n",
        "    else:\n",
        "      #print(\"{} is an prime number\".format(i))\n",
        "      prime_list.append(i)\n",
        "  print(prime_list)\n",
        "  print(len(prime_list))\n",
        "\n",
        "checkPrime(2,71)"
      ],
      "metadata": {
        "colab": {
          "base_uri": "https://localhost:8080/"
        },
        "id": "ec9mQplrllW_",
        "outputId": "db6d0b56-a777-4760-c04f-273ae62edac2"
      },
      "execution_count": null,
      "outputs": [
        {
          "output_type": "stream",
          "name": "stdout",
          "text": [
            "[3, 5, 7, 9, 11, 13, 15, 17, 19, 21, 23, 25, 27, 29, 31, 33, 35, 37, 39, 41, 43, 45, 47, 49, 51, 53, 55, 57, 59, 61, 63, 65, 67, 69, 71]\n",
            "35\n"
          ]
        }
      ]
    },
    {
      "cell_type": "code",
      "source": [
        "#converting km to miles\n",
        "#number of miles= number of kilometer / 1.609344\n",
        "def getMiles(mile):\n",
        "  numOfKilo= mile * 1.609344\n",
        "  return numOfKilo"
      ],
      "metadata": {
        "id": "6hGbIoMEAxWJ"
      },
      "execution_count": null,
      "outputs": []
    },
    {
      "cell_type": "code",
      "source": [
        "getMiles(15)"
      ],
      "metadata": {
        "colab": {
          "base_uri": "https://localhost:8080/"
        },
        "id": "MxyvSigMBQMr",
        "outputId": "854a502b-e8b8-459e-ced7-c7b7844fc686"
      },
      "execution_count": null,
      "outputs": [
        {
          "output_type": "execute_result",
          "data": {
            "text/plain": [
              "24.14016"
            ]
          },
          "metadata": {},
          "execution_count": 85
        }
      ]
    },
    {
      "cell_type": "code",
      "source": [
        "#celsius to farenheit\n",
        "#formula is f=c*(9/5)+32\n",
        "def getFarenheit(celsius):\n",
        "  farenheit=(celsius*(9/5) + 32)\n",
        "  return farenheit"
      ],
      "metadata": {
        "id": "abAjgPMDCBjO"
      },
      "execution_count": null,
      "outputs": []
    },
    {
      "cell_type": "code",
      "source": [
        "getFarenheit(45)"
      ],
      "metadata": {
        "colab": {
          "base_uri": "https://localhost:8080/"
        },
        "id": "JThU-fHYCfl-",
        "outputId": "4e114607-cd53-4d36-bf15-0fb531c1a0a3"
      },
      "execution_count": null,
      "outputs": [
        {
          "output_type": "execute_result",
          "data": {
            "text/plain": [
              "113.0"
            ]
          },
          "metadata": {},
          "execution_count": 87
        }
      ]
    },
    {
      "cell_type": "code",
      "source": [
        "#funtion for armstrong number\n",
        "num=input(\"enter a number:\")\n",
        "def checkArmstrong(num):\n",
        "  add=0\n",
        "  for i in num:\n",
        "    add += (int(i)**3)\n",
        "  if add == int(num):\n",
        "    print(\"It's an armstrong number\")\n",
        "  else:\n",
        "    print(\"It's not an armstrong number\")\n",
        "\n",
        "checkArmstrong(num)"
      ],
      "metadata": {
        "colab": {
          "base_uri": "https://localhost:8080/"
        },
        "id": "4VADLBCXCuAp",
        "outputId": "da9f35df-a4eb-4726-a96f-4b54b0284e6c"
      },
      "execution_count": null,
      "outputs": [
        {
          "output_type": "stream",
          "name": "stdout",
          "text": [
            "enter a number:407\n",
            "It's an armstrong number\n"
          ]
        }
      ]
    },
    {
      "cell_type": "code",
      "source": [
        "my_list=list()\n",
        "for x in range(2,35):\n",
        "  my_list.append(x)\n",
        "print(my_list)\n",
        "def sumNaturalnumber(my_list):\n",
        "  sum_=sum(my_list)\n",
        "  return sum_\n",
        "\n",
        "sumNaturalnumber(my_list)"
      ],
      "metadata": {
        "colab": {
          "base_uri": "https://localhost:8080/"
        },
        "id": "2VJLgafrEvVo",
        "outputId": "954b34b9-eb87-49f3-a45e-377425f00180"
      },
      "execution_count": null,
      "outputs": [
        {
          "output_type": "stream",
          "name": "stdout",
          "text": [
            "[2, 3, 4, 5, 6, 7, 8, 9, 10, 11, 12, 13, 14, 15, 16, 17, 18, 19, 20, 21, 22, 23, 24, 25, 26, 27, 28, 29, 30, 31, 32, 33, 34]\n"
          ]
        },
        {
          "output_type": "execute_result",
          "data": {
            "text/plain": [
              "594"
            ]
          },
          "metadata": {},
          "execution_count": 122
        }
      ]
    },
    {
      "cell_type": "code",
      "source": [
        "#decimal to binary\n",
        "3%2, 3/2 , 3//2\n",
        "if (4//2 > 1):\n",
        "  x = 4// 2\n",
        "  #print(x)\n",
        "else:\n",
        "  x=3//2\n",
        "\n",
        "print(x)"
      ],
      "metadata": {
        "id": "IdifwyUgHrD4",
        "colab": {
          "base_uri": "https://localhost:8080/"
        },
        "outputId": "f6200597-8a64-4fe9-ad8a-e22818ef362a"
      },
      "execution_count": null,
      "outputs": [
        {
          "output_type": "stream",
          "name": "stdout",
          "text": [
            "2\n"
          ]
        }
      ]
    },
    {
      "cell_type": "code",
      "source": [
        "def DecimaltoBinary(num):\n",
        "\n",
        "  if num >=1:\n",
        "    DecimaltoBinary(num//2)\n",
        "    print(num%2, end=\"\")\n",
        "\n",
        "num=int(input(\"Enter a number:\"))\n",
        "DecimaltoBinary(num)\n",
        "\n"
      ],
      "metadata": {
        "colab": {
          "base_uri": "https://localhost:8080/"
        },
        "id": "MGcplZNmlY18",
        "outputId": "232c6d5b-81b4-4d68-decc-122365e5c142"
      },
      "execution_count": null,
      "outputs": [
        {
          "output_type": "stream",
          "name": "stdout",
          "text": [
            "Enter a number:45\n",
            "101101"
          ]
        }
      ]
    },
    {
      "cell_type": "code",
      "source": [
        "bin(45)"
      ],
      "metadata": {
        "colab": {
          "base_uri": "https://localhost:8080/",
          "height": 35
        },
        "id": "9hhcgP7wQ7V6",
        "outputId": "a5864eed-9f07-4545-805d-a29332ca6a9e"
      },
      "execution_count": null,
      "outputs": [
        {
          "output_type": "execute_result",
          "data": {
            "text/plain": [
              "'0b101101'"
            ],
            "application/vnd.google.colaboratory.intrinsic+json": {
              "type": "string"
            }
          },
          "metadata": {},
          "execution_count": 2
        }
      ]
    },
    {
      "cell_type": "code",
      "source": [
        "oct(7562)"
      ],
      "metadata": {
        "colab": {
          "base_uri": "https://localhost:8080/",
          "height": 35
        },
        "id": "yCmum25ERAAG",
        "outputId": "a683695a-2d47-42c7-ac60-af9d9740b20d"
      },
      "execution_count": null,
      "outputs": [
        {
          "output_type": "execute_result",
          "data": {
            "text/plain": [
              "'0o16612'"
            ],
            "application/vnd.google.colaboratory.intrinsic+json": {
              "type": "string"
            }
          },
          "metadata": {},
          "execution_count": 4
        }
      ]
    },
    {
      "cell_type": "code",
      "source": [
        "hex(7562)"
      ],
      "metadata": {
        "colab": {
          "base_uri": "https://localhost:8080/",
          "height": 35
        },
        "id": "JVfkA_eyRI9o",
        "outputId": "51d7b487-c94c-4b4f-8d79-0ec25c23d13e"
      },
      "execution_count": null,
      "outputs": [
        {
          "output_type": "execute_result",
          "data": {
            "text/plain": [
              "'0x1d8a'"
            ],
            "application/vnd.google.colaboratory.intrinsic+json": {
              "type": "string"
            }
          },
          "metadata": {},
          "execution_count": 5
        }
      ]
    },
    {
      "cell_type": "code",
      "source": [
        "12%8,12/8,12//8"
      ],
      "metadata": {
        "colab": {
          "base_uri": "https://localhost:8080/"
        },
        "id": "yCKjy-qTrTxl",
        "outputId": "af566452-f6dd-4ad5-bb9d-e7d6125c2b1f"
      },
      "execution_count": null,
      "outputs": [
        {
          "output_type": "execute_result",
          "data": {
            "text/plain": [
              "(4, 1.5, 1)"
            ]
          },
          "metadata": {},
          "execution_count": 22
        }
      ]
    },
    {
      "cell_type": "code",
      "source": [
        "#decimal to octal\n",
        "\n",
        "def DecimaltoOctal(num):\n",
        "  if num >=1:\n",
        "    DecimaltoOctal(num//8)\n",
        "    print(num%8, end=\"\")\n",
        "\n",
        "num=int(input(\"Enter a number:\"))\n",
        "DecimaltoOctal(num)"
      ],
      "metadata": {
        "colab": {
          "base_uri": "https://localhost:8080/"
        },
        "id": "K1GE8XbyraRy",
        "outputId": "388540e8-356a-4260-c8f9-811a02f2c3f1"
      },
      "execution_count": null,
      "outputs": [
        {
          "output_type": "stream",
          "name": "stdout",
          "text": [
            "Enter a number:7562\n",
            "16612"
          ]
        }
      ]
    },
    {
      "cell_type": "code",
      "source": [
        "#decimal to hexa\n",
        "\n",
        "def DecimaltoHexa(num):\n",
        "  if num >=1:\n",
        "\n",
        "    DecimaltoHexa(num//16)\n",
        "\n",
        "    print(num%16, end=\"\")\n",
        "\n",
        "num=int(input(\"Enter a number:\"))\n",
        "DecimaltoHexa(num)"
      ],
      "metadata": {
        "colab": {
          "base_uri": "https://localhost:8080/"
        },
        "id": "v7SkV2nPtqdk",
        "outputId": "b2989846-de1d-4cba-808a-2b0767bca7f0"
      },
      "execution_count": null,
      "outputs": [
        {
          "output_type": "stream",
          "name": "stdout",
          "text": [
            "Enter a number:52\n",
            "34"
          ]
        }
      ]
    },
    {
      "cell_type": "code",
      "source": [
        "#printing numbers that is divisible by the for loop numbers\n",
        "number = 12\n",
        "l=list()\n",
        "for x in range(1,number+1):\n",
        "  #print(x)\n",
        "  if (number%x == 0):\n",
        "    l.append(x)\n",
        "\n",
        "  else:\n",
        "    continue\n",
        "print(l)\n"
      ],
      "metadata": {
        "colab": {
          "base_uri": "https://localhost:8080/"
        },
        "id": "u79_vvuAyHP-",
        "outputId": "5ab357d5-787e-43fb-de7c-bb6b7a0d89f2"
      },
      "execution_count": null,
      "outputs": [
        {
          "output_type": "stream",
          "name": "stdout",
          "text": [
            "[1, 2, 3, 4, 6, 12]\n"
          ]
        }
      ]
    },
    {
      "cell_type": "code",
      "source": [
        "#finding lcm\n",
        "n1=7\n",
        "n2=9\n",
        "def lcm(n1,n2):\n",
        "  if n1>n2:\n",
        "    greater = n1\n",
        "    #print(\"1\",greater)\n",
        "\n",
        "  else:\n",
        "    greater = n2\n",
        "    #print(greater)\n",
        "  while True:\n",
        "      if(greater % n1 ==0) and (greater%n2==0):\n",
        "        lcm=greater\n",
        "        print(lcm)\n",
        "        break\n",
        "      greater +=1\n",
        "      #return lcm\n",
        "\n",
        "lcm(4,7)\n",
        "\n"
      ],
      "metadata": {
        "colab": {
          "base_uri": "https://localhost:8080/"
        },
        "id": "TRavY0fz1X-k",
        "outputId": "f7e7cc64-5394-4354-de27-a9521224a339"
      },
      "execution_count": null,
      "outputs": [
        {
          "output_type": "stream",
          "name": "stdout",
          "text": [
            "28\n"
          ]
        }
      ]
    },
    {
      "cell_type": "code",
      "source": [
        "#finding hcf and gcd (greatest common factor that divides both numbers)\n",
        "n1= 40\n",
        "n2=10\n",
        "def hcf(n1,n2):\n",
        "  if n1>n2:\n",
        "    smaller = n2\n",
        "  else:\n",
        "    smaller = n1\n",
        "  x=1\n",
        "  y=1\n",
        "  for i in range(1,smaller+1):\n",
        "\n",
        "    if (n1 % i == 0) and (n2 % i ==0):\n",
        "      #y *=x\n",
        "      hcf = i\n",
        "\n",
        "  return hcf\n",
        "\n",
        "\n",
        "#hcf(n1,n2)\n",
        "hcf(15,36)"
      ],
      "metadata": {
        "colab": {
          "base_uri": "https://localhost:8080/"
        },
        "id": "jSIewnKqq_7y",
        "outputId": "eed58ff3-10e0-4220-b2d4-5595befab992"
      },
      "execution_count": null,
      "outputs": [
        {
          "output_type": "execute_result",
          "data": {
            "text/plain": [
              "3"
            ]
          },
          "metadata": {},
          "execution_count": 41
        }
      ]
    },
    {
      "cell_type": "code",
      "source": [
        "#using lambda function(nameless function) get the highest mark in list with adding 5 marks to each\n",
        "\n",
        "marks=[34,56,67,57,78,87,98,46,34,67,65,35,32,23]\n",
        "\n",
        "\n",
        "grace = list(map(lambda x:(x+5),marks))\n",
        "grace\n",
        "even_ = list(filter(lambda x:(x>40),grace))\n",
        "even_\n",
        "import functools\n",
        "red=functools.reduce(lambda x,y: x if x>y else y, even_)\n",
        "red"
      ],
      "metadata": {
        "colab": {
          "base_uri": "https://localhost:8080/"
        },
        "id": "MKmQTQBzvXOs",
        "outputId": "06ca654f-f4e4-4ff0-fce2-d95395504bc2"
      },
      "execution_count": null,
      "outputs": [
        {
          "output_type": "execute_result",
          "data": {
            "text/plain": [
              "103"
            ]
          },
          "metadata": {},
          "execution_count": 10
        }
      ]
    },
    {
      "cell_type": "code",
      "source": [
        "#reverse a string\n",
        "name=\"hello\"\n",
        "\n",
        "rev=name[::-1]\n",
        "rev\n"
      ],
      "metadata": {
        "colab": {
          "base_uri": "https://localhost:8080/",
          "height": 35
        },
        "id": "QfO2lro5xQSx",
        "outputId": "652c9242-1283-4631-d5e0-2a3b0546a65c"
      },
      "execution_count": null,
      "outputs": [
        {
          "output_type": "execute_result",
          "data": {
            "text/plain": [
              "'olleh'"
            ],
            "application/vnd.google.colaboratory.intrinsic+json": {
              "type": "string"
            }
          },
          "metadata": {},
          "execution_count": 1
        }
      ]
    },
    {
      "cell_type": "code",
      "source": [
        "#reversing an integer but its not an right way\n",
        "n=123\n",
        "rev=str(n)\n",
        "rev=rev[::-1]\n",
        "rev"
      ],
      "metadata": {
        "colab": {
          "base_uri": "https://localhost:8080/",
          "height": 35
        },
        "id": "pLHFUiASIj5l",
        "outputId": "71636240-2a8f-49ca-a0e1-236beef1c534"
      },
      "execution_count": null,
      "outputs": [
        {
          "output_type": "execute_result",
          "data": {
            "text/plain": [
              "'321'"
            ],
            "application/vnd.google.colaboratory.intrinsic+json": {
              "type": "string"
            }
          },
          "metadata": {},
          "execution_count": 4
        }
      ]
    },
    {
      "cell_type": "code",
      "source": [
        "#reversing a number using loop\n",
        "num = 12356\n",
        "r=0\n",
        "\n",
        "while num != 0:\n",
        "  digit = num % 10 #3 ,2 ,2\n",
        "  r = r*10 +digit #3*10+3=3*10+2=32 *10+\n",
        "  num= num//10 #12 , 1\n",
        "\n",
        "print(r)\n"
      ],
      "metadata": {
        "colab": {
          "base_uri": "https://localhost:8080/"
        },
        "id": "8viOXxxMR37T",
        "outputId": "607f0c42-70b8-479e-99ad-582e6116cd78"
      },
      "execution_count": null,
      "outputs": [
        {
          "output_type": "stream",
          "name": "stdout",
          "text": [
            "65321\n"
          ]
        }
      ]
    },
    {
      "cell_type": "code",
      "source": [
        "#another method for armstrong numbers\n",
        "num = int(input(\"Enter Number : \"))\n",
        "\n",
        "order = len(str(num))\n",
        "\n",
        "sum = 0\n",
        "\n",
        "temp = num\n",
        "\n",
        "while temp>0:\n",
        "  digit = temp % 10  # 1634%10=4 , 163%10=3, 16%10=6 ,1%10=1\n",
        "  sum = sum + digit **order #0+4^4=256 , 256+3^4=337 , 337+6^4= 1633 ,1633+1^4=1634\n",
        "  temp = temp // 10  #1634//10=163 , 163//10=16  ,  16//10=1 ,1//10=0\n",
        "\n",
        "if num==sum:\n",
        "  print(num , \"Amstrong \")\n",
        "else:\n",
        "  print(num,\"Not an Amstrong\")"
      ],
      "metadata": {
        "colab": {
          "base_uri": "https://localhost:8080/"
        },
        "id": "2U_nIGxcQqe8",
        "outputId": "ba3ba952-f9bb-4775-f00e-961ab85ec0f7"
      },
      "execution_count": null,
      "outputs": [
        {
          "output_type": "stream",
          "name": "stdout",
          "text": [
            "Enter Number : 1634\n",
            "1634 Amstrong \n"
          ]
        }
      ]
    },
    {
      "cell_type": "markdown",
      "source": [
        "# ##Recursion\n",
        "same function is repeating and repeating again is called recursion\n",
        "\n",
        "function inside a function"
      ],
      "metadata": {
        "id": "zBbZr5H4cBxL"
      }
    },
    {
      "cell_type": "code",
      "source": [
        "def factorial(x):\n",
        "  if x==1:\n",
        "    return 1\n",
        "  else:\n",
        "    return (x*factorial(x-1))\n",
        "\n",
        "factorial(6)"
      ],
      "metadata": {
        "colab": {
          "base_uri": "https://localhost:8080/"
        },
        "id": "glaxg3Opa5ez",
        "outputId": "ad51ef1e-d706-4607-de52-9a8da21196e5"
      },
      "execution_count": null,
      "outputs": [
        {
          "output_type": "execute_result",
          "data": {
            "text/plain": [
              "720"
            ]
          },
          "metadata": {},
          "execution_count": 31
        }
      ]
    },
    {
      "cell_type": "code",
      "source": [
        "def power(base,exp):\n",
        "  if exp ==0:\n",
        "    return 1\n",
        "  if exp ==1:\n",
        "    return base\n",
        "  else:\n",
        "    return base*(power(base,exp-1))\n",
        "\n",
        "power(7,4) #7*7*7*7"
      ],
      "metadata": {
        "colab": {
          "base_uri": "https://localhost:8080/"
        },
        "id": "meDdJvLlhyLc",
        "outputId": "c9d949ec-db43-4cf0-d232-434d3fa2504f"
      },
      "execution_count": null,
      "outputs": [
        {
          "output_type": "execute_result",
          "data": {
            "text/plain": [
              "2401"
            ]
          },
          "metadata": {},
          "execution_count": 36
        }
      ]
    },
    {
      "cell_type": "code",
      "source": [
        "#fibbo series using recursion function\n",
        "\n",
        "def recur_fibo(n):\n",
        "   if n <= 1:\n",
        "       return n\n",
        "   else:\n",
        "\n",
        "       return(recur_fibo(n-1) + recur_fibo(n-2))\n",
        "\n",
        "nterms = 10\n",
        "\n",
        "# check if the number of terms is valid\n",
        "if nterms <= 0:\n",
        "   print(\"Plese enter a positive integer\")\n",
        "else:\n",
        "   print(\"Fibonacci sequence:\")\n",
        "   for i in range(nterms):\n",
        "       print(recur_fibo(i))\n",
        "\n"
      ],
      "metadata": {
        "colab": {
          "base_uri": "https://localhost:8080/"
        },
        "id": "XiR6-zancx1z",
        "outputId": "565210ae-7e40-470f-ae24-bb2d56d3f792"
      },
      "execution_count": null,
      "outputs": [
        {
          "output_type": "stream",
          "name": "stdout",
          "text": [
            "Fibonacci sequence:\n",
            "0\n",
            "1\n",
            "1\n",
            "2\n",
            "3\n",
            "5\n",
            "8\n",
            "13\n",
            "21\n",
            "34\n"
          ]
        }
      ]
    },
    {
      "cell_type": "code",
      "source": [
        "#adding list of elements using recursion method\n",
        "\n",
        "def list_sum(num_list):\n",
        "  if len(num_list)==1:\n",
        "    return num_list[0]\n",
        "\n",
        "  else:\n",
        "    return num_list[0] + list_sum(num_list[1:])\n",
        "\n",
        "\n",
        "list_sum([4,5,6,7,8,9,1,2,3])"
      ],
      "metadata": {
        "colab": {
          "base_uri": "https://localhost:8080/"
        },
        "id": "S2Yp8zudjPKJ",
        "outputId": "f7408cee-2a71-45f4-e987-686a460692cf"
      },
      "execution_count": null,
      "outputs": [
        {
          "output_type": "execute_result",
          "data": {
            "text/plain": [
              "45"
            ]
          },
          "metadata": {},
          "execution_count": 42
        }
      ]
    },
    {
      "cell_type": "code",
      "source": [
        "#generating n of number usinf recursion method\n",
        "def printnum(n):\n",
        "\n",
        "  if n > 0 :\n",
        "    printnum(n-1)\n",
        "\n",
        "    print(n)\n",
        "\n",
        "\n",
        "printnum(10)"
      ],
      "metadata": {
        "colab": {
          "base_uri": "https://localhost:8080/"
        },
        "id": "E3MscOfTnQI2",
        "outputId": "b7a42f1d-fbd3-4975-d950-f41db50d8734"
      },
      "execution_count": null,
      "outputs": [
        {
          "output_type": "stream",
          "name": "stdout",
          "text": [
            "1\n",
            "2\n",
            "3\n",
            "4\n",
            "5\n",
            "6\n",
            "7\n",
            "8\n",
            "9\n",
            "10\n"
          ]
        }
      ]
    }
  ]
}