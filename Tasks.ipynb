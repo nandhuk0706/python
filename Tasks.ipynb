{
  "nbformat": 4,
  "nbformat_minor": 0,
  "metadata": {
    "colab": {
      "provenance": [],
      "authorship_tag": "ABX9TyOhZfLZu+mxOZju2doBckQy",
      "include_colab_link": true
    },
    "kernelspec": {
      "name": "python3",
      "display_name": "Python 3"
    },
    "language_info": {
      "name": "python"
    }
  },
  "cells": [
    {
      "cell_type": "markdown",
      "metadata": {
        "id": "view-in-github",
        "colab_type": "text"
      },
      "source": [
        "<a href=\"https://colab.research.google.com/github/nandhuk0706/python/blob/main/Tasks.ipynb\" target=\"_parent\"><img src=\"https://colab.research.google.com/assets/colab-badge.svg\" alt=\"Open In Colab\"/></a>"
      ]
    },
    {
      "cell_type": "code",
      "execution_count": null,
      "metadata": {
        "id": "gHWz9a6Wmaeb"
      },
      "outputs": [],
      "source": []
    },
    {
      "cell_type": "code",
      "source": [
        "guess = 10\n",
        "while guess:\n",
        "  n =int(input(\"Enter your Guessing number:\"))\n",
        "  if guess >n :\n",
        "    print(\"Guessed number is lesser than your original number\")\n",
        "  elif guess<n:\n",
        "    print(\"Guessed number is greater than your original number\")\n",
        "  elif guess == n:\n",
        "    print(\"You guessed IT!\")\n",
        "    break\n",
        "print(\"Your guessed number is :\", n)"
      ],
      "metadata": {
        "colab": {
          "base_uri": "https://localhost:8080/"
        },
        "id": "nQW7QGii4dsm",
        "outputId": "0530b99d-b8e6-4410-820b-10e142aa1caf"
      },
      "execution_count": null,
      "outputs": [
        {
          "output_type": "stream",
          "name": "stdout",
          "text": [
            "Enter your Guessing number:5\n",
            "Guessed number is lesser than your original number\n",
            "Enter your Guessing number:6\n",
            "Guessed number is lesser than your original number\n",
            "Enter your Guessing number:12\n",
            "Guessed number is greater than your original number\n",
            "Enter your Guessing number:10\n",
            "You guessed IT!\n",
            "Your guessed number is : 10\n"
          ]
        }
      ]
    },
    {
      "cell_type": "code",
      "source": [
        "#checking the pin validation\n",
        "attempts =0\n",
        "while attempts <=3:\n",
        "  pin=int(input(\"Enter the pin:\"))\n",
        "  attempts +=1\n",
        "  if pin !=1234:\n",
        "    print(\"Re-Enter the pin\")\n",
        "    print(\"Attempts:{}\".format(attempts))\n",
        "  else:\n",
        "    print(\"Login success\")\n",
        "    break\n",
        "\n",
        "  if attempts > 3:\n",
        "    print(\"locked\")\n",
        "    break"
      ],
      "metadata": {
        "colab": {
          "base_uri": "https://localhost:8080/"
        },
        "id": "q2-bNO7mMw2P",
        "outputId": "c7aacdc7-246a-4f5d-9f7f-064baee17f1a"
      },
      "execution_count": null,
      "outputs": [
        {
          "output_type": "stream",
          "name": "stdout",
          "text": [
            "Enter the pin:1253\n",
            "Re-Enter the pin\n",
            "Attempts:1\n",
            "Enter the pin:5689\n",
            "Re-Enter the pin\n",
            "Attempts:2\n",
            "Enter the pin:45689\n",
            "Re-Enter the pin\n",
            "Attempts:3\n",
            "Enter the pin:6588\n",
            "Re-Enter the pin\n",
            "Attempts:4\n",
            "locked\n"
          ]
        }
      ]
    },
    {
      "cell_type": "code",
      "source": [
        "#factorial of n\n",
        "n= int(input(\"Enter the number of factorial you want:\"))\n",
        "f=1\n",
        "\n",
        "while n >=1:\n",
        "  f = f*n\n",
        "  n -=1\n",
        "  print(f ,n)\n",
        "\n",
        "print(\"Factorial of {}\".format(n),\"is\",f)"
      ],
      "metadata": {
        "colab": {
          "base_uri": "https://localhost:8080/"
        },
        "id": "Lk9wsKcNOWZ4",
        "outputId": "7270dfc3-72a0-4a86-fa3d-46906f984468"
      },
      "execution_count": null,
      "outputs": [
        {
          "output_type": "stream",
          "name": "stdout",
          "text": [
            "Enter the number of factorial you want:5\n",
            "5 4\n",
            "20 3\n",
            "60 2\n",
            "120 1\n",
            "120 0\n",
            "Factorial of 0 is 120\n"
          ]
        }
      ]
    },
    {
      "cell_type": "code",
      "source": [
        "#fibbo series\n",
        "\n",
        "n_terms=int(input(\"Enter the number of terms you want:\"))\n",
        "count=0\n",
        "a=0\n",
        "n1=0\n",
        "n2=1\n",
        "l=[n1,n2]\n",
        "while n_terms > count:\n",
        "  print(n1,n2,\"before swap\")\n",
        "  nth= n1+ n2\n",
        "  a +=nth\n",
        "\n",
        "  print(nth)\n",
        "\n",
        "  n1 =n2\n",
        "  n2 =nth\n",
        "  l.append(n2)\n",
        "  print(n2,nth,\"after swap\")\n",
        "  count +=1\n",
        "a =a+1\n",
        "print(\"fibbo series of {}\".format(n_terms),\"is\", nth)\n",
        "print(\"list of fibbo{}\".format(l))\n",
        "print(\"addition of all is {}\".format(a))\n"
      ],
      "metadata": {
        "colab": {
          "base_uri": "https://localhost:8080/"
        },
        "id": "tM1CDM9mRq6Y",
        "outputId": "23f90303-36da-4a08-c6b2-bc0b2556dcb6"
      },
      "execution_count": null,
      "outputs": [
        {
          "output_type": "stream",
          "name": "stdout",
          "text": [
            "Enter the number of terms you want:9\n",
            "0 1 before swap\n",
            "1\n",
            "1 1 after swap\n",
            "1 1 before swap\n",
            "2\n",
            "2 2 after swap\n",
            "1 2 before swap\n",
            "3\n",
            "3 3 after swap\n",
            "2 3 before swap\n",
            "5\n",
            "5 5 after swap\n",
            "3 5 before swap\n",
            "8\n",
            "8 8 after swap\n",
            "5 8 before swap\n",
            "13\n",
            "13 13 after swap\n",
            "8 13 before swap\n",
            "21\n",
            "21 21 after swap\n",
            "13 21 before swap\n",
            "34\n",
            "34 34 after swap\n",
            "21 34 before swap\n",
            "55\n",
            "55 55 after swap\n",
            "fibbo series of 9 is 55\n",
            "list of fibbo[0, 1, 1, 2, 3, 5, 8, 13, 21, 34, 55]\n",
            "addition of all is 143\n"
          ]
        }
      ]
    },
    {
      "cell_type": "code",
      "source": [
        "#making 1 to 5 tables\n",
        "l=[5,6]\n",
        "r=[1,2,3,4,5,6]\n",
        "for left in l:\n",
        "  for right in r:\n",
        "    print(\"{}*{}={}\".format(left, right,left*right))\n",
        "  print(\"*********\")"
      ],
      "metadata": {
        "colab": {
          "base_uri": "https://localhost:8080/"
        },
        "id": "k4WYLzc0tOf2",
        "outputId": "dd8c46bb-eec3-40eb-d818-e3910c6ca89b"
      },
      "execution_count": null,
      "outputs": [
        {
          "output_type": "stream",
          "name": "stdout",
          "text": [
            "5*1=5\n",
            "5*2=10\n",
            "5*3=15\n",
            "5*4=20\n",
            "5*5=25\n",
            "5*6=30\n",
            "*********\n",
            "6*1=6\n",
            "6*2=12\n",
            "6*3=18\n",
            "6*4=24\n",
            "6*5=30\n",
            "6*6=36\n",
            "*********\n"
          ]
        }
      ]
    },
    {
      "cell_type": "code",
      "source": [
        "row=5\n",
        "col=5\n",
        "for x in range(0,row+1):\n",
        "  for y in range(0,x):\n",
        "    print(\"*\", end=\"\")\n",
        "  print(end=\"\\n\")\n",
        "for x in range(0,row+1):\n",
        "  for y in range(col-x):\n",
        "    print(\"*\", end=\"\")\n",
        "  print(end=\"\\n\")"
      ],
      "metadata": {
        "id": "OusOQSsNxGtu",
        "colab": {
          "base_uri": "https://localhost:8080/"
        },
        "outputId": "1abac73e-0373-48ca-e203-89addb46fe77"
      },
      "execution_count": null,
      "outputs": [
        {
          "output_type": "stream",
          "name": "stdout",
          "text": [
            "\n",
            "*\n",
            "**\n",
            "***\n",
            "****\n",
            "*****\n",
            "*****\n",
            "****\n",
            "***\n",
            "**\n",
            "*\n",
            "\n"
          ]
        }
      ]
    },
    {
      "cell_type": "code",
      "source": [
        "s=int(input(\"Enter the number of rows/columns:\"))\n",
        "for x in range(0,s):\n",
        "  for y in range(0,x+1):\n",
        "    print(y,end=\" \")\n",
        "  print(end=\"\\n\")"
      ],
      "metadata": {
        "colab": {
          "base_uri": "https://localhost:8080/"
        },
        "id": "QkhteWjazCat",
        "outputId": "bfc59a1f-946e-4899-8688-392869864a60"
      },
      "execution_count": null,
      "outputs": [
        {
          "output_type": "stream",
          "name": "stdout",
          "text": [
            "Enter the number of rows/columns:4\n",
            "0 \n",
            "0 1 \n",
            "0 1 2 \n",
            "0 1 2 3 \n"
          ]
        }
      ]
    },
    {
      "cell_type": "code",
      "source": [
        "s=int(input(\"Enter the number of rows/columns:\"))\n",
        "for x in range(0,s+1):\n",
        "  for y in range(s-x):\n",
        "    print(y,end=\" \")\n",
        "  print(end=\"\\n\")"
      ],
      "metadata": {
        "colab": {
          "base_uri": "https://localhost:8080/"
        },
        "id": "s9LSAvxnz4eK",
        "outputId": "1e1a0033-a733-4404-8507-676aa585e420"
      },
      "execution_count": null,
      "outputs": [
        {
          "output_type": "stream",
          "name": "stdout",
          "text": [
            "Enter the number of rows/columns:4\n",
            "0 1 2 3 \n",
            "0 1 2 \n",
            "0 1 \n",
            "0 \n",
            "\n"
          ]
        }
      ]
    },
    {
      "cell_type": "code",
      "source": [
        "r=5\n",
        "col=5\n",
        "for x in range(0,r+1):\n",
        "  for y in range(0,col+1):\n",
        "    print(\"*\",end=\" \")\n",
        "  print(end=\"\\n\")"
      ],
      "metadata": {
        "colab": {
          "base_uri": "https://localhost:8080/"
        },
        "id": "QPhy1npe08Jh",
        "outputId": "9c804b6f-02ae-491e-95b6-3d69ef6a44f9"
      },
      "execution_count": null,
      "outputs": [
        {
          "output_type": "stream",
          "name": "stdout",
          "text": [
            "* * * * * * \n",
            "* * * * * * \n",
            "* * * * * * \n",
            "* * * * * * \n",
            "* * * * * * \n",
            "* * * * * * \n"
          ]
        }
      ]
    },
    {
      "cell_type": "code",
      "source": [
        "#reversing the number 1234 into 4321\n",
        "\n",
        "num=input(\"enter the number for reversing:\")\n",
        "rev=num[::-1]\n",
        "print(rev)"
      ],
      "metadata": {
        "colab": {
          "base_uri": "https://localhost:8080/"
        },
        "id": "QReFWGnD1R4e",
        "outputId": "0efe4dcf-e210-4712-c58d-15d3e7692aea"
      },
      "execution_count": null,
      "outputs": [
        {
          "output_type": "stream",
          "name": "stdout",
          "text": [
            "enter the number for reversing:852369\n",
            "963258\n"
          ]
        }
      ]
    },
    {
      "cell_type": "code",
      "source": [
        "#adding in for loop\n",
        "marks = [91,89,75,99,100,100]\n",
        "x=0\n",
        "for mark in marks:\n",
        "  x +=mark\n",
        "print(\"Total of marks:{}\".format(x))"
      ],
      "metadata": {
        "colab": {
          "base_uri": "https://localhost:8080/"
        },
        "id": "Ft1HvZeF1qrG",
        "outputId": "ea1dbf30-f087-43d0-bec1-a2a50c84ec46"
      },
      "execution_count": null,
      "outputs": [
        {
          "output_type": "stream",
          "name": "stdout",
          "text": [
            "Total of marks:554\n"
          ]
        }
      ]
    },
    {
      "cell_type": "code",
      "source": [
        "#factorial in for loop\n",
        "n=5\n",
        "\n",
        "for x in range(1,5):\n",
        "\n",
        "  x *=n\n",
        "  n -=1\n",
        "  print(n,x)\n",
        "print(x)\n",
        "\n",
        "f=1\n",
        "m=5\n",
        "while m>=1:\n",
        "  f=f*m\n",
        "  m -=1\n",
        "print(f)"
      ],
      "metadata": {
        "colab": {
          "base_uri": "https://localhost:8080/"
        },
        "id": "tvK6atVq2BPo",
        "outputId": "6af1b813-dc19-4538-9cd9-4bc415b3777d"
      },
      "execution_count": null,
      "outputs": [
        {
          "output_type": "stream",
          "name": "stdout",
          "text": [
            "4 5\n",
            "3 8\n",
            "2 9\n",
            "1 8\n",
            "8\n",
            "120\n"
          ]
        }
      ]
    },
    {
      "cell_type": "code",
      "source": [
        "#prime number checking\n",
        "p=int(input(\"enter the number for prime :\"))\n",
        "n=1\n",
        "if p ==1:\n",
        "  print(\"It's an not an prime number\")\n",
        "elif p >1:\n",
        "  for i in range (2,p):\n",
        "    print(i)\n",
        "    if p%i == 0:\n",
        "      print(\"It's not an prime number\")\n",
        "      #break\n",
        "  else:\n",
        "      print(\"It's an prime\")"
      ],
      "metadata": {
        "colab": {
          "base_uri": "https://localhost:8080/"
        },
        "id": "JDyEhikHIkxs",
        "outputId": "28de87d4-5fb3-4cce-89b1-36a21d431fec"
      },
      "execution_count": null,
      "outputs": [
        {
          "output_type": "stream",
          "name": "stdout",
          "text": [
            "enter the number for prime :11\n",
            "2\n",
            "3\n",
            "4\n",
            "5\n",
            "6\n",
            "7\n",
            "8\n",
            "9\n",
            "10\n",
            "It's an prime\n"
          ]
        }
      ]
    },
    {
      "cell_type": "code",
      "source": [
        "16%3,16/3,16//3"
      ],
      "metadata": {
        "colab": {
          "base_uri": "https://localhost:8080/"
        },
        "id": "fmdiyqWHK0y5",
        "outputId": "6cdf36cd-073a-49b7-c041-4afaab7bee34"
      },
      "execution_count": null,
      "outputs": [
        {
          "output_type": "execute_result",
          "data": {
            "text/plain": [
              "(1, 5.333333333333333, 5)"
            ]
          },
          "metadata": {},
          "execution_count": 1
        }
      ]
    },
    {
      "cell_type": "code",
      "source": [
        "p=2\n",
        "n=0\n",
        "pl=[]\n",
        "while n<10:\n",
        "  if p ==1:\n",
        "    print(\"It's an not an prime number\")\n",
        "  elif p >1:\n",
        "    for i in range (2,p):\n",
        "      if p%i == 0:\n",
        "        #print(i)\n",
        "        print(\"It's not an prime number {},{}\".format(p,i))\n",
        "        p +=1\n",
        "\n",
        "    else:\n",
        "      #print(i)\n",
        "      print(\"It's an prime {}\".format(p))\n",
        "      pl.append(p)\n",
        "      p+=1\n",
        "      n +=1\n",
        "\n",
        "print(pl)\n",
        "\n",
        "\n",
        "\n"
      ],
      "metadata": {
        "colab": {
          "base_uri": "https://localhost:8080/"
        },
        "id": "bVWltjEQyRcs",
        "outputId": "076358f0-d47b-404c-9911-fad9eade6ebe"
      },
      "execution_count": 47,
      "outputs": [
        {
          "output_type": "stream",
          "name": "stdout",
          "text": [
            "It's an prime 2\n",
            "It's an prime 3\n",
            "It's not an prime number 4,2\n",
            "It's an prime 5\n",
            "It's not an prime number 6,2\n",
            "It's an prime 7\n",
            "It's not an prime number 8,2\n",
            "It's not an prime number 9,3\n",
            "It's not an prime number 10,5\n",
            "It's an prime 11\n",
            "It's not an prime number 12,2\n",
            "It's an prime 13\n",
            "It's not an prime number 14,2\n",
            "It's not an prime number 15,3\n",
            "It's not an prime number 16,4\n",
            "It's an prime 17\n",
            "It's not an prime number 18,2\n",
            "It's an prime 19\n",
            "It's not an prime number 20,2\n",
            "It's not an prime number 21,3\n",
            "It's not an prime number 22,11\n",
            "It's an prime 23\n",
            "It's not an prime number 24,2\n",
            "It's not an prime number 25,5\n",
            "It's not an prime number 26,13\n",
            "It's an prime 27\n",
            "[2, 3, 5, 7, 11, 13, 17, 19, 23, 27]\n"
          ]
        }
      ]
    },
    {
      "cell_type": "code",
      "source": [
        "19%4"
      ],
      "metadata": {
        "colab": {
          "base_uri": "https://localhost:8080/"
        },
        "id": "Xt41DYpq_Lx5",
        "outputId": "178ad62e-8dfe-48ed-8bcb-6b3c8cadc5f9"
      },
      "execution_count": null,
      "outputs": [
        {
          "output_type": "execute_result",
          "data": {
            "text/plain": [
              "3"
            ]
          },
          "metadata": {},
          "execution_count": 29
        }
      ]
    },
    {
      "cell_type": "code",
      "source": [
        "#finding armstrong numbers using cubes\n",
        "x=0\n",
        "number=input(\"Enter an number:\")\n",
        "for n in number:\n",
        "  x= x+(int(n)**3)\n",
        "  print(x)\n",
        "if x == int(number):\n",
        "  print (\"It's an amstrong number\")\n",
        "else:\n",
        "  print(\"It's not an amstrong number\")\n",
        "\n"
      ],
      "metadata": {
        "colab": {
          "base_uri": "https://localhost:8080/"
        },
        "id": "SzYnXvg7iYBy",
        "outputId": "9c8d8de0-3e3f-433e-d8c7-5c3efeca1260"
      },
      "execution_count": null,
      "outputs": [
        {
          "output_type": "stream",
          "name": "stdout",
          "text": [
            "Enter an number:407\n",
            "64\n",
            "64\n",
            "407\n",
            "It's an amstrong number\n"
          ]
        }
      ]
    },
    {
      "cell_type": "code",
      "source": [
        "#checking the palindrome words\n",
        "name=input(\"enter a word:\")\n",
        "rev=name[::-1]\n",
        "if name == rev:\n",
        "  print (\"Its an palindrome word\")\n",
        "else:\n",
        "  print(\"It's not an palidrome word\")"
      ],
      "metadata": {
        "colab": {
          "base_uri": "https://localhost:8080/"
        },
        "id": "ETpCJ2UKk9wJ",
        "outputId": "2181426b-80c8-450d-c8ca-70b0b80f00af"
      },
      "execution_count": null,
      "outputs": [
        {
          "output_type": "stream",
          "name": "stdout",
          "text": [
            "enter a word:madam\n",
            "Its an palindrome word\n"
          ]
        }
      ]
    },
    {
      "cell_type": "code",
      "source": [
        "#finding leap year\n",
        "year=int(input(\"Enter the year:\"))\n",
        "if (year%400 == 0) and (year%100==0):\n",
        "  print(\"It's an leap year\")\n",
        "elif (year%4==0):\n",
        "  print(\"It's an leap year\")\n",
        "else:\n",
        "  print(\"It's not an leap year\")"
      ],
      "metadata": {
        "colab": {
          "base_uri": "https://localhost:8080/"
        },
        "id": "2lbyHF98mAw8",
        "outputId": "13c1badc-2fb8-4750-e9b2-b693ab7b800c"
      },
      "execution_count": null,
      "outputs": [
        {
          "output_type": "stream",
          "name": "stdout",
          "text": [
            "Enter the year:2024\n",
            "It's an leap year\n"
          ]
        }
      ]
    },
    {
      "cell_type": "code",
      "source": [
        "#functions\n",
        "#passing value from one funtion to another function\n",
        "\n",
        "def add():\n",
        "  x=int(input(\"Enter the x value:\"))\n",
        "  y=int(input(\"Enter the y value:\"))\n",
        "  z=x+y\n",
        "  print(\"Sum of x, y values:\",z)\n",
        "  return z\n",
        "def squre(value):\n",
        "  print(\"squre of value is :\",value**2)\n",
        "  return value**2\n",
        "\n",
        "my_return=squre(add())\n",
        "print(my_return)\n"
      ],
      "metadata": {
        "colab": {
          "base_uri": "https://localhost:8080/"
        },
        "id": "hRgws1sd00V9",
        "outputId": "78a1fcb8-9410-4b93-d579-1088b4c6ed4e"
      },
      "execution_count": null,
      "outputs": [
        {
          "output_type": "stream",
          "name": "stdout",
          "text": [
            "Enter the x value:56\n",
            "Enter the y value:63\n",
            "Sum of x, y values: 119\n",
            "squre of value is : 14161\n",
            "14161\n"
          ]
        }
      ]
    },
    {
      "cell_type": "code",
      "source": [
        "def squre():\n",
        "  e=int(input(\"Enter a number:\"))\n",
        "  ee=e**2\n",
        "  print(ee)\n",
        "  return ee\n",
        "\n",
        "def squre_root(x):\n",
        "  z=x**(1/2)\n",
        "  print(\"squre root of x is:\",z)\n",
        "  return z\n",
        "\n",
        "squre_root(squre())"
      ],
      "metadata": {
        "colab": {
          "base_uri": "https://localhost:8080/"
        },
        "id": "Wt7Eh-iF6AhP",
        "outputId": "58f045ce-8aa4-4024-8d71-995813b79a55"
      },
      "execution_count": null,
      "outputs": [
        {
          "output_type": "stream",
          "name": "stdout",
          "text": [
            "Enter a number:56\n",
            "3136\n",
            "squre root of x is: 56.0\n"
          ]
        },
        {
          "output_type": "execute_result",
          "data": {
            "text/plain": [
              "56.0"
            ]
          },
          "metadata": {},
          "execution_count": 8
        }
      ]
    },
    {
      "cell_type": "code",
      "source": [
        "#getting a list and check it has duplicates and find first and last element are same\n",
        "\n",
        "def getList(my_list):\n",
        "  return my_list"
      ],
      "metadata": {
        "id": "oyXtI6oAXaF6"
      },
      "execution_count": null,
      "outputs": []
    },
    {
      "cell_type": "code",
      "source": [
        "num=int(input(\"Enter a number of list want to create:\"))\n",
        "my_list=list()\n",
        "for i in range(num):\n",
        "  value=int(input(\"enter list elements:\"))\n",
        "  my_list.append(value)\n",
        "\n",
        "getList(my_list)\n"
      ],
      "metadata": {
        "colab": {
          "base_uri": "https://localhost:8080/"
        },
        "id": "z1amvUYNXqHq",
        "outputId": "1d55c11d-97a9-4171-957b-625cfe988f41"
      },
      "execution_count": null,
      "outputs": [
        {
          "name": "stdout",
          "output_type": "stream",
          "text": [
            "Enter a number of list want to create:8\n",
            "enter list elements:12\n",
            "enter list elements:23\n",
            "enter list elements:23\n",
            "enter list elements:56\n",
            "enter list elements:24\n",
            "enter list elements:12\n",
            "enter list elements:23\n",
            "enter list elements:12\n"
          ]
        },
        {
          "output_type": "execute_result",
          "data": {
            "text/plain": [
              "[12, 23, 23, 56, 24, 12, 23, 12]"
            ]
          },
          "metadata": {},
          "execution_count": 7
        }
      ]
    },
    {
      "cell_type": "code",
      "source": [
        "def checkElements(my_list):\n",
        "  if my_list[0]== my_list[-1]:\n",
        "    print(\"It's same\",my_list[0],my_list[-1])\n",
        "  else:\n",
        "    print(\"It's not same\",my_list[0],my_list[-1])\n",
        "  return\n",
        "\n",
        "checkElements(my_list)"
      ],
      "metadata": {
        "colab": {
          "base_uri": "https://localhost:8080/"
        },
        "id": "K2xfbNMRYjwT",
        "outputId": "b1548f1e-3de2-4c1e-8c00-f14179aeca89"
      },
      "execution_count": null,
      "outputs": [
        {
          "output_type": "stream",
          "name": "stdout",
          "text": [
            "It's same 12 12\n"
          ]
        }
      ]
    },
    {
      "cell_type": "code",
      "source": [
        "def checkDuplicates(my_list):\n",
        "  if len(my_list)==len(set(my_list)):\n",
        "    print(\"No duplicates found\")\n",
        "  else:\n",
        "    print(\"Duplicates Found\")\n",
        "  return set(my_list)\n",
        "\n",
        "checkDuplicates(my_list)"
      ],
      "metadata": {
        "colab": {
          "base_uri": "https://localhost:8080/"
        },
        "id": "gHZ4_waZBeTp",
        "outputId": "bcb412fb-0221-43c8-ef4d-01fdafb92c24"
      },
      "execution_count": null,
      "outputs": [
        {
          "output_type": "stream",
          "name": "stdout",
          "text": [
            "Duplicates Found\n"
          ]
        },
        {
          "output_type": "execute_result",
          "data": {
            "text/plain": [
              "{12, 23, 24, 56}"
            ]
          },
          "metadata": {},
          "execution_count": 12
        }
      ]
    },
    {
      "cell_type": "code",
      "source": [
        "print(my_list)"
      ],
      "metadata": {
        "colab": {
          "base_uri": "https://localhost:8080/"
        },
        "id": "6osUd8h7C5aF",
        "outputId": "ac2a08e1-6015-4df2-9fe8-6d0d0fcd4212"
      },
      "execution_count": null,
      "outputs": [
        {
          "output_type": "stream",
          "name": "stdout",
          "text": [
            "[12, 23, 23, 56, 24, 12, 23, 12]\n"
          ]
        }
      ]
    },
    {
      "cell_type": "code",
      "source": [
        "def squrt(my_list):\n",
        "  sum_=sum(my_list) #sum_ will add all the list and store in sum_\n",
        "  return sum_**0.5 #getting squre root of sum from the list elements\n",
        "\n",
        "squrt(my_list)"
      ],
      "metadata": {
        "colab": {
          "base_uri": "https://localhost:8080/"
        },
        "id": "qm3HlkVrC8LM",
        "outputId": "2b210d2c-cdc7-4648-8e23-31d2b03a8ad7"
      },
      "execution_count": null,
      "outputs": [
        {
          "output_type": "execute_result",
          "data": {
            "text/plain": [
              "13.601470508735444"
            ]
          },
          "metadata": {},
          "execution_count": 17
        }
      ]
    },
    {
      "cell_type": "code",
      "source": [
        "#checking prime using functions\n",
        "def checkPrime():\n",
        "  n=int(input(\"Enter a number:\"))\n",
        "  flag =False\n",
        "  if n == 1:\n",
        "    print(\"{} is an prime nor composite\".format(n))\n",
        "  elif n > 1 :\n",
        "    for i in range(2,n):\n",
        "           #print(n%i)\n",
        "      if n%i == 0:\n",
        "        flag = True\n",
        "        print(\"{} is divisible is {}\".format(n,i))\n",
        "        break\n",
        "\n",
        "\n",
        "\n",
        "    if flag:\n",
        "      print(\"{} not an prime number\".format(n))\n",
        "    else:\n",
        "      print(\"{} is an prime number\".format(n))\n",
        "\n",
        "checkPrime()"
      ],
      "metadata": {
        "colab": {
          "base_uri": "https://localhost:8080/"
        },
        "id": "Hf8WFVOKZ6Nw",
        "outputId": "f1f17a4d-50fd-4141-a06c-2ea0cbe3f9ae"
      },
      "execution_count": 35,
      "outputs": [
        {
          "output_type": "stream",
          "name": "stdout",
          "text": [
            "Enter a number:6\n",
            "6 is divisible is 2\n",
            "6 not an prime number\n"
          ]
        }
      ]
    },
    {
      "cell_type": "code",
      "source": [
        "#lower=2\n",
        "#upper=17\n",
        "def checkPrime(lower,upper):\n",
        "  prime_list=list()\n",
        "  for i in range(lower,upper+1):\n",
        "    if i%lower ==0:\n",
        "      continue\n",
        "      print(\"{} is not an prime number\".format(i))\n",
        "\n",
        "    else:\n",
        "      #print(\"{} is an prime number\".format(i))\n",
        "      prime_list.append(i)\n",
        "  print(prime_list)\n",
        "  print(len(prime_list))\n",
        "\n",
        "checkPrime(2,71)"
      ],
      "metadata": {
        "colab": {
          "base_uri": "https://localhost:8080/"
        },
        "id": "ec9mQplrllW_",
        "outputId": "db6d0b56-a777-4760-c04f-273ae62edac2"
      },
      "execution_count": 74,
      "outputs": [
        {
          "output_type": "stream",
          "name": "stdout",
          "text": [
            "[3, 5, 7, 9, 11, 13, 15, 17, 19, 21, 23, 25, 27, 29, 31, 33, 35, 37, 39, 41, 43, 45, 47, 49, 51, 53, 55, 57, 59, 61, 63, 65, 67, 69, 71]\n",
            "35\n"
          ]
        }
      ]
    }
  ]
}